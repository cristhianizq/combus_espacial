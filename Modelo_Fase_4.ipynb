{
 "cells": [
  {
   "cell_type": "markdown",
   "id": "f71c3906",
   "metadata": {},
   "source": [
    "# MODELO FASE 4\n",
    "# Predicción de eventos de fluido eléctrico\n",
    "\n",
    "### Fuente: NetCool\n",
    "\n",
    "### Descripción Problema:\n",
    "\n",
    "* Apartir de los reportes de eventos de Netcool predecir para cada Nodo y Código de Alarma si generá un evento en los próximos día y predecir la severidad que tendrá.\n",
    "* Solo se consideran equipos BOSS C\n",
    "* Solo se consideran alarmas seleccionadas para la fase 4 según historia de usuario\n",
    "\n",
    "### Descripcion Solución implementada\n",
    "\n",
    "#### Preprocesamiento\n",
    "1. Se compila la información de los archivos de NetCool (Esto debe cambiar en la industrialización)\n",
    "2. Se filtran los equipos BOSS C y códigos seleccionados\n",
    "3. Se resume la información por día y se toman eventos consecutivos como el mismo evento\n",
    "#### Exploración\n",
    "4. Se calcula distribución de los eventos a través de los Nodos y códigos.\n",
    "5. Se caracteriza el intervalo de eventos en cada Nodo y código.\n",
    "#### Modelado\n",
    "##### Predicción evento\n",
    "6. Se definen las series de tiempo para cada Nodo-código\n",
    "7. Se redefinen la series como la suseción de las distancias en dias entre los eventos presentados para la serie\n",
    "7. Se clasifican las series para identificar en cuales tiene sentido la predicción\n",
    "    * Series eventos actuales no tienen predicción\n",
    "    * Series con solo un evento en la historia no tienen predicción\n",
    "8. Se aplica la técnica RandomForest para el conjunto de datos de cada código, un modelo para cada código.  *Se validaron varías técnicas y se seleccinó Random Forest*\n",
    "    * Se implementa validación cruzada y se mide el desempeño de cada modelo (permite validar la mejora en el tiempo al tener más historia)\n",
    "    * Para los código con menos de 20 series se aplica un suavizado exponencial para predecir los días para el próximos evento, si la predicción es cercana se clasifica\n",
    "##### Predicción Severidad\n",
    "9. Se redefine la serie con los valores de severidad registrados\n",
    "10. Se predice el valor del próximo evento sobre la serie de tiempo\n",
    "    * Para series con menos de 15 registros se aplica un método simple de forecast, suavisado exponencial\n",
    "    * Para series con más de 15 registros se aplica el método ETS\n",
    "    \n",
    "#### Preparación de la respuesta\n",
    "11. Se uninen los resultados generados y se genera una salida en archivo csv\n",
    "\n",
    "### Parámetros generales de la solución\n",
    "\n",
    "El Script permite modificar adaptar la solución a diferentes requerimientos:\n",
    "* Número de días próximos a considerar en la predicción\n",
    "* Número de periodos inter-evento para la estimación\n",
    "* Reprocesar los archivos fuente o utilizar preprocesamientos anteiores\n",
    "\n",
    "### Consideraciones\n",
    "\n",
    "* Se utiliza para el modelamiento solo 10 días de información recopilada de la fuente.   Los archivos base presentaron interrumpción perdiendo continuidad en la historia base en el día 10 (18 de Febrero)\n",
    " * Se recomienda realizar una revisión en los parámetros del modelo con mínimo 30 días de información como oportunidad para mejorar las predicciones y validar las métricas de desempeño con más información."
   ]
  },
  {
   "cell_type": "markdown",
   "id": "e78da515",
   "metadata": {},
   "source": [
    "# Configuración ambiente de trabajo"
   ]
  },
  {
   "cell_type": "code",
   "execution_count": 1,
   "id": "a5be858a",
   "metadata": {},
   "outputs": [],
   "source": [
    "import pandas as pd\n",
    "import numpy as np\n",
    "import matplotlib.pyplot as plt\n",
    "import seaborn\n",
    "import contextily\n",
    "from sklearn.ensemble import RandomForestClassifier\n",
    "from sklearn import metrics\n",
    "# manejo de archivos\n",
    "import pandas as pd\n",
    "import os\n",
    "import glob"
   ]
  },
  {
   "cell_type": "code",
   "execution_count": 2,
   "id": "00dfe80b",
   "metadata": {},
   "outputs": [],
   "source": [
    "##Modelos\n",
    "from statsmodels.tsa.exponential_smoothing.ets import ETSModel\n",
    "from croston import croston\n",
    "from statsmodels.tsa.holtwinters import SimpleExpSmoothing"
   ]
  },
  {
   "cell_type": "code",
   "execution_count": 3,
   "id": "98633896",
   "metadata": {},
   "outputs": [],
   "source": [
    "from datetime import timedelta\n",
    "from lightgbm import LGBMClassifier\n",
    "from sklearn.metrics import confusion_matrix \n",
    "from sklearn.model_selection import train_test_split\n",
    "from sklearn.metrics import roc_curve #roc_curve\n",
    "from sklearn.metrics import roc_auc_score #auc"
   ]
  },
  {
   "cell_type": "code",
   "execution_count": 4,
   "id": "d752f816",
   "metadata": {},
   "outputs": [
    {
     "name": "stderr",
     "output_type": "stream",
     "text": [
      "C:\\Users\\CristhianJohnatanIzq\\AppData\\Local\\Temp\\ipykernel_29184\\2336295311.py:1: DeprecationWarning: Importing display from IPython.core.display is deprecated since IPython 7.14, please import from IPython display\n",
      "  from IPython.core.display import display, HTML\n"
     ]
    },
    {
     "data": {
      "text/html": [
       "<style>.container { width:100% !important; }</style>"
      ],
      "text/plain": [
       "<IPython.core.display.HTML object>"
      ]
     },
     "metadata": {},
     "output_type": "display_data"
    }
   ],
   "source": [
    "from IPython.core.display import display, HTML\n",
    "import warnings\n",
    "warnings.filterwarnings('ignore')\n",
    "display(HTML(\"<style>.container { width:100% !important; }</style>\"))\n",
    "pd.set_option('display.max_columns', None)\n",
    "pd.set_option(\"display.max_colwidth\", -1)"
   ]
  },
  {
   "cell_type": "code",
   "execution_count": 5,
   "id": "0ea06749",
   "metadata": {},
   "outputs": [],
   "source": [
    "def to_integer(dt_time):\n",
    "    return 10000*dt_time.year + 100*dt_time.month + dt_time.day"
   ]
  },
  {
   "cell_type": "code",
   "execution_count": 6,
   "id": "f237d661",
   "metadata": {},
   "outputs": [],
   "source": [
    "codeAlarms= pd.read_csv(f'AlarmsCode.csv',sep=';', engine='python',error_bad_lines=False)"
   ]
  },
  {
   "cell_type": "markdown",
   "id": "994a6576",
   "metadata": {},
   "source": [
    "# Parámetros Generales de ejecución"
   ]
  },
  {
   "cell_type": "code",
   "execution_count": 7,
   "id": "94af62d3",
   "metadata": {},
   "outputs": [],
   "source": [
    "#Procesar todos los archivos\n",
    "actualizacion_archivos=0\n",
    "#dias próximos a considerar\n",
    "p_diasEtiqueta=3\n",
    "#Peridos historicos para el modelo\n",
    "p_numeroEventos_historia=5"
   ]
  },
  {
   "cell_type": "markdown",
   "id": "e01fbac9",
   "metadata": {},
   "source": [
    "## Preprocesamiento"
   ]
  },
  {
   "cell_type": "code",
   "execution_count": 8,
   "id": "36d6cc62",
   "metadata": {
    "scrolled": true
   },
   "outputs": [],
   "source": [
    "if actualizacion_archivos==1:\n",
    "    datosFinal=pd.DataFrame()\n",
    "    path = os.getcwd()+\"\\\\netcool_new\\\\\"\n",
    "    print (path)\n",
    "    csv_files = glob.glob(os.path.join(path, \"*.txt\"))\n",
    "    flag=0\n",
    "    for f in csv_files:\n",
    "        print('File Name:', f.split(\"\\\\\")[-1])\n",
    "        try:            \n",
    "            df = pd.read_csv(f,sep=';', engine='python',error_bad_lines=False)\n",
    "            #Filtro BOSSC\n",
    "            df= df[df['AGENT'].notnull() & df['AGENT'].str.contains(\"BOSS\")]\n",
    "            # filtro codalarm\n",
    "            df['CODALARM_2']= pd.to_numeric(df['CODALARM'], errors='coerce')\n",
    "            df=df[df['CODALARM_2'].isin(codeAlarms['Alarms Codes'].unique())]\n",
    "            if flag==0:\n",
    "                datosFinal=df\n",
    "                flag=1\n",
    "            else:\n",
    "                datosFinal=datosFinal.append(df)\n",
    "        except:\n",
    "            print(\"problems opening file\")\n",
    "        #guardar parcial\n",
    "        datosFinal.to_csv('parcial.csv')\n",
    "if actualizacion_archivos==0:\n",
    "    datosFinal=pd.read_csv('parcial.csv')"
   ]
  },
  {
   "cell_type": "code",
   "execution_count": 9,
   "id": "2180e78b",
   "metadata": {},
   "outputs": [
    {
     "name": "stdout",
     "output_type": "stream",
     "text": [
      "2022-02-07 23:31:32\n",
      "2022-02-18 02:45:11\n"
     ]
    }
   ],
   "source": [
    "min_fecha=datosFinal['LASTOCCURRENCE'].min()\n",
    "print(min_fecha)\n",
    "max_fecha=datosFinal['LASTOCCURRENCE'].max()\n",
    "print(max_fecha)"
   ]
  },
  {
   "cell_type": "code",
   "execution_count": 10,
   "id": "7dfdaa50",
   "metadata": {},
   "outputs": [
    {
     "data": {
      "text/plain": [
       "13197"
      ]
     },
     "execution_count": 10,
     "metadata": {},
     "output_type": "execute_result"
    }
   ],
   "source": [
    "datosFinal['NODEALIAS'].nunique()"
   ]
  },
  {
   "cell_type": "markdown",
   "id": "95d8bb69",
   "metadata": {},
   "source": [
    "# Exploración"
   ]
  },
  {
   "cell_type": "markdown",
   "id": "36847e93",
   "metadata": {},
   "source": [
    "#### Clasificación de las 25 columnas"
   ]
  },
  {
   "attachments": {
    "image-2.png": {
     "image/png": "[encoded data removed]"
    },
    "image.png": {
     "image/png": "[encoded data removed]"
    }
   },
   "cell_type": "markdown",
   "id": "044d7ecc",
   "metadata": {},
   "source": [
    "![image.png](attachment:image.png)\n",
    "![image-2.png](attachment:image-2.png)"
   ]
  },
  {
   "cell_type": "code",
   "execution_count": 11,
   "id": "22b25386",
   "metadata": {
    "scrolled": false
   },
   "outputs": [
    {
     "data": {
      "text/plain": [
       "Unnamed: 0         0.000000\n",
       "IDENTIFIER         0.000000\n",
       "NODE               0.000000\n",
       "AGENT              0.000000\n",
       "SEVERITY           0.000000\n",
       "SUMMARY            0.000000\n",
       "FIRSTOCCURRENCE    0.000000\n",
       "LASTOCCURRENCE     0.000000\n",
       "TYPE               0.000000\n",
       "TALLY              0.000000\n",
       "LOCATION           1.000000\n",
       "DELETEDATE         0.407400\n",
       "ENRICHED           0.525120\n",
       "STATUS             0.543604\n",
       "LOCALIDAD          1.000000\n",
       "MUNICIPIO          0.546385\n",
       "DEPARTAMENTO       0.546385\n",
       "SITIO              0.546385\n",
       "REGIONAL           0.546385\n",
       "CODALARM           0.000000\n",
       "TTNUMBER           0.997573\n",
       "TECNOLOGIA         0.543604\n",
       "LATITUD            1.000000\n",
       "LONGITUD           1.000000\n",
       "TIPOAFECTACION     0.495006\n",
       "NODEALIAS          0.000000\n",
       "CODALARM_2         0.000000\n",
       "dtype: float64"
      ]
     },
     "execution_count": 11,
     "metadata": {},
     "output_type": "execute_result"
    }
   ],
   "source": [
    "datosFinal.isnull().sum()/len(datosFinal)"
   ]
  },
  {
   "cell_type": "markdown",
   "id": "bf60fa7a",
   "metadata": {},
   "source": [
    "### Val fechas"
   ]
  },
  {
   "cell_type": "code",
   "execution_count": 12,
   "id": "bc3ddb1e",
   "metadata": {
    "scrolled": true
   },
   "outputs": [
    {
     "data": {
      "text/html": [
       "<div>\n",
       "<style scoped>\n",
       "    .dataframe tbody tr th:only-of-type {\n",
       "        vertical-align: middle;\n",
       "    }\n",
       "\n",
       "    .dataframe tbody tr th {\n",
       "        vertical-align: top;\n",
       "    }\n",
       "\n",
       "    .dataframe thead th {\n",
       "        text-align: right;\n",
       "    }\n",
       "</style>\n",
       "<table border=\"1\" class=\"dataframe\">\n",
       "  <thead>\n",
       "    <tr style=\"text-align: right;\">\n",
       "      <th></th>\n",
       "      <th>Unnamed: 0</th>\n",
       "      <th>IDENTIFIER</th>\n",
       "      <th>NODE</th>\n",
       "      <th>AGENT</th>\n",
       "      <th>SEVERITY</th>\n",
       "      <th>SUMMARY</th>\n",
       "      <th>FIRSTOCCURRENCE</th>\n",
       "      <th>LASTOCCURRENCE</th>\n",
       "      <th>TYPE</th>\n",
       "      <th>TALLY</th>\n",
       "      <th>LOCATION</th>\n",
       "      <th>DELETEDATE</th>\n",
       "      <th>ENRICHED</th>\n",
       "      <th>STATUS</th>\n",
       "      <th>LOCALIDAD</th>\n",
       "      <th>MUNICIPIO</th>\n",
       "      <th>DEPARTAMENTO</th>\n",
       "      <th>SITIO</th>\n",
       "      <th>REGIONAL</th>\n",
       "      <th>CODALARM</th>\n",
       "      <th>TTNUMBER</th>\n",
       "      <th>TECNOLOGIA</th>\n",
       "      <th>LATITUD</th>\n",
       "      <th>LONGITUD</th>\n",
       "      <th>TIPOAFECTACION</th>\n",
       "      <th>NODEALIAS</th>\n",
       "      <th>CODALARM_2</th>\n",
       "    </tr>\n",
       "  </thead>\n",
       "  <tbody>\n",
       "    <tr>\n",
       "      <th>2</th>\n",
       "      <td>107</td>\n",
       "      <td>5.171.16.213 | 913 | Power Supply | 1 | BOSSC | MTTrapd Probe on GSRCMDBTRI31 | 5 | 4</td>\n",
       "      <td>5.171.16.213</td>\n",
       "      <td>BOSSC</td>\n",
       "      <td>4.0</td>\n",
       "      <td>Major Analog Alarm For Total String Voltage     MAC: 0090EA06DCF6   Voltage:  -5:0</td>\n",
       "      <td>2022-02-07 23:24:54</td>\n",
       "      <td>2022-02-07 23:31:34</td>\n",
       "      <td>1.0</td>\n",
       "      <td>11.0</td>\n",
       "      <td>NaN</td>\n",
       "      <td>NaN</td>\n",
       "      <td>Y</td>\n",
       "      <td>OPERATING</td>\n",
       "      <td>NaN</td>\n",
       "      <td>BUCARAMANGA</td>\n",
       "      <td>SANTANDER</td>\n",
       "      <td>COMUNEROS 1 - BUCARAMANGA</td>\n",
       "      <td>ORIENTE</td>\n",
       "      <td>913</td>\n",
       "      <td>NaN</td>\n",
       "      <td>FIJA</td>\n",
       "      <td>NaN</td>\n",
       "      <td>NaN</td>\n",
       "      <td>AS</td>\n",
       "      <td>1CM</td>\n",
       "      <td>913.0</td>\n",
       "    </tr>\n",
       "    <tr>\n",
       "      <th>3</th>\n",
       "      <td>108</td>\n",
       "      <td>5.171.16.213 | 975 | Power Supply | 1 | BOSSC | MTTrapd Probe on GSRCMDBTRI31 | 5 | 4</td>\n",
       "      <td>5.171.16.213</td>\n",
       "      <td>BOSSC</td>\n",
       "      <td>4.0</td>\n",
       "      <td>Major Discrete Alarm For Major Alarm     MAC: 0090EA06DCF6   Voltage:  -5:0</td>\n",
       "      <td>2022-02-07 23:24:54</td>\n",
       "      <td>2022-02-07 23:31:34</td>\n",
       "      <td>1.0</td>\n",
       "      <td>11.0</td>\n",
       "      <td>NaN</td>\n",
       "      <td>NaN</td>\n",
       "      <td>Y</td>\n",
       "      <td>OPERATING</td>\n",
       "      <td>NaN</td>\n",
       "      <td>BUCARAMANGA</td>\n",
       "      <td>SANTANDER</td>\n",
       "      <td>COMUNEROS 1 - BUCARAMANGA</td>\n",
       "      <td>ORIENTE</td>\n",
       "      <td>975</td>\n",
       "      <td>NaN</td>\n",
       "      <td>FIJA</td>\n",
       "      <td>NaN</td>\n",
       "      <td>NaN</td>\n",
       "      <td>AS</td>\n",
       "      <td>1CM</td>\n",
       "      <td>975.0</td>\n",
       "    </tr>\n",
       "    <tr>\n",
       "      <th>7</th>\n",
       "      <td>383</td>\n",
       "      <td>5.218.59.9 | 913 | Power Supply | 1 | BOSSC | MTTrapd Probe on GSRCMDBTRI31 | 5 | 4</td>\n",
       "      <td>5.218.59.9</td>\n",
       "      <td>BOSSC</td>\n",
       "      <td>0.0</td>\n",
       "      <td>Major Analog Alarm For Total String Voltage     MAC: 0090EA026961   Voltage:  -5:0</td>\n",
       "      <td>2022-02-07 23:25:30</td>\n",
       "      <td>2022-02-07 23:31:42</td>\n",
       "      <td>1.0</td>\n",
       "      <td>9.0</td>\n",
       "      <td>NaN</td>\n",
       "      <td>2022-02-07 23:36:18</td>\n",
       "      <td>Y</td>\n",
       "      <td>OPERATING</td>\n",
       "      <td>NaN</td>\n",
       "      <td>FUSAGASUGA</td>\n",
       "      <td>CUNDINAMARCA</td>\n",
       "      <td>ALTOS DE PEKIN - FUSAGASUGA</td>\n",
       "      <td>ORIENTE</td>\n",
       "      <td>913</td>\n",
       "      <td>NaN</td>\n",
       "      <td>FIJA</td>\n",
       "      <td>NaN</td>\n",
       "      <td>NaN</td>\n",
       "      <td>AS</td>\n",
       "      <td>ELT</td>\n",
       "      <td>913.0</td>\n",
       "    </tr>\n",
       "    <tr>\n",
       "      <th>8</th>\n",
       "      <td>389</td>\n",
       "      <td>5.177.57.201 | 913 | Power Supply | 1 | BOSSC | MTTrapd Probe on GSRCMDBTRI31 | 5 | 4</td>\n",
       "      <td>5.177.57.201</td>\n",
       "      <td>BOSSC</td>\n",
       "      <td>0.0</td>\n",
       "      <td>Major Analog Alarm For Total String Voltage     MAC: 0090EA00447E   Voltage:  -5:0</td>\n",
       "      <td>2022-02-07 23:23:28</td>\n",
       "      <td>2022-02-07 23:31:42</td>\n",
       "      <td>1.0</td>\n",
       "      <td>9.0</td>\n",
       "      <td>NaN</td>\n",
       "      <td>2022-02-07 23:34:18</td>\n",
       "      <td>Y</td>\n",
       "      <td>OPERATING</td>\n",
       "      <td>NaN</td>\n",
       "      <td>CUCUTA</td>\n",
       "      <td>NORTE DE SANTANDER</td>\n",
       "      <td>LA CARORA PYMES - CUCUTA</td>\n",
       "      <td>ORIENTE</td>\n",
       "      <td>913</td>\n",
       "      <td>NaN</td>\n",
       "      <td>FIJA</td>\n",
       "      <td>NaN</td>\n",
       "      <td>NaN</td>\n",
       "      <td>AS</td>\n",
       "      <td>CRA</td>\n",
       "      <td>913.0</td>\n",
       "    </tr>\n",
       "    <tr>\n",
       "      <th>9</th>\n",
       "      <td>390</td>\n",
       "      <td>5.218.59.9 | 975 | Power Supply | 1 | BOSSC | MTTrapd Probe on GSRCMDBTRI31 | 5 | 4</td>\n",
       "      <td>5.218.59.9</td>\n",
       "      <td>BOSSC</td>\n",
       "      <td>0.0</td>\n",
       "      <td>Major Discrete Alarm For Major Alarm     MAC: 0090EA026961   Voltage:  -5:0</td>\n",
       "      <td>2022-02-07 23:25:30</td>\n",
       "      <td>2022-02-07 23:31:42</td>\n",
       "      <td>1.0</td>\n",
       "      <td>9.0</td>\n",
       "      <td>NaN</td>\n",
       "      <td>2022-02-07 23:36:18</td>\n",
       "      <td>Y</td>\n",
       "      <td>OPERATING</td>\n",
       "      <td>NaN</td>\n",
       "      <td>FUSAGASUGA</td>\n",
       "      <td>CUNDINAMARCA</td>\n",
       "      <td>ALTOS DE PEKIN - FUSAGASUGA</td>\n",
       "      <td>ORIENTE</td>\n",
       "      <td>975</td>\n",
       "      <td>NaN</td>\n",
       "      <td>FIJA</td>\n",
       "      <td>NaN</td>\n",
       "      <td>NaN</td>\n",
       "      <td>AS</td>\n",
       "      <td>ELT</td>\n",
       "      <td>975.0</td>\n",
       "    </tr>\n",
       "    <tr>\n",
       "      <th>...</th>\n",
       "      <td>...</td>\n",
       "      <td>...</td>\n",
       "      <td>...</td>\n",
       "      <td>...</td>\n",
       "      <td>...</td>\n",
       "      <td>...</td>\n",
       "      <td>...</td>\n",
       "      <td>...</td>\n",
       "      <td>...</td>\n",
       "      <td>...</td>\n",
       "      <td>...</td>\n",
       "      <td>...</td>\n",
       "      <td>...</td>\n",
       "      <td>...</td>\n",
       "      <td>...</td>\n",
       "      <td>...</td>\n",
       "      <td>...</td>\n",
       "      <td>...</td>\n",
       "      <td>...</td>\n",
       "      <td>...</td>\n",
       "      <td>...</td>\n",
       "      <td>...</td>\n",
       "      <td>...</td>\n",
       "      <td>...</td>\n",
       "      <td>...</td>\n",
       "      <td>...</td>\n",
       "      <td>...</td>\n",
       "    </tr>\n",
       "    <tr>\n",
       "      <th>319281</th>\n",
       "      <td>27150</td>\n",
       "      <td>5.161.96.2 | 9332 | Power Supply | 1 | BOSSC | MTTrapd Probe on GSRCMDBTRI31 | 5 | 4</td>\n",
       "      <td>5.161.96.2</td>\n",
       "      <td>BOSSC</td>\n",
       "      <td>4.0</td>\n",
       "      <td>Battery on Standby Critical    MAC: 0090EA00A67B   Voltage:  37.60</td>\n",
       "      <td>2022-02-18 00:14:57</td>\n",
       "      <td>2022-02-18 02:44:58</td>\n",
       "      <td>1.0</td>\n",
       "      <td>287.0</td>\n",
       "      <td>NaN</td>\n",
       "      <td>NaN</td>\n",
       "      <td>Y</td>\n",
       "      <td>OPERATING</td>\n",
       "      <td>NaN</td>\n",
       "      <td>CARTAGENA</td>\n",
       "      <td>BOLIVAR</td>\n",
       "      <td>CAMPESTRE 4 - CARTAGENA</td>\n",
       "      <td>COSTA</td>\n",
       "      <td>9332</td>\n",
       "      <td>NaN</td>\n",
       "      <td>FIJA</td>\n",
       "      <td>NaN</td>\n",
       "      <td>NaN</td>\n",
       "      <td>AS</td>\n",
       "      <td>CPD</td>\n",
       "      <td>9332.0</td>\n",
       "    </tr>\n",
       "    <tr>\n",
       "      <th>319282</th>\n",
       "      <td>27151</td>\n",
       "      <td>5.180.5.83 | 9332 | Power Supply | 1 | BOSSC | MTTrapd Probe on GSRCMDBTRI31 | 5 | 4</td>\n",
       "      <td>5.180.5.83</td>\n",
       "      <td>BOSSC</td>\n",
       "      <td>4.0</td>\n",
       "      <td>Battery on Standby Critical    MAC: 0090EA18CF1E   Voltage:  35.20</td>\n",
       "      <td>2022-02-18 00:14:58</td>\n",
       "      <td>2022-02-18 02:44:58</td>\n",
       "      <td>1.0</td>\n",
       "      <td>295.0</td>\n",
       "      <td>NaN</td>\n",
       "      <td>NaN</td>\n",
       "      <td>Y</td>\n",
       "      <td>OPERATING</td>\n",
       "      <td>NaN</td>\n",
       "      <td>IBAGUE</td>\n",
       "      <td>TOLIMA</td>\n",
       "      <td>SANTA RITA - IBAGUE</td>\n",
       "      <td>OCCIDENTE</td>\n",
       "      <td>9332</td>\n",
       "      <td>NaN</td>\n",
       "      <td>FIJA</td>\n",
       "      <td>NaN</td>\n",
       "      <td>NaN</td>\n",
       "      <td>AS</td>\n",
       "      <td>SRU</td>\n",
       "      <td>9332.0</td>\n",
       "    </tr>\n",
       "    <tr>\n",
       "      <th>319283</th>\n",
       "      <td>27152</td>\n",
       "      <td>5.207.4.142 | 9332 | Power Supply | 1 | BOSSC | MTTrapd Probe on GSRCMDBTRI31 | 5 | 4</td>\n",
       "      <td>5.207.4.142</td>\n",
       "      <td>BOSSC</td>\n",
       "      <td>4.0</td>\n",
       "      <td>Battery on Standby Critical    MAC: 0090EA52B3DC   Voltage:  37.20</td>\n",
       "      <td>2022-02-17 22:28:58</td>\n",
       "      <td>2022-02-18 02:44:58</td>\n",
       "      <td>1.0</td>\n",
       "      <td>495.0</td>\n",
       "      <td>NaN</td>\n",
       "      <td>NaN</td>\n",
       "      <td>Y</td>\n",
       "      <td>OPERATING</td>\n",
       "      <td>NaN</td>\n",
       "      <td>GIRARDOT</td>\n",
       "      <td>CUNDINAMARCA</td>\n",
       "      <td>VILLA CATALINA - ESPINAL</td>\n",
       "      <td>ORIENTE</td>\n",
       "      <td>9332</td>\n",
       "      <td>NaN</td>\n",
       "      <td>FIJA</td>\n",
       "      <td>NaN</td>\n",
       "      <td>NaN</td>\n",
       "      <td>AS</td>\n",
       "      <td>ECN</td>\n",
       "      <td>9332.0</td>\n",
       "    </tr>\n",
       "    <tr>\n",
       "      <th>319284</th>\n",
       "      <td>27159</td>\n",
       "      <td>5.251.42.39 | 9332 | Power Supply | 1 | BOSSC | MTTrapd Probe on GSRCMDBTRI31 | 5 | 3</td>\n",
       "      <td>5.251.42.39</td>\n",
       "      <td>BOSSC</td>\n",
       "      <td>3.0</td>\n",
       "      <td>Battery on Standby     MAC: 0090EA00BFCB   Voltage:  36.40</td>\n",
       "      <td>2022-02-18 02:43:27</td>\n",
       "      <td>2022-02-18 02:44:59</td>\n",
       "      <td>1.0</td>\n",
       "      <td>3.0</td>\n",
       "      <td>NaN</td>\n",
       "      <td>NaN</td>\n",
       "      <td>N</td>\n",
       "      <td>NaN</td>\n",
       "      <td>NaN</td>\n",
       "      <td>NaN</td>\n",
       "      <td>NaN</td>\n",
       "      <td>NaN</td>\n",
       "      <td>NaN</td>\n",
       "      <td>9332</td>\n",
       "      <td>NaN</td>\n",
       "      <td>NaN</td>\n",
       "      <td>NaN</td>\n",
       "      <td>NaN</td>\n",
       "      <td>AS</td>\n",
       "      <td>BOG2C8022+</td>\n",
       "      <td>9332.0</td>\n",
       "    </tr>\n",
       "    <tr>\n",
       "      <th>319285</th>\n",
       "      <td>27164</td>\n",
       "      <td>5.94.37.161 | 9332 | Power Supply | 1 | BOSSC | MTTrapd Probe on GSRCMDBTRI31 | 5 | 4</td>\n",
       "      <td>5.94.37.161</td>\n",
       "      <td>BOSSC</td>\n",
       "      <td>4.0</td>\n",
       "      <td>Battery on Standby Critical    MAC: 0090EA07AF49   Voltage:  41.40</td>\n",
       "      <td>2022-02-16 14:39:58</td>\n",
       "      <td>2022-02-18 02:44:59</td>\n",
       "      <td>1.0</td>\n",
       "      <td>4131.0</td>\n",
       "      <td>NaN</td>\n",
       "      <td>NaN</td>\n",
       "      <td>Y</td>\n",
       "      <td>OPERATING</td>\n",
       "      <td>NaN</td>\n",
       "      <td>BOGOTA D.C.</td>\n",
       "      <td>BOGOTA D.C</td>\n",
       "      <td>AVENIDA PRADILLA - CHIA</td>\n",
       "      <td>CENTRO ORIENTE</td>\n",
       "      <td>9332</td>\n",
       "      <td>NaN</td>\n",
       "      <td>FIJA</td>\n",
       "      <td>NaN</td>\n",
       "      <td>NaN</td>\n",
       "      <td>AS</td>\n",
       "      <td>CH7</td>\n",
       "      <td>9332.0</td>\n",
       "    </tr>\n",
       "  </tbody>\n",
       "</table>\n",
       "<p>40756 rows × 27 columns</p>\n",
       "</div>"
      ],
      "text/plain": [
       "        Unnamed: 0  \\\n",
       "2       107          \n",
       "3       108          \n",
       "7       383          \n",
       "8       389          \n",
       "9       390          \n",
       "...     ...          \n",
       "319281  27150        \n",
       "319282  27151        \n",
       "319283  27152        \n",
       "319284  27159        \n",
       "319285  27164        \n",
       "\n",
       "                                                                                   IDENTIFIER  \\\n",
       "2       5.171.16.213 | 913 | Power Supply | 1 | BOSSC | MTTrapd Probe on GSRCMDBTRI31 | 5 | 4   \n",
       "3       5.171.16.213 | 975 | Power Supply | 1 | BOSSC | MTTrapd Probe on GSRCMDBTRI31 | 5 | 4   \n",
       "7       5.218.59.9 | 913 | Power Supply | 1 | BOSSC | MTTrapd Probe on GSRCMDBTRI31 | 5 | 4     \n",
       "8       5.177.57.201 | 913 | Power Supply | 1 | BOSSC | MTTrapd Probe on GSRCMDBTRI31 | 5 | 4   \n",
       "9       5.218.59.9 | 975 | Power Supply | 1 | BOSSC | MTTrapd Probe on GSRCMDBTRI31 | 5 | 4     \n",
       "...                                                                                     ...     \n",
       "319281  5.161.96.2 | 9332 | Power Supply | 1 | BOSSC | MTTrapd Probe on GSRCMDBTRI31 | 5 | 4    \n",
       "319282  5.180.5.83 | 9332 | Power Supply | 1 | BOSSC | MTTrapd Probe on GSRCMDBTRI31 | 5 | 4    \n",
       "319283  5.207.4.142 | 9332 | Power Supply | 1 | BOSSC | MTTrapd Probe on GSRCMDBTRI31 | 5 | 4   \n",
       "319284  5.251.42.39 | 9332 | Power Supply | 1 | BOSSC | MTTrapd Probe on GSRCMDBTRI31 | 5 | 3   \n",
       "319285  5.94.37.161 | 9332 | Power Supply | 1 | BOSSC | MTTrapd Probe on GSRCMDBTRI31 | 5 | 4   \n",
       "\n",
       "                NODE  AGENT  SEVERITY  \\\n",
       "2       5.171.16.213  BOSSC  4.0        \n",
       "3       5.171.16.213  BOSSC  4.0        \n",
       "7       5.218.59.9    BOSSC  0.0        \n",
       "8       5.177.57.201  BOSSC  0.0        \n",
       "9       5.218.59.9    BOSSC  0.0        \n",
       "...            ...      ...  ...        \n",
       "319281  5.161.96.2    BOSSC  4.0        \n",
       "319282  5.180.5.83    BOSSC  4.0        \n",
       "319283  5.207.4.142   BOSSC  4.0        \n",
       "319284  5.251.42.39   BOSSC  3.0        \n",
       "319285  5.94.37.161   BOSSC  4.0        \n",
       "\n",
       "                                                                                   SUMMARY  \\\n",
       "2       Major Analog Alarm For Total String Voltage     MAC: 0090EA06DCF6   Voltage:  -5:0   \n",
       "3       Major Discrete Alarm For Major Alarm     MAC: 0090EA06DCF6   Voltage:  -5:0          \n",
       "7       Major Analog Alarm For Total String Voltage     MAC: 0090EA026961   Voltage:  -5:0   \n",
       "8       Major Analog Alarm For Total String Voltage     MAC: 0090EA00447E   Voltage:  -5:0   \n",
       "9       Major Discrete Alarm For Major Alarm     MAC: 0090EA026961   Voltage:  -5:0          \n",
       "...                                                                             ...          \n",
       "319281  Battery on Standby Critical    MAC: 0090EA00A67B   Voltage:  37.60                   \n",
       "319282  Battery on Standby Critical    MAC: 0090EA18CF1E   Voltage:  35.20                   \n",
       "319283  Battery on Standby Critical    MAC: 0090EA52B3DC   Voltage:  37.20                   \n",
       "319284  Battery on Standby     MAC: 0090EA00BFCB   Voltage:  36.40                           \n",
       "319285  Battery on Standby Critical    MAC: 0090EA07AF49   Voltage:  41.40                   \n",
       "\n",
       "            FIRSTOCCURRENCE       LASTOCCURRENCE  TYPE   TALLY  LOCATION  \\\n",
       "2       2022-02-07 23:24:54  2022-02-07 23:31:34  1.0   11.0   NaN         \n",
       "3       2022-02-07 23:24:54  2022-02-07 23:31:34  1.0   11.0   NaN         \n",
       "7       2022-02-07 23:25:30  2022-02-07 23:31:42  1.0   9.0    NaN         \n",
       "8       2022-02-07 23:23:28  2022-02-07 23:31:42  1.0   9.0    NaN         \n",
       "9       2022-02-07 23:25:30  2022-02-07 23:31:42  1.0   9.0    NaN         \n",
       "...                     ...                  ...  ...   ...     ..         \n",
       "319281  2022-02-18 00:14:57  2022-02-18 02:44:58  1.0   287.0  NaN         \n",
       "319282  2022-02-18 00:14:58  2022-02-18 02:44:58  1.0   295.0  NaN         \n",
       "319283  2022-02-17 22:28:58  2022-02-18 02:44:58  1.0   495.0  NaN         \n",
       "319284  2022-02-18 02:43:27  2022-02-18 02:44:59  1.0   3.0    NaN         \n",
       "319285  2022-02-16 14:39:58  2022-02-18 02:44:59  1.0   4131.0 NaN         \n",
       "\n",
       "                 DELETEDATE ENRICHED     STATUS  LOCALIDAD    MUNICIPIO  \\\n",
       "2       NaN                  Y        OPERATING NaN         BUCARAMANGA   \n",
       "3       NaN                  Y        OPERATING NaN         BUCARAMANGA   \n",
       "7       2022-02-07 23:36:18  Y        OPERATING NaN         FUSAGASUGA    \n",
       "8       2022-02-07 23:34:18  Y        OPERATING NaN         CUCUTA        \n",
       "9       2022-02-07 23:36:18  Y        OPERATING NaN         FUSAGASUGA    \n",
       "...                     ... ..              ...  ..                ...    \n",
       "319281  NaN                  Y        OPERATING NaN         CARTAGENA     \n",
       "319282  NaN                  Y        OPERATING NaN         IBAGUE        \n",
       "319283  NaN                  Y        OPERATING NaN         GIRARDOT      \n",
       "319284  NaN                  N        NaN       NaN         NaN           \n",
       "319285  NaN                  Y        OPERATING NaN         BOGOTA D.C.   \n",
       "\n",
       "              DEPARTAMENTO                        SITIO        REGIONAL  \\\n",
       "2       SANTANDER           COMUNEROS 1 - BUCARAMANGA    ORIENTE          \n",
       "3       SANTANDER           COMUNEROS 1 - BUCARAMANGA    ORIENTE          \n",
       "7       CUNDINAMARCA        ALTOS DE PEKIN - FUSAGASUGA  ORIENTE          \n",
       "8       NORTE DE SANTANDER  LA CARORA PYMES - CUCUTA     ORIENTE          \n",
       "9       CUNDINAMARCA        ALTOS DE PEKIN - FUSAGASUGA  ORIENTE          \n",
       "...              ...                                ...      ...          \n",
       "319281  BOLIVAR             CAMPESTRE 4 - CARTAGENA      COSTA            \n",
       "319282  TOLIMA              SANTA RITA - IBAGUE          OCCIDENTE        \n",
       "319283  CUNDINAMARCA        VILLA CATALINA - ESPINAL     ORIENTE          \n",
       "319284  NaN                 NaN                          NaN              \n",
       "319285  BOGOTA D.C          AVENIDA PRADILLA - CHIA      CENTRO ORIENTE   \n",
       "\n",
       "        CODALARM TTNUMBER TECNOLOGIA  LATITUD  LONGITUD TIPOAFECTACION  \\\n",
       "2       913       NaN      FIJA      NaN      NaN        AS              \n",
       "3       975       NaN      FIJA      NaN      NaN        AS              \n",
       "7       913       NaN      FIJA      NaN      NaN        AS              \n",
       "8       913       NaN      FIJA      NaN      NaN        AS              \n",
       "9       975       NaN      FIJA      NaN      NaN        AS              \n",
       "...     ...       ...       ...       ..       ..        ..              \n",
       "319281  9332      NaN      FIJA      NaN      NaN        AS              \n",
       "319282  9332      NaN      FIJA      NaN      NaN        AS              \n",
       "319283  9332      NaN      FIJA      NaN      NaN        AS              \n",
       "319284  9332      NaN      NaN       NaN      NaN        AS              \n",
       "319285  9332      NaN      FIJA      NaN      NaN        AS              \n",
       "\n",
       "         NODEALIAS  CODALARM_2  \n",
       "2       1CM         913.0       \n",
       "3       1CM         975.0       \n",
       "7       ELT         913.0       \n",
       "8       CRA         913.0       \n",
       "9       ELT         975.0       \n",
       "...     ...           ...       \n",
       "319281  CPD         9332.0      \n",
       "319282  SRU         9332.0      \n",
       "319283  ECN         9332.0      \n",
       "319284  BOG2C8022+  9332.0      \n",
       "319285  CH7         9332.0      \n",
       "\n",
       "[40756 rows x 27 columns]"
      ]
     },
     "execution_count": 12,
     "metadata": {},
     "output_type": "execute_result"
    }
   ],
   "source": [
    "datosFinal[datosFinal['FIRSTOCCURRENCE']!=datosFinal['LASTOCCURRENCE']]"
   ]
  },
  {
   "cell_type": "markdown",
   "id": "e5ede9ae",
   "metadata": {},
   "source": [
    "### Val identificador"
   ]
  },
  {
   "cell_type": "code",
   "execution_count": 13,
   "id": "83e27c5f",
   "metadata": {},
   "outputs": [
    {
     "data": {
      "text/plain": [
       "7750"
      ]
     },
     "execution_count": 13,
     "metadata": {},
     "output_type": "execute_result"
    }
   ],
   "source": [
    "datosFinal['NODE'].nunique()"
   ]
  },
  {
   "cell_type": "code",
   "execution_count": 14,
   "id": "09faba34",
   "metadata": {},
   "outputs": [
    {
     "data": {
      "text/plain": [
       "13197"
      ]
     },
     "execution_count": 14,
     "metadata": {},
     "output_type": "execute_result"
    }
   ],
   "source": [
    "datosFinal['NODEALIAS'].nunique()"
   ]
  },
  {
   "cell_type": "code",
   "execution_count": 15,
   "id": "7acbc64d",
   "metadata": {},
   "outputs": [],
   "source": [
    "maestroNodos=datosFinal[['NODE','NODEALIAS']].drop_duplicates()"
   ]
  },
  {
   "cell_type": "code",
   "execution_count": 16,
   "id": "0a5895a9",
   "metadata": {},
   "outputs": [
    {
     "data": {
      "text/plain": [
       "5.19.55.231 | 894 | Power Supply | 1 | BOSSC | MTTrapd Probe on GSRCMDBTRI31 | 5 | 4            1727\n",
       "5.48.15.168 | 9332 | Power Supply | 1 | BOSSC | MTTrapd Probe on GSRCMDBTRI31 | 5 | 4           775 \n",
       "5.222.32.175 | 894 | Power Supply | 1 | BOSSC | MTTrapd Probe on GSRCMDBTRI31 | 5 | 4           717 \n",
       "5.160.10.173 | 9332 | Power Supply | 1 | BOSSC | MTTrapd Probe on GSRCMDBTRI31 | 5 | 4          691 \n",
       "5.237.99.1 | 913 | Power Supply | 1 | BOSSC | MTTrapd Probe on GSRCMDBTRI31 | 5 | 4             665 \n",
       "                                                                                               ...  \n",
       "5.131.27.70 | 1012 | Power Supply | 2 | BOSSC | MTTrapd Probe on GSRCMDBTRI31 | 2 | 18599533    1   \n",
       "5.218.35.57 | 3304 | Power Supply | 2 | BOSSC | MTTrapd Probe on GSRCMDBTRI31 | 2 | 18599536    1   \n",
       "5.218.35.57 | 3304 | Power Supply | 2 | BOSSC | MTTrapd Probe on GSRCMDBTRI31 | 2 | 18599537    1   \n",
       "5.218.35.57 | 2 | Power Supply | 2 | BOSSC | MTTrapd Probe on GSRCMDBTRI31 | 4 | 18599539       1   \n",
       "5.246.41.45 | 3304 | Power Supply | 2 | BOSSC | MTTrapd Probe on GSRCMDBTRI31 | 2 | 19240972    1   \n",
       "Name: IDENTIFIER, Length: 177123, dtype: int64"
      ]
     },
     "execution_count": 16,
     "metadata": {},
     "output_type": "execute_result"
    }
   ],
   "source": [
    "### Identificador más común\n",
    "datosFinal['IDENTIFIER'].value_counts()"
   ]
  },
  {
   "cell_type": "markdown",
   "id": "496bdc89",
   "metadata": {},
   "source": [
    "### Analisis y formación Series de Tiempo"
   ]
  },
  {
   "cell_type": "code",
   "execution_count": 17,
   "id": "705338a8",
   "metadata": {},
   "outputs": [],
   "source": [
    "datosFinal['fecha']=pd.to_datetime(datosFinal['LASTOCCURRENCE']).dt.date"
   ]
  },
  {
   "cell_type": "code",
   "execution_count": 18,
   "id": "776ea1d4",
   "metadata": {},
   "outputs": [],
   "source": [
    "### quitar primer y última fecha\n",
    "datosFinal=datosFinal[datosFinal['fecha']!=datosFinal['fecha'].min()]\n",
    "datosFinal=datosFinal[datosFinal['fecha']!=datosFinal['fecha'].max()]"
   ]
  },
  {
   "cell_type": "code",
   "execution_count": 19,
   "id": "3dc11fe9",
   "metadata": {},
   "outputs": [],
   "source": [
    "datosFinal['CODALARM_2']=datosFinal['CODALARM_2'].astype(int)"
   ]
  },
  {
   "cell_type": "code",
   "execution_count": 20,
   "id": "9ae947eb",
   "metadata": {
    "scrolled": true
   },
   "outputs": [],
   "source": [
    "resumenSeries=datosFinal.groupby(['NODEALIAS','CODALARM_2','fecha'])[['SEVERITY']].max().reset_index()"
   ]
  },
  {
   "cell_type": "code",
   "execution_count": 21,
   "id": "a543055d",
   "metadata": {},
   "outputs": [],
   "source": [
    "max_fecha=resumenSeries['fecha'].max()"
   ]
  },
  {
   "cell_type": "markdown",
   "id": "675adc15",
   "metadata": {},
   "source": [
    "# Exploración Distribuciones de eventos (Nodos, Codigos, Series)"
   ]
  },
  {
   "cell_type": "markdown",
   "id": "42c10ce5",
   "metadata": {},
   "source": [
    "## Series"
   ]
  },
  {
   "cell_type": "code",
   "execution_count": 22,
   "id": "7ae7367b",
   "metadata": {},
   "outputs": [],
   "source": [
    "resumen_dias_alarma=resumenSeries[['NODEALIAS','CODALARM_2']].value_counts().to_frame()"
   ]
  },
  {
   "cell_type": "code",
   "execution_count": 23,
   "id": "a1f16b63",
   "metadata": {},
   "outputs": [
    {
     "data": {
      "text/html": [
       "<div>\n",
       "<style scoped>\n",
       "    .dataframe tbody tr th:only-of-type {\n",
       "        vertical-align: middle;\n",
       "    }\n",
       "\n",
       "    .dataframe tbody tr th {\n",
       "        vertical-align: top;\n",
       "    }\n",
       "\n",
       "    .dataframe thead th {\n",
       "        text-align: right;\n",
       "    }\n",
       "</style>\n",
       "<table border=\"1\" class=\"dataframe\">\n",
       "  <thead>\n",
       "    <tr style=\"text-align: right;\">\n",
       "      <th></th>\n",
       "      <th>0</th>\n",
       "    </tr>\n",
       "  </thead>\n",
       "  <tbody>\n",
       "    <tr>\n",
       "      <th>count</th>\n",
       "      <td>33129.000000</td>\n",
       "    </tr>\n",
       "    <tr>\n",
       "      <th>mean</th>\n",
       "      <td>1.895439</td>\n",
       "    </tr>\n",
       "    <tr>\n",
       "      <th>std</th>\n",
       "      <td>2.056655</td>\n",
       "    </tr>\n",
       "    <tr>\n",
       "      <th>min</th>\n",
       "      <td>1.000000</td>\n",
       "    </tr>\n",
       "    <tr>\n",
       "      <th>25%</th>\n",
       "      <td>1.000000</td>\n",
       "    </tr>\n",
       "    <tr>\n",
       "      <th>50%</th>\n",
       "      <td>1.000000</td>\n",
       "    </tr>\n",
       "    <tr>\n",
       "      <th>75%</th>\n",
       "      <td>2.000000</td>\n",
       "    </tr>\n",
       "    <tr>\n",
       "      <th>max</th>\n",
       "      <td>10.000000</td>\n",
       "    </tr>\n",
       "  </tbody>\n",
       "</table>\n",
       "</div>"
      ],
      "text/plain": [
       "                  0\n",
       "count  33129.000000\n",
       "mean   1.895439    \n",
       "std    2.056655    \n",
       "min    1.000000    \n",
       "25%    1.000000    \n",
       "50%    1.000000    \n",
       "75%    2.000000    \n",
       "max    10.000000   "
      ]
     },
     "execution_count": 23,
     "metadata": {},
     "output_type": "execute_result"
    }
   ],
   "source": [
    "resumen_dias_alarma.describe()"
   ]
  },
  {
   "cell_type": "code",
   "execution_count": 24,
   "id": "b9c84b9e",
   "metadata": {},
   "outputs": [],
   "source": [
    "resumen_dias_alarma_df=resumen_dias_alarma.value_counts().sort_index(ascending=False).to_frame()\n",
    "resumen_dias_alarma_df.columns=['num_nodos_alarmCodes']"
   ]
  },
  {
   "cell_type": "code",
   "execution_count": 25,
   "id": "34233e00",
   "metadata": {},
   "outputs": [
    {
     "data": {
      "text/html": [
       "<div>\n",
       "<style scoped>\n",
       "    .dataframe tbody tr th:only-of-type {\n",
       "        vertical-align: middle;\n",
       "    }\n",
       "\n",
       "    .dataframe tbody tr th {\n",
       "        vertical-align: top;\n",
       "    }\n",
       "\n",
       "    .dataframe thead th {\n",
       "        text-align: right;\n",
       "    }\n",
       "</style>\n",
       "<table border=\"1\" class=\"dataframe\">\n",
       "  <thead>\n",
       "    <tr style=\"text-align: right;\">\n",
       "      <th></th>\n",
       "      <th>num_nodos_alarmCodes</th>\n",
       "      <th>part</th>\n",
       "    </tr>\n",
       "    <tr>\n",
       "      <th>0</th>\n",
       "      <th></th>\n",
       "      <th></th>\n",
       "    </tr>\n",
       "  </thead>\n",
       "  <tbody>\n",
       "    <tr>\n",
       "      <th>10</th>\n",
       "      <td>1174</td>\n",
       "      <td>0.035437</td>\n",
       "    </tr>\n",
       "    <tr>\n",
       "      <th>9</th>\n",
       "      <td>309</td>\n",
       "      <td>0.009327</td>\n",
       "    </tr>\n",
       "    <tr>\n",
       "      <th>8</th>\n",
       "      <td>276</td>\n",
       "      <td>0.008331</td>\n",
       "    </tr>\n",
       "    <tr>\n",
       "      <th>7</th>\n",
       "      <td>273</td>\n",
       "      <td>0.008241</td>\n",
       "    </tr>\n",
       "    <tr>\n",
       "      <th>6</th>\n",
       "      <td>238</td>\n",
       "      <td>0.007184</td>\n",
       "    </tr>\n",
       "    <tr>\n",
       "      <th>5</th>\n",
       "      <td>332</td>\n",
       "      <td>0.010021</td>\n",
       "    </tr>\n",
       "    <tr>\n",
       "      <th>4</th>\n",
       "      <td>589</td>\n",
       "      <td>0.017779</td>\n",
       "    </tr>\n",
       "    <tr>\n",
       "      <th>3</th>\n",
       "      <td>1566</td>\n",
       "      <td>0.047270</td>\n",
       "    </tr>\n",
       "    <tr>\n",
       "      <th>2</th>\n",
       "      <td>5640</td>\n",
       "      <td>0.170244</td>\n",
       "    </tr>\n",
       "    <tr>\n",
       "      <th>1</th>\n",
       "      <td>22732</td>\n",
       "      <td>0.686166</td>\n",
       "    </tr>\n",
       "  </tbody>\n",
       "</table>\n",
       "</div>"
      ],
      "text/plain": [
       "    num_nodos_alarmCodes      part\n",
       "0                                 \n",
       "10  1174                  0.035437\n",
       "9   309                   0.009327\n",
       "8   276                   0.008331\n",
       "7   273                   0.008241\n",
       "6   238                   0.007184\n",
       "5   332                   0.010021\n",
       "4   589                   0.017779\n",
       "3   1566                  0.047270\n",
       "2   5640                  0.170244\n",
       "1   22732                 0.686166"
      ]
     },
     "execution_count": 25,
     "metadata": {},
     "output_type": "execute_result"
    }
   ],
   "source": [
    "resumen_dias_alarma_df['part']=resumen_dias_alarma_df['num_nodos_alarmCodes']/resumen_dias_alarma_df['num_nodos_alarmCodes'].sum()\n",
    "resumen_dias_alarma_df.columns=['num_nodos_alarmCodes','part']\n",
    "resumen_dias_alarma_df.index.name='diasAlarm'\n",
    "resumen_dias_alarma_df"
   ]
  },
  {
   "cell_type": "code",
   "execution_count": 26,
   "id": "c0d51277",
   "metadata": {},
   "outputs": [
    {
     "data": {
      "text/plain": [
       "array([[<AxesSubplot:title={'center':'0'}>]], dtype=object)"
      ]
     },
     "execution_count": 26,
     "metadata": {},
     "output_type": "execute_result"
    },
    {
     "data": {
      "image/png": "[encoded data removed]",
      "text/plain": [
       "<Figure size 432x288 with 1 Axes>"
      ]
     },
     "metadata": {
      "needs_background": "light"
     },
     "output_type": "display_data"
    }
   ],
   "source": [
    "resumen_dias_alarma.hist()"
   ]
  },
  {
   "cell_type": "code",
   "execution_count": 27,
   "id": "17d0c961",
   "metadata": {},
   "outputs": [
    {
     "data": {
      "text/plain": [
       "33129"
      ]
     },
     "execution_count": 27,
     "metadata": {},
     "output_type": "execute_result"
    }
   ],
   "source": [
    "resumen_dias_alarma_df['num_nodos_alarmCodes'].sum()"
   ]
  },
  {
   "cell_type": "markdown",
   "id": "90c5b149",
   "metadata": {},
   "source": [
    "### Nodo"
   ]
  },
  {
   "cell_type": "code",
   "execution_count": 28,
   "id": "d64f9926",
   "metadata": {},
   "outputs": [],
   "source": [
    "resumenNodos=datosFinal.groupby(['NODEALIAS','fecha'])[['SEVERITY']].max().reset_index()"
   ]
  },
  {
   "cell_type": "code",
   "execution_count": 29,
   "id": "6449f5df",
   "metadata": {},
   "outputs": [],
   "source": [
    "resumen_dias_nodo=resumenNodos[['NODEALIAS']].value_counts().to_frame()"
   ]
  },
  {
   "cell_type": "code",
   "execution_count": 30,
   "id": "126a49fc",
   "metadata": {},
   "outputs": [
    {
     "data": {
      "text/html": [
       "<div>\n",
       "<style scoped>\n",
       "    .dataframe tbody tr th:only-of-type {\n",
       "        vertical-align: middle;\n",
       "    }\n",
       "\n",
       "    .dataframe tbody tr th {\n",
       "        vertical-align: top;\n",
       "    }\n",
       "\n",
       "    .dataframe thead th {\n",
       "        text-align: right;\n",
       "    }\n",
       "</style>\n",
       "<table border=\"1\" class=\"dataframe\">\n",
       "  <thead>\n",
       "    <tr style=\"text-align: right;\">\n",
       "      <th></th>\n",
       "      <th>0</th>\n",
       "    </tr>\n",
       "  </thead>\n",
       "  <tbody>\n",
       "    <tr>\n",
       "      <th>count</th>\n",
       "      <td>13155.000000</td>\n",
       "    </tr>\n",
       "    <tr>\n",
       "      <th>mean</th>\n",
       "      <td>2.874344</td>\n",
       "    </tr>\n",
       "    <tr>\n",
       "      <th>std</th>\n",
       "      <td>2.858017</td>\n",
       "    </tr>\n",
       "    <tr>\n",
       "      <th>min</th>\n",
       "      <td>1.000000</td>\n",
       "    </tr>\n",
       "    <tr>\n",
       "      <th>25%</th>\n",
       "      <td>1.000000</td>\n",
       "    </tr>\n",
       "    <tr>\n",
       "      <th>50%</th>\n",
       "      <td>2.000000</td>\n",
       "    </tr>\n",
       "    <tr>\n",
       "      <th>75%</th>\n",
       "      <td>3.000000</td>\n",
       "    </tr>\n",
       "    <tr>\n",
       "      <th>max</th>\n",
       "      <td>10.000000</td>\n",
       "    </tr>\n",
       "  </tbody>\n",
       "</table>\n",
       "</div>"
      ],
      "text/plain": [
       "                  0\n",
       "count  13155.000000\n",
       "mean   2.874344    \n",
       "std    2.858017    \n",
       "min    1.000000    \n",
       "25%    1.000000    \n",
       "50%    2.000000    \n",
       "75%    3.000000    \n",
       "max    10.000000   "
      ]
     },
     "execution_count": 30,
     "metadata": {},
     "output_type": "execute_result"
    }
   ],
   "source": [
    "resumen_dias_nodo.describe()"
   ]
  },
  {
   "cell_type": "code",
   "execution_count": 31,
   "id": "98a84f13",
   "metadata": {},
   "outputs": [],
   "source": [
    "resumen_dias_nodo_df=resumen_dias_nodo.value_counts().sort_index(ascending=False).to_frame()"
   ]
  },
  {
   "cell_type": "code",
   "execution_count": 32,
   "id": "d52d0c50",
   "metadata": {},
   "outputs": [
    {
     "data": {
      "text/html": [
       "<div>\n",
       "<style scoped>\n",
       "    .dataframe tbody tr th:only-of-type {\n",
       "        vertical-align: middle;\n",
       "    }\n",
       "\n",
       "    .dataframe tbody tr th {\n",
       "        vertical-align: top;\n",
       "    }\n",
       "\n",
       "    .dataframe thead th {\n",
       "        text-align: right;\n",
       "    }\n",
       "</style>\n",
       "<table border=\"1\" class=\"dataframe\">\n",
       "  <thead>\n",
       "    <tr style=\"text-align: right;\">\n",
       "      <th></th>\n",
       "      <th>num_nodos</th>\n",
       "      <th>part</th>\n",
       "    </tr>\n",
       "    <tr>\n",
       "      <th>0</th>\n",
       "      <th></th>\n",
       "      <th></th>\n",
       "    </tr>\n",
       "  </thead>\n",
       "  <tbody>\n",
       "    <tr>\n",
       "      <th>10</th>\n",
       "      <td>1128</td>\n",
       "      <td>0.085747</td>\n",
       "    </tr>\n",
       "    <tr>\n",
       "      <th>9</th>\n",
       "      <td>301</td>\n",
       "      <td>0.022881</td>\n",
       "    </tr>\n",
       "    <tr>\n",
       "      <th>8</th>\n",
       "      <td>244</td>\n",
       "      <td>0.018548</td>\n",
       "    </tr>\n",
       "    <tr>\n",
       "      <th>7</th>\n",
       "      <td>241</td>\n",
       "      <td>0.018320</td>\n",
       "    </tr>\n",
       "    <tr>\n",
       "      <th>6</th>\n",
       "      <td>225</td>\n",
       "      <td>0.017104</td>\n",
       "    </tr>\n",
       "    <tr>\n",
       "      <th>5</th>\n",
       "      <td>302</td>\n",
       "      <td>0.022957</td>\n",
       "    </tr>\n",
       "    <tr>\n",
       "      <th>4</th>\n",
       "      <td>510</td>\n",
       "      <td>0.038769</td>\n",
       "    </tr>\n",
       "    <tr>\n",
       "      <th>3</th>\n",
       "      <td>1135</td>\n",
       "      <td>0.086279</td>\n",
       "    </tr>\n",
       "    <tr>\n",
       "      <th>2</th>\n",
       "      <td>2810</td>\n",
       "      <td>0.213607</td>\n",
       "    </tr>\n",
       "    <tr>\n",
       "      <th>1</th>\n",
       "      <td>6259</td>\n",
       "      <td>0.475789</td>\n",
       "    </tr>\n",
       "  </tbody>\n",
       "</table>\n",
       "</div>"
      ],
      "text/plain": [
       "    num_nodos      part\n",
       "0                      \n",
       "10  1128       0.085747\n",
       "9   301        0.022881\n",
       "8   244        0.018548\n",
       "7   241        0.018320\n",
       "6   225        0.017104\n",
       "5   302        0.022957\n",
       "4   510        0.038769\n",
       "3   1135       0.086279\n",
       "2   2810       0.213607\n",
       "1   6259       0.475789"
      ]
     },
     "execution_count": 32,
     "metadata": {},
     "output_type": "execute_result"
    }
   ],
   "source": [
    "resumen_dias_nodo_df['part']=resumen_dias_nodo_df[0]/resumen_dias_nodo_df[0].sum()\n",
    "resumen_dias_nodo_df.columns=['num_nodos','part']\n",
    "resumen_dias_nodo_df"
   ]
  },
  {
   "cell_type": "code",
   "execution_count": 33,
   "id": "e4c95b38",
   "metadata": {},
   "outputs": [
    {
     "name": "stdout",
     "output_type": "stream",
     "text": [
      "numero Nodos:  13155\n"
     ]
    }
   ],
   "source": [
    "print(\"numero Nodos: \",len(resumen_dias_nodo))"
   ]
  },
  {
   "cell_type": "code",
   "execution_count": 34,
   "id": "43738254",
   "metadata": {},
   "outputs": [
    {
     "data": {
      "text/plain": [
       "array([[<AxesSubplot:title={'center':'0'}>]], dtype=object)"
      ]
     },
     "execution_count": 34,
     "metadata": {},
     "output_type": "execute_result"
    },
    {
     "data": {
      "image/png": "[encoded data removed]",
      "text/plain": [
       "<Figure size 432x288 with 1 Axes>"
      ]
     },
     "metadata": {
      "needs_background": "light"
     },
     "output_type": "display_data"
    }
   ],
   "source": [
    "resumen_dias_nodo.hist()"
   ]
  },
  {
   "cell_type": "markdown",
   "id": "223bb274",
   "metadata": {},
   "source": [
    "# Preparacion Series"
   ]
  },
  {
   "cell_type": "code",
   "execution_count": 35,
   "id": "639c5128",
   "metadata": {},
   "outputs": [],
   "source": [
    "resumenSeries['SEVERITY']=resumenSeries['SEVERITY']+1"
   ]
  },
  {
   "cell_type": "code",
   "execution_count": 36,
   "id": "a0049995",
   "metadata": {},
   "outputs": [],
   "source": [
    "resumenSeries['key']=resumenSeries['NODEALIAS']+'---'+resumenSeries['CODALARM_2'].astype(str)"
   ]
  },
  {
   "cell_type": "code",
   "execution_count": 37,
   "id": "4a1895fc",
   "metadata": {},
   "outputs": [],
   "source": [
    "resumenSeries_pv=pd.pivot_table(resumenSeries, index=['fecha'], columns=['key'], values=['SEVERITY'])\n",
    "resumenSeries_pv.columns = resumenSeries_pv.columns.droplevel()"
   ]
  },
  {
   "cell_type": "code",
   "execution_count": 38,
   "id": "f065f8ef",
   "metadata": {},
   "outputs": [
    {
     "data": {
      "text/plain": [
       "10"
      ]
     },
     "execution_count": 38,
     "metadata": {},
     "output_type": "execute_result"
    }
   ],
   "source": [
    "dias_totales=len(resumenSeries_pv)\n",
    "dias_totales"
   ]
  },
  {
   "cell_type": "code",
   "execution_count": 39,
   "id": "a7ff11b4",
   "metadata": {},
   "outputs": [],
   "source": [
    "resumenSeries_pv.fillna(0, inplace=True)"
   ]
  },
  {
   "cell_type": "code",
   "execution_count": 40,
   "id": "23c1cbe6",
   "metadata": {},
   "outputs": [
    {
     "data": {
      "text/html": [
       "<div>\n",
       "<style scoped>\n",
       "    .dataframe tbody tr th:only-of-type {\n",
       "        vertical-align: middle;\n",
       "    }\n",
       "\n",
       "    .dataframe tbody tr th {\n",
       "        vertical-align: top;\n",
       "    }\n",
       "\n",
       "    .dataframe thead th {\n",
       "        text-align: right;\n",
       "    }\n",
       "</style>\n",
       "<table border=\"1\" class=\"dataframe\">\n",
       "  <thead>\n",
       "    <tr style=\"text-align: right;\">\n",
       "      <th></th>\n",
       "      <th>key</th>\n",
       "      <th>SEVERITY</th>\n",
       "    </tr>\n",
       "    <tr>\n",
       "      <th>fecha</th>\n",
       "      <th></th>\n",
       "      <th></th>\n",
       "    </tr>\n",
       "  </thead>\n",
       "  <tbody>\n",
       "    <tr>\n",
       "      <th>2022-02-08</th>\n",
       "      <td>- CAMPO AZUL---3229</td>\n",
       "      <td>0.0</td>\n",
       "    </tr>\n",
       "    <tr>\n",
       "      <th>2022-02-09</th>\n",
       "      <td>- CAMPO AZUL---3229</td>\n",
       "      <td>0.0</td>\n",
       "    </tr>\n",
       "    <tr>\n",
       "      <th>2022-02-10</th>\n",
       "      <td>- CAMPO AZUL---3229</td>\n",
       "      <td>0.0</td>\n",
       "    </tr>\n",
       "    <tr>\n",
       "      <th>2022-02-11</th>\n",
       "      <td>- CAMPO AZUL---3229</td>\n",
       "      <td>0.0</td>\n",
       "    </tr>\n",
       "    <tr>\n",
       "      <th>2022-02-12</th>\n",
       "      <td>- CAMPO AZUL---3229</td>\n",
       "      <td>1.0</td>\n",
       "    </tr>\n",
       "    <tr>\n",
       "      <th>...</th>\n",
       "      <td>...</td>\n",
       "      <td>...</td>\n",
       "    </tr>\n",
       "    <tr>\n",
       "      <th>2022-02-13</th>\n",
       "      <td>ZVZ---975</td>\n",
       "      <td>0.0</td>\n",
       "    </tr>\n",
       "    <tr>\n",
       "      <th>2022-02-14</th>\n",
       "      <td>ZVZ---975</td>\n",
       "      <td>0.0</td>\n",
       "    </tr>\n",
       "    <tr>\n",
       "      <th>2022-02-15</th>\n",
       "      <td>ZVZ---975</td>\n",
       "      <td>0.0</td>\n",
       "    </tr>\n",
       "    <tr>\n",
       "      <th>2022-02-16</th>\n",
       "      <td>ZVZ---975</td>\n",
       "      <td>0.0</td>\n",
       "    </tr>\n",
       "    <tr>\n",
       "      <th>2022-02-17</th>\n",
       "      <td>ZVZ---975</td>\n",
       "      <td>0.0</td>\n",
       "    </tr>\n",
       "  </tbody>\n",
       "</table>\n",
       "<p>331290 rows × 2 columns</p>\n",
       "</div>"
      ],
      "text/plain": [
       "                            key  SEVERITY\n",
       "fecha                                    \n",
       "2022-02-08  - CAMPO AZUL---3229  0.0     \n",
       "2022-02-09  - CAMPO AZUL---3229  0.0     \n",
       "2022-02-10  - CAMPO AZUL---3229  0.0     \n",
       "2022-02-11  - CAMPO AZUL---3229  0.0     \n",
       "2022-02-12  - CAMPO AZUL---3229  1.0     \n",
       "...                         ...  ...     \n",
       "2022-02-13  ZVZ---975            0.0     \n",
       "2022-02-14  ZVZ---975            0.0     \n",
       "2022-02-15  ZVZ---975            0.0     \n",
       "2022-02-16  ZVZ---975            0.0     \n",
       "2022-02-17  ZVZ---975            0.0     \n",
       "\n",
       "[331290 rows x 2 columns]"
      ]
     },
     "execution_count": 40,
     "metadata": {},
     "output_type": "execute_result"
    }
   ],
   "source": [
    "resumenSeries_un=resumenSeries_pv.reset_index().melt(id_vars=['fecha'], var_name='key', value_name='SEVERITY')\n",
    "resumenSeries_un.set_index('fecha',inplace=True)\n",
    "resumenSeries_un"
   ]
  },
  {
   "cell_type": "markdown",
   "id": "fa2077bc",
   "metadata": {},
   "source": [
    "#  Recurrencia de Eventos"
   ]
  },
  {
   "cell_type": "code",
   "execution_count": 41,
   "id": "6534581a",
   "metadata": {
    "scrolled": true
   },
   "outputs": [],
   "source": [
    "resumenSeries_un=resumenSeries_un.sort_values(['key','fecha'])"
   ]
  },
  {
   "cell_type": "code",
   "execution_count": 42,
   "id": "4a6567bd",
   "metadata": {},
   "outputs": [],
   "source": [
    "resumenSeries_un_nonZero=resumenSeries_un.reset_index()\n",
    "resumenSeries_un_nonZero=resumenSeries_un_nonZero[resumenSeries_un_nonZero['SEVERITY']!=0].reset_index()"
   ]
  },
  {
   "cell_type": "code",
   "execution_count": 43,
   "id": "730a32a3",
   "metadata": {},
   "outputs": [],
   "source": [
    "resumenSeries_un_nonZero['sig_event']=resumenSeries_un_nonZero.groupby('key')['index'].shift(periods=-1)"
   ]
  },
  {
   "cell_type": "code",
   "execution_count": 44,
   "id": "dc92d1e6",
   "metadata": {},
   "outputs": [],
   "source": [
    "resumenSeries_un_nonZero['dias_inter_event']=resumenSeries_un_nonZero['sig_event']-resumenSeries_un_nonZero['index']"
   ]
  },
  {
   "cell_type": "code",
   "execution_count": 45,
   "id": "d258fc53",
   "metadata": {},
   "outputs": [
    {
     "data": {
      "text/plain": [
       "count    29665.000000\n",
       "mean     1.777785    \n",
       "std      1.563032    \n",
       "min      1.000000    \n",
       "25%      1.000000    \n",
       "50%      1.000000    \n",
       "75%      2.000000    \n",
       "max      9.000000    \n",
       "Name: dias_inter_event, dtype: float64"
      ]
     },
     "execution_count": 45,
     "metadata": {},
     "output_type": "execute_result"
    }
   ],
   "source": [
    "resumenSeries_un_nonZero['dias_inter_event'].describe()"
   ]
  },
  {
   "cell_type": "code",
   "execution_count": 46,
   "id": "71315877",
   "metadata": {},
   "outputs": [
    {
     "data": {
      "text/plain": [
       "<AxesSubplot:>"
      ]
     },
     "execution_count": 46,
     "metadata": {},
     "output_type": "execute_result"
    },
    {
     "data": {
      "image/png": "[encoded data removed]",
      "text/plain": [
       "<Figure size 432x288 with 1 Axes>"
      ]
     },
     "metadata": {
      "needs_background": "light"
     },
     "output_type": "display_data"
    }
   ],
   "source": [
    "resumenSeries_un_nonZero['dias_inter_event'].hist()"
   ]
  },
  {
   "cell_type": "code",
   "execution_count": 47,
   "id": "86cb3f8d",
   "metadata": {},
   "outputs": [],
   "source": [
    "resumenSeries_un_nonZero_df=resumenSeries_un_nonZero['dias_inter_event'].value_counts().to_frame()"
   ]
  },
  {
   "cell_type": "code",
   "execution_count": 48,
   "id": "b85ba792",
   "metadata": {},
   "outputs": [
    {
     "data": {
      "text/html": [
       "<div>\n",
       "<style scoped>\n",
       "    .dataframe tbody tr th:only-of-type {\n",
       "        vertical-align: middle;\n",
       "    }\n",
       "\n",
       "    .dataframe tbody tr th {\n",
       "        vertical-align: top;\n",
       "    }\n",
       "\n",
       "    .dataframe thead th {\n",
       "        text-align: right;\n",
       "    }\n",
       "</style>\n",
       "<table border=\"1\" class=\"dataframe\">\n",
       "  <thead>\n",
       "    <tr style=\"text-align: right;\">\n",
       "      <th></th>\n",
       "      <th>dias_inter_event</th>\n",
       "      <th>part</th>\n",
       "    </tr>\n",
       "  </thead>\n",
       "  <tbody>\n",
       "    <tr>\n",
       "      <th>1.0</th>\n",
       "      <td>20925</td>\n",
       "      <td>0.333232</td>\n",
       "    </tr>\n",
       "    <tr>\n",
       "      <th>2.0</th>\n",
       "      <td>3394</td>\n",
       "      <td>0.054050</td>\n",
       "    </tr>\n",
       "    <tr>\n",
       "      <th>3.0</th>\n",
       "      <td>1723</td>\n",
       "      <td>0.027439</td>\n",
       "    </tr>\n",
       "    <tr>\n",
       "      <th>4.0</th>\n",
       "      <td>1203</td>\n",
       "      <td>0.019158</td>\n",
       "    </tr>\n",
       "    <tr>\n",
       "      <th>5.0</th>\n",
       "      <td>942</td>\n",
       "      <td>0.015001</td>\n",
       "    </tr>\n",
       "    <tr>\n",
       "      <th>7.0</th>\n",
       "      <td>559</td>\n",
       "      <td>0.008902</td>\n",
       "    </tr>\n",
       "    <tr>\n",
       "      <th>6.0</th>\n",
       "      <td>507</td>\n",
       "      <td>0.008074</td>\n",
       "    </tr>\n",
       "    <tr>\n",
       "      <th>8.0</th>\n",
       "      <td>329</td>\n",
       "      <td>0.005239</td>\n",
       "    </tr>\n",
       "    <tr>\n",
       "      <th>9.0</th>\n",
       "      <td>83</td>\n",
       "      <td>0.001322</td>\n",
       "    </tr>\n",
       "  </tbody>\n",
       "</table>\n",
       "</div>"
      ],
      "text/plain": [
       "     dias_inter_event      part\n",
       "1.0  20925             0.333232\n",
       "2.0  3394              0.054050\n",
       "3.0  1723              0.027439\n",
       "4.0  1203              0.019158\n",
       "5.0  942               0.015001\n",
       "7.0  559               0.008902\n",
       "6.0  507               0.008074\n",
       "8.0  329               0.005239\n",
       "9.0  83                0.001322"
      ]
     },
     "execution_count": 48,
     "metadata": {},
     "output_type": "execute_result"
    }
   ],
   "source": [
    "resumenSeries_un_nonZero_df['part']=resumenSeries_un_nonZero['dias_inter_event'].value_counts()/len(resumenSeries_un_nonZero)\n",
    "resumenSeries_un_nonZero_df"
   ]
  },
  {
   "cell_type": "code",
   "execution_count": 49,
   "id": "81efa69b",
   "metadata": {},
   "outputs": [],
   "source": [
    "resumenSeries_un_nonZero[['NODO','code']] = resumenSeries_un_nonZero['key'].str.split('---',expand=True)"
   ]
  },
  {
   "cell_type": "markdown",
   "id": "13ce8851",
   "metadata": {},
   "source": [
    "# Clasificacion casos"
   ]
  },
  {
   "cell_type": "markdown",
   "id": "b3601a46",
   "metadata": {},
   "source": [
    "### Casos Permanentes"
   ]
  },
  {
   "cell_type": "code",
   "execution_count": 50,
   "id": "317fae24",
   "metadata": {},
   "outputs": [],
   "source": [
    "# Numero de Eventos por Nodo-Codigo\n",
    "id_casos=resumenSeries_un_nonZero['key'].value_counts().to_frame().reset_index()\n",
    "id_casos.columns=['key','num_casos']"
   ]
  },
  {
   "cell_type": "code",
   "execution_count": 51,
   "id": "451ba0d6",
   "metadata": {},
   "outputs": [],
   "source": [
    "id_casos[['NODO','code']] = id_casos['key'].str.split('---',expand=True)"
   ]
  },
  {
   "cell_type": "code",
   "execution_count": 52,
   "id": "d0932751",
   "metadata": {},
   "outputs": [],
   "source": [
    "#Alarmas que se presentan permanentemente\n",
    "id_casos['tipo'] = np.where(id_casos['num_casos']==dias_totales,'permanente',np.nan)"
   ]
  },
  {
   "cell_type": "code",
   "execution_count": 53,
   "id": "52108cc1",
   "metadata": {},
   "outputs": [
    {
     "data": {
      "text/plain": [
       "nan           31955\n",
       "permanente    1174 \n",
       "Name: tipo, dtype: int64"
      ]
     },
     "execution_count": 53,
     "metadata": {},
     "output_type": "execute_result"
    }
   ],
   "source": [
    "id_casos['tipo'].value_counts()"
   ]
  },
  {
   "cell_type": "code",
   "execution_count": 54,
   "id": "cb6ce51f",
   "metadata": {},
   "outputs": [
    {
     "data": {
      "text/html": [
       "<div>\n",
       "<style scoped>\n",
       "    .dataframe tbody tr th:only-of-type {\n",
       "        vertical-align: middle;\n",
       "    }\n",
       "\n",
       "    .dataframe tbody tr th {\n",
       "        vertical-align: top;\n",
       "    }\n",
       "\n",
       "    .dataframe thead th {\n",
       "        text-align: right;\n",
       "    }\n",
       "</style>\n",
       "<table border=\"1\" class=\"dataframe\">\n",
       "  <thead>\n",
       "    <tr style=\"text-align: right;\">\n",
       "      <th></th>\n",
       "      <th>key</th>\n",
       "      <th>num_casos</th>\n",
       "      <th>NODO</th>\n",
       "      <th>code</th>\n",
       "      <th>tipo</th>\n",
       "    </tr>\n",
       "  </thead>\n",
       "  <tbody>\n",
       "    <tr>\n",
       "      <th>0</th>\n",
       "      <td>BRS---2934</td>\n",
       "      <td>10</td>\n",
       "      <td>BRS</td>\n",
       "      <td>2934</td>\n",
       "      <td>permanente</td>\n",
       "    </tr>\n",
       "    <tr>\n",
       "      <th>1</th>\n",
       "      <td>B55---2934</td>\n",
       "      <td>10</td>\n",
       "      <td>B55</td>\n",
       "      <td>2934</td>\n",
       "      <td>permanente</td>\n",
       "    </tr>\n",
       "    <tr>\n",
       "      <th>2</th>\n",
       "      <td>NODO BEX - BELLO 49---2934</td>\n",
       "      <td>10</td>\n",
       "      <td>NODO BEX - BELLO 49</td>\n",
       "      <td>2934</td>\n",
       "      <td>permanente</td>\n",
       "    </tr>\n",
       "    <tr>\n",
       "      <th>3</th>\n",
       "      <td>NODO B0E - BELLO 10---2934</td>\n",
       "      <td>10</td>\n",
       "      <td>NODO B0E - BELLO 10</td>\n",
       "      <td>2934</td>\n",
       "      <td>permanente</td>\n",
       "    </tr>\n",
       "    <tr>\n",
       "      <th>4</th>\n",
       "      <td>NODO AUC - ARANJUEZ 12---2934</td>\n",
       "      <td>10</td>\n",
       "      <td>NODO AUC - ARANJUEZ 12</td>\n",
       "      <td>2934</td>\n",
       "      <td>permanente</td>\n",
       "    </tr>\n",
       "    <tr>\n",
       "      <th>...</th>\n",
       "      <td>...</td>\n",
       "      <td>...</td>\n",
       "      <td>...</td>\n",
       "      <td>...</td>\n",
       "      <td>...</td>\n",
       "    </tr>\n",
       "    <tr>\n",
       "      <th>33124</th>\n",
       "      <td>CHIMORPS01---9334</td>\n",
       "      <td>1</td>\n",
       "      <td>CHIMORPS01</td>\n",
       "      <td>9334</td>\n",
       "      <td>nan</td>\n",
       "    </tr>\n",
       "    <tr>\n",
       "      <th>33125</th>\n",
       "      <td>CHIMORPS01---893</td>\n",
       "      <td>1</td>\n",
       "      <td>CHIMORPS01</td>\n",
       "      <td>893</td>\n",
       "      <td>nan</td>\n",
       "    </tr>\n",
       "    <tr>\n",
       "      <th>33126</th>\n",
       "      <td>CHIMORPS01---833</td>\n",
       "      <td>1</td>\n",
       "      <td>CHIMORPS01</td>\n",
       "      <td>833</td>\n",
       "      <td>nan</td>\n",
       "    </tr>\n",
       "    <tr>\n",
       "      <th>33127</th>\n",
       "      <td>CHIMORPS01---827</td>\n",
       "      <td>1</td>\n",
       "      <td>CHIMORPS01</td>\n",
       "      <td>827</td>\n",
       "      <td>nan</td>\n",
       "    </tr>\n",
       "    <tr>\n",
       "      <th>33128</th>\n",
       "      <td>ZVZ---975</td>\n",
       "      <td>1</td>\n",
       "      <td>ZVZ</td>\n",
       "      <td>975</td>\n",
       "      <td>nan</td>\n",
       "    </tr>\n",
       "  </tbody>\n",
       "</table>\n",
       "<p>33129 rows × 5 columns</p>\n",
       "</div>"
      ],
      "text/plain": [
       "                                 key  num_casos                    NODO  code  \\\n",
       "0      BRS---2934                     10         BRS                     2934   \n",
       "1      B55---2934                     10         B55                     2934   \n",
       "2      NODO BEX - BELLO 49---2934     10         NODO BEX - BELLO 49     2934   \n",
       "3      NODO B0E - BELLO 10---2934     10         NODO B0E - BELLO 10     2934   \n",
       "4      NODO AUC - ARANJUEZ 12---2934  10         NODO AUC - ARANJUEZ 12  2934   \n",
       "...                              ...  ..                            ...   ...   \n",
       "33124  CHIMORPS01---9334              1          CHIMORPS01              9334   \n",
       "33125  CHIMORPS01---893               1          CHIMORPS01              893    \n",
       "33126  CHIMORPS01---833               1          CHIMORPS01              833    \n",
       "33127  CHIMORPS01---827               1          CHIMORPS01              827    \n",
       "33128  ZVZ---975                      1          ZVZ                     975    \n",
       "\n",
       "             tipo  \n",
       "0      permanente  \n",
       "1      permanente  \n",
       "2      permanente  \n",
       "3      permanente  \n",
       "4      permanente  \n",
       "...           ...  \n",
       "33124  nan         \n",
       "33125  nan         \n",
       "33126  nan         \n",
       "33127  nan         \n",
       "33128  nan         \n",
       "\n",
       "[33129 rows x 5 columns]"
      ]
     },
     "execution_count": 54,
     "metadata": {},
     "output_type": "execute_result"
    }
   ],
   "source": [
    "id_casos"
   ]
  },
  {
   "cell_type": "code",
   "execution_count": 55,
   "id": "249594fc",
   "metadata": {},
   "outputs": [
    {
     "data": {
      "text/plain": [
       "key          0\n",
       "num_casos    0\n",
       "NODO         0\n",
       "code         0\n",
       "tipo         0\n",
       "dtype: int64"
      ]
     },
     "execution_count": 55,
     "metadata": {},
     "output_type": "execute_result"
    }
   ],
   "source": [
    "id_casos.isnull().sum()"
   ]
  },
  {
   "cell_type": "markdown",
   "id": "16179bbe",
   "metadata": {},
   "source": [
    "#### Actualmente Alarma"
   ]
  },
  {
   "cell_type": "code",
   "execution_count": 56,
   "id": "4e262a79",
   "metadata": {},
   "outputs": [],
   "source": [
    "alarma_actual=resumenSeries_un_nonZero[resumenSeries_un_nonZero['fecha']==max_fecha]"
   ]
  },
  {
   "cell_type": "code",
   "execution_count": 57,
   "id": "4bf4e1ff",
   "metadata": {},
   "outputs": [],
   "source": [
    "id_casos['tipo'] = np.where(id_casos['tipo']!='nan',id_casos['tipo'],np.where(id_casos['key'].isin(alarma_actual['key'].unique()),'actual',np.NaN))"
   ]
  },
  {
   "cell_type": "code",
   "execution_count": 58,
   "id": "44e28ef9",
   "metadata": {},
   "outputs": [
    {
     "data": {
      "text/plain": [
       "nan           27012\n",
       "actual        4943 \n",
       "permanente    1174 \n",
       "Name: tipo, dtype: int64"
      ]
     },
     "execution_count": 58,
     "metadata": {},
     "output_type": "execute_result"
    }
   ],
   "source": [
    "id_casos['tipo'].value_counts()"
   ]
  },
  {
   "cell_type": "markdown",
   "id": "d6bbcb0b",
   "metadata": {},
   "source": [
    "### Un solo casos (sin repetir cada dia)"
   ]
  },
  {
   "cell_type": "code",
   "execution_count": 59,
   "id": "2b359e8c",
   "metadata": {},
   "outputs": [],
   "source": [
    "casos_mayor_1_df=resumenSeries_un_nonZero[resumenSeries_un_nonZero['dias_inter_event']>1]['key'].unique()"
   ]
  },
  {
   "cell_type": "code",
   "execution_count": 60,
   "id": "b488b37a",
   "metadata": {},
   "outputs": [
    {
     "data": {
      "text/plain": [
       "33129"
      ]
     },
     "execution_count": 60,
     "metadata": {},
     "output_type": "execute_result"
    }
   ],
   "source": [
    "len(set(list(resumenSeries_un_nonZero['key'].unique())))"
   ]
  },
  {
   "cell_type": "code",
   "execution_count": 61,
   "id": "eb0a69ed",
   "metadata": {},
   "outputs": [
    {
     "data": {
      "text/plain": [
       "7029"
      ]
     },
     "execution_count": 61,
     "metadata": {},
     "output_type": "execute_result"
    }
   ],
   "source": [
    "len(set(list(casos_mayor_1_df)))"
   ]
  },
  {
   "cell_type": "code",
   "execution_count": 62,
   "id": "73576a33",
   "metadata": {},
   "outputs": [
    {
     "data": {
      "text/plain": [
       "33129"
      ]
     },
     "execution_count": 62,
     "metadata": {},
     "output_type": "execute_result"
    }
   ],
   "source": [
    "#resumenSeries_un\n",
    "len(set(list(resumenSeries_un['key'].unique())))"
   ]
  },
  {
   "cell_type": "code",
   "execution_count": 63,
   "id": "6cd21072",
   "metadata": {},
   "outputs": [
    {
     "data": {
      "text/plain": [
       "26100"
      ]
     },
     "execution_count": 63,
     "metadata": {},
     "output_type": "execute_result"
    }
   ],
   "source": [
    "casos_solo_1=set(list(resumenSeries_un_nonZero['key'].unique()))-set(list(casos_mayor_1_df))\n",
    "len(casos_solo_1)"
   ]
  },
  {
   "cell_type": "markdown",
   "id": "720f5a83",
   "metadata": {},
   "source": [
    "### solo un evento"
   ]
  },
  {
   "cell_type": "code",
   "execution_count": 64,
   "id": "1714c1a3",
   "metadata": {},
   "outputs": [],
   "source": [
    "id_casos['tipo'] = np.where(id_casos['tipo']!='nan',id_casos['tipo'],np.where(id_casos['key'].isin(casos_solo_1),'solo_1','>1_caso'))"
   ]
  },
  {
   "cell_type": "markdown",
   "id": "6ac7e35e",
   "metadata": {},
   "source": [
    "## Resumen final"
   ]
  },
  {
   "cell_type": "code",
   "execution_count": 65,
   "id": "a03d4985",
   "metadata": {},
   "outputs": [
    {
     "data": {
      "text/plain": [
       "solo_1        22330\n",
       "actual        4943 \n",
       ">1_caso       4682 \n",
       "permanente    1174 \n",
       "Name: tipo, dtype: int64"
      ]
     },
     "execution_count": 65,
     "metadata": {},
     "output_type": "execute_result"
    }
   ],
   "source": [
    "id_casos['tipo'].value_counts()"
   ]
  },
  {
   "cell_type": "code",
   "execution_count": 66,
   "id": "374ed588",
   "metadata": {},
   "outputs": [],
   "source": [
    "def pieChart(col):\n",
    "    A = col.value_counts()\n",
    "    indices = A.index\n",
    "    plt.pie(A, labels=indices, autopct=\"%0.1f %%\")\n",
    "    plt.axis(\"equal\")\n",
    "    plt.show()    "
   ]
  },
  {
   "cell_type": "code",
   "execution_count": 67,
   "id": "c86cbbb0",
   "metadata": {},
   "outputs": [
    {
     "data": {
      "image/png": "[encoded data removed]",
      "text/plain": [
       "<Figure size 432x288 with 1 Axes>"
      ]
     },
     "metadata": {},
     "output_type": "display_data"
    }
   ],
   "source": [
    "pieChart(id_casos['tipo'])"
   ]
  },
  {
   "cell_type": "markdown",
   "id": "ba230201",
   "metadata": {},
   "source": [
    "### Validación\n",
    "* Espacio para probar casos particulares"
   ]
  },
  {
   "cell_type": "code",
   "execution_count": 68,
   "id": "eeea678a",
   "metadata": {},
   "outputs": [
    {
     "data": {
      "text/html": [
       "<div>\n",
       "<style scoped>\n",
       "    .dataframe tbody tr th:only-of-type {\n",
       "        vertical-align: middle;\n",
       "    }\n",
       "\n",
       "    .dataframe tbody tr th {\n",
       "        vertical-align: top;\n",
       "    }\n",
       "\n",
       "    .dataframe thead th {\n",
       "        text-align: right;\n",
       "    }\n",
       "</style>\n",
       "<table border=\"1\" class=\"dataframe\">\n",
       "  <thead>\n",
       "    <tr style=\"text-align: right;\">\n",
       "      <th></th>\n",
       "      <th>key</th>\n",
       "      <th>num_casos</th>\n",
       "      <th>NODO</th>\n",
       "      <th>code</th>\n",
       "      <th>tipo</th>\n",
       "    </tr>\n",
       "  </thead>\n",
       "  <tbody>\n",
       "    <tr>\n",
       "      <th>2418</th>\n",
       "      <td>CARTRZPS01---894</td>\n",
       "      <td>5</td>\n",
       "      <td>CARTRZPS01</td>\n",
       "      <td>894</td>\n",
       "      <td>&gt;1_caso</td>\n",
       "    </tr>\n",
       "    <tr>\n",
       "      <th>2522</th>\n",
       "      <td>GRN2CYPS01---893</td>\n",
       "      <td>5</td>\n",
       "      <td>GRN2CYPS01</td>\n",
       "      <td>893</td>\n",
       "      <td>&gt;1_caso</td>\n",
       "    </tr>\n",
       "    <tr>\n",
       "      <th>3140</th>\n",
       "      <td>YB3---913</td>\n",
       "      <td>4</td>\n",
       "      <td>YB3</td>\n",
       "      <td>913</td>\n",
       "      <td>&gt;1_caso</td>\n",
       "    </tr>\n",
       "  </tbody>\n",
       "</table>\n",
       "</div>"
      ],
      "text/plain": [
       "                   key  num_casos        NODO code     tipo\n",
       "2418  CARTRZPS01---894  5          CARTRZPS01  894  >1_caso\n",
       "2522  GRN2CYPS01---893  5          GRN2CYPS01  893  >1_caso\n",
       "3140  YB3---913         4          YB3         913  >1_caso"
      ]
     },
     "execution_count": 68,
     "metadata": {},
     "output_type": "execute_result"
    }
   ],
   "source": [
    "id_casos[(id_casos['tipo']=='>1_caso')&(id_casos['num_casos']>3)].sample(3)"
   ]
  },
  {
   "cell_type": "code",
   "execution_count": 69,
   "id": "1c4a04ea",
   "metadata": {},
   "outputs": [
    {
     "data": {
      "text/plain": [
       "\"resumenSeries_un[resumenSeries_un['key']=='CHICH7PS01---894'][['SEVERITY']].plot.bar(title='CHICH7PS01---894')\""
      ]
     },
     "execution_count": 69,
     "metadata": {},
     "output_type": "execute_result"
    }
   ],
   "source": [
    "# Espacio para validación de una serie particular\n",
    "\"\"\"resumenSeries_un[resumenSeries_un['key']=='CHICH7PS01---894'][['SEVERITY']].plot.bar(title='CHICH7PS01---894')\"\"\""
   ]
  },
  {
   "cell_type": "markdown",
   "id": "9cde814a",
   "metadata": {},
   "source": [
    "## Descripción de códigos de Alarma\n",
    "* Mayor frecuencia\n",
    "* Tiempo en que se demoran en solucionar mean y mediana, contar 1s\n",
    "* Frecuencia de ocurrencia despúes de solucionar"
   ]
  },
  {
   "cell_type": "code",
   "execution_count": 70,
   "id": "9a99c577",
   "metadata": {
    "scrolled": true
   },
   "outputs": [
    {
     "data": {
      "text/html": [
       "<div>\n",
       "<style scoped>\n",
       "    .dataframe tbody tr th:only-of-type {\n",
       "        vertical-align: middle;\n",
       "    }\n",
       "\n",
       "    .dataframe tbody tr th {\n",
       "        vertical-align: top;\n",
       "    }\n",
       "\n",
       "    .dataframe thead th {\n",
       "        text-align: right;\n",
       "    }\n",
       "</style>\n",
       "<table border=\"1\" class=\"dataframe\">\n",
       "  <thead>\n",
       "    <tr style=\"text-align: right;\">\n",
       "      <th></th>\n",
       "      <th>num_casos</th>\n",
       "    </tr>\n",
       "    <tr>\n",
       "      <th>CODALARM_2</th>\n",
       "      <th></th>\n",
       "    </tr>\n",
       "  </thead>\n",
       "  <tbody>\n",
       "    <tr>\n",
       "      <th>1012</th>\n",
       "      <td>11126</td>\n",
       "    </tr>\n",
       "    <tr>\n",
       "      <th>9332</th>\n",
       "      <td>7943</td>\n",
       "    </tr>\n",
       "    <tr>\n",
       "      <th>969</th>\n",
       "      <td>6967</td>\n",
       "    </tr>\n",
       "    <tr>\n",
       "      <th>2934</th>\n",
       "      <td>5137</td>\n",
       "    </tr>\n",
       "    <tr>\n",
       "      <th>891</th>\n",
       "      <td>5089</td>\n",
       "    </tr>\n",
       "    <tr>\n",
       "      <th>904</th>\n",
       "      <td>3925</td>\n",
       "    </tr>\n",
       "    <tr>\n",
       "      <th>9334</th>\n",
       "      <td>3905</td>\n",
       "    </tr>\n",
       "    <tr>\n",
       "      <th>827</th>\n",
       "      <td>3401</td>\n",
       "    </tr>\n",
       "    <tr>\n",
       "      <th>913</th>\n",
       "      <td>3118</td>\n",
       "    </tr>\n",
       "    <tr>\n",
       "      <th>975</th>\n",
       "      <td>2301</td>\n",
       "    </tr>\n",
       "    <tr>\n",
       "      <th>761</th>\n",
       "      <td>2011</td>\n",
       "    </tr>\n",
       "    <tr>\n",
       "      <th>894</th>\n",
       "      <td>1693</td>\n",
       "    </tr>\n",
       "    <tr>\n",
       "      <th>833</th>\n",
       "      <td>1176</td>\n",
       "    </tr>\n",
       "    <tr>\n",
       "      <th>3304</th>\n",
       "      <td>1017</td>\n",
       "    </tr>\n",
       "    <tr>\n",
       "      <th>893</th>\n",
       "      <td>613</td>\n",
       "    </tr>\n",
       "    <tr>\n",
       "      <th>9333</th>\n",
       "      <td>612</td>\n",
       "    </tr>\n",
       "    <tr>\n",
       "      <th>4</th>\n",
       "      <td>506</td>\n",
       "    </tr>\n",
       "    <tr>\n",
       "      <th>2</th>\n",
       "      <td>410</td>\n",
       "    </tr>\n",
       "    <tr>\n",
       "      <th>3229</th>\n",
       "      <td>285</td>\n",
       "    </tr>\n",
       "    <tr>\n",
       "      <th>981</th>\n",
       "      <td>265</td>\n",
       "    </tr>\n",
       "    <tr>\n",
       "      <th>895</th>\n",
       "      <td>229</td>\n",
       "    </tr>\n",
       "    <tr>\n",
       "      <th>2793</th>\n",
       "      <td>177</td>\n",
       "    </tr>\n",
       "    <tr>\n",
       "      <th>751</th>\n",
       "      <td>159</td>\n",
       "    </tr>\n",
       "    <tr>\n",
       "      <th>13</th>\n",
       "      <td>142</td>\n",
       "    </tr>\n",
       "    <tr>\n",
       "      <th>949</th>\n",
       "      <td>132</td>\n",
       "    </tr>\n",
       "    <tr>\n",
       "      <th>1</th>\n",
       "      <td>103</td>\n",
       "    </tr>\n",
       "    <tr>\n",
       "      <th>839</th>\n",
       "      <td>77</td>\n",
       "    </tr>\n",
       "    <tr>\n",
       "      <th>12</th>\n",
       "      <td>76</td>\n",
       "    </tr>\n",
       "    <tr>\n",
       "      <th>81</th>\n",
       "      <td>25</td>\n",
       "    </tr>\n",
       "    <tr>\n",
       "      <th>3151</th>\n",
       "      <td>25</td>\n",
       "    </tr>\n",
       "    <tr>\n",
       "      <th>9080</th>\n",
       "      <td>21</td>\n",
       "    </tr>\n",
       "    <tr>\n",
       "      <th>3211</th>\n",
       "      <td>20</td>\n",
       "    </tr>\n",
       "    <tr>\n",
       "      <th>4943</th>\n",
       "      <td>19</td>\n",
       "    </tr>\n",
       "    <tr>\n",
       "      <th>411</th>\n",
       "      <td>19</td>\n",
       "    </tr>\n",
       "    <tr>\n",
       "      <th>4656</th>\n",
       "      <td>18</td>\n",
       "    </tr>\n",
       "    <tr>\n",
       "      <th>3160</th>\n",
       "      <td>12</td>\n",
       "    </tr>\n",
       "    <tr>\n",
       "      <th>429</th>\n",
       "      <td>11</td>\n",
       "    </tr>\n",
       "    <tr>\n",
       "      <th>3142</th>\n",
       "      <td>9</td>\n",
       "    </tr>\n",
       "    <tr>\n",
       "      <th>8469</th>\n",
       "      <td>6</td>\n",
       "    </tr>\n",
       "    <tr>\n",
       "      <th>9100</th>\n",
       "      <td>6</td>\n",
       "    </tr>\n",
       "    <tr>\n",
       "      <th>402</th>\n",
       "      <td>6</td>\n",
       "    </tr>\n",
       "    <tr>\n",
       "      <th>8466</th>\n",
       "      <td>1</td>\n",
       "    </tr>\n",
       "    <tr>\n",
       "      <th>9107</th>\n",
       "      <td>1</td>\n",
       "    </tr>\n",
       "  </tbody>\n",
       "</table>\n",
       "</div>"
      ],
      "text/plain": [
       "            num_casos\n",
       "CODALARM_2           \n",
       "1012        11126    \n",
       "9332        7943     \n",
       "969         6967     \n",
       "2934        5137     \n",
       "891         5089     \n",
       "904         3925     \n",
       "9334        3905     \n",
       "827         3401     \n",
       "913         3118     \n",
       "975         2301     \n",
       "761         2011     \n",
       "894         1693     \n",
       "833         1176     \n",
       "3304        1017     \n",
       "893         613      \n",
       "9333        612      \n",
       "4           506      \n",
       "2           410      \n",
       "3229        285      \n",
       "981         265      \n",
       "895         229      \n",
       "2793        177      \n",
       "751         159      \n",
       "13          142      \n",
       "949         132      \n",
       "1           103      \n",
       "839         77       \n",
       "12          76       \n",
       "81          25       \n",
       "3151        25       \n",
       "9080        21       \n",
       "3211        20       \n",
       "4943        19       \n",
       "411         19       \n",
       "4656        18       \n",
       "3160        12       \n",
       "429         11       \n",
       "3142        9        \n",
       "8469        6        \n",
       "9100        6        \n",
       "402         6        \n",
       "8466        1        \n",
       "9107        1        "
      ]
     },
     "execution_count": 70,
     "metadata": {},
     "output_type": "execute_result"
    }
   ],
   "source": [
    "resumen_dias_code=resumenSeries[['CODALARM_2']].value_counts().to_frame()\n",
    "resumen_dias_code.columns=['num_casos']\n",
    "resumen_dias_code"
   ]
  },
  {
   "cell_type": "code",
   "execution_count": 71,
   "id": "8e45d317",
   "metadata": {
    "scrolled": true
   },
   "outputs": [
    {
     "data": {
      "text/plain": [
       "<AxesSubplot:xlabel='CODALARM_2'>"
      ]
     },
     "execution_count": 71,
     "metadata": {},
     "output_type": "execute_result"
    },
    {
     "data": {
      "image/png": "[encoded data removed]",
      "text/plain": [
       "<Figure size 720x360 with 1 Axes>"
      ]
     },
     "metadata": {
      "needs_background": "light"
     },
     "output_type": "display_data"
    }
   ],
   "source": [
    "resumen_dias_code.plot.bar(figsize=(10,5))"
   ]
  },
  {
   "cell_type": "markdown",
   "id": "be45406a",
   "metadata": {},
   "source": [
    "### Frecuencia Ocurrencia"
   ]
  },
  {
   "cell_type": "code",
   "execution_count": 72,
   "id": "7b0c31c9",
   "metadata": {
    "scrolled": true
   },
   "outputs": [
    {
     "data": {
      "text/html": [
       "<div>\n",
       "<style scoped>\n",
       "    .dataframe tbody tr th:only-of-type {\n",
       "        vertical-align: middle;\n",
       "    }\n",
       "\n",
       "    .dataframe tbody tr th {\n",
       "        vertical-align: top;\n",
       "    }\n",
       "\n",
       "    .dataframe thead th {\n",
       "        text-align: right;\n",
       "    }\n",
       "</style>\n",
       "<table border=\"1\" class=\"dataframe\">\n",
       "  <thead>\n",
       "    <tr style=\"text-align: right;\">\n",
       "      <th></th>\n",
       "      <th>dias_inter_event</th>\n",
       "    </tr>\n",
       "    <tr>\n",
       "      <th>code</th>\n",
       "      <th></th>\n",
       "    </tr>\n",
       "  </thead>\n",
       "  <tbody>\n",
       "    <tr>\n",
       "      <th>1</th>\n",
       "      <td>5.0</td>\n",
       "    </tr>\n",
       "    <tr>\n",
       "      <th>827</th>\n",
       "      <td>4.0</td>\n",
       "    </tr>\n",
       "    <tr>\n",
       "      <th>969</th>\n",
       "      <td>4.0</td>\n",
       "    </tr>\n",
       "    <tr>\n",
       "      <th>9334</th>\n",
       "      <td>4.0</td>\n",
       "    </tr>\n",
       "    <tr>\n",
       "      <th>9332</th>\n",
       "      <td>4.0</td>\n",
       "    </tr>\n",
       "    <tr>\n",
       "      <th>3211</th>\n",
       "      <td>3.5</td>\n",
       "    </tr>\n",
       "    <tr>\n",
       "      <th>9333</th>\n",
       "      <td>3.0</td>\n",
       "    </tr>\n",
       "    <tr>\n",
       "      <th>891</th>\n",
       "      <td>3.0</td>\n",
       "    </tr>\n",
       "    <tr>\n",
       "      <th>904</th>\n",
       "      <td>3.0</td>\n",
       "    </tr>\n",
       "    <tr>\n",
       "      <th>913</th>\n",
       "      <td>3.0</td>\n",
       "    </tr>\n",
       "    <tr>\n",
       "      <th>761</th>\n",
       "      <td>3.0</td>\n",
       "    </tr>\n",
       "    <tr>\n",
       "      <th>751</th>\n",
       "      <td>3.0</td>\n",
       "    </tr>\n",
       "    <tr>\n",
       "      <th>4943</th>\n",
       "      <td>3.0</td>\n",
       "    </tr>\n",
       "    <tr>\n",
       "      <th>4</th>\n",
       "      <td>3.0</td>\n",
       "    </tr>\n",
       "    <tr>\n",
       "      <th>894</th>\n",
       "      <td>3.0</td>\n",
       "    </tr>\n",
       "    <tr>\n",
       "      <th>3229</th>\n",
       "      <td>3.0</td>\n",
       "    </tr>\n",
       "    <tr>\n",
       "      <th>3151</th>\n",
       "      <td>3.0</td>\n",
       "    </tr>\n",
       "    <tr>\n",
       "      <th>2793</th>\n",
       "      <td>3.0</td>\n",
       "    </tr>\n",
       "    <tr>\n",
       "      <th>2</th>\n",
       "      <td>3.0</td>\n",
       "    </tr>\n",
       "    <tr>\n",
       "      <th>13</th>\n",
       "      <td>3.0</td>\n",
       "    </tr>\n",
       "    <tr>\n",
       "      <th>975</th>\n",
       "      <td>3.0</td>\n",
       "    </tr>\n",
       "    <tr>\n",
       "      <th>893</th>\n",
       "      <td>3.0</td>\n",
       "    </tr>\n",
       "    <tr>\n",
       "      <th>949</th>\n",
       "      <td>2.0</td>\n",
       "    </tr>\n",
       "    <tr>\n",
       "      <th>9100</th>\n",
       "      <td>2.0</td>\n",
       "    </tr>\n",
       "    <tr>\n",
       "      <th>895</th>\n",
       "      <td>2.0</td>\n",
       "    </tr>\n",
       "    <tr>\n",
       "      <th>81</th>\n",
       "      <td>2.0</td>\n",
       "    </tr>\n",
       "    <tr>\n",
       "      <th>8469</th>\n",
       "      <td>2.0</td>\n",
       "    </tr>\n",
       "    <tr>\n",
       "      <th>839</th>\n",
       "      <td>2.0</td>\n",
       "    </tr>\n",
       "    <tr>\n",
       "      <th>833</th>\n",
       "      <td>2.0</td>\n",
       "    </tr>\n",
       "    <tr>\n",
       "      <th>1012</th>\n",
       "      <td>2.0</td>\n",
       "    </tr>\n",
       "    <tr>\n",
       "      <th>4656</th>\n",
       "      <td>2.0</td>\n",
       "    </tr>\n",
       "    <tr>\n",
       "      <th>411</th>\n",
       "      <td>2.0</td>\n",
       "    </tr>\n",
       "    <tr>\n",
       "      <th>3304</th>\n",
       "      <td>2.0</td>\n",
       "    </tr>\n",
       "    <tr>\n",
       "      <th>3142</th>\n",
       "      <td>2.0</td>\n",
       "    </tr>\n",
       "    <tr>\n",
       "      <th>2934</th>\n",
       "      <td>2.0</td>\n",
       "    </tr>\n",
       "    <tr>\n",
       "      <th>12</th>\n",
       "      <td>2.0</td>\n",
       "    </tr>\n",
       "    <tr>\n",
       "      <th>981</th>\n",
       "      <td>2.0</td>\n",
       "    </tr>\n",
       "  </tbody>\n",
       "</table>\n",
       "</div>"
      ],
      "text/plain": [
       "      dias_inter_event\n",
       "code                  \n",
       "1     5.0             \n",
       "827   4.0             \n",
       "969   4.0             \n",
       "9334  4.0             \n",
       "9332  4.0             \n",
       "3211  3.5             \n",
       "9333  3.0             \n",
       "891   3.0             \n",
       "904   3.0             \n",
       "913   3.0             \n",
       "761   3.0             \n",
       "751   3.0             \n",
       "4943  3.0             \n",
       "4     3.0             \n",
       "894   3.0             \n",
       "3229  3.0             \n",
       "3151  3.0             \n",
       "2793  3.0             \n",
       "2     3.0             \n",
       "13    3.0             \n",
       "975   3.0             \n",
       "893   3.0             \n",
       "949   2.0             \n",
       "9100  2.0             \n",
       "895   2.0             \n",
       "81    2.0             \n",
       "8469  2.0             \n",
       "839   2.0             \n",
       "833   2.0             \n",
       "1012  2.0             \n",
       "4656  2.0             \n",
       "411   2.0             \n",
       "3304  2.0             \n",
       "3142  2.0             \n",
       "2934  2.0             \n",
       "12    2.0             \n",
       "981   2.0             "
      ]
     },
     "execution_count": 72,
     "metadata": {},
     "output_type": "execute_result"
    }
   ],
   "source": [
    "frecuencia_median_code=resumenSeries_un_nonZero[resumenSeries_un_nonZero['dias_inter_event']>1].groupby('code')[['dias_inter_event']].median()\n",
    "frecuencia_median_code=frecuencia_median_code.sort_values('dias_inter_event',ascending=False)\n",
    "frecuencia_median_code"
   ]
  },
  {
   "cell_type": "code",
   "execution_count": 73,
   "id": "ce087946",
   "metadata": {},
   "outputs": [
    {
     "data": {
      "text/plain": [
       "<AxesSubplot:xlabel='code'>"
      ]
     },
     "execution_count": 73,
     "metadata": {},
     "output_type": "execute_result"
    },
    {
     "data": {
      "image/png": "[encoded data removed]",
      "text/plain": [
       "<Figure size 720x360 with 1 Axes>"
      ]
     },
     "metadata": {
      "needs_background": "light"
     },
     "output_type": "display_data"
    }
   ],
   "source": [
    "frecuencia_median_code.plot.bar(figsize=(10,5))"
   ]
  },
  {
   "cell_type": "code",
   "execution_count": 74,
   "id": "1cf8e0e7",
   "metadata": {},
   "outputs": [
    {
     "data": {
      "text/plain": [
       "<AxesSubplot:title={'center':'dias_inter_event'}, xlabel='[code]'>"
      ]
     },
     "execution_count": 74,
     "metadata": {},
     "output_type": "execute_result"
    },
    {
     "data": {
      "image/png": "[encoded data removed]",
      "text/plain": [
       "<Figure size 1440x360 with 1 Axes>"
      ]
     },
     "metadata": {
      "needs_background": "light"
     },
     "output_type": "display_data"
    }
   ],
   "source": [
    "resumenSeries_un_nonZero[resumenSeries_un_nonZero['dias_inter_event']>1][['code','dias_inter_event']].boxplot(by=['code'],figsize=(20,5), grid=False, rot=45)"
   ]
  },
  {
   "cell_type": "code",
   "execution_count": 75,
   "id": "fb12eb18",
   "metadata": {},
   "outputs": [
    {
     "data": {
      "text/html": [
       "<div>\n",
       "<style scoped>\n",
       "    .dataframe tbody tr th:only-of-type {\n",
       "        vertical-align: middle;\n",
       "    }\n",
       "\n",
       "    .dataframe tbody tr th {\n",
       "        vertical-align: top;\n",
       "    }\n",
       "\n",
       "    .dataframe thead th {\n",
       "        text-align: right;\n",
       "    }\n",
       "</style>\n",
       "<table border=\"1\" class=\"dataframe\">\n",
       "  <thead>\n",
       "    <tr style=\"text-align: right;\">\n",
       "      <th></th>\n",
       "      <th>index</th>\n",
       "      <th>fecha</th>\n",
       "      <th>key</th>\n",
       "      <th>SEVERITY</th>\n",
       "      <th>sig_event</th>\n",
       "      <th>dias_inter_event</th>\n",
       "      <th>NODO</th>\n",
       "      <th>code</th>\n",
       "    </tr>\n",
       "  </thead>\n",
       "  <tbody>\n",
       "    <tr>\n",
       "      <th>41426</th>\n",
       "      <td>228508</td>\n",
       "      <td>2022-02-16</td>\n",
       "      <td>NODO 055,552D,553D,554D.---3160</td>\n",
       "      <td>1.0</td>\n",
       "      <td>NaN</td>\n",
       "      <td>NaN</td>\n",
       "      <td>NODO 055,552D,553D,554D.</td>\n",
       "      <td>3160</td>\n",
       "    </tr>\n",
       "    <tr>\n",
       "      <th>41475</th>\n",
       "      <td>228765</td>\n",
       "      <td>2022-02-13</td>\n",
       "      <td>NODO 34A1,34A12D,34A13D,34A14D.---3160</td>\n",
       "      <td>5.0</td>\n",
       "      <td>NaN</td>\n",
       "      <td>NaN</td>\n",
       "      <td>NODO 34A1,34A12D,34A13D,34A14D.</td>\n",
       "      <td>3160</td>\n",
       "    </tr>\n",
       "    <tr>\n",
       "      <th>41477</th>\n",
       "      <td>228783</td>\n",
       "      <td>2022-02-11</td>\n",
       "      <td>NODO 3801,38012D,38013D,38014D.---3160</td>\n",
       "      <td>5.0</td>\n",
       "      <td>NaN</td>\n",
       "      <td>NaN</td>\n",
       "      <td>NODO 3801,38012D,38013D,38014D.</td>\n",
       "      <td>3160</td>\n",
       "    </tr>\n",
       "    <tr>\n",
       "      <th>41519</th>\n",
       "      <td>228917</td>\n",
       "      <td>2022-02-15</td>\n",
       "      <td>NODO 50B,50B2D,50B3D,50B4D.---3160</td>\n",
       "      <td>1.0</td>\n",
       "      <td>NaN</td>\n",
       "      <td>NaN</td>\n",
       "      <td>NODO 50B,50B2D,50B3D,50B4D.</td>\n",
       "      <td>3160</td>\n",
       "    </tr>\n",
       "    <tr>\n",
       "      <th>41640</th>\n",
       "      <td>229272</td>\n",
       "      <td>2022-02-10</td>\n",
       "      <td>NODO BJ1,BJ12D,BJ13D,BJ14D.---3160</td>\n",
       "      <td>5.0</td>\n",
       "      <td>NaN</td>\n",
       "      <td>NaN</td>\n",
       "      <td>NODO BJ1,BJ12D,BJ13D,BJ14D.</td>\n",
       "      <td>3160</td>\n",
       "    </tr>\n",
       "    <tr>\n",
       "      <th>41792</th>\n",
       "      <td>229916</td>\n",
       "      <td>2022-02-14</td>\n",
       "      <td>NODO FG2,FG22D,FG23D,FG24D.---3160</td>\n",
       "      <td>1.0</td>\n",
       "      <td>NaN</td>\n",
       "      <td>NaN</td>\n",
       "      <td>NODO FG2,FG22D,FG23D,FG24D.</td>\n",
       "      <td>3160</td>\n",
       "    </tr>\n",
       "    <tr>\n",
       "      <th>41831</th>\n",
       "      <td>230067</td>\n",
       "      <td>2022-02-15</td>\n",
       "      <td>NODO GH1,GH12D,GH13D,GH14D.---3160</td>\n",
       "      <td>1.0</td>\n",
       "      <td>NaN</td>\n",
       "      <td>NaN</td>\n",
       "      <td>NODO GH1,GH12D,GH13D,GH14D.</td>\n",
       "      <td>3160</td>\n",
       "    </tr>\n",
       "    <tr>\n",
       "      <th>41895</th>\n",
       "      <td>230418</td>\n",
       "      <td>2022-02-16</td>\n",
       "      <td>NODO LRO2,LRO22D,LRO23D,LRO24D.---3160</td>\n",
       "      <td>5.0</td>\n",
       "      <td>NaN</td>\n",
       "      <td>NaN</td>\n",
       "      <td>NODO LRO2,LRO22D,LRO23D,LRO24D.</td>\n",
       "      <td>3160</td>\n",
       "    </tr>\n",
       "    <tr>\n",
       "      <th>41902</th>\n",
       "      <td>230485</td>\n",
       "      <td>2022-02-13</td>\n",
       "      <td>NODO MAA. - MIRADOR DE ALAMEDA---3160</td>\n",
       "      <td>1.0</td>\n",
       "      <td>NaN</td>\n",
       "      <td>NaN</td>\n",
       "      <td>NODO MAA. - MIRADOR DE ALAMEDA</td>\n",
       "      <td>3160</td>\n",
       "    </tr>\n",
       "    <tr>\n",
       "      <th>42093</th>\n",
       "      <td>231200</td>\n",
       "      <td>2022-02-08</td>\n",
       "      <td>NODO SFT1,SFT12D,SFT13D,SFT14D.---3160</td>\n",
       "      <td>1.0</td>\n",
       "      <td>NaN</td>\n",
       "      <td>NaN</td>\n",
       "      <td>NODO SFT1,SFT12D,SFT13D,SFT14D.</td>\n",
       "      <td>3160</td>\n",
       "    </tr>\n",
       "    <tr>\n",
       "      <th>52378</th>\n",
       "      <td>277137</td>\n",
       "      <td>2022-02-15</td>\n",
       "      <td>SG4000 11EA51---3160</td>\n",
       "      <td>5.0</td>\n",
       "      <td>NaN</td>\n",
       "      <td>NaN</td>\n",
       "      <td>SG4000 11EA51</td>\n",
       "      <td>3160</td>\n",
       "    </tr>\n",
       "    <tr>\n",
       "      <th>52401</th>\n",
       "      <td>277310</td>\n",
       "      <td>2022-02-08</td>\n",
       "      <td>SG4000 19D25D---3160</td>\n",
       "      <td>5.0</td>\n",
       "      <td>NaN</td>\n",
       "      <td>NaN</td>\n",
       "      <td>SG4000 19D25D</td>\n",
       "      <td>3160</td>\n",
       "    </tr>\n",
       "  </tbody>\n",
       "</table>\n",
       "</div>"
      ],
      "text/plain": [
       "        index       fecha                                     key  SEVERITY  \\\n",
       "41426  228508  2022-02-16  NODO 055,552D,553D,554D.---3160         1.0        \n",
       "41475  228765  2022-02-13  NODO 34A1,34A12D,34A13D,34A14D.---3160  5.0        \n",
       "41477  228783  2022-02-11  NODO 3801,38012D,38013D,38014D.---3160  5.0        \n",
       "41519  228917  2022-02-15  NODO 50B,50B2D,50B3D,50B4D.---3160      1.0        \n",
       "41640  229272  2022-02-10  NODO BJ1,BJ12D,BJ13D,BJ14D.---3160      5.0        \n",
       "41792  229916  2022-02-14  NODO FG2,FG22D,FG23D,FG24D.---3160      1.0        \n",
       "41831  230067  2022-02-15  NODO GH1,GH12D,GH13D,GH14D.---3160      1.0        \n",
       "41895  230418  2022-02-16  NODO LRO2,LRO22D,LRO23D,LRO24D.---3160  5.0        \n",
       "41902  230485  2022-02-13  NODO MAA. - MIRADOR DE ALAMEDA---3160   1.0        \n",
       "42093  231200  2022-02-08  NODO SFT1,SFT12D,SFT13D,SFT14D.---3160  1.0        \n",
       "52378  277137  2022-02-15  SG4000 11EA51---3160                    5.0        \n",
       "52401  277310  2022-02-08  SG4000 19D25D---3160                    5.0        \n",
       "\n",
       "       sig_event  dias_inter_event                             NODO  code  \n",
       "41426 NaN        NaN                NODO 055,552D,553D,554D.         3160  \n",
       "41475 NaN        NaN                NODO 34A1,34A12D,34A13D,34A14D.  3160  \n",
       "41477 NaN        NaN                NODO 3801,38012D,38013D,38014D.  3160  \n",
       "41519 NaN        NaN                NODO 50B,50B2D,50B3D,50B4D.      3160  \n",
       "41640 NaN        NaN                NODO BJ1,BJ12D,BJ13D,BJ14D.      3160  \n",
       "41792 NaN        NaN                NODO FG2,FG22D,FG23D,FG24D.      3160  \n",
       "41831 NaN        NaN                NODO GH1,GH12D,GH13D,GH14D.      3160  \n",
       "41895 NaN        NaN                NODO LRO2,LRO22D,LRO23D,LRO24D.  3160  \n",
       "41902 NaN        NaN                NODO MAA. - MIRADOR DE ALAMEDA   3160  \n",
       "42093 NaN        NaN                NODO SFT1,SFT12D,SFT13D,SFT14D.  3160  \n",
       "52378 NaN        NaN                SG4000 11EA51                    3160  \n",
       "52401 NaN        NaN                SG4000 19D25D                    3160  "
      ]
     },
     "execution_count": 75,
     "metadata": {},
     "output_type": "execute_result"
    }
   ],
   "source": [
    "resumenSeries_un_nonZero[resumenSeries_un_nonZero['code']=='3160']"
   ]
  },
  {
   "cell_type": "markdown",
   "id": "20e5e413",
   "metadata": {},
   "source": [
    "# Modelado"
   ]
  },
  {
   "cell_type": "markdown",
   "id": "654a9b26",
   "metadata": {},
   "source": [
    "# Preparación input\n",
    "* Etiquetas\n",
    "* Distancias"
   ]
  },
  {
   "cell_type": "code",
   "execution_count": 76,
   "id": "e181c606",
   "metadata": {},
   "outputs": [],
   "source": [
    "resumenSeries_un[['NODO','code']] = resumenSeries_un['key'].str.split('---',expand=True)"
   ]
  },
  {
   "cell_type": "markdown",
   "id": "bd92826a",
   "metadata": {},
   "source": [
    "#### Etiquetas"
   ]
  },
  {
   "cell_type": "code",
   "execution_count": 77,
   "id": "5aaf6fc3",
   "metadata": {},
   "outputs": [
    {
     "data": {
      "text/plain": [
       "datetime.date(2022, 2, 17)"
      ]
     },
     "execution_count": 77,
     "metadata": {},
     "output_type": "execute_result"
    }
   ],
   "source": [
    "max_fecha"
   ]
  },
  {
   "cell_type": "code",
   "execution_count": 78,
   "id": "221d8612",
   "metadata": {},
   "outputs": [
    {
     "data": {
      "text/plain": [
       "datetime.date(2022, 2, 15)"
      ]
     },
     "execution_count": 78,
     "metadata": {},
     "output_type": "execute_result"
    }
   ],
   "source": [
    "fecha_ini_etiqueta=max_fecha - timedelta(days=p_diasEtiqueta-1)\n",
    "fecha_ini_etiqueta"
   ]
  },
  {
   "cell_type": "code",
   "execution_count": 79,
   "id": "a051ebe6",
   "metadata": {
    "scrolled": true
   },
   "outputs": [
    {
     "data": {
      "text/html": [
       "<div>\n",
       "<style scoped>\n",
       "    .dataframe tbody tr th:only-of-type {\n",
       "        vertical-align: middle;\n",
       "    }\n",
       "\n",
       "    .dataframe tbody tr th {\n",
       "        vertical-align: top;\n",
       "    }\n",
       "\n",
       "    .dataframe thead th {\n",
       "        text-align: right;\n",
       "    }\n",
       "</style>\n",
       "<table border=\"1\" class=\"dataframe\">\n",
       "  <thead>\n",
       "    <tr style=\"text-align: right;\">\n",
       "      <th></th>\n",
       "      <th>SEVERITY</th>\n",
       "      <th>output</th>\n",
       "    </tr>\n",
       "    <tr>\n",
       "      <th>key</th>\n",
       "      <th></th>\n",
       "      <th></th>\n",
       "    </tr>\n",
       "  </thead>\n",
       "  <tbody>\n",
       "    <tr>\n",
       "      <th>- CAMPO AZUL---3229</th>\n",
       "      <td>1.0</td>\n",
       "      <td>1</td>\n",
       "    </tr>\n",
       "    <tr>\n",
       "      <th>001AC3FF5272---2934</th>\n",
       "      <td>12.0</td>\n",
       "      <td>1</td>\n",
       "    </tr>\n",
       "    <tr>\n",
       "      <th>012---1012</th>\n",
       "      <td>6.0</td>\n",
       "      <td>1</td>\n",
       "    </tr>\n",
       "    <tr>\n",
       "      <th>015---1012</th>\n",
       "      <td>0.0</td>\n",
       "      <td>0</td>\n",
       "    </tr>\n",
       "    <tr>\n",
       "      <th>01S---761</th>\n",
       "      <td>5.0</td>\n",
       "      <td>1</td>\n",
       "    </tr>\n",
       "    <tr>\n",
       "      <th>...</th>\n",
       "      <td>...</td>\n",
       "      <td>...</td>\n",
       "    </tr>\n",
       "    <tr>\n",
       "      <th>ZVZ---904</th>\n",
       "      <td>0.0</td>\n",
       "      <td>0</td>\n",
       "    </tr>\n",
       "    <tr>\n",
       "      <th>ZVZ---913</th>\n",
       "      <td>0.0</td>\n",
       "      <td>0</td>\n",
       "    </tr>\n",
       "    <tr>\n",
       "      <th>ZVZ---9332</th>\n",
       "      <td>0.0</td>\n",
       "      <td>0</td>\n",
       "    </tr>\n",
       "    <tr>\n",
       "      <th>ZVZ---969</th>\n",
       "      <td>0.0</td>\n",
       "      <td>0</td>\n",
       "    </tr>\n",
       "    <tr>\n",
       "      <th>ZVZ---975</th>\n",
       "      <td>0.0</td>\n",
       "      <td>0</td>\n",
       "    </tr>\n",
       "  </tbody>\n",
       "</table>\n",
       "<p>33129 rows × 2 columns</p>\n",
       "</div>"
      ],
      "text/plain": [
       "                     SEVERITY  output\n",
       "key                                  \n",
       "- CAMPO AZUL---3229  1.0       1     \n",
       "001AC3FF5272---2934  12.0      1     \n",
       "012---1012           6.0       1     \n",
       "015---1012           0.0       0     \n",
       "01S---761            5.0       1     \n",
       "...                  ...      ..     \n",
       "ZVZ---904            0.0       0     \n",
       "ZVZ---913            0.0       0     \n",
       "ZVZ---9332           0.0       0     \n",
       "ZVZ---969            0.0       0     \n",
       "ZVZ---975            0.0       0     \n",
       "\n",
       "[33129 rows x 2 columns]"
      ]
     },
     "execution_count": 79,
     "metadata": {},
     "output_type": "execute_result"
    }
   ],
   "source": [
    "df_etiquetas=resumenSeries_un[resumenSeries_un.index>=fecha_ini_etiqueta][['key','SEVERITY']].groupby('key').sum()\n",
    "df_etiquetas['output']=np.where(df_etiquetas['SEVERITY']>0,1,0)\n",
    "df_etiquetas"
   ]
  },
  {
   "cell_type": "markdown",
   "id": "2043b841",
   "metadata": {},
   "source": [
    "### Distancias"
   ]
  },
  {
   "cell_type": "code",
   "execution_count": 80,
   "id": "d5a3eab5",
   "metadata": {
    "scrolled": true
   },
   "outputs": [],
   "source": [
    "df_base=resumenSeries_un[resumenSeries_un.index<fecha_ini_etiqueta]"
   ]
  },
  {
   "cell_type": "code",
   "execution_count": 81,
   "id": "edce5e24",
   "metadata": {},
   "outputs": [],
   "source": [
    "df_base=df_base.reset_index()\n",
    "df_distancias_nz=df_base[df_base['SEVERITY']!=0].reset_index()\n",
    "df_distancias_nz['sig_event']=df_distancias_nz.groupby('key')['index'].shift(periods=-1)\n",
    "df_distancias_nz['dias_inter_event']=df_distancias_nz['sig_event']-df_distancias_nz['index']"
   ]
  },
  {
   "cell_type": "code",
   "execution_count": 82,
   "id": "c5f84c96",
   "metadata": {},
   "outputs": [],
   "source": [
    "distancias_df=df_distancias_nz[df_distancias_nz['dias_inter_event']>1]"
   ]
  },
  {
   "cell_type": "code",
   "execution_count": 83,
   "id": "a9b79a8c",
   "metadata": {},
   "outputs": [],
   "source": [
    "## contar\n",
    "distancias_df=distancias_df.sort_values(['key','fecha'],ascending=False)"
   ]
  },
  {
   "cell_type": "code",
   "execution_count": 84,
   "id": "d12991df",
   "metadata": {},
   "outputs": [],
   "source": [
    "distancias_df.drop(columns=['index','sig_event'],inplace=True)"
   ]
  },
  {
   "cell_type": "code",
   "execution_count": 85,
   "id": "fdf620c2",
   "metadata": {},
   "outputs": [
    {
     "data": {
      "text/html": [
       "<div>\n",
       "<style scoped>\n",
       "    .dataframe tbody tr th:only-of-type {\n",
       "        vertical-align: middle;\n",
       "    }\n",
       "\n",
       "    .dataframe tbody tr th {\n",
       "        vertical-align: top;\n",
       "    }\n",
       "\n",
       "    .dataframe thead th {\n",
       "        text-align: right;\n",
       "    }\n",
       "</style>\n",
       "<table border=\"1\" class=\"dataframe\">\n",
       "  <thead>\n",
       "    <tr style=\"text-align: right;\">\n",
       "      <th></th>\n",
       "      <th>index</th>\n",
       "      <th>fecha</th>\n",
       "      <th>key</th>\n",
       "      <th>SEVERITY</th>\n",
       "      <th>NODO</th>\n",
       "      <th>code</th>\n",
       "      <th>dias_inter_event</th>\n",
       "    </tr>\n",
       "  </thead>\n",
       "  <tbody>\n",
       "    <tr>\n",
       "      <th>0</th>\n",
       "      <td>0</td>\n",
       "      <td>2022-02-08</td>\n",
       "      <td>ZUP---9334</td>\n",
       "      <td>1.0</td>\n",
       "      <td>ZUP</td>\n",
       "      <td>9334</td>\n",
       "      <td>2.0</td>\n",
       "    </tr>\n",
       "    <tr>\n",
       "      <th>1</th>\n",
       "      <td>1</td>\n",
       "      <td>2022-02-08</td>\n",
       "      <td>ZUP---827</td>\n",
       "      <td>1.0</td>\n",
       "      <td>ZUP</td>\n",
       "      <td>827</td>\n",
       "      <td>2.0</td>\n",
       "    </tr>\n",
       "    <tr>\n",
       "      <th>2</th>\n",
       "      <td>2</td>\n",
       "      <td>2022-02-08</td>\n",
       "      <td>ZTF---9334</td>\n",
       "      <td>4.0</td>\n",
       "      <td>ZTF</td>\n",
       "      <td>9334</td>\n",
       "      <td>2.0</td>\n",
       "    </tr>\n",
       "    <tr>\n",
       "      <th>3</th>\n",
       "      <td>3</td>\n",
       "      <td>2022-02-09</td>\n",
       "      <td>ZOV---9334</td>\n",
       "      <td>4.0</td>\n",
       "      <td>ZOV</td>\n",
       "      <td>9334</td>\n",
       "      <td>4.0</td>\n",
       "    </tr>\n",
       "    <tr>\n",
       "      <th>4</th>\n",
       "      <td>4</td>\n",
       "      <td>2022-02-09</td>\n",
       "      <td>ZOV---893</td>\n",
       "      <td>1.0</td>\n",
       "      <td>ZOV</td>\n",
       "      <td>893</td>\n",
       "      <td>4.0</td>\n",
       "    </tr>\n",
       "    <tr>\n",
       "      <th>...</th>\n",
       "      <td>...</td>\n",
       "      <td>...</td>\n",
       "      <td>...</td>\n",
       "      <td>...</td>\n",
       "      <td>...</td>\n",
       "      <td>...</td>\n",
       "      <td>...</td>\n",
       "    </tr>\n",
       "    <tr>\n",
       "      <th>3907</th>\n",
       "      <td>3907</td>\n",
       "      <td>2022-02-10</td>\n",
       "      <td>02J---9332</td>\n",
       "      <td>4.0</td>\n",
       "      <td>02J</td>\n",
       "      <td>9332</td>\n",
       "      <td>3.0</td>\n",
       "    </tr>\n",
       "    <tr>\n",
       "      <th>3908</th>\n",
       "      <td>3908</td>\n",
       "      <td>2022-02-08</td>\n",
       "      <td>01S---893</td>\n",
       "      <td>1.0</td>\n",
       "      <td>01S</td>\n",
       "      <td>893</td>\n",
       "      <td>3.0</td>\n",
       "    </tr>\n",
       "    <tr>\n",
       "      <th>3909</th>\n",
       "      <td>3909</td>\n",
       "      <td>2022-02-08</td>\n",
       "      <td>01S---827</td>\n",
       "      <td>1.0</td>\n",
       "      <td>01S</td>\n",
       "      <td>827</td>\n",
       "      <td>3.0</td>\n",
       "    </tr>\n",
       "    <tr>\n",
       "      <th>3910</th>\n",
       "      <td>3910</td>\n",
       "      <td>2022-02-11</td>\n",
       "      <td>01S---761</td>\n",
       "      <td>1.0</td>\n",
       "      <td>01S</td>\n",
       "      <td>761</td>\n",
       "      <td>2.0</td>\n",
       "    </tr>\n",
       "    <tr>\n",
       "      <th>3911</th>\n",
       "      <td>3911</td>\n",
       "      <td>2022-02-08</td>\n",
       "      <td>01S---761</td>\n",
       "      <td>1.0</td>\n",
       "      <td>01S</td>\n",
       "      <td>761</td>\n",
       "      <td>2.0</td>\n",
       "    </tr>\n",
       "  </tbody>\n",
       "</table>\n",
       "<p>3912 rows × 7 columns</p>\n",
       "</div>"
      ],
      "text/plain": [
       "      index       fecha         key  SEVERITY NODO  code  dias_inter_event\n",
       "0     0      2022-02-08  ZUP---9334  1.0       ZUP  9334  2.0             \n",
       "1     1      2022-02-08  ZUP---827   1.0       ZUP  827   2.0             \n",
       "2     2      2022-02-08  ZTF---9334  4.0       ZTF  9334  2.0             \n",
       "3     3      2022-02-09  ZOV---9334  4.0       ZOV  9334  4.0             \n",
       "4     4      2022-02-09  ZOV---893   1.0       ZOV  893   4.0             \n",
       "...  ..             ...        ...   ...       ...  ...   ...             \n",
       "3907  3907   2022-02-10  02J---9332  4.0       02J  9332  3.0             \n",
       "3908  3908   2022-02-08  01S---893   1.0       01S  893   3.0             \n",
       "3909  3909   2022-02-08  01S---827   1.0       01S  827   3.0             \n",
       "3910  3910   2022-02-11  01S---761   1.0       01S  761   2.0             \n",
       "3911  3911   2022-02-08  01S---761   1.0       01S  761   2.0             \n",
       "\n",
       "[3912 rows x 7 columns]"
      ]
     },
     "execution_count": 85,
     "metadata": {},
     "output_type": "execute_result"
    }
   ],
   "source": [
    "distancias_df.reset_index(drop=True).reset_index()"
   ]
  },
  {
   "cell_type": "code",
   "execution_count": 86,
   "id": "b532ecad",
   "metadata": {
    "scrolled": true
   },
   "outputs": [],
   "source": [
    "X_df=resumenSeries_un[['key','NODO','code']].drop_duplicates()\n",
    "X_df.set_index('key',inplace=True)"
   ]
  },
  {
   "cell_type": "code",
   "execution_count": 87,
   "id": "505f546f",
   "metadata": {
    "scrolled": true
   },
   "outputs": [
    {
     "data": {
      "text/plain": [
       "9332    5765\n",
       "969     5283\n",
       "1012    3696\n",
       "9334    2750\n",
       "827     2494\n",
       "904     2382\n",
       "891     1800\n",
       "913     1467\n",
       "894     1236\n",
       "975     1209\n",
       "761     1180\n",
       "2934    579 \n",
       "893     511 \n",
       "833     489 \n",
       "9333    384 \n",
       "3304    333 \n",
       "2       222 \n",
       "4       210 \n",
       "3229    198 \n",
       "895     155 \n",
       "981     140 \n",
       "2793    123 \n",
       "751     116 \n",
       "949     87  \n",
       "839     75  \n",
       "12      47  \n",
       "13      43  \n",
       "1       42  \n",
       "3151    20  \n",
       "411     16  \n",
       "3160    12  \n",
       "429     11  \n",
       "81      11  \n",
       "4943    9   \n",
       "3142    8   \n",
       "3211    7   \n",
       "402     6   \n",
       "4656    4   \n",
       "9080    3   \n",
       "9100    2   \n",
       "8469    2   \n",
       "9107    1   \n",
       "8466    1   \n",
       "Name: code, dtype: int64"
      ]
     },
     "execution_count": 87,
     "metadata": {},
     "output_type": "execute_result"
    }
   ],
   "source": [
    "#Conteo C{odigos\n",
    "X_df['code'].value_counts()"
   ]
  },
  {
   "cell_type": "code",
   "execution_count": 88,
   "id": "a8b49740",
   "metadata": {},
   "outputs": [
    {
     "name": "stdout",
     "output_type": "stream",
     "text": [
      "0\n",
      "1\n",
      "2\n",
      "3\n",
      "4\n"
     ]
    }
   ],
   "source": [
    "for i in range(0,p_numeroEventos_historia):\n",
    "    print(i)\n",
    "    aux_df=distancias_df.groupby(['key']).nth(i)[['dias_inter_event']]\n",
    "    aux_df.columns=[i]\n",
    "    X_df=X_df.merge(aux_df[[i]], left_index=True, right_index=True, how='left')    "
   ]
  },
  {
   "cell_type": "markdown",
   "id": "0bbc989c",
   "metadata": {},
   "source": [
    "## Dias desde el último evento"
   ]
  },
  {
   "cell_type": "code",
   "execution_count": 89,
   "id": "48e068e5",
   "metadata": {},
   "outputs": [],
   "source": [
    "df_base=resumenSeries[resumenSeries['fecha']<fecha_ini_etiqueta]"
   ]
  },
  {
   "cell_type": "code",
   "execution_count": 90,
   "id": "1b326d07",
   "metadata": {},
   "outputs": [],
   "source": [
    "df_ultimo_dia=df_base.groupby('key')[['fecha']].max()"
   ]
  },
  {
   "cell_type": "code",
   "execution_count": 91,
   "id": "b906d8ae",
   "metadata": {},
   "outputs": [
    {
     "data": {
      "text/plain": [
       "fecha    object\n",
       "dtype: object"
      ]
     },
     "execution_count": 91,
     "metadata": {},
     "output_type": "execute_result"
    }
   ],
   "source": [
    "df_ultimo_dia.dtypes"
   ]
  },
  {
   "cell_type": "code",
   "execution_count": 92,
   "id": "daa295dd",
   "metadata": {},
   "outputs": [],
   "source": [
    "df_ultimo_dia['dias_ultimo_evento']=fecha_ini_etiqueta-df_ultimo_dia['fecha']"
   ]
  },
  {
   "cell_type": "code",
   "execution_count": 93,
   "id": "d540108b",
   "metadata": {},
   "outputs": [],
   "source": [
    "df_ultimo_dia['dias_ultimo_eventoV2']=df_ultimo_dia['dias_ultimo_evento'].astype('timedelta64[D]')"
   ]
  },
  {
   "cell_type": "code",
   "execution_count": 94,
   "id": "60be2ea8",
   "metadata": {},
   "outputs": [
    {
     "data": {
      "text/plain": [
       "datetime.date(2022, 2, 14)"
      ]
     },
     "execution_count": 94,
     "metadata": {},
     "output_type": "execute_result"
    }
   ],
   "source": [
    "df_ultimo_dia['fecha'].max()"
   ]
  },
  {
   "cell_type": "markdown",
   "id": "5dbcae5b",
   "metadata": {},
   "source": [
    "## Construccion Tabla input"
   ]
  },
  {
   "cell_type": "code",
   "execution_count": 95,
   "id": "098a8355",
   "metadata": {},
   "outputs": [],
   "source": [
    "### Etiquetas\n",
    "X_df=X_df.merge(df_etiquetas[['output']], left_index=True, right_index=True, how='left')"
   ]
  },
  {
   "cell_type": "code",
   "execution_count": 96,
   "id": "4ae3ddfb",
   "metadata": {},
   "outputs": [],
   "source": [
    "X_df.fillna(0,inplace=True)"
   ]
  },
  {
   "cell_type": "code",
   "execution_count": 97,
   "id": "6b2a8ebc",
   "metadata": {},
   "outputs": [],
   "source": [
    "### Ultimo día\n",
    "X_df=X_df.merge(df_ultimo_dia[['dias_ultimo_eventoV2']], left_index=True, right_index=True, how='left')"
   ]
  },
  {
   "cell_type": "code",
   "execution_count": 98,
   "id": "614b352d",
   "metadata": {},
   "outputs": [],
   "source": [
    "X_df.fillna(1000,inplace=True)"
   ]
  },
  {
   "cell_type": "code",
   "execution_count": 99,
   "id": "22e85b6d",
   "metadata": {},
   "outputs": [
    {
     "data": {
      "text/html": [
       "<div>\n",
       "<style scoped>\n",
       "    .dataframe tbody tr th:only-of-type {\n",
       "        vertical-align: middle;\n",
       "    }\n",
       "\n",
       "    .dataframe tbody tr th {\n",
       "        vertical-align: top;\n",
       "    }\n",
       "\n",
       "    .dataframe thead th {\n",
       "        text-align: right;\n",
       "    }\n",
       "</style>\n",
       "<table border=\"1\" class=\"dataframe\">\n",
       "  <thead>\n",
       "    <tr style=\"text-align: right;\">\n",
       "      <th></th>\n",
       "      <th>NODO</th>\n",
       "      <th>code</th>\n",
       "      <th>0</th>\n",
       "      <th>1</th>\n",
       "      <th>2</th>\n",
       "      <th>3</th>\n",
       "      <th>4</th>\n",
       "      <th>output</th>\n",
       "      <th>dias_ultimo_eventoV2</th>\n",
       "    </tr>\n",
       "    <tr>\n",
       "      <th>key</th>\n",
       "      <th></th>\n",
       "      <th></th>\n",
       "      <th></th>\n",
       "      <th></th>\n",
       "      <th></th>\n",
       "      <th></th>\n",
       "      <th></th>\n",
       "      <th></th>\n",
       "      <th></th>\n",
       "    </tr>\n",
       "  </thead>\n",
       "  <tbody>\n",
       "    <tr>\n",
       "      <th>- CAMPO AZUL---3229</th>\n",
       "      <td>- CAMPO AZUL</td>\n",
       "      <td>3229</td>\n",
       "      <td>0.0</td>\n",
       "      <td>0.0</td>\n",
       "      <td>0.0</td>\n",
       "      <td>0.0</td>\n",
       "      <td>0.0</td>\n",
       "      <td>1</td>\n",
       "      <td>3.0</td>\n",
       "    </tr>\n",
       "    <tr>\n",
       "      <th>001AC3FF5272---2934</th>\n",
       "      <td>001AC3FF5272</td>\n",
       "      <td>2934</td>\n",
       "      <td>0.0</td>\n",
       "      <td>0.0</td>\n",
       "      <td>0.0</td>\n",
       "      <td>0.0</td>\n",
       "      <td>0.0</td>\n",
       "      <td>1</td>\n",
       "      <td>1000.0</td>\n",
       "    </tr>\n",
       "    <tr>\n",
       "      <th>012---1012</th>\n",
       "      <td>012</td>\n",
       "      <td>1012</td>\n",
       "      <td>0.0</td>\n",
       "      <td>0.0</td>\n",
       "      <td>0.0</td>\n",
       "      <td>0.0</td>\n",
       "      <td>0.0</td>\n",
       "      <td>1</td>\n",
       "      <td>1000.0</td>\n",
       "    </tr>\n",
       "    <tr>\n",
       "      <th>015---1012</th>\n",
       "      <td>015</td>\n",
       "      <td>1012</td>\n",
       "      <td>0.0</td>\n",
       "      <td>0.0</td>\n",
       "      <td>0.0</td>\n",
       "      <td>0.0</td>\n",
       "      <td>0.0</td>\n",
       "      <td>0</td>\n",
       "      <td>1.0</td>\n",
       "    </tr>\n",
       "    <tr>\n",
       "      <th>01S---761</th>\n",
       "      <td>01S</td>\n",
       "      <td>761</td>\n",
       "      <td>2.0</td>\n",
       "      <td>2.0</td>\n",
       "      <td>0.0</td>\n",
       "      <td>0.0</td>\n",
       "      <td>0.0</td>\n",
       "      <td>1</td>\n",
       "      <td>2.0</td>\n",
       "    </tr>\n",
       "    <tr>\n",
       "      <th>...</th>\n",
       "      <td>...</td>\n",
       "      <td>...</td>\n",
       "      <td>...</td>\n",
       "      <td>...</td>\n",
       "      <td>...</td>\n",
       "      <td>...</td>\n",
       "      <td>...</td>\n",
       "      <td>...</td>\n",
       "      <td>...</td>\n",
       "    </tr>\n",
       "    <tr>\n",
       "      <th>ZVZ---904</th>\n",
       "      <td>ZVZ</td>\n",
       "      <td>904</td>\n",
       "      <td>0.0</td>\n",
       "      <td>0.0</td>\n",
       "      <td>0.0</td>\n",
       "      <td>0.0</td>\n",
       "      <td>0.0</td>\n",
       "      <td>0</td>\n",
       "      <td>4.0</td>\n",
       "    </tr>\n",
       "    <tr>\n",
       "      <th>ZVZ---913</th>\n",
       "      <td>ZVZ</td>\n",
       "      <td>913</td>\n",
       "      <td>0.0</td>\n",
       "      <td>0.0</td>\n",
       "      <td>0.0</td>\n",
       "      <td>0.0</td>\n",
       "      <td>0.0</td>\n",
       "      <td>0</td>\n",
       "      <td>4.0</td>\n",
       "    </tr>\n",
       "    <tr>\n",
       "      <th>ZVZ---9332</th>\n",
       "      <td>ZVZ</td>\n",
       "      <td>9332</td>\n",
       "      <td>0.0</td>\n",
       "      <td>0.0</td>\n",
       "      <td>0.0</td>\n",
       "      <td>0.0</td>\n",
       "      <td>0.0</td>\n",
       "      <td>0</td>\n",
       "      <td>4.0</td>\n",
       "    </tr>\n",
       "    <tr>\n",
       "      <th>ZVZ---969</th>\n",
       "      <td>ZVZ</td>\n",
       "      <td>969</td>\n",
       "      <td>0.0</td>\n",
       "      <td>0.0</td>\n",
       "      <td>0.0</td>\n",
       "      <td>0.0</td>\n",
       "      <td>0.0</td>\n",
       "      <td>0</td>\n",
       "      <td>4.0</td>\n",
       "    </tr>\n",
       "    <tr>\n",
       "      <th>ZVZ---975</th>\n",
       "      <td>ZVZ</td>\n",
       "      <td>975</td>\n",
       "      <td>0.0</td>\n",
       "      <td>0.0</td>\n",
       "      <td>0.0</td>\n",
       "      <td>0.0</td>\n",
       "      <td>0.0</td>\n",
       "      <td>0</td>\n",
       "      <td>4.0</td>\n",
       "    </tr>\n",
       "  </tbody>\n",
       "</table>\n",
       "<p>33129 rows × 9 columns</p>\n",
       "</div>"
      ],
      "text/plain": [
       "                             NODO  code    0    1    2    3    4  output  \\\n",
       "key                                                                        \n",
       "- CAMPO AZUL---3229  - CAMPO AZUL  3229  0.0  0.0  0.0  0.0  0.0  1        \n",
       "001AC3FF5272---2934  001AC3FF5272  2934  0.0  0.0  0.0  0.0  0.0  1        \n",
       "012---1012           012           1012  0.0  0.0  0.0  0.0  0.0  1        \n",
       "015---1012           015           1012  0.0  0.0  0.0  0.0  0.0  0        \n",
       "01S---761            01S           761   2.0  2.0  0.0  0.0  0.0  1        \n",
       "...                  ...            ...  ...  ...  ...  ...  ... ..        \n",
       "ZVZ---904            ZVZ           904   0.0  0.0  0.0  0.0  0.0  0        \n",
       "ZVZ---913            ZVZ           913   0.0  0.0  0.0  0.0  0.0  0        \n",
       "ZVZ---9332           ZVZ           9332  0.0  0.0  0.0  0.0  0.0  0        \n",
       "ZVZ---969            ZVZ           969   0.0  0.0  0.0  0.0  0.0  0        \n",
       "ZVZ---975            ZVZ           975   0.0  0.0  0.0  0.0  0.0  0        \n",
       "\n",
       "                     dias_ultimo_eventoV2  \n",
       "key                                        \n",
       "- CAMPO AZUL---3229  3.0                   \n",
       "001AC3FF5272---2934  1000.0                \n",
       "012---1012           1000.0                \n",
       "015---1012           1.0                   \n",
       "01S---761            2.0                   \n",
       "...                  ...                   \n",
       "ZVZ---904            4.0                   \n",
       "ZVZ---913            4.0                   \n",
       "ZVZ---9332           4.0                   \n",
       "ZVZ---969            4.0                   \n",
       "ZVZ---975            4.0                   \n",
       "\n",
       "[33129 rows x 9 columns]"
      ]
     },
     "execution_count": 99,
     "metadata": {},
     "output_type": "execute_result"
    }
   ],
   "source": [
    "X_df"
   ]
  },
  {
   "cell_type": "code",
   "execution_count": 100,
   "id": "63dfe2ed",
   "metadata": {},
   "outputs": [
    {
     "data": {
      "text/html": [
       "<div>\n",
       "<style scoped>\n",
       "    .dataframe tbody tr th:only-of-type {\n",
       "        vertical-align: middle;\n",
       "    }\n",
       "\n",
       "    .dataframe tbody tr th {\n",
       "        vertical-align: top;\n",
       "    }\n",
       "\n",
       "    .dataframe thead th {\n",
       "        text-align: right;\n",
       "    }\n",
       "</style>\n",
       "<table border=\"1\" class=\"dataframe\">\n",
       "  <thead>\n",
       "    <tr style=\"text-align: right;\">\n",
       "      <th></th>\n",
       "      <th>0</th>\n",
       "      <th>1</th>\n",
       "      <th>2</th>\n",
       "      <th>3</th>\n",
       "      <th>4</th>\n",
       "      <th>output</th>\n",
       "      <th>dias_ultimo_eventoV2</th>\n",
       "    </tr>\n",
       "  </thead>\n",
       "  <tbody>\n",
       "    <tr>\n",
       "      <th>count</th>\n",
       "      <td>33129.000000</td>\n",
       "      <td>33129.000000</td>\n",
       "      <td>33129.000000</td>\n",
       "      <td>33129.0</td>\n",
       "      <td>33129.0</td>\n",
       "      <td>33129.000000</td>\n",
       "      <td>33129.000000</td>\n",
       "    </tr>\n",
       "    <tr>\n",
       "      <th>mean</th>\n",
       "      <td>0.316701</td>\n",
       "      <td>0.025627</td>\n",
       "      <td>0.000483</td>\n",
       "      <td>0.0</td>\n",
       "      <td>0.0</td>\n",
       "      <td>0.449304</td>\n",
       "      <td>244.696067</td>\n",
       "    </tr>\n",
       "    <tr>\n",
       "      <th>std</th>\n",
       "      <td>0.988969</td>\n",
       "      <td>0.253164</td>\n",
       "      <td>0.031076</td>\n",
       "      <td>0.0</td>\n",
       "      <td>0.0</td>\n",
       "      <td>0.497431</td>\n",
       "      <td>426.808904</td>\n",
       "    </tr>\n",
       "    <tr>\n",
       "      <th>min</th>\n",
       "      <td>0.000000</td>\n",
       "      <td>0.000000</td>\n",
       "      <td>0.000000</td>\n",
       "      <td>0.0</td>\n",
       "      <td>0.0</td>\n",
       "      <td>0.000000</td>\n",
       "      <td>1.000000</td>\n",
       "    </tr>\n",
       "    <tr>\n",
       "      <th>25%</th>\n",
       "      <td>0.000000</td>\n",
       "      <td>0.000000</td>\n",
       "      <td>0.000000</td>\n",
       "      <td>0.0</td>\n",
       "      <td>0.0</td>\n",
       "      <td>0.000000</td>\n",
       "      <td>2.000000</td>\n",
       "    </tr>\n",
       "    <tr>\n",
       "      <th>50%</th>\n",
       "      <td>0.000000</td>\n",
       "      <td>0.000000</td>\n",
       "      <td>0.000000</td>\n",
       "      <td>0.0</td>\n",
       "      <td>0.0</td>\n",
       "      <td>0.000000</td>\n",
       "      <td>5.000000</td>\n",
       "    </tr>\n",
       "    <tr>\n",
       "      <th>75%</th>\n",
       "      <td>0.000000</td>\n",
       "      <td>0.000000</td>\n",
       "      <td>0.000000</td>\n",
       "      <td>0.0</td>\n",
       "      <td>0.0</td>\n",
       "      <td>1.000000</td>\n",
       "      <td>7.000000</td>\n",
       "    </tr>\n",
       "    <tr>\n",
       "      <th>max</th>\n",
       "      <td>6.000000</td>\n",
       "      <td>4.000000</td>\n",
       "      <td>2.000000</td>\n",
       "      <td>0.0</td>\n",
       "      <td>0.0</td>\n",
       "      <td>1.000000</td>\n",
       "      <td>1000.000000</td>\n",
       "    </tr>\n",
       "  </tbody>\n",
       "</table>\n",
       "</div>"
      ],
      "text/plain": [
       "                  0             1             2        3        4  \\\n",
       "count  33129.000000  33129.000000  33129.000000  33129.0  33129.0   \n",
       "mean   0.316701      0.025627      0.000483      0.0      0.0       \n",
       "std    0.988969      0.253164      0.031076      0.0      0.0       \n",
       "min    0.000000      0.000000      0.000000      0.0      0.0       \n",
       "25%    0.000000      0.000000      0.000000      0.0      0.0       \n",
       "50%    0.000000      0.000000      0.000000      0.0      0.0       \n",
       "75%    0.000000      0.000000      0.000000      0.0      0.0       \n",
       "max    6.000000      4.000000      2.000000      0.0      0.0       \n",
       "\n",
       "             output  dias_ultimo_eventoV2  \n",
       "count  33129.000000  33129.000000          \n",
       "mean   0.449304      244.696067            \n",
       "std    0.497431      426.808904            \n",
       "min    0.000000      1.000000              \n",
       "25%    0.000000      2.000000              \n",
       "50%    0.000000      5.000000              \n",
       "75%    1.000000      7.000000              \n",
       "max    1.000000      1000.000000           "
      ]
     },
     "execution_count": 100,
     "metadata": {},
     "output_type": "execute_result"
    }
   ],
   "source": [
    "# Validacion\n",
    "X_df.describe()"
   ]
  },
  {
   "cell_type": "markdown",
   "id": "cb423358",
   "metadata": {},
   "source": [
    "## Ejemplo modelo aplicado una alarma\n",
    "* Un modelo por codigo de alarma\n",
    "* Codigos de alarmas con menos de 20 ejemplos (usar otro metodo de ES)"
   ]
  },
  {
   "cell_type": "code",
   "execution_count": 101,
   "id": "06bd735e",
   "metadata": {
    "scrolled": true
   },
   "outputs": [
    {
     "data": {
      "text/html": [
       "<div>\n",
       "<style scoped>\n",
       "    .dataframe tbody tr th:only-of-type {\n",
       "        vertical-align: middle;\n",
       "    }\n",
       "\n",
       "    .dataframe tbody tr th {\n",
       "        vertical-align: top;\n",
       "    }\n",
       "\n",
       "    .dataframe thead th {\n",
       "        text-align: right;\n",
       "    }\n",
       "</style>\n",
       "<table border=\"1\" class=\"dataframe\">\n",
       "  <thead>\n",
       "    <tr style=\"text-align: right;\">\n",
       "      <th></th>\n",
       "      <th>0</th>\n",
       "      <th>1</th>\n",
       "      <th>2</th>\n",
       "      <th>3</th>\n",
       "      <th>4</th>\n",
       "      <th>output</th>\n",
       "      <th>dias_ultimo_eventoV2</th>\n",
       "    </tr>\n",
       "    <tr>\n",
       "      <th>NODO</th>\n",
       "      <th></th>\n",
       "      <th></th>\n",
       "      <th></th>\n",
       "      <th></th>\n",
       "      <th></th>\n",
       "      <th></th>\n",
       "      <th></th>\n",
       "    </tr>\n",
       "  </thead>\n",
       "  <tbody>\n",
       "    <tr>\n",
       "      <th>0SD</th>\n",
       "      <td>4.0</td>\n",
       "      <td>0.0</td>\n",
       "      <td>0.0</td>\n",
       "      <td>0.0</td>\n",
       "      <td>0.0</td>\n",
       "      <td>0</td>\n",
       "      <td>2.0</td>\n",
       "    </tr>\n",
       "    <tr>\n",
       "      <th>113D</th>\n",
       "      <td>3.0</td>\n",
       "      <td>0.0</td>\n",
       "      <td>0.0</td>\n",
       "      <td>0.0</td>\n",
       "      <td>0.0</td>\n",
       "      <td>1</td>\n",
       "      <td>2.0</td>\n",
       "    </tr>\n",
       "    <tr>\n",
       "      <th>11B1</th>\n",
       "      <td>3.0</td>\n",
       "      <td>0.0</td>\n",
       "      <td>0.0</td>\n",
       "      <td>0.0</td>\n",
       "      <td>0.0</td>\n",
       "      <td>0</td>\n",
       "      <td>3.0</td>\n",
       "    </tr>\n",
       "    <tr>\n",
       "      <th>15J</th>\n",
       "      <td>2.0</td>\n",
       "      <td>0.0</td>\n",
       "      <td>0.0</td>\n",
       "      <td>0.0</td>\n",
       "      <td>0.0</td>\n",
       "      <td>1</td>\n",
       "      <td>2.0</td>\n",
       "    </tr>\n",
       "    <tr>\n",
       "      <th>1AB</th>\n",
       "      <td>2.0</td>\n",
       "      <td>2.0</td>\n",
       "      <td>0.0</td>\n",
       "      <td>0.0</td>\n",
       "      <td>0.0</td>\n",
       "      <td>1</td>\n",
       "      <td>2.0</td>\n",
       "    </tr>\n",
       "    <tr>\n",
       "      <th>...</th>\n",
       "      <td>...</td>\n",
       "      <td>...</td>\n",
       "      <td>...</td>\n",
       "      <td>...</td>\n",
       "      <td>...</td>\n",
       "      <td>...</td>\n",
       "      <td>...</td>\n",
       "    </tr>\n",
       "    <tr>\n",
       "      <th>YUMGTNPS01</th>\n",
       "      <td>3.0</td>\n",
       "      <td>0.0</td>\n",
       "      <td>0.0</td>\n",
       "      <td>0.0</td>\n",
       "      <td>0.0</td>\n",
       "      <td>1</td>\n",
       "      <td>2.0</td>\n",
       "    </tr>\n",
       "    <tr>\n",
       "      <th>YUMLLRPS01</th>\n",
       "      <td>3.0</td>\n",
       "      <td>0.0</td>\n",
       "      <td>0.0</td>\n",
       "      <td>0.0</td>\n",
       "      <td>0.0</td>\n",
       "      <td>1</td>\n",
       "      <td>2.0</td>\n",
       "    </tr>\n",
       "    <tr>\n",
       "      <th>YUMYB3PS01</th>\n",
       "      <td>2.0</td>\n",
       "      <td>2.0</td>\n",
       "      <td>0.0</td>\n",
       "      <td>0.0</td>\n",
       "      <td>0.0</td>\n",
       "      <td>0</td>\n",
       "      <td>2.0</td>\n",
       "    </tr>\n",
       "    <tr>\n",
       "      <th>ZIPZJCPS01</th>\n",
       "      <td>3.0</td>\n",
       "      <td>0.0</td>\n",
       "      <td>0.0</td>\n",
       "      <td>0.0</td>\n",
       "      <td>0.0</td>\n",
       "      <td>0</td>\n",
       "      <td>4.0</td>\n",
       "    </tr>\n",
       "    <tr>\n",
       "      <th>ZJC</th>\n",
       "      <td>3.0</td>\n",
       "      <td>0.0</td>\n",
       "      <td>0.0</td>\n",
       "      <td>0.0</td>\n",
       "      <td>0.0</td>\n",
       "      <td>0</td>\n",
       "      <td>4.0</td>\n",
       "    </tr>\n",
       "  </tbody>\n",
       "</table>\n",
       "<p>272 rows × 7 columns</p>\n",
       "</div>"
      ],
      "text/plain": [
       "              0    1    2    3    4  output  dias_ultimo_eventoV2\n",
       "NODO                                                             \n",
       "0SD         4.0  0.0  0.0  0.0  0.0  0       2.0                 \n",
       "113D        3.0  0.0  0.0  0.0  0.0  1       2.0                 \n",
       "11B1        3.0  0.0  0.0  0.0  0.0  0       3.0                 \n",
       "15J         2.0  0.0  0.0  0.0  0.0  1       2.0                 \n",
       "1AB         2.0  2.0  0.0  0.0  0.0  1       2.0                 \n",
       "...         ...  ...  ...  ...  ... ..       ...                 \n",
       "YUMGTNPS01  3.0  0.0  0.0  0.0  0.0  1       2.0                 \n",
       "YUMLLRPS01  3.0  0.0  0.0  0.0  0.0  1       2.0                 \n",
       "YUMYB3PS01  2.0  2.0  0.0  0.0  0.0  0       2.0                 \n",
       "ZIPZJCPS01  3.0  0.0  0.0  0.0  0.0  0       4.0                 \n",
       "ZJC         3.0  0.0  0.0  0.0  0.0  0       4.0                 \n",
       "\n",
       "[272 rows x 7 columns]"
      ]
     },
     "execution_count": 101,
     "metadata": {},
     "output_type": "execute_result"
    }
   ],
   "source": [
    "code='1012'\n",
    "X_df_espe=X_df[X_df['code']==code]\n",
    "#Si actual = dias ultimo evento 0, no se toma en cuenta\n",
    "X_df_espe=X_df_espe[X_df_espe['dias_ultimo_eventoV2']>1]\n",
    "#No se tiene en cuenta series en cero,  estos casos no existiran en la predicción a futuro}\n",
    "X_df_espe=X_df_espe[X_df_espe[0]>=2]\n",
    "X_df_espe.set_index('NODO',inplace=True)\n",
    "X_df_espe=X_df_espe.drop(columns=['code'])\n",
    "X_df_espe"
   ]
  },
  {
   "cell_type": "code",
   "execution_count": 102,
   "id": "dbc6f687",
   "metadata": {},
   "outputs": [
    {
     "data": {
      "text/html": [
       "<div>\n",
       "<style scoped>\n",
       "    .dataframe tbody tr th:only-of-type {\n",
       "        vertical-align: middle;\n",
       "    }\n",
       "\n",
       "    .dataframe tbody tr th {\n",
       "        vertical-align: top;\n",
       "    }\n",
       "\n",
       "    .dataframe thead th {\n",
       "        text-align: right;\n",
       "    }\n",
       "</style>\n",
       "<table border=\"1\" class=\"dataframe\">\n",
       "  <thead>\n",
       "    <tr style=\"text-align: right;\">\n",
       "      <th></th>\n",
       "      <th></th>\n",
       "      <th></th>\n",
       "      <th></th>\n",
       "      <th></th>\n",
       "      <th>output</th>\n",
       "      <th>0</th>\n",
       "      <th>1</th>\n",
       "    </tr>\n",
       "    <tr>\n",
       "      <th>0</th>\n",
       "      <th>1</th>\n",
       "      <th>2</th>\n",
       "      <th>3</th>\n",
       "      <th>4</th>\n",
       "      <th>dias_ultimo_eventoV2</th>\n",
       "      <th></th>\n",
       "      <th></th>\n",
       "    </tr>\n",
       "  </thead>\n",
       "  <tbody>\n",
       "    <tr>\n",
       "      <th rowspan=\"7\" valign=\"top\">2.0</th>\n",
       "      <th rowspan=\"4\" valign=\"top\">0.0</th>\n",
       "      <th rowspan=\"4\" valign=\"top\">0.0</th>\n",
       "      <th rowspan=\"4\" valign=\"top\">0.0</th>\n",
       "      <th rowspan=\"4\" valign=\"top\">0.0</th>\n",
       "      <th>2.0</th>\n",
       "      <td>18</td>\n",
       "      <td>56</td>\n",
       "    </tr>\n",
       "    <tr>\n",
       "      <th>3.0</th>\n",
       "      <td>4</td>\n",
       "      <td>29</td>\n",
       "    </tr>\n",
       "    <tr>\n",
       "      <th>4.0</th>\n",
       "      <td>11</td>\n",
       "      <td>8</td>\n",
       "    </tr>\n",
       "    <tr>\n",
       "      <th>5.0</th>\n",
       "      <td>10</td>\n",
       "      <td>9</td>\n",
       "    </tr>\n",
       "    <tr>\n",
       "      <th rowspan=\"2\" valign=\"top\">2.0</th>\n",
       "      <th rowspan=\"2\" valign=\"top\">0.0</th>\n",
       "      <th rowspan=\"2\" valign=\"top\">0.0</th>\n",
       "      <th rowspan=\"2\" valign=\"top\">0.0</th>\n",
       "      <th>2.0</th>\n",
       "      <td>2</td>\n",
       "      <td>6</td>\n",
       "    </tr>\n",
       "    <tr>\n",
       "      <th>3.0</th>\n",
       "      <td>0</td>\n",
       "      <td>9</td>\n",
       "    </tr>\n",
       "    <tr>\n",
       "      <th>3.0</th>\n",
       "      <th>0.0</th>\n",
       "      <th>0.0</th>\n",
       "      <th>0.0</th>\n",
       "      <th>2.0</th>\n",
       "      <td>2</td>\n",
       "      <td>5</td>\n",
       "    </tr>\n",
       "    <tr>\n",
       "      <th rowspan=\"4\" valign=\"top\">3.0</th>\n",
       "      <th rowspan=\"3\" valign=\"top\">0.0</th>\n",
       "      <th rowspan=\"3\" valign=\"top\">0.0</th>\n",
       "      <th rowspan=\"3\" valign=\"top\">0.0</th>\n",
       "      <th rowspan=\"3\" valign=\"top\">0.0</th>\n",
       "      <th>2.0</th>\n",
       "      <td>8</td>\n",
       "      <td>21</td>\n",
       "    </tr>\n",
       "    <tr>\n",
       "      <th>3.0</th>\n",
       "      <td>6</td>\n",
       "      <td>8</td>\n",
       "    </tr>\n",
       "    <tr>\n",
       "      <th>4.0</th>\n",
       "      <td>16</td>\n",
       "      <td>5</td>\n",
       "    </tr>\n",
       "    <tr>\n",
       "      <th>2.0</th>\n",
       "      <th>0.0</th>\n",
       "      <th>0.0</th>\n",
       "      <th>0.0</th>\n",
       "      <th>2.0</th>\n",
       "      <td>1</td>\n",
       "      <td>3</td>\n",
       "    </tr>\n",
       "    <tr>\n",
       "      <th rowspan=\"2\" valign=\"top\">4.0</th>\n",
       "      <th rowspan=\"2\" valign=\"top\">0.0</th>\n",
       "      <th rowspan=\"2\" valign=\"top\">0.0</th>\n",
       "      <th rowspan=\"2\" valign=\"top\">0.0</th>\n",
       "      <th rowspan=\"2\" valign=\"top\">0.0</th>\n",
       "      <th>2.0</th>\n",
       "      <td>11</td>\n",
       "      <td>9</td>\n",
       "    </tr>\n",
       "    <tr>\n",
       "      <th>3.0</th>\n",
       "      <td>6</td>\n",
       "      <td>4</td>\n",
       "    </tr>\n",
       "    <tr>\n",
       "      <th>5.0</th>\n",
       "      <th>0.0</th>\n",
       "      <th>0.0</th>\n",
       "      <th>0.0</th>\n",
       "      <th>0.0</th>\n",
       "      <th>2.0</th>\n",
       "      <td>1</td>\n",
       "      <td>4</td>\n",
       "    </tr>\n",
       "  </tbody>\n",
       "</table>\n",
       "</div>"
      ],
      "text/plain": [
       "output                                     0   1\n",
       "0   1   2   3   4   dias_ultimo_eventoV2        \n",
       "2.0 0.0 0.0 0.0 0.0 2.0                   18  56\n",
       "                    3.0                   4   29\n",
       "                    4.0                   11  8 \n",
       "                    5.0                   10  9 \n",
       "    2.0 0.0 0.0 0.0 2.0                   2   6 \n",
       "                    3.0                   0   9 \n",
       "    3.0 0.0 0.0 0.0 2.0                   2   5 \n",
       "3.0 0.0 0.0 0.0 0.0 2.0                   8   21\n",
       "                    3.0                   6   8 \n",
       "                    4.0                   16  5 \n",
       "    2.0 0.0 0.0 0.0 2.0                   1   3 \n",
       "4.0 0.0 0.0 0.0 0.0 2.0                   11  9 \n",
       "                    3.0                   6   4 \n",
       "5.0 0.0 0.0 0.0 0.0 2.0                   1   4 "
      ]
     },
     "execution_count": 102,
     "metadata": {},
     "output_type": "execute_result"
    }
   ],
   "source": [
    "pd.crosstab([X_df_espe[0],X_df_espe[1],X_df_espe[2],X_df_espe[3],X_df_espe[4],X_df_espe['dias_ultimo_eventoV2']],X_df_espe['output'])"
   ]
  },
  {
   "cell_type": "code",
   "execution_count": 103,
   "id": "152be728",
   "metadata": {
    "scrolled": false
   },
   "outputs": [],
   "source": [
    "y_df_espe=X_df_espe.pop('output')"
   ]
  },
  {
   "cell_type": "code",
   "execution_count": 104,
   "id": "e2f61ba5",
   "metadata": {},
   "outputs": [
    {
     "data": {
      "text/plain": [
       "1    176\n",
       "0    96 \n",
       "Name: output, dtype: int64"
      ]
     },
     "execution_count": 104,
     "metadata": {},
     "output_type": "execute_result"
    }
   ],
   "source": [
    "y_df_espe.value_counts()"
   ]
  },
  {
   "cell_type": "code",
   "execution_count": 105,
   "id": "75db4b64",
   "metadata": {
    "scrolled": false
   },
   "outputs": [
    {
     "data": {
      "text/html": [
       "<div>\n",
       "<style scoped>\n",
       "    .dataframe tbody tr th:only-of-type {\n",
       "        vertical-align: middle;\n",
       "    }\n",
       "\n",
       "    .dataframe tbody tr th {\n",
       "        vertical-align: top;\n",
       "    }\n",
       "\n",
       "    .dataframe thead th {\n",
       "        text-align: right;\n",
       "    }\n",
       "</style>\n",
       "<table border=\"1\" class=\"dataframe\">\n",
       "  <thead>\n",
       "    <tr style=\"text-align: right;\">\n",
       "      <th></th>\n",
       "      <th>0</th>\n",
       "      <th>1</th>\n",
       "      <th>2</th>\n",
       "      <th>3</th>\n",
       "      <th>4</th>\n",
       "      <th>dias_ultimo_eventoV2</th>\n",
       "    </tr>\n",
       "    <tr>\n",
       "      <th>NODO</th>\n",
       "      <th></th>\n",
       "      <th></th>\n",
       "      <th></th>\n",
       "      <th></th>\n",
       "      <th></th>\n",
       "      <th></th>\n",
       "    </tr>\n",
       "  </thead>\n",
       "  <tbody>\n",
       "    <tr>\n",
       "      <th>0SD</th>\n",
       "      <td>4.0</td>\n",
       "      <td>0.0</td>\n",
       "      <td>0.0</td>\n",
       "      <td>0.0</td>\n",
       "      <td>0.0</td>\n",
       "      <td>2.0</td>\n",
       "    </tr>\n",
       "    <tr>\n",
       "      <th>113D</th>\n",
       "      <td>3.0</td>\n",
       "      <td>0.0</td>\n",
       "      <td>0.0</td>\n",
       "      <td>0.0</td>\n",
       "      <td>0.0</td>\n",
       "      <td>2.0</td>\n",
       "    </tr>\n",
       "    <tr>\n",
       "      <th>11B1</th>\n",
       "      <td>3.0</td>\n",
       "      <td>0.0</td>\n",
       "      <td>0.0</td>\n",
       "      <td>0.0</td>\n",
       "      <td>0.0</td>\n",
       "      <td>3.0</td>\n",
       "    </tr>\n",
       "    <tr>\n",
       "      <th>15J</th>\n",
       "      <td>2.0</td>\n",
       "      <td>0.0</td>\n",
       "      <td>0.0</td>\n",
       "      <td>0.0</td>\n",
       "      <td>0.0</td>\n",
       "      <td>2.0</td>\n",
       "    </tr>\n",
       "    <tr>\n",
       "      <th>1AB</th>\n",
       "      <td>2.0</td>\n",
       "      <td>2.0</td>\n",
       "      <td>0.0</td>\n",
       "      <td>0.0</td>\n",
       "      <td>0.0</td>\n",
       "      <td>2.0</td>\n",
       "    </tr>\n",
       "    <tr>\n",
       "      <th>...</th>\n",
       "      <td>...</td>\n",
       "      <td>...</td>\n",
       "      <td>...</td>\n",
       "      <td>...</td>\n",
       "      <td>...</td>\n",
       "      <td>...</td>\n",
       "    </tr>\n",
       "    <tr>\n",
       "      <th>YUMGTNPS01</th>\n",
       "      <td>3.0</td>\n",
       "      <td>0.0</td>\n",
       "      <td>0.0</td>\n",
       "      <td>0.0</td>\n",
       "      <td>0.0</td>\n",
       "      <td>2.0</td>\n",
       "    </tr>\n",
       "    <tr>\n",
       "      <th>YUMLLRPS01</th>\n",
       "      <td>3.0</td>\n",
       "      <td>0.0</td>\n",
       "      <td>0.0</td>\n",
       "      <td>0.0</td>\n",
       "      <td>0.0</td>\n",
       "      <td>2.0</td>\n",
       "    </tr>\n",
       "    <tr>\n",
       "      <th>YUMYB3PS01</th>\n",
       "      <td>2.0</td>\n",
       "      <td>2.0</td>\n",
       "      <td>0.0</td>\n",
       "      <td>0.0</td>\n",
       "      <td>0.0</td>\n",
       "      <td>2.0</td>\n",
       "    </tr>\n",
       "    <tr>\n",
       "      <th>ZIPZJCPS01</th>\n",
       "      <td>3.0</td>\n",
       "      <td>0.0</td>\n",
       "      <td>0.0</td>\n",
       "      <td>0.0</td>\n",
       "      <td>0.0</td>\n",
       "      <td>4.0</td>\n",
       "    </tr>\n",
       "    <tr>\n",
       "      <th>ZJC</th>\n",
       "      <td>3.0</td>\n",
       "      <td>0.0</td>\n",
       "      <td>0.0</td>\n",
       "      <td>0.0</td>\n",
       "      <td>0.0</td>\n",
       "      <td>4.0</td>\n",
       "    </tr>\n",
       "  </tbody>\n",
       "</table>\n",
       "<p>272 rows × 6 columns</p>\n",
       "</div>"
      ],
      "text/plain": [
       "              0    1    2    3    4  dias_ultimo_eventoV2\n",
       "NODO                                                     \n",
       "0SD         4.0  0.0  0.0  0.0  0.0  2.0                 \n",
       "113D        3.0  0.0  0.0  0.0  0.0  2.0                 \n",
       "11B1        3.0  0.0  0.0  0.0  0.0  3.0                 \n",
       "15J         2.0  0.0  0.0  0.0  0.0  2.0                 \n",
       "1AB         2.0  2.0  0.0  0.0  0.0  2.0                 \n",
       "...         ...  ...  ...  ...  ...  ...                 \n",
       "YUMGTNPS01  3.0  0.0  0.0  0.0  0.0  2.0                 \n",
       "YUMLLRPS01  3.0  0.0  0.0  0.0  0.0  2.0                 \n",
       "YUMYB3PS01  2.0  2.0  0.0  0.0  0.0  2.0                 \n",
       "ZIPZJCPS01  3.0  0.0  0.0  0.0  0.0  4.0                 \n",
       "ZJC         3.0  0.0  0.0  0.0  0.0  4.0                 \n",
       "\n",
       "[272 rows x 6 columns]"
      ]
     },
     "execution_count": 105,
     "metadata": {},
     "output_type": "execute_result"
    }
   ],
   "source": [
    "X_df_espe"
   ]
  },
  {
   "cell_type": "code",
   "execution_count": 106,
   "id": "ac243e75",
   "metadata": {},
   "outputs": [],
   "source": [
    "#Train Test\n",
    "X_train, X_test, y_train, y_test = train_test_split(X_df_espe, y_df_espe, test_size = 0.3, random_state = 86, shuffle= True)"
   ]
  },
  {
   "cell_type": "markdown",
   "id": "ac4d57bd",
   "metadata": {},
   "source": [
    "## Random forest"
   ]
  },
  {
   "cell_type": "code",
   "execution_count": 107,
   "id": "d7d161fe",
   "metadata": {},
   "outputs": [],
   "source": [
    "clf=RandomForestClassifier(n_estimators=100, criterion='entropy')"
   ]
  },
  {
   "cell_type": "code",
   "execution_count": 108,
   "id": "4968f93b",
   "metadata": {},
   "outputs": [
    {
     "data": {
      "text/plain": [
       "RandomForestClassifier(criterion='entropy')"
      ]
     },
     "execution_count": 108,
     "metadata": {},
     "output_type": "execute_result"
    }
   ],
   "source": [
    "clf.fit(X_train,y_train)"
   ]
  },
  {
   "cell_type": "code",
   "execution_count": 109,
   "id": "5b5fe292",
   "metadata": {},
   "outputs": [
    {
     "data": {
      "text/plain": [
       "array([1, 0, 1, 1, 1, 1, 0, 0, 1, 1, 1, 0, 1, 1, 1, 1, 0, 0, 1, 1, 1, 1,\n",
       "       1, 0, 0, 1, 1, 1, 0, 0, 1, 1, 0, 1, 1, 1, 0, 1, 1, 0, 1, 1, 0, 0,\n",
       "       1, 1, 1, 1, 0, 1, 1, 1, 0, 1, 1, 1, 1, 1, 1, 1, 1, 1, 1, 0, 0, 1,\n",
       "       1, 0, 1, 1, 0, 0, 1, 0, 0, 1, 1, 0, 1, 0, 1, 0])"
      ]
     },
     "execution_count": 109,
     "metadata": {},
     "output_type": "execute_result"
    }
   ],
   "source": [
    "pred_test=clf.predict(X_test)\n",
    "pred_test"
   ]
  },
  {
   "cell_type": "code",
   "execution_count": 110,
   "id": "9fe94baf",
   "metadata": {},
   "outputs": [
    {
     "data": {
      "text/plain": [
       "dias_ultimo_eventoV2    0.452124\n",
       "0                       0.426007\n",
       "1                       0.121869\n",
       "2                       0.000000\n",
       "3                       0.000000\n",
       "4                       0.000000\n",
       "dtype: float64"
      ]
     },
     "execution_count": 110,
     "metadata": {},
     "output_type": "execute_result"
    }
   ],
   "source": [
    "feature_imp = pd.Series(clf.feature_importances_,index=X_train.columns).sort_values(ascending=False)\n",
    "feature_imp"
   ]
  },
  {
   "cell_type": "code",
   "execution_count": 111,
   "id": "8a3884d3",
   "metadata": {},
   "outputs": [
    {
     "data": {
      "text/plain": [
       "0.6947368421052632"
      ]
     },
     "execution_count": 111,
     "metadata": {},
     "output_type": "execute_result"
    }
   ],
   "source": [
    "roc_auc_score(y_test, pred_test)"
   ]
  },
  {
   "cell_type": "code",
   "execution_count": 112,
   "id": "254afa1d",
   "metadata": {},
   "outputs": [
    {
     "data": {
      "text/plain": [
       "array([[15, 10],\n",
       "       [12, 45]], dtype=int64)"
      ]
     },
     "execution_count": 112,
     "metadata": {},
     "output_type": "execute_result"
    }
   ],
   "source": [
    "confusion_matrix(y_test, pred_test)"
   ]
  },
  {
   "cell_type": "markdown",
   "id": "4383e9c5",
   "metadata": {},
   "source": [
    "### Loop sobre todos los tipos de Alarmas (más de 20 casos)"
   ]
  },
  {
   "cell_type": "code",
   "execution_count": 113,
   "id": "47f29c31",
   "metadata": {
    "scrolled": true
   },
   "outputs": [
    {
     "name": "stdout",
     "output_type": "stream",
     "text": [
      "1012\n",
      "numReg 272\n",
      "9332\n",
      "numReg 347\n",
      "969\n",
      "numReg 289\n",
      "2934\n",
      "numReg 36\n",
      "891\n",
      "numReg 139\n",
      "904\n",
      "numReg 134\n",
      "9334\n",
      "numReg 174\n",
      "827\n",
      "numReg 151\n",
      "913\n",
      "numReg 60\n",
      "975\n",
      "numReg 39\n",
      "761\n",
      "numReg 53\n",
      "894\n",
      "numReg 53\n",
      "833\n",
      "numReg 25\n",
      "3304\n",
      "numReg 12\n",
      "893\n",
      "numReg 16\n",
      "9333\n",
      "numReg 30\n",
      "4\n",
      "numReg 30\n",
      "2\n",
      "numReg 17\n",
      "3229\n",
      "numReg 10\n",
      "981\n",
      "numReg 2\n",
      "895\n",
      "numReg 7\n",
      "2793\n",
      "numReg 7\n",
      "751\n",
      "numReg 0\n",
      "13\n",
      "numReg 3\n",
      "949\n",
      "numReg 2\n",
      "1\n",
      "numReg 1\n",
      "839\n",
      "numReg 2\n",
      "12\n",
      "numReg 4\n",
      "81\n",
      "numReg 1\n",
      "3151\n",
      "numReg 0\n",
      "9080\n",
      "numReg 0\n",
      "3211\n",
      "numReg 1\n",
      "4943\n",
      "numReg 0\n",
      "411\n",
      "numReg 1\n",
      "4656\n",
      "numReg 3\n",
      "3160\n",
      "numReg 0\n",
      "429\n",
      "numReg 0\n",
      "3142\n",
      "numReg 0\n",
      "8469\n",
      "numReg 0\n",
      "9100\n",
      "numReg 0\n",
      "402\n",
      "numReg 0\n",
      "8466\n",
      "numReg 0\n",
      "9107\n",
      "numReg 0\n"
     ]
    }
   ],
   "source": [
    "modelosClass={}\n",
    "for cod in resumen_dias_code.reset_index()['CODALARM_2']:\n",
    "    print(cod)\n",
    "    dicModelo={}\n",
    "    #preparacion\n",
    "    code=cod\n",
    "    X_df_espe=X_df[X_df['code']==str(code)]\n",
    "    n_reg_ini=len(X_df_espe)    \n",
    "    #Si actual = dias ultimo evento 0, no se toma en cuenta\n",
    "    X_df_espe=X_df_espe[X_df_espe['dias_ultimo_eventoV2']>1]\n",
    "    #No se tiene en cuenta series en cero,  estos casos no existiran en la predicción a futuro}\n",
    "    X_df_espe=X_df_espe[X_df_espe[0]>=2]\n",
    "\n",
    "    X_df_espe.set_index('NODO',inplace=True)\n",
    "    X_df_espe=X_df_espe.drop(columns=['code'])\n",
    "    y_df_espe=X_df_espe.pop('output')\n",
    "    ## Validar si tiene más de 20 casos\n",
    "    print(\"numReg\",len(X_df_espe))\n",
    "    if len(X_df_espe)>=20:\n",
    "        #Train Test\n",
    "        X_train, X_test, y_train, y_test = train_test_split(X_df_espe, y_df_espe, test_size = 0.3, random_state = 86, shuffle= True)        \n",
    "        #Modelado\n",
    "        dicModelo['modelo']=RandomForestClassifier(n_estimators=100, criterion='entropy')   \n",
    "        dicModelo['modelo']=dicModelo['modelo'].fit(X_train,y_train)\n",
    "        pred_test=dicModelo['modelo'].predict(X_test)\n",
    "        #metricas\n",
    "        dicModelo['accuracy']=metrics.accuracy_score(y_test, pred_test)\n",
    "        if len(np.unique(pred_test))<2:\n",
    "            dicModelo['auc']=0\n",
    "        else:\n",
    "            dicModelo['auc']=roc_auc_score(y_test, pred_test)   \n",
    "        dicModelo['validacion']=1\n",
    "    else:\n",
    "        dicModelo['validacion']=0\n",
    "    dicModelo['n_reg']=len(X_df_espe)\n",
    "    dicModelo['n_reg_ini']=n_reg_ini\n",
    "    # guardar en diccionario general\n",
    "    modelosClass[cod]=dicModelo"
   ]
  },
  {
   "cell_type": "markdown",
   "id": "99ff19ad",
   "metadata": {},
   "source": [
    "# Resultados Actuales modelos de clasificación"
   ]
  },
  {
   "cell_type": "code",
   "execution_count": 114,
   "id": "d5a0d402",
   "metadata": {
    "scrolled": true
   },
   "outputs": [
    {
     "data": {
      "text/html": [
       "<div>\n",
       "<style scoped>\n",
       "    .dataframe tbody tr th:only-of-type {\n",
       "        vertical-align: middle;\n",
       "    }\n",
       "\n",
       "    .dataframe tbody tr th {\n",
       "        vertical-align: top;\n",
       "    }\n",
       "\n",
       "    .dataframe thead th {\n",
       "        text-align: right;\n",
       "    }\n",
       "</style>\n",
       "<table border=\"1\" class=\"dataframe\">\n",
       "  <thead>\n",
       "    <tr style=\"text-align: right;\">\n",
       "      <th></th>\n",
       "      <th>accuracy</th>\n",
       "      <th>auc</th>\n",
       "      <th>validacion</th>\n",
       "      <th>n_reg</th>\n",
       "      <th>n_reg_ini</th>\n",
       "    </tr>\n",
       "  </thead>\n",
       "  <tbody>\n",
       "    <tr>\n",
       "      <th>1012</th>\n",
       "      <td>0.731707</td>\n",
       "      <td>0.694737</td>\n",
       "      <td>1</td>\n",
       "      <td>272</td>\n",
       "      <td>3696</td>\n",
       "    </tr>\n",
       "    <tr>\n",
       "      <th>9332</th>\n",
       "      <td>0.666667</td>\n",
       "      <td>0.567029</td>\n",
       "      <td>1</td>\n",
       "      <td>347</td>\n",
       "      <td>5765</td>\n",
       "    </tr>\n",
       "    <tr>\n",
       "      <th>969</th>\n",
       "      <td>0.747126</td>\n",
       "      <td>0.572761</td>\n",
       "      <td>1</td>\n",
       "      <td>289</td>\n",
       "      <td>5283</td>\n",
       "    </tr>\n",
       "    <tr>\n",
       "      <th>2934</th>\n",
       "      <td>1.0</td>\n",
       "      <td>0</td>\n",
       "      <td>1</td>\n",
       "      <td>36</td>\n",
       "      <td>579</td>\n",
       "    </tr>\n",
       "    <tr>\n",
       "      <th>891</th>\n",
       "      <td>0.547619</td>\n",
       "      <td>0.5</td>\n",
       "      <td>1</td>\n",
       "      <td>139</td>\n",
       "      <td>1800</td>\n",
       "    </tr>\n",
       "    <tr>\n",
       "      <th>904</th>\n",
       "      <td>0.682927</td>\n",
       "      <td>0.604885</td>\n",
       "      <td>1</td>\n",
       "      <td>134</td>\n",
       "      <td>2382</td>\n",
       "    </tr>\n",
       "    <tr>\n",
       "      <th>9334</th>\n",
       "      <td>0.660377</td>\n",
       "      <td>0.642105</td>\n",
       "      <td>1</td>\n",
       "      <td>174</td>\n",
       "      <td>2750</td>\n",
       "    </tr>\n",
       "    <tr>\n",
       "      <th>827</th>\n",
       "      <td>0.782609</td>\n",
       "      <td>0.644444</td>\n",
       "      <td>1</td>\n",
       "      <td>151</td>\n",
       "      <td>2494</td>\n",
       "    </tr>\n",
       "    <tr>\n",
       "      <th>913</th>\n",
       "      <td>0.555556</td>\n",
       "      <td>0.584416</td>\n",
       "      <td>1</td>\n",
       "      <td>60</td>\n",
       "      <td>1467</td>\n",
       "    </tr>\n",
       "    <tr>\n",
       "      <th>975</th>\n",
       "      <td>0.583333</td>\n",
       "      <td>0.5</td>\n",
       "      <td>1</td>\n",
       "      <td>39</td>\n",
       "      <td>1209</td>\n",
       "    </tr>\n",
       "    <tr>\n",
       "      <th>761</th>\n",
       "      <td>0.8125</td>\n",
       "      <td>0.875</td>\n",
       "      <td>1</td>\n",
       "      <td>53</td>\n",
       "      <td>1180</td>\n",
       "    </tr>\n",
       "    <tr>\n",
       "      <th>894</th>\n",
       "      <td>0.75</td>\n",
       "      <td>0.583333</td>\n",
       "      <td>1</td>\n",
       "      <td>53</td>\n",
       "      <td>1236</td>\n",
       "    </tr>\n",
       "    <tr>\n",
       "      <th>833</th>\n",
       "      <td>0.5</td>\n",
       "      <td>0.5</td>\n",
       "      <td>1</td>\n",
       "      <td>25</td>\n",
       "      <td>489</td>\n",
       "    </tr>\n",
       "    <tr>\n",
       "      <th>3304</th>\n",
       "      <td>NaN</td>\n",
       "      <td>NaN</td>\n",
       "      <td>0.0</td>\n",
       "      <td>12.0</td>\n",
       "      <td>333.0</td>\n",
       "    </tr>\n",
       "    <tr>\n",
       "      <th>893</th>\n",
       "      <td>NaN</td>\n",
       "      <td>NaN</td>\n",
       "      <td>0.0</td>\n",
       "      <td>16.0</td>\n",
       "      <td>511.0</td>\n",
       "    </tr>\n",
       "    <tr>\n",
       "      <th>9333</th>\n",
       "      <td>1.0</td>\n",
       "      <td>1.0</td>\n",
       "      <td>1</td>\n",
       "      <td>30</td>\n",
       "      <td>384</td>\n",
       "    </tr>\n",
       "    <tr>\n",
       "      <th>4</th>\n",
       "      <td>1.0</td>\n",
       "      <td>0</td>\n",
       "      <td>1</td>\n",
       "      <td>30</td>\n",
       "      <td>210</td>\n",
       "    </tr>\n",
       "    <tr>\n",
       "      <th>2</th>\n",
       "      <td>NaN</td>\n",
       "      <td>NaN</td>\n",
       "      <td>0.0</td>\n",
       "      <td>17.0</td>\n",
       "      <td>222.0</td>\n",
       "    </tr>\n",
       "    <tr>\n",
       "      <th>3229</th>\n",
       "      <td>NaN</td>\n",
       "      <td>NaN</td>\n",
       "      <td>0.0</td>\n",
       "      <td>10.0</td>\n",
       "      <td>198.0</td>\n",
       "    </tr>\n",
       "    <tr>\n",
       "      <th>981</th>\n",
       "      <td>NaN</td>\n",
       "      <td>NaN</td>\n",
       "      <td>0.0</td>\n",
       "      <td>2.0</td>\n",
       "      <td>140.0</td>\n",
       "    </tr>\n",
       "    <tr>\n",
       "      <th>895</th>\n",
       "      <td>NaN</td>\n",
       "      <td>NaN</td>\n",
       "      <td>0.0</td>\n",
       "      <td>7.0</td>\n",
       "      <td>155.0</td>\n",
       "    </tr>\n",
       "    <tr>\n",
       "      <th>2793</th>\n",
       "      <td>NaN</td>\n",
       "      <td>NaN</td>\n",
       "      <td>0.0</td>\n",
       "      <td>7.0</td>\n",
       "      <td>123.0</td>\n",
       "    </tr>\n",
       "    <tr>\n",
       "      <th>751</th>\n",
       "      <td>NaN</td>\n",
       "      <td>NaN</td>\n",
       "      <td>0.0</td>\n",
       "      <td>0.0</td>\n",
       "      <td>116.0</td>\n",
       "    </tr>\n",
       "    <tr>\n",
       "      <th>13</th>\n",
       "      <td>NaN</td>\n",
       "      <td>NaN</td>\n",
       "      <td>0.0</td>\n",
       "      <td>3.0</td>\n",
       "      <td>43.0</td>\n",
       "    </tr>\n",
       "    <tr>\n",
       "      <th>949</th>\n",
       "      <td>NaN</td>\n",
       "      <td>NaN</td>\n",
       "      <td>0.0</td>\n",
       "      <td>2.0</td>\n",
       "      <td>87.0</td>\n",
       "    </tr>\n",
       "    <tr>\n",
       "      <th>1</th>\n",
       "      <td>NaN</td>\n",
       "      <td>NaN</td>\n",
       "      <td>0.0</td>\n",
       "      <td>1.0</td>\n",
       "      <td>42.0</td>\n",
       "    </tr>\n",
       "    <tr>\n",
       "      <th>839</th>\n",
       "      <td>NaN</td>\n",
       "      <td>NaN</td>\n",
       "      <td>0.0</td>\n",
       "      <td>2.0</td>\n",
       "      <td>75.0</td>\n",
       "    </tr>\n",
       "    <tr>\n",
       "      <th>12</th>\n",
       "      <td>NaN</td>\n",
       "      <td>NaN</td>\n",
       "      <td>0.0</td>\n",
       "      <td>4.0</td>\n",
       "      <td>47.0</td>\n",
       "    </tr>\n",
       "    <tr>\n",
       "      <th>81</th>\n",
       "      <td>NaN</td>\n",
       "      <td>NaN</td>\n",
       "      <td>0.0</td>\n",
       "      <td>1.0</td>\n",
       "      <td>11.0</td>\n",
       "    </tr>\n",
       "    <tr>\n",
       "      <th>3151</th>\n",
       "      <td>NaN</td>\n",
       "      <td>NaN</td>\n",
       "      <td>0.0</td>\n",
       "      <td>0.0</td>\n",
       "      <td>20.0</td>\n",
       "    </tr>\n",
       "    <tr>\n",
       "      <th>9080</th>\n",
       "      <td>NaN</td>\n",
       "      <td>NaN</td>\n",
       "      <td>0.0</td>\n",
       "      <td>0.0</td>\n",
       "      <td>3.0</td>\n",
       "    </tr>\n",
       "    <tr>\n",
       "      <th>3211</th>\n",
       "      <td>NaN</td>\n",
       "      <td>NaN</td>\n",
       "      <td>0.0</td>\n",
       "      <td>1.0</td>\n",
       "      <td>7.0</td>\n",
       "    </tr>\n",
       "    <tr>\n",
       "      <th>4943</th>\n",
       "      <td>NaN</td>\n",
       "      <td>NaN</td>\n",
       "      <td>0.0</td>\n",
       "      <td>0.0</td>\n",
       "      <td>9.0</td>\n",
       "    </tr>\n",
       "    <tr>\n",
       "      <th>411</th>\n",
       "      <td>NaN</td>\n",
       "      <td>NaN</td>\n",
       "      <td>0.0</td>\n",
       "      <td>1.0</td>\n",
       "      <td>16.0</td>\n",
       "    </tr>\n",
       "    <tr>\n",
       "      <th>4656</th>\n",
       "      <td>NaN</td>\n",
       "      <td>NaN</td>\n",
       "      <td>0.0</td>\n",
       "      <td>3.0</td>\n",
       "      <td>4.0</td>\n",
       "    </tr>\n",
       "    <tr>\n",
       "      <th>3160</th>\n",
       "      <td>NaN</td>\n",
       "      <td>NaN</td>\n",
       "      <td>0.0</td>\n",
       "      <td>0.0</td>\n",
       "      <td>12.0</td>\n",
       "    </tr>\n",
       "    <tr>\n",
       "      <th>429</th>\n",
       "      <td>NaN</td>\n",
       "      <td>NaN</td>\n",
       "      <td>0.0</td>\n",
       "      <td>0.0</td>\n",
       "      <td>11.0</td>\n",
       "    </tr>\n",
       "    <tr>\n",
       "      <th>3142</th>\n",
       "      <td>NaN</td>\n",
       "      <td>NaN</td>\n",
       "      <td>0.0</td>\n",
       "      <td>0.0</td>\n",
       "      <td>8.0</td>\n",
       "    </tr>\n",
       "    <tr>\n",
       "      <th>8469</th>\n",
       "      <td>NaN</td>\n",
       "      <td>NaN</td>\n",
       "      <td>0.0</td>\n",
       "      <td>0.0</td>\n",
       "      <td>2.0</td>\n",
       "    </tr>\n",
       "    <tr>\n",
       "      <th>9100</th>\n",
       "      <td>NaN</td>\n",
       "      <td>NaN</td>\n",
       "      <td>0.0</td>\n",
       "      <td>0.0</td>\n",
       "      <td>2.0</td>\n",
       "    </tr>\n",
       "    <tr>\n",
       "      <th>402</th>\n",
       "      <td>NaN</td>\n",
       "      <td>NaN</td>\n",
       "      <td>0.0</td>\n",
       "      <td>0.0</td>\n",
       "      <td>6.0</td>\n",
       "    </tr>\n",
       "    <tr>\n",
       "      <th>8466</th>\n",
       "      <td>NaN</td>\n",
       "      <td>NaN</td>\n",
       "      <td>0.0</td>\n",
       "      <td>0.0</td>\n",
       "      <td>1.0</td>\n",
       "    </tr>\n",
       "    <tr>\n",
       "      <th>9107</th>\n",
       "      <td>NaN</td>\n",
       "      <td>NaN</td>\n",
       "      <td>0.0</td>\n",
       "      <td>0.0</td>\n",
       "      <td>1.0</td>\n",
       "    </tr>\n",
       "  </tbody>\n",
       "</table>\n",
       "</div>"
      ],
      "text/plain": [
       "      accuracy       auc validacion n_reg n_reg_ini\n",
       "1012  0.731707  0.694737  1          272   3696    \n",
       "9332  0.666667  0.567029  1          347   5765    \n",
       "969   0.747126  0.572761  1          289   5283    \n",
       "2934  1.0       0         1          36    579     \n",
       "891   0.547619  0.5       1          139   1800    \n",
       "904   0.682927  0.604885  1          134   2382    \n",
       "9334  0.660377  0.642105  1          174   2750    \n",
       "827   0.782609  0.644444  1          151   2494    \n",
       "913   0.555556  0.584416  1          60    1467    \n",
       "975   0.583333  0.5       1          39    1209    \n",
       "761   0.8125    0.875     1          53    1180    \n",
       "894   0.75      0.583333  1          53    1236    \n",
       "833   0.5       0.5       1          25    489     \n",
       "3304  NaN       NaN       0.0        12.0  333.0   \n",
       "893   NaN       NaN       0.0        16.0  511.0   \n",
       "9333  1.0       1.0       1          30    384     \n",
       "4     1.0       0         1          30    210     \n",
       "2     NaN       NaN       0.0        17.0  222.0   \n",
       "3229  NaN       NaN       0.0        10.0  198.0   \n",
       "981   NaN       NaN       0.0        2.0   140.0   \n",
       "895   NaN       NaN       0.0        7.0   155.0   \n",
       "2793  NaN       NaN       0.0        7.0   123.0   \n",
       "751   NaN       NaN       0.0        0.0   116.0   \n",
       "13    NaN       NaN       0.0        3.0   43.0    \n",
       "949   NaN       NaN       0.0        2.0   87.0    \n",
       "1     NaN       NaN       0.0        1.0   42.0    \n",
       "839   NaN       NaN       0.0        2.0   75.0    \n",
       "12    NaN       NaN       0.0        4.0   47.0    \n",
       "81    NaN       NaN       0.0        1.0   11.0    \n",
       "3151  NaN       NaN       0.0        0.0   20.0    \n",
       "9080  NaN       NaN       0.0        0.0   3.0     \n",
       "3211  NaN       NaN       0.0        1.0   7.0     \n",
       "4943  NaN       NaN       0.0        0.0   9.0     \n",
       "411   NaN       NaN       0.0        1.0   16.0    \n",
       "4656  NaN       NaN       0.0        3.0   4.0     \n",
       "3160  NaN       NaN       0.0        0.0   12.0    \n",
       "429   NaN       NaN       0.0        0.0   11.0    \n",
       "3142  NaN       NaN       0.0        0.0   8.0     \n",
       "8469  NaN       NaN       0.0        0.0   2.0     \n",
       "9100  NaN       NaN       0.0        0.0   2.0     \n",
       "402   NaN       NaN       0.0        0.0   6.0     \n",
       "8466  NaN       NaN       0.0        0.0   1.0     \n",
       "9107  NaN       NaN       0.0        0.0   1.0     "
      ]
     },
     "execution_count": 114,
     "metadata": {},
     "output_type": "execute_result"
    }
   ],
   "source": [
    "pd.DataFrame.from_dict(modelosClass)[1:].T"
   ]
  },
  {
   "cell_type": "markdown",
   "id": "e6fcaf21",
   "metadata": {},
   "source": [
    "# Pronostico futuro"
   ]
  },
  {
   "cell_type": "markdown",
   "id": "9bf6c570",
   "metadata": {},
   "source": [
    "#####  Construcción Base"
   ]
  },
  {
   "cell_type": "code",
   "execution_count": 115,
   "id": "853faa0a",
   "metadata": {},
   "outputs": [],
   "source": [
    "df_base=resumenSeries_un.copy()\n",
    "df_base=df_base.reset_index()"
   ]
  },
  {
   "cell_type": "code",
   "execution_count": 116,
   "id": "1726e56e",
   "metadata": {},
   "outputs": [],
   "source": [
    "df_distancias_nz=df_base[df_base['SEVERITY']!=0].reset_index()\n",
    "df_distancias_nz['sig_event']=df_distancias_nz.groupby('key')['index'].shift(periods=-1)\n",
    "df_distancias_nz['dias_inter_event']=df_distancias_nz['sig_event']-df_distancias_nz['index']"
   ]
  },
  {
   "cell_type": "code",
   "execution_count": 117,
   "id": "d54ef620",
   "metadata": {},
   "outputs": [],
   "source": [
    "distancias_df=df_distancias_nz[df_distancias_nz['dias_inter_event']>1]"
   ]
  },
  {
   "cell_type": "code",
   "execution_count": 118,
   "id": "e011e613",
   "metadata": {},
   "outputs": [],
   "source": [
    "distancias_df=distancias_df.sort_values(['key','fecha'],ascending=False)"
   ]
  },
  {
   "cell_type": "code",
   "execution_count": 119,
   "id": "b0b7e800",
   "metadata": {},
   "outputs": [],
   "source": [
    "distancias_df.drop(columns=['index','sig_event'],inplace=True)"
   ]
  },
  {
   "cell_type": "code",
   "execution_count": 120,
   "id": "60a67a66",
   "metadata": {},
   "outputs": [],
   "source": [
    "#base\n",
    "X_df=resumenSeries_un[['key','NODO','code']].drop_duplicates()\n",
    "X_df.set_index('key',inplace=True)"
   ]
  },
  {
   "cell_type": "code",
   "execution_count": 121,
   "id": "2d6c5d16",
   "metadata": {},
   "outputs": [
    {
     "name": "stdout",
     "output_type": "stream",
     "text": [
      "0\n",
      "1\n",
      "2\n",
      "3\n",
      "4\n"
     ]
    }
   ],
   "source": [
    "#intervalos\n",
    "for i in range(0,p_numeroEventos_historia):\n",
    "    print(i)\n",
    "    aux_df=distancias_df.groupby(['key']).nth(i)[['dias_inter_event']]\n",
    "    aux_df.columns=[i]\n",
    "    X_df=X_df.merge(aux_df[[i]], left_index=True, right_index=True, how='left')"
   ]
  },
  {
   "cell_type": "code",
   "execution_count": 122,
   "id": "c3dd0701",
   "metadata": {},
   "outputs": [],
   "source": [
    "#ultimo dia\n",
    "df_base=resumenSeries.copy()\n",
    "df_ultimo_dia=df_base.groupby('key')[['fecha']].max()\n",
    "df_ultimo_dia['dias_ultimo_evento']=max_fecha-df_ultimo_dia['fecha']  #cambiar a max_fecha\n",
    "df_ultimo_dia['dias_ultimo_eventoV2']=df_ultimo_dia['dias_ultimo_evento'].astype('timedelta64[D]')"
   ]
  },
  {
   "cell_type": "code",
   "execution_count": 123,
   "id": "33a5b56e",
   "metadata": {},
   "outputs": [],
   "source": [
    "#construccion tabla\n",
    "#union intervalos\n",
    "X_df.fillna(0,inplace=True)\n",
    "### Ultimo día\n",
    "X_df=X_df.merge(df_ultimo_dia[['dias_ultimo_eventoV2']], left_index=True, right_index=True, how='left')\n",
    "X_df.fillna(1000,inplace=True)"
   ]
  },
  {
   "cell_type": "code",
   "execution_count": 124,
   "id": "f4222d8e",
   "metadata": {},
   "outputs": [
    {
     "data": {
      "text/plain": [
       "NODO                    SJ1 \n",
       "code                    1012\n",
       "0                       0.0 \n",
       "1                       0.0 \n",
       "2                       0.0 \n",
       "3                       0.0 \n",
       "4                       0.0 \n",
       "dias_ultimo_eventoV2    6.0 \n",
       "Name: SJ1---1012, dtype: object"
      ]
     },
     "execution_count": 124,
     "metadata": {},
     "output_type": "execute_result"
    }
   ],
   "source": [
    "X_df.loc['SJ1---1012']"
   ]
  },
  {
   "cell_type": "markdown",
   "id": "b75004db",
   "metadata": {},
   "source": [
    "#### Calculo predicción"
   ]
  },
  {
   "cell_type": "code",
   "execution_count": 125,
   "id": "dbd6ea8d",
   "metadata": {},
   "outputs": [
    {
     "data": {
      "text/plain": [
       "0.0    6117\n",
       "1.0    4634\n",
       "2.0    4134\n",
       "4.0    3516\n",
       "3.0    3038\n",
       "9.0    2966\n",
       "6.0    2567\n",
       "7.0    2387\n",
       "8.0    2008\n",
       "5.0    1762\n",
       "Name: dias_ultimo_eventoV2, dtype: int64"
      ]
     },
     "execution_count": 125,
     "metadata": {},
     "output_type": "execute_result"
    }
   ],
   "source": [
    "X_df['dias_ultimo_eventoV2'].value_counts()"
   ]
  },
  {
   "cell_type": "code",
   "execution_count": 126,
   "id": "e92fc033",
   "metadata": {},
   "outputs": [],
   "source": [
    "finalPrediccionesFuturas = pd.DataFrame()"
   ]
  },
  {
   "cell_type": "code",
   "execution_count": 127,
   "id": "15803d89",
   "metadata": {},
   "outputs": [],
   "source": [
    "### Predicción regresión\n",
    "def pred_reg(X):\n",
    "    model = SimpleExpSmoothing(X)\n",
    "    model=model.fit(smoothing_level=.5)\n",
    "    return model.forecast(1)"
   ]
  },
  {
   "cell_type": "code",
   "execution_count": 128,
   "id": "972f73cf",
   "metadata": {
    "scrolled": true
   },
   "outputs": [
    {
     "name": "stdout",
     "output_type": "stream",
     "text": [
      "1012 tam: 3696\n",
      "9332 tam: 5765\n",
      "969 tam: 5283\n",
      "2934 tam: 579\n",
      "891 tam: 1800\n",
      "904 tam: 2382\n",
      "9334 tam: 2750\n",
      "827 tam: 2494\n",
      "913 tam: 1467\n",
      "975 tam: 1209\n",
      "761 tam: 1180\n",
      "894 tam: 1236\n",
      "833 tam: 489\n",
      "3304 tam: 333\n",
      "893 tam: 511\n",
      "9333 tam: 384\n",
      "4 tam: 210\n",
      "2 tam: 222\n",
      "3229 tam: 198\n",
      "981 tam: 140\n",
      "895 tam: 155\n",
      "2793 tam: 123\n",
      "751 tam: 116\n",
      "13 tam: 43\n",
      "949 tam: 87\n",
      "1 tam: 42\n",
      "839 tam: 75\n",
      "12 tam: 47\n",
      "81 tam: 11\n",
      "3151 tam: 20\n",
      "9080 tam: 3\n",
      "3211 tam: 7\n",
      "4943 tam: 9\n",
      "411 tam: 16\n",
      "4656 tam: 4\n",
      "3160 tam: 12\n",
      "429 tam: 11\n",
      "3142 tam: 8\n",
      "8469 tam: 2\n",
      "9100 tam: 2\n",
      "402 tam: 6\n",
      "8466 tam: 1\n",
      "9107 tam: 1\n"
     ]
    }
   ],
   "source": [
    "i=0\n",
    "for cod in resumen_dias_code.reset_index()['CODALARM_2']:\n",
    "    X_df_espe=X_df[X_df['code']==str(cod)] \n",
    "    ##clasificación Casos\n",
    "    print(cod, \"tam:\",len(X_df_espe))\n",
    "    X_df_espe['estado']=np.where(X_df_espe['dias_ultimo_eventoV2']>=1,'valido','actual')    \n",
    "    #No se tiene en cuenta series en cero,  estos casos no existiran en la predicción a futuro    \n",
    "    X_df_espe['estado']=np.where(X_df_espe['estado']=='actual','actual',np.where(X_df_espe[0]>=2,'valido','solo un evento'))    \n",
    "    X_df_espe['class_model']=modelosClass[cod]['validacion']\n",
    "    \n",
    "    #filtro    \n",
    "    X_df_espe_actual=X_df_espe[X_df_espe['estado']!='valido']    \n",
    "    X_df_espe_class=X_df_espe[(X_df_espe['estado']=='valido')&(X_df_espe['class_model']==1)]    \n",
    "    X_df_espe_reg=X_df_espe[(X_df_espe['estado']=='valido')& (X_df_espe['class_model']!=1)]    \n",
    "    \n",
    "    if len(X_df_espe_class)>0:\n",
    "        X_df_espe_class['prediccion']=modelosClass[cod]['modelo'].predict(X_df_espe_class.drop(columns=['NODO','code','class_model','estado']))\n",
    "        X_df_espe_class['probabilidad']=1-modelosClass[cod]['modelo'].predict_proba(X_df_espe_class.drop(columns=['NODO','code','class_model','estado','prediccion']))[:,0]     \n",
    "    \n",
    "    if len(X_df_espe_actual)>0:\n",
    "        X_df_espe_actual['prediccion']=np.where(X_df_espe_actual['estado']=='actual',1,0)\n",
    "        X_df_espe_actual['probabilidad']=np.where(X_df_espe_actual['estado']=='actual',1,0)        \n",
    "        X_df_espe_actual['prediccion']=np.where(X_df_espe_actual['estado']=='solo un evento',0,X_df_espe_actual['prediccion'])\n",
    "        X_df_espe_actual['probabilidad']=np.where(X_df_espe_actual['estado']=='solo un evento',0,X_df_espe_actual['probabilidad'])\n",
    "        \n",
    "    if len(X_df_espe_reg)>0:\n",
    "        X_df_espe_reg['prediccion']=int(X_df_espe_reg.drop(columns=['NODO','code','class_model','estado','dias_ultimo_eventoV2']).apply(lambda row: pred_reg(row.values), axis=1)[0])\n",
    "        X_df_espe_reg['prediccion']=np.where(X_df_espe_reg['prediccion']<=X_df_espe_reg['dias_ultimo_eventoV2'],0,X_df_espe_reg['prediccion'])\n",
    "        X_df_espe_reg['probabilidad']=0.2    \n",
    "    \n",
    "    if i==0:\n",
    "        finalPrediccionesFuturas=X_df_espe_class.copy()\n",
    "        i=i+1\n",
    "    else :        \n",
    "        finalPrediccionesFuturas=finalPrediccionesFuturas.append(X_df_espe_class.copy())\n",
    "        \n",
    "    finalPrediccionesFuturas=finalPrediccionesFuturas.append(X_df_espe_reg.copy())  \n",
    "    finalPrediccionesFuturas=finalPrediccionesFuturas.append(X_df_espe_actual.copy())"
   ]
  },
  {
   "cell_type": "code",
   "execution_count": 129,
   "id": "44a0a431",
   "metadata": {},
   "outputs": [
    {
     "data": {
      "text/plain": [
       "069---1012                    1\n",
       "TT1---9334                    1\n",
       "UBL---9334                    1\n",
       "UBAUJ2PS01---9334             1\n",
       "UBAETEPS01---9334             1\n",
       "                             ..\n",
       "BOG1OSPS01---969              1\n",
       "BOG1OEPS01---969              1\n",
       "BOG1LIPS01---969              1\n",
       "BOG1ITPS01---969              1\n",
       "17 MaxNetII MPRF-BH---9107    1\n",
       "Name: key, Length: 33129, dtype: int64"
      ]
     },
     "execution_count": 129,
     "metadata": {},
     "output_type": "execute_result"
    }
   ],
   "source": [
    "#val duplicados\n",
    "finalPrediccionesFuturas.reset_index()['key'].value_counts()"
   ]
  },
  {
   "cell_type": "code",
   "execution_count": 130,
   "id": "d58b7663",
   "metadata": {},
   "outputs": [
    {
     "data": {
      "text/plain": [
       "0.0    25744\n",
       "1.0    7385 \n",
       "Name: prediccion, dtype: int64"
      ]
     },
     "execution_count": 130,
     "metadata": {},
     "output_type": "execute_result"
    }
   ],
   "source": [
    "finalPrediccionesFuturas['prediccion'].value_counts()"
   ]
  },
  {
   "cell_type": "code",
   "execution_count": 131,
   "id": "947f7ece",
   "metadata": {},
   "outputs": [
    {
     "data": {
      "text/plain": [
       "solo un evento    22330\n",
       "actual            6117 \n",
       "valido            4682 \n",
       "Name: estado, dtype: int64"
      ]
     },
     "execution_count": 131,
     "metadata": {},
     "output_type": "execute_result"
    }
   ],
   "source": [
    "finalPrediccionesFuturas['estado'].value_counts()"
   ]
  },
  {
   "cell_type": "code",
   "execution_count": 132,
   "id": "8635a6e1",
   "metadata": {},
   "outputs": [
    {
     "data": {
      "text/html": [
       "<div>\n",
       "<style scoped>\n",
       "    .dataframe tbody tr th:only-of-type {\n",
       "        vertical-align: middle;\n",
       "    }\n",
       "\n",
       "    .dataframe tbody tr th {\n",
       "        vertical-align: top;\n",
       "    }\n",
       "\n",
       "    .dataframe thead th {\n",
       "        text-align: right;\n",
       "    }\n",
       "</style>\n",
       "<table border=\"1\" class=\"dataframe\">\n",
       "  <thead>\n",
       "    <tr style=\"text-align: right;\">\n",
       "      <th>estado</th>\n",
       "      <th>actual</th>\n",
       "      <th>solo un evento</th>\n",
       "      <th>valido</th>\n",
       "    </tr>\n",
       "    <tr>\n",
       "      <th>prediccion</th>\n",
       "      <th></th>\n",
       "      <th></th>\n",
       "      <th></th>\n",
       "    </tr>\n",
       "  </thead>\n",
       "  <tbody>\n",
       "    <tr>\n",
       "      <th>0.0</th>\n",
       "      <td>0</td>\n",
       "      <td>22330</td>\n",
       "      <td>3414</td>\n",
       "    </tr>\n",
       "    <tr>\n",
       "      <th>1.0</th>\n",
       "      <td>6117</td>\n",
       "      <td>0</td>\n",
       "      <td>1268</td>\n",
       "    </tr>\n",
       "  </tbody>\n",
       "</table>\n",
       "</div>"
      ],
      "text/plain": [
       "estado      actual  solo un evento  valido\n",
       "prediccion                                \n",
       "0.0         0       22330           3414  \n",
       "1.0         6117    0               1268  "
      ]
     },
     "execution_count": 132,
     "metadata": {},
     "output_type": "execute_result"
    }
   ],
   "source": [
    "pd.crosstab(finalPrediccionesFuturas['prediccion'],finalPrediccionesFuturas['estado'])"
   ]
  },
  {
   "cell_type": "code",
   "execution_count": 133,
   "id": "959a4951",
   "metadata": {
    "scrolled": true
   },
   "outputs": [
    {
     "name": "stdout",
     "output_type": "stream",
     "text": [
      "# series sin pronostico:  0\n"
     ]
    }
   ],
   "source": [
    "print(\"# series sin pronostico: \", len(finalPrediccionesFuturas[finalPrediccionesFuturas['prediccion'].isnull()]))"
   ]
  },
  {
   "cell_type": "code",
   "execution_count": 134,
   "id": "3f62ddd5",
   "metadata": {},
   "outputs": [
    {
     "name": "stdout",
     "output_type": "stream",
     "text": [
      "Series no consideradas:  set()\n"
     ]
    }
   ],
   "source": [
    "print(\"Series no consideradas: \",set(list(resumenSeries['key'].unique()))-set(list(finalPrediccionesFuturas.index)))"
   ]
  },
  {
   "cell_type": "code",
   "execution_count": 135,
   "id": "db4be701",
   "metadata": {},
   "outputs": [
    {
     "data": {
      "text/html": [
       "<div>\n",
       "<style scoped>\n",
       "    .dataframe tbody tr th:only-of-type {\n",
       "        vertical-align: middle;\n",
       "    }\n",
       "\n",
       "    .dataframe tbody tr th {\n",
       "        vertical-align: top;\n",
       "    }\n",
       "\n",
       "    .dataframe thead th {\n",
       "        text-align: right;\n",
       "    }\n",
       "</style>\n",
       "<table border=\"1\" class=\"dataframe\">\n",
       "  <thead>\n",
       "    <tr style=\"text-align: right;\">\n",
       "      <th></th>\n",
       "      <th>NODO</th>\n",
       "      <th>code</th>\n",
       "      <th>0</th>\n",
       "      <th>1</th>\n",
       "      <th>2</th>\n",
       "      <th>3</th>\n",
       "      <th>4</th>\n",
       "      <th>dias_ultimo_eventoV2</th>\n",
       "      <th>estado</th>\n",
       "      <th>class_model</th>\n",
       "      <th>prediccion</th>\n",
       "      <th>probabilidad</th>\n",
       "    </tr>\n",
       "    <tr>\n",
       "      <th>key</th>\n",
       "      <th></th>\n",
       "      <th></th>\n",
       "      <th></th>\n",
       "      <th></th>\n",
       "      <th></th>\n",
       "      <th></th>\n",
       "      <th></th>\n",
       "      <th></th>\n",
       "      <th></th>\n",
       "      <th></th>\n",
       "      <th></th>\n",
       "      <th></th>\n",
       "    </tr>\n",
       "  </thead>\n",
       "  <tbody>\n",
       "    <tr>\n",
       "      <th>069---1012</th>\n",
       "      <td>069</td>\n",
       "      <td>1012</td>\n",
       "      <td>2.0</td>\n",
       "      <td>0.0</td>\n",
       "      <td>0.0</td>\n",
       "      <td>0.0</td>\n",
       "      <td>0.0</td>\n",
       "      <td>1.0</td>\n",
       "      <td>valido</td>\n",
       "      <td>1</td>\n",
       "      <td>1.0</td>\n",
       "      <td>0.750052</td>\n",
       "    </tr>\n",
       "    <tr>\n",
       "      <th>080---1012</th>\n",
       "      <td>080</td>\n",
       "      <td>1012</td>\n",
       "      <td>5.0</td>\n",
       "      <td>0.0</td>\n",
       "      <td>0.0</td>\n",
       "      <td>0.0</td>\n",
       "      <td>0.0</td>\n",
       "      <td>1.0</td>\n",
       "      <td>valido</td>\n",
       "      <td>1</td>\n",
       "      <td>1.0</td>\n",
       "      <td>0.652841</td>\n",
       "    </tr>\n",
       "    <tr>\n",
       "      <th>0SD---1012</th>\n",
       "      <td>0SD</td>\n",
       "      <td>1012</td>\n",
       "      <td>4.0</td>\n",
       "      <td>0.0</td>\n",
       "      <td>0.0</td>\n",
       "      <td>0.0</td>\n",
       "      <td>0.0</td>\n",
       "      <td>4.0</td>\n",
       "      <td>valido</td>\n",
       "      <td>1</td>\n",
       "      <td>0.0</td>\n",
       "      <td>0.239270</td>\n",
       "    </tr>\n",
       "    <tr>\n",
       "      <th>11B1---1012</th>\n",
       "      <td>11B1</td>\n",
       "      <td>1012</td>\n",
       "      <td>3.0</td>\n",
       "      <td>0.0</td>\n",
       "      <td>0.0</td>\n",
       "      <td>0.0</td>\n",
       "      <td>0.0</td>\n",
       "      <td>5.0</td>\n",
       "      <td>valido</td>\n",
       "      <td>1</td>\n",
       "      <td>0.0</td>\n",
       "      <td>0.319218</td>\n",
       "    </tr>\n",
       "    <tr>\n",
       "      <th>14A12D---1012</th>\n",
       "      <td>14A12D</td>\n",
       "      <td>1012</td>\n",
       "      <td>5.0</td>\n",
       "      <td>0.0</td>\n",
       "      <td>0.0</td>\n",
       "      <td>0.0</td>\n",
       "      <td>0.0</td>\n",
       "      <td>2.0</td>\n",
       "      <td>valido</td>\n",
       "      <td>1</td>\n",
       "      <td>1.0</td>\n",
       "      <td>0.652841</td>\n",
       "    </tr>\n",
       "    <tr>\n",
       "      <th>...</th>\n",
       "      <td>...</td>\n",
       "      <td>...</td>\n",
       "      <td>...</td>\n",
       "      <td>...</td>\n",
       "      <td>...</td>\n",
       "      <td>...</td>\n",
       "      <td>...</td>\n",
       "      <td>...</td>\n",
       "      <td>...</td>\n",
       "      <td>...</td>\n",
       "      <td>...</td>\n",
       "      <td>...</td>\n",
       "    </tr>\n",
       "    <tr>\n",
       "      <th>NODO TB1. - TIBABITA I---402</th>\n",
       "      <td>NODO TB1. - TIBABITA I</td>\n",
       "      <td>402</td>\n",
       "      <td>0.0</td>\n",
       "      <td>0.0</td>\n",
       "      <td>0.0</td>\n",
       "      <td>0.0</td>\n",
       "      <td>0.0</td>\n",
       "      <td>9.0</td>\n",
       "      <td>solo un evento</td>\n",
       "      <td>0</td>\n",
       "      <td>0.0</td>\n",
       "      <td>0.000000</td>\n",
       "    </tr>\n",
       "    <tr>\n",
       "      <th>NODO VJ1,VJ12D,VJ13D,VJ14D.---402</th>\n",
       "      <td>NODO VJ1,VJ12D,VJ13D,VJ14D.</td>\n",
       "      <td>402</td>\n",
       "      <td>0.0</td>\n",
       "      <td>0.0</td>\n",
       "      <td>0.0</td>\n",
       "      <td>0.0</td>\n",
       "      <td>0.0</td>\n",
       "      <td>7.0</td>\n",
       "      <td>solo un evento</td>\n",
       "      <td>0</td>\n",
       "      <td>0.0</td>\n",
       "      <td>0.000000</td>\n",
       "    </tr>\n",
       "    <tr>\n",
       "      <th>SG4000 19D25D---402</th>\n",
       "      <td>SG4000 19D25D</td>\n",
       "      <td>402</td>\n",
       "      <td>0.0</td>\n",
       "      <td>0.0</td>\n",
       "      <td>0.0</td>\n",
       "      <td>0.0</td>\n",
       "      <td>0.0</td>\n",
       "      <td>9.0</td>\n",
       "      <td>solo un evento</td>\n",
       "      <td>0</td>\n",
       "      <td>0.0</td>\n",
       "      <td>0.000000</td>\n",
       "    </tr>\n",
       "    <tr>\n",
       "      <th>17 MaxNetII MPRF-BH---8466</th>\n",
       "      <td>17 MaxNetII MPRF-BH</td>\n",
       "      <td>8466</td>\n",
       "      <td>0.0</td>\n",
       "      <td>0.0</td>\n",
       "      <td>0.0</td>\n",
       "      <td>0.0</td>\n",
       "      <td>0.0</td>\n",
       "      <td>9.0</td>\n",
       "      <td>solo un evento</td>\n",
       "      <td>0</td>\n",
       "      <td>0.0</td>\n",
       "      <td>0.000000</td>\n",
       "    </tr>\n",
       "    <tr>\n",
       "      <th>17 MaxNetII MPRF-BH---9107</th>\n",
       "      <td>17 MaxNetII MPRF-BH</td>\n",
       "      <td>9107</td>\n",
       "      <td>0.0</td>\n",
       "      <td>0.0</td>\n",
       "      <td>0.0</td>\n",
       "      <td>0.0</td>\n",
       "      <td>0.0</td>\n",
       "      <td>9.0</td>\n",
       "      <td>solo un evento</td>\n",
       "      <td>0</td>\n",
       "      <td>0.0</td>\n",
       "      <td>0.000000</td>\n",
       "    </tr>\n",
       "  </tbody>\n",
       "</table>\n",
       "<p>33129 rows × 12 columns</p>\n",
       "</div>"
      ],
      "text/plain": [
       "                                                          NODO  code    0  \\\n",
       "key                                                                         \n",
       "069---1012                         069                          1012  2.0   \n",
       "080---1012                         080                          1012  5.0   \n",
       "0SD---1012                         0SD                          1012  4.0   \n",
       "11B1---1012                        11B1                         1012  3.0   \n",
       "14A12D---1012                      14A12D                       1012  5.0   \n",
       "...                                 ...                          ...  ...   \n",
       "NODO TB1. - TIBABITA I---402       NODO TB1. - TIBABITA I       402   0.0   \n",
       "NODO VJ1,VJ12D,VJ13D,VJ14D.---402  NODO VJ1,VJ12D,VJ13D,VJ14D.  402   0.0   \n",
       "SG4000 19D25D---402                SG4000 19D25D                402   0.0   \n",
       "17 MaxNetII MPRF-BH---8466         17 MaxNetII MPRF-BH          8466  0.0   \n",
       "17 MaxNetII MPRF-BH---9107         17 MaxNetII MPRF-BH          9107  0.0   \n",
       "\n",
       "                                     1    2    3    4  dias_ultimo_eventoV2  \\\n",
       "key                                                                           \n",
       "069---1012                         0.0  0.0  0.0  0.0  1.0                    \n",
       "080---1012                         0.0  0.0  0.0  0.0  1.0                    \n",
       "0SD---1012                         0.0  0.0  0.0  0.0  4.0                    \n",
       "11B1---1012                        0.0  0.0  0.0  0.0  5.0                    \n",
       "14A12D---1012                      0.0  0.0  0.0  0.0  2.0                    \n",
       "...                                ...  ...  ...  ...  ...                    \n",
       "NODO TB1. - TIBABITA I---402       0.0  0.0  0.0  0.0  9.0                    \n",
       "NODO VJ1,VJ12D,VJ13D,VJ14D.---402  0.0  0.0  0.0  0.0  7.0                    \n",
       "SG4000 19D25D---402                0.0  0.0  0.0  0.0  9.0                    \n",
       "17 MaxNetII MPRF-BH---8466         0.0  0.0  0.0  0.0  9.0                    \n",
       "17 MaxNetII MPRF-BH---9107         0.0  0.0  0.0  0.0  9.0                    \n",
       "\n",
       "                                           estado  class_model  prediccion  \\\n",
       "key                                                                          \n",
       "069---1012                         valido          1            1.0          \n",
       "080---1012                         valido          1            1.0          \n",
       "0SD---1012                         valido          1            0.0          \n",
       "11B1---1012                        valido          1            0.0          \n",
       "14A12D---1012                      valido          1            1.0          \n",
       "...                                   ...         ..            ...          \n",
       "NODO TB1. - TIBABITA I---402       solo un evento  0            0.0          \n",
       "NODO VJ1,VJ12D,VJ13D,VJ14D.---402  solo un evento  0            0.0          \n",
       "SG4000 19D25D---402                solo un evento  0            0.0          \n",
       "17 MaxNetII MPRF-BH---8466         solo un evento  0            0.0          \n",
       "17 MaxNetII MPRF-BH---9107         solo un evento  0            0.0          \n",
       "\n",
       "                                   probabilidad  \n",
       "key                                              \n",
       "069---1012                         0.750052      \n",
       "080---1012                         0.652841      \n",
       "0SD---1012                         0.239270      \n",
       "11B1---1012                        0.319218      \n",
       "14A12D---1012                      0.652841      \n",
       "...                                     ...      \n",
       "NODO TB1. - TIBABITA I---402       0.000000      \n",
       "NODO VJ1,VJ12D,VJ13D,VJ14D.---402  0.000000      \n",
       "SG4000 19D25D---402                0.000000      \n",
       "17 MaxNetII MPRF-BH---8466         0.000000      \n",
       "17 MaxNetII MPRF-BH---9107         0.000000      \n",
       "\n",
       "[33129 rows x 12 columns]"
      ]
     },
     "execution_count": 135,
     "metadata": {},
     "output_type": "execute_result"
    }
   ],
   "source": [
    "finalPrediccionesFuturas"
   ]
  },
  {
   "cell_type": "markdown",
   "id": "044a7efd",
   "metadata": {},
   "source": [
    "## Prediccion de severidad\n",
    "* Predecir severidad (ets para más de 15registros)\n",
    "* Solo predecir con evento próximos días"
   ]
  },
  {
   "cell_type": "code",
   "execution_count": 136,
   "id": "cb05af57",
   "metadata": {},
   "outputs": [],
   "source": [
    "groupedPred =resumenSeries_un_nonZero[resumenSeries_un_nonZero['key'].isin(finalPrediccionesFuturas[finalPrediccionesFuturas['prediccion']==1].index)][['key','NODO','code','SEVERITY']].groupby('key')"
   ]
  },
  {
   "cell_type": "code",
   "execution_count": 137,
   "id": "fb7e9763",
   "metadata": {},
   "outputs": [],
   "source": [
    "predSeverity=pd.DataFrame(columns=['key','Nodo','Codigo','pred','metodo'])\n",
    "for g in groupedPred.groups:     \n",
    "    #print(g)\n",
    "    group = groupedPred.get_group(g)\n",
    "    num_reg=len(group)\n",
    "    if num_reg==1:\n",
    "        forecast=group['SEVERITY'].values[0]\n",
    "        met='anterior'       \n",
    "    elif num_reg>15 :\n",
    "        periodos = 10 if int(num_reg/2)>10 else int(num_reg/2)\n",
    "        model = ETSModel(group['SEVERITY'].astype(float),seasonal_periods=periodos ,error=\"add\",trend=\"add\",seasonal=\"add\", damped_trend=True,)\n",
    "        model = model.fit()\n",
    "        forecast = model.get_prediction(start=num_reg, end=num_reg).summary_frame(alpha=0.05)['mean'].values[0]\n",
    "        met='ets'\n",
    "    else:        \n",
    "        model = SimpleExpSmoothing(group['SEVERITY'].values)\n",
    "        model= model.fit(smoothing_level=.5)\n",
    "        forecast=model.forecast(1)[0]\n",
    "        met='es'       \n",
    "    #row    \n",
    "    (a_nodo,a_codigo)=g.split(\"---\")\n",
    "    new_row=pd.DataFrame([pd.Series([g,a_nodo,a_codigo,forecast,met])])\n",
    "    new_row.columns=['key','Nodo','Codigo','pred','metodo']   \n",
    "    \n",
    "    predSeverity = predSeverity.append(new_row)\n",
    "    "
   ]
  },
  {
   "cell_type": "markdown",
   "id": "cb0565fc",
   "metadata": {},
   "source": [
    "## Preparación Respuesta"
   ]
  },
  {
   "cell_type": "code",
   "execution_count": 138,
   "id": "ac69f9f3",
   "metadata": {},
   "outputs": [],
   "source": [
    "resultadoFinal=finalPrediccionesFuturas.merge(predSeverity,left_index=True, right_on=['key'], how='left')"
   ]
  },
  {
   "cell_type": "code",
   "execution_count": 139,
   "id": "64be0f3f",
   "metadata": {},
   "outputs": [
    {
     "data": {
      "text/plain": [
       "33129"
      ]
     },
     "execution_count": 139,
     "metadata": {},
     "output_type": "execute_result"
    }
   ],
   "source": [
    "len(resultadoFinal)"
   ]
  },
  {
   "cell_type": "code",
   "execution_count": 140,
   "id": "065bed05",
   "metadata": {},
   "outputs": [],
   "source": [
    "resultadoFinal=resultadoFinal[['NODO','code','estado','class_model','prediccion','probabilidad','pred','metodo']].reset_index(drop=True)"
   ]
  },
  {
   "cell_type": "code",
   "execution_count": 141,
   "id": "86775e67",
   "metadata": {},
   "outputs": [],
   "source": [
    "resultadoFinal.columns=['NODO','CODIGO_ALARMA','TIPO','MODELO_CLASIFICACION','PRED_EVENTO','PROBABILIDAD','PRED_SEVERIDAD','METODO_SEV']"
   ]
  },
  {
   "cell_type": "code",
   "execution_count": 142,
   "id": "9b190290",
   "metadata": {},
   "outputs": [],
   "source": [
    "resultadoFinal['PRED_SEVERIDAD']=resultadoFinal['PRED_SEVERIDAD']-1"
   ]
  },
  {
   "cell_type": "code",
   "execution_count": 143,
   "id": "7ceacaf3",
   "metadata": {},
   "outputs": [
    {
     "data": {
      "text/html": [
       "<div>\n",
       "<style scoped>\n",
       "    .dataframe tbody tr th:only-of-type {\n",
       "        vertical-align: middle;\n",
       "    }\n",
       "\n",
       "    .dataframe tbody tr th {\n",
       "        vertical-align: top;\n",
       "    }\n",
       "\n",
       "    .dataframe thead th {\n",
       "        text-align: right;\n",
       "    }\n",
       "</style>\n",
       "<table border=\"1\" class=\"dataframe\">\n",
       "  <thead>\n",
       "    <tr style=\"text-align: right;\">\n",
       "      <th></th>\n",
       "      <th>NODO</th>\n",
       "      <th>CODIGO_ALARMA</th>\n",
       "      <th>TIPO</th>\n",
       "      <th>MODELO_CLASIFICACION</th>\n",
       "      <th>PRED_EVENTO</th>\n",
       "      <th>PROBABILIDAD</th>\n",
       "      <th>PRED_SEVERIDAD</th>\n",
       "      <th>METODO_SEV</th>\n",
       "    </tr>\n",
       "  </thead>\n",
       "  <tbody>\n",
       "    <tr>\n",
       "      <th>0</th>\n",
       "      <td>069</td>\n",
       "      <td>1012</td>\n",
       "      <td>valido</td>\n",
       "      <td>1</td>\n",
       "      <td>1.0</td>\n",
       "      <td>0.750052</td>\n",
       "      <td>3.0</td>\n",
       "      <td>es</td>\n",
       "    </tr>\n",
       "    <tr>\n",
       "      <th>1</th>\n",
       "      <td>080</td>\n",
       "      <td>1012</td>\n",
       "      <td>valido</td>\n",
       "      <td>1</td>\n",
       "      <td>1.0</td>\n",
       "      <td>0.652841</td>\n",
       "      <td>2.0</td>\n",
       "      <td>es</td>\n",
       "    </tr>\n",
       "    <tr>\n",
       "      <th>2</th>\n",
       "      <td>0SD</td>\n",
       "      <td>1012</td>\n",
       "      <td>valido</td>\n",
       "      <td>1</td>\n",
       "      <td>0.0</td>\n",
       "      <td>0.239270</td>\n",
       "      <td>NaN</td>\n",
       "      <td>NaN</td>\n",
       "    </tr>\n",
       "    <tr>\n",
       "      <th>3</th>\n",
       "      <td>11B1</td>\n",
       "      <td>1012</td>\n",
       "      <td>valido</td>\n",
       "      <td>1</td>\n",
       "      <td>0.0</td>\n",
       "      <td>0.319218</td>\n",
       "      <td>NaN</td>\n",
       "      <td>NaN</td>\n",
       "    </tr>\n",
       "    <tr>\n",
       "      <th>4</th>\n",
       "      <td>14A12D</td>\n",
       "      <td>1012</td>\n",
       "      <td>valido</td>\n",
       "      <td>1</td>\n",
       "      <td>1.0</td>\n",
       "      <td>0.652841</td>\n",
       "      <td>3.0</td>\n",
       "      <td>es</td>\n",
       "    </tr>\n",
       "    <tr>\n",
       "      <th>...</th>\n",
       "      <td>...</td>\n",
       "      <td>...</td>\n",
       "      <td>...</td>\n",
       "      <td>...</td>\n",
       "      <td>...</td>\n",
       "      <td>...</td>\n",
       "      <td>...</td>\n",
       "      <td>...</td>\n",
       "    </tr>\n",
       "    <tr>\n",
       "      <th>33124</th>\n",
       "      <td>NODO TB1. - TIBABITA I</td>\n",
       "      <td>402</td>\n",
       "      <td>solo un evento</td>\n",
       "      <td>0</td>\n",
       "      <td>0.0</td>\n",
       "      <td>0.000000</td>\n",
       "      <td>NaN</td>\n",
       "      <td>NaN</td>\n",
       "    </tr>\n",
       "    <tr>\n",
       "      <th>33125</th>\n",
       "      <td>NODO VJ1,VJ12D,VJ13D,VJ14D.</td>\n",
       "      <td>402</td>\n",
       "      <td>solo un evento</td>\n",
       "      <td>0</td>\n",
       "      <td>0.0</td>\n",
       "      <td>0.000000</td>\n",
       "      <td>NaN</td>\n",
       "      <td>NaN</td>\n",
       "    </tr>\n",
       "    <tr>\n",
       "      <th>33126</th>\n",
       "      <td>SG4000 19D25D</td>\n",
       "      <td>402</td>\n",
       "      <td>solo un evento</td>\n",
       "      <td>0</td>\n",
       "      <td>0.0</td>\n",
       "      <td>0.000000</td>\n",
       "      <td>NaN</td>\n",
       "      <td>NaN</td>\n",
       "    </tr>\n",
       "    <tr>\n",
       "      <th>33127</th>\n",
       "      <td>17 MaxNetII MPRF-BH</td>\n",
       "      <td>8466</td>\n",
       "      <td>solo un evento</td>\n",
       "      <td>0</td>\n",
       "      <td>0.0</td>\n",
       "      <td>0.000000</td>\n",
       "      <td>NaN</td>\n",
       "      <td>NaN</td>\n",
       "    </tr>\n",
       "    <tr>\n",
       "      <th>33128</th>\n",
       "      <td>17 MaxNetII MPRF-BH</td>\n",
       "      <td>9107</td>\n",
       "      <td>solo un evento</td>\n",
       "      <td>0</td>\n",
       "      <td>0.0</td>\n",
       "      <td>0.000000</td>\n",
       "      <td>NaN</td>\n",
       "      <td>NaN</td>\n",
       "    </tr>\n",
       "  </tbody>\n",
       "</table>\n",
       "<p>33129 rows × 8 columns</p>\n",
       "</div>"
      ],
      "text/plain": [
       "                              NODO CODIGO_ALARMA            TIPO  \\\n",
       "0      069                          1012          valido           \n",
       "1      080                          1012          valido           \n",
       "2      0SD                          1012          valido           \n",
       "3      11B1                         1012          valido           \n",
       "4      14A12D                       1012          valido           \n",
       "...       ...                        ...             ...           \n",
       "33124  NODO TB1. - TIBABITA I       402           solo un evento   \n",
       "33125  NODO VJ1,VJ12D,VJ13D,VJ14D.  402           solo un evento   \n",
       "33126  SG4000 19D25D                402           solo un evento   \n",
       "33127  17 MaxNetII MPRF-BH          8466          solo un evento   \n",
       "33128  17 MaxNetII MPRF-BH          9107          solo un evento   \n",
       "\n",
       "       MODELO_CLASIFICACION  PRED_EVENTO  PROBABILIDAD PRED_SEVERIDAD  \\\n",
       "0      1                     1.0          0.750052      3.0             \n",
       "1      1                     1.0          0.652841      2.0             \n",
       "2      1                     0.0          0.239270      NaN             \n",
       "3      1                     0.0          0.319218      NaN             \n",
       "4      1                     1.0          0.652841      3.0             \n",
       "...   ..                     ...               ...      ...             \n",
       "33124  0                     0.0          0.000000      NaN             \n",
       "33125  0                     0.0          0.000000      NaN             \n",
       "33126  0                     0.0          0.000000      NaN             \n",
       "33127  0                     0.0          0.000000      NaN             \n",
       "33128  0                     0.0          0.000000      NaN             \n",
       "\n",
       "      METODO_SEV  \n",
       "0      es         \n",
       "1      es         \n",
       "2      NaN        \n",
       "3      NaN        \n",
       "4      es         \n",
       "...    ..         \n",
       "33124  NaN        \n",
       "33125  NaN        \n",
       "33126  NaN        \n",
       "33127  NaN        \n",
       "33128  NaN        \n",
       "\n",
       "[33129 rows x 8 columns]"
      ]
     },
     "execution_count": 143,
     "metadata": {},
     "output_type": "execute_result"
    }
   ],
   "source": [
    "resultadoFinal"
   ]
  },
  {
   "cell_type": "code",
   "execution_count": 144,
   "id": "b4efbb93",
   "metadata": {},
   "outputs": [],
   "source": [
    "resultadoFinal.to_csv('prediccionFase4.csv')"
   ]
  },
  {
   "cell_type": "markdown",
   "id": "719cd372",
   "metadata": {},
   "source": [
    "## Preguntas finales\n",
    "* Formato de la historia\n",
    "* Validar Formato Entregable"
   ]
  },
  {
   "cell_type": "code",
   "execution_count": null,
   "id": "3683cc5c",
   "metadata": {},
   "outputs": [],
   "source": []
  }
 ],
 "metadata": {
  "kernelspec": {
   "display_name": "Python 3 (ipykernel)",
   "language": "python",
   "name": "python3"
  },
  "language_info": {
   "codemirror_mode": {
    "name": "ipython",
    "version": 3
   },
   "file_extension": ".py",
   "mimetype": "text/x-python",
   "name": "python",
   "nbconvert_exporter": "python",
   "pygments_lexer": "ipython3",
   "version": "3.9.10"
  }
 },
 "nbformat": 4,
 "nbformat_minor": 5
}
