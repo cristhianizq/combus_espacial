{
 "cells": [
  {
   "cell_type": "code",
   "execution_count": 30,
   "id": "40b784d7-a322-434f-aeb8-a2fa6a835da7",
   "metadata": {},
   "outputs": [],
   "source": [
    "# import fiona._loading\n",
    "import geopandas as gpd\n",
    "from geopandas import GeoDataFrame\n",
    "\n",
    "import pandas as pd\n",
    "import numpy as np\n",
    "import seaborn as sns\n",
    "import matplotlib.pyplot as plt\n",
    "%matplotlib inline\n",
    "import os\n",
    "\n",
    "import datetime as dt\n",
    "from dateutil.relativedelta import relativedelta\n",
    "import pysal\n",
    "import pymannkendall as mk\n",
    "from pysal.explore import esda\n",
    "from pysal.lib import weights\n",
    "#from geovoronoi import voronoi_regions_from_coords, points_to_coords\n",
    "from esda.moran import Moran_Local_BV\n",
    "from splot.esda import plot_moran_bv_simulation, plot_moran_bv\n",
    "from esda.moran import Moran\n",
    "from esda.moran import Moran_BV, Moran_Local_BV\n",
    "from esda.moran import Moran_Local\n",
    "from splot.esda import plot_moran\n",
    "from pyproj import Proj, transform\n",
    "\n",
    "from geovoronoi.plotting import subplot_for_map, plot_voronoi_polys_with_points_in_area\n",
    "from geovoronoi import voronoi_regions_from_coords, points_to_coords\n",
    "\n",
    "import urllib.request as urllib2"
   ]
  },
  {
   "cell_type": "code",
   "execution_count": 31,
   "id": "72a4d2a0-0bb7-4c0c-9553-f3944d5adccc",
   "metadata": {},
   "outputs": [],
   "source": [
    "# pip list"
   ]
  },
  {
   "cell_type": "code",
   "execution_count": 32,
   "id": "d4d063d2-e113-4351-91c6-13c6f8623a73",
   "metadata": {},
   "outputs": [],
   "source": [
    "# pip install splot"
   ]
  },
  {
   "cell_type": "code",
   "execution_count": 33,
   "id": "02caa76e-1fa0-4a73-8bc6-148e2e80f13d",
   "metadata": {},
   "outputs": [],
   "source": [
    "# pip install pysal"
   ]
  },
  {
   "cell_type": "code",
   "execution_count": 34,
   "id": "da0433dc-dedf-4917-88fd-a242df8f064d",
   "metadata": {},
   "outputs": [],
   "source": [
    "# pip install esda"
   ]
  },
  {
   "cell_type": "code",
   "execution_count": 35,
   "id": "b106c5be-5c49-4b32-830e-3b91050a4089",
   "metadata": {},
   "outputs": [],
   "source": [
    "# pip install pymannkendall"
   ]
  },
  {
   "cell_type": "code",
   "execution_count": 36,
   "id": "c4047a53-5e64-4910-87e5-5b1be05adf66",
   "metadata": {},
   "outputs": [],
   "source": [
    "# os.chdir('D:\\Gestion\\Proyectos\\GeoEspacial')\n",
    "os.chdir('D:\\\\Will_Analisis\\\\')\n",
    "analysis_dir = os.getcwd()\n",
    "\n",
    "# data_dir = os.path.join(analysis_dir, 'Modelo_KPI_Calidad_Geo\\\\1_Datos')\n",
    "data_dir= os.path.join(analysis_dir,'Proyect_churn\\\\Data\\\\')\n",
    "result_dir= os.path.join(analysis_dir,'Proyect_churn\\\\')\n",
    "data_geojson = os.path.join(analysis_dir, 'Datos\\\\Shapefiles\\\\')\n",
    "# shape_dir = os.path.join(analysis_dir, 'Datos\\\\Shapefiles')\n",
    "\n",
    "# C:\\Users\\WilsonAdolfoEstacioR\\Documents\\Datos\\Shapefiles\\HFC_UNIFICADO\\1_ACTUAL"
   ]
  },
  {
   "cell_type": "code",
   "execution_count": 37,
   "id": "f2deb438-ee51-4d5b-afcc-352707431c83",
   "metadata": {},
   "outputs": [],
   "source": [
    "# start = datetime.now()"
   ]
  },
  {
   "cell_type": "code",
   "execution_count": 38,
   "id": "1ec99ea3",
   "metadata": {},
   "outputs": [],
   "source": [
    "pd.set_option('display.max_columns', None)"
   ]
  },
  {
   "cell_type": "code",
   "execution_count": 39,
   "id": "e0abbd88-4a7a-4792-afc3-74f4670f472d",
   "metadata": {},
   "outputs": [],
   "source": [
    "Fija=pd.read_csv(os.path.join(data_dir,\"202202\\\\Historico_churn_FIJA_2022_02.csv\"), sep=\";\")  # esta actualizada 2022-02-01"
   ]
  },
  {
   "cell_type": "code",
   "execution_count": 40,
   "id": "aa26adb1-9c74-402d-982a-9a2126cc0a0f",
   "metadata": {},
   "outputs": [],
   "source": [
    "Activos=pd.read_csv(os.path.join(data_dir,\"202202\\\\Historco_activos.csv\"), sep=\";\")"
   ]
  },
  {
   "cell_type": "code",
   "execution_count": 41,
   "id": "bb9b4914-2ad9-4d26-bfe4-af94b48ea3a3",
   "metadata": {},
   "outputs": [],
   "source": [
    "BetaMega=pd.read_csv(os.path.join(data_dir,\"202202\\\\Historco_Beta.csv\"), sep=\";\")  # data ol BETA_MEGA_FIJA_12 data new Historco_Beta"
   ]
  },
  {
   "cell_type": "code",
   "execution_count": 42,
   "id": "09def2d1-f1e5-415a-af1b-5afdd60db39c",
   "metadata": {},
   "outputs": [
    {
     "data": {
      "text/html": [
       "<div>\n",
       "<style scoped>\n",
       "    .dataframe tbody tr th:only-of-type {\n",
       "        vertical-align: middle;\n",
       "    }\n",
       "\n",
       "    .dataframe tbody tr th {\n",
       "        vertical-align: top;\n",
       "    }\n",
       "\n",
       "    .dataframe thead th {\n",
       "        text-align: right;\n",
       "    }\n",
       "</style>\n",
       "<table border=\"1\" class=\"dataframe\">\n",
       "  <thead>\n",
       "    <tr style=\"text-align: right;\">\n",
       "      <th></th>\n",
       "      <th>NODO</th>\n",
       "      <th>CUENTA</th>\n",
       "      <th>CANT_SERV</th>\n",
       "      <th>CANT_SERV1</th>\n",
       "      <th>RANGO_ANTIGUEDAD</th>\n",
       "      <th>ANTIGUEDAD_MESES</th>\n",
       "      <th>PERIODO_BAJA</th>\n",
       "      <th>RENTA</th>\n",
       "      <th>MOTIVO_DESCONEXION</th>\n",
       "      <th>CANT_F_CHURN</th>\n",
       "      <th>CANT_M_CHURN</th>\n",
       "      <th>EDAD</th>\n",
       "      <th>GENERACION_CHURN</th>\n",
       "      <th>DESCRIPCION_TIPO_CLIENTE</th>\n",
       "      <th>NO_CONVERGENTE_CHURN</th>\n",
       "      <th>SI_CONVERGENTE_CHURN</th>\n",
       "      <th>PAQ_INT_CHURN</th>\n",
       "      <th>PAQ_VOZ_CHURN</th>\n",
       "      <th>PAQ_TV_CHURN</th>\n",
       "      <th>CIUDAD</th>\n",
       "      <th>DIVISIONAL</th>\n",
       "      <th>MEGAS_CLARO_CHURN</th>\n",
       "      <th>ESTRATO</th>\n",
       "    </tr>\n",
       "  </thead>\n",
       "  <tbody>\n",
       "    <tr>\n",
       "      <th>0</th>\n",
       "      <td>PSM</td>\n",
       "      <td>64620533</td>\n",
       "      <td>TRIPLE</td>\n",
       "      <td>3</td>\n",
       "      <td>2 A?OS</td>\n",
       "      <td>0</td>\n",
       "      <td>202111</td>\n",
       "      <td>0</td>\n",
       "      <td>NO DIO MOTIVO</td>\n",
       "      <td>1</td>\n",
       "      <td>0</td>\n",
       "      <td>42.0</td>\n",
       "      <td>GENERACION X</td>\n",
       "      <td>TITANIO</td>\n",
       "      <td>0</td>\n",
       "      <td>1</td>\n",
       "      <td>1</td>\n",
       "      <td>1</td>\n",
       "      <td>1</td>\n",
       "      <td>PEREIRA</td>\n",
       "      <td>REGION NOROCCIDENTE</td>\n",
       "      <td>100.0</td>\n",
       "      <td>6</td>\n",
       "    </tr>\n",
       "    <tr>\n",
       "      <th>1</th>\n",
       "      <td>LOL</td>\n",
       "      <td>83232119</td>\n",
       "      <td>SENCILLO</td>\n",
       "      <td>1</td>\n",
       "      <td>2 A?OS</td>\n",
       "      <td>9</td>\n",
       "      <td>202010</td>\n",
       "      <td>88808</td>\n",
       "      <td>NO USAR NCUMPLE REQUISI. FO CO</td>\n",
       "      <td>0</td>\n",
       "      <td>1</td>\n",
       "      <td>33.0</td>\n",
       "      <td>GENERACION Y O MILENIALS</td>\n",
       "      <td>PREFERENCIAL</td>\n",
       "      <td>1</td>\n",
       "      <td>0</td>\n",
       "      <td>0</td>\n",
       "      <td>1</td>\n",
       "      <td>0</td>\n",
       "      <td>BARRANQUILLA</td>\n",
       "      <td>REGION COSTA</td>\n",
       "      <td>NaN</td>\n",
       "      <td>3</td>\n",
       "    </tr>\n",
       "  </tbody>\n",
       "</table>\n",
       "</div>"
      ],
      "text/plain": [
       "  NODO    CUENTA CANT_SERV  CANT_SERV1 RANGO_ANTIGUEDAD  ANTIGUEDAD_MESES  \\\n",
       "0  PSM  64620533    TRIPLE           3           2 A?OS                 0   \n",
       "1  LOL  83232119  SENCILLO           1           2 A?OS                 9   \n",
       "\n",
       "   PERIODO_BAJA  RENTA              MOTIVO_DESCONEXION  CANT_F_CHURN  \\\n",
       "0        202111      0                   NO DIO MOTIVO             1   \n",
       "1        202010  88808  NO USAR NCUMPLE REQUISI. FO CO             0   \n",
       "\n",
       "   CANT_M_CHURN  EDAD          GENERACION_CHURN DESCRIPCION_TIPO_CLIENTE  \\\n",
       "0             0  42.0              GENERACION X                  TITANIO   \n",
       "1             1  33.0  GENERACION Y O MILENIALS             PREFERENCIAL   \n",
       "\n",
       "   NO_CONVERGENTE_CHURN  SI_CONVERGENTE_CHURN  PAQ_INT_CHURN  PAQ_VOZ_CHURN  \\\n",
       "0                     0                     1              1              1   \n",
       "1                     1                     0              0              1   \n",
       "\n",
       "   PAQ_TV_CHURN        CIUDAD           DIVISIONAL  MEGAS_CLARO_CHURN ESTRATO  \n",
       "0             1       PEREIRA  REGION NOROCCIDENTE              100.0       6  \n",
       "1             0  BARRANQUILLA         REGION COSTA                NaN       3  "
      ]
     },
     "execution_count": 42,
     "metadata": {},
     "output_type": "execute_result"
    }
   ],
   "source": [
    "Fija.head(2)"
   ]
  },
  {
   "cell_type": "code",
   "execution_count": 43,
   "id": "aa915c26",
   "metadata": {},
   "outputs": [
    {
     "data": {
      "text/plain": [
       "202006"
      ]
     },
     "execution_count": 43,
     "metadata": {},
     "output_type": "execute_result"
    }
   ],
   "source": [
    "Fija.PERIODO_BAJA.min()"
   ]
  },
  {
   "cell_type": "code",
   "execution_count": 44,
   "id": "6d39765f-9d38-4b26-9a4a-83fd72ba9fec",
   "metadata": {},
   "outputs": [
    {
     "data": {
      "text/html": [
       "<div>\n",
       "<style scoped>\n",
       "    .dataframe tbody tr th:only-of-type {\n",
       "        vertical-align: middle;\n",
       "    }\n",
       "\n",
       "    .dataframe tbody tr th {\n",
       "        vertical-align: top;\n",
       "    }\n",
       "\n",
       "    .dataframe thead th {\n",
       "        text-align: right;\n",
       "    }\n",
       "</style>\n",
       "<table border=\"1\" class=\"dataframe\">\n",
       "  <thead>\n",
       "    <tr style=\"text-align: right;\">\n",
       "      <th></th>\n",
       "      <th>NODO</th>\n",
       "      <th>ANIO</th>\n",
       "      <th>MES</th>\n",
       "      <th>RENTA_ACT</th>\n",
       "      <th>PROM_RENTA_ACT</th>\n",
       "      <th>CANTIDAD</th>\n",
       "      <th>CANT_USER_HOGAR</th>\n",
       "      <th>CANT_USER_EMPRESARIAL</th>\n",
       "      <th>MODA_ESTRATO</th>\n",
       "    </tr>\n",
       "  </thead>\n",
       "  <tbody>\n",
       "    <tr>\n",
       "      <th>0</th>\n",
       "      <td>JRR</td>\n",
       "      <td>2022</td>\n",
       "      <td>1</td>\n",
       "      <td>21051256</td>\n",
       "      <td>107404</td>\n",
       "      <td>196</td>\n",
       "      <td>194</td>\n",
       "      <td>2</td>\n",
       "      <td>3</td>\n",
       "    </tr>\n",
       "    <tr>\n",
       "      <th>1</th>\n",
       "      <td>49J</td>\n",
       "      <td>2022</td>\n",
       "      <td>1</td>\n",
       "      <td>3510915</td>\n",
       "      <td>117031</td>\n",
       "      <td>30</td>\n",
       "      <td>28</td>\n",
       "      <td>2</td>\n",
       "      <td>3</td>\n",
       "    </tr>\n",
       "    <tr>\n",
       "      <th>2</th>\n",
       "      <td>2TL</td>\n",
       "      <td>2022</td>\n",
       "      <td>1</td>\n",
       "      <td>32235660</td>\n",
       "      <td>94256</td>\n",
       "      <td>342</td>\n",
       "      <td>337</td>\n",
       "      <td>5</td>\n",
       "      <td>3</td>\n",
       "    </tr>\n",
       "  </tbody>\n",
       "</table>\n",
       "</div>"
      ],
      "text/plain": [
       "  NODO  ANIO  MES  RENTA_ACT  PROM_RENTA_ACT  CANTIDAD  CANT_USER_HOGAR  \\\n",
       "0  JRR  2022    1   21051256          107404       196              194   \n",
       "1  49J  2022    1    3510915          117031        30               28   \n",
       "2  2TL  2022    1   32235660           94256       342              337   \n",
       "\n",
       "   CANT_USER_EMPRESARIAL MODA_ESTRATO  \n",
       "0                      2            3  \n",
       "1                      2            3  \n",
       "2                      5            3  "
      ]
     },
     "execution_count": 44,
     "metadata": {},
     "output_type": "execute_result"
    }
   ],
   "source": [
    "Activos.head(3)"
   ]
  },
  {
   "cell_type": "code",
   "execution_count": 45,
   "id": "ecc4d248-63b1-473b-9b17-6a6b323a6cd2",
   "metadata": {},
   "outputs": [
    {
     "data": {
      "text/html": [
       "<div>\n",
       "<style scoped>\n",
       "    .dataframe tbody tr th:only-of-type {\n",
       "        vertical-align: middle;\n",
       "    }\n",
       "\n",
       "    .dataframe tbody tr th {\n",
       "        vertical-align: top;\n",
       "    }\n",
       "\n",
       "    .dataframe thead th {\n",
       "        text-align: right;\n",
       "    }\n",
       "</style>\n",
       "<table border=\"1\" class=\"dataframe\">\n",
       "  <thead>\n",
       "    <tr style=\"text-align: right;\">\n",
       "      <th></th>\n",
       "      <th>ANIO</th>\n",
       "      <th>MES</th>\n",
       "      <th>ALFA</th>\n",
       "      <th>BETA</th>\n",
       "      <th>MEGA</th>\n",
       "      <th>NODO</th>\n",
       "    </tr>\n",
       "  </thead>\n",
       "  <tbody>\n",
       "    <tr>\n",
       "      <th>0</th>\n",
       "      <td>2022</td>\n",
       "      <td>1</td>\n",
       "      <td>0.561754</td>\n",
       "      <td>1.945455</td>\n",
       "      <td>0.288752</td>\n",
       "      <td>LMR</td>\n",
       "    </tr>\n",
       "    <tr>\n",
       "      <th>1</th>\n",
       "      <td>2021</td>\n",
       "      <td>2</td>\n",
       "      <td>0.486044</td>\n",
       "      <td>1.038136</td>\n",
       "      <td>0.468189</td>\n",
       "      <td>SU2</td>\n",
       "    </tr>\n",
       "    <tr>\n",
       "      <th>2</th>\n",
       "      <td>2021</td>\n",
       "      <td>4</td>\n",
       "      <td>0.516764</td>\n",
       "      <td>1.789668</td>\n",
       "      <td>0.288749</td>\n",
       "      <td>AUI</td>\n",
       "    </tr>\n",
       "  </tbody>\n",
       "</table>\n",
       "</div>"
      ],
      "text/plain": [
       "   ANIO  MES      ALFA      BETA      MEGA NODO\n",
       "0  2022    1  0.561754  1.945455  0.288752  LMR\n",
       "1  2021    2  0.486044  1.038136  0.468189  SU2\n",
       "2  2021    4  0.516764  1.789668  0.288749  AUI"
      ]
     },
     "execution_count": 45,
     "metadata": {},
     "output_type": "execute_result"
    }
   ],
   "source": [
    "BetaMega.head(3)"
   ]
  },
  {
   "cell_type": "code",
   "execution_count": 46,
   "id": "5ce0396c",
   "metadata": {},
   "outputs": [
    {
     "data": {
      "text/plain": [
       "12"
      ]
     },
     "execution_count": 46,
     "metadata": {},
     "output_type": "execute_result"
    }
   ],
   "source": [
    "BetaMega.MES.max()"
   ]
  },
  {
   "cell_type": "code",
   "execution_count": 47,
   "id": "629da490-7575-4da7-b31d-07181e674fdb",
   "metadata": {},
   "outputs": [
    {
     "name": "stdout",
     "output_type": "stream",
     "text": [
      "(731110, 23)\n",
      "(191365, 6)\n",
      "(336049, 9)\n"
     ]
    }
   ],
   "source": [
    "print(Fija.shape)\n",
    "print(BetaMega.shape)\n",
    "print(Activos.shape)   # no-bidirecional"
   ]
  },
  {
   "cell_type": "code",
   "execution_count": 48,
   "id": "d584e400-848a-42ce-87b2-e260b3f01cb3",
   "metadata": {},
   "outputs": [],
   "source": [
    "# categori_columna_x=Fija.CIUDAD.unique()\n",
    "# categori_columna_x"
   ]
  },
  {
   "cell_type": "markdown",
   "id": "8421d430-b3c4-4b0d-b8ac-b3e1a3f20ed9",
   "metadata": {},
   "source": [
    "## Areglo datos para Fija"
   ]
  },
  {
   "cell_type": "code",
   "execution_count": 49,
   "id": "c98b69d9-49ca-4714-8d0a-94ed953aa618",
   "metadata": {},
   "outputs": [],
   "source": [
    "Fija['PERIODO_BAJA'] = Fija['PERIODO_BAJA'].apply(str)\n",
    "Fija['ANIO']=Fija['PERIODO_BAJA'].str[:4]\n",
    "Fija['MES']=Fija['PERIODO_BAJA'].str[4:]\n",
    "Fija=Fija.drop(columns='PERIODO_BAJA')\n",
    "\n",
    "Fija['MES']=Fija['MES'].astype(int)\n",
    "\n",
    "Fija['DIA']=1 # le agrego la columna dia\n",
    "Fija['MES'] = [f'0{x}' if x <10 else str(x) for x in Fija['MES']]\n",
    "Fija['DIA'] = [f'0{x}' if x <10 else str(x) for x in Fija['DIA']]\n",
    "Fija['FECHA'] = Fija['ANIO'] + '-' + Fija['MES'] + '-' + Fija['DIA']\n",
    "Fija[\"FECHA\"]=pd.to_datetime(Fija[\"FECHA\"])\n",
    "# eliminamos columnas\n",
    "Fija=Fija.drop(['DIA','MES','ANIO'], axis=1)\n",
    "\n",
    "Fija_2021=Fija.loc[Fija['FECHA'].dt.year == 2021]"
   ]
  },
  {
   "cell_type": "code",
   "execution_count": 50,
   "id": "8b541339-6d3b-4b0d-a924-dc5ea3a05702",
   "metadata": {},
   "outputs": [
    {
     "data": {
      "text/plain": [
       "(444839, 23)"
      ]
     },
     "execution_count": 50,
     "metadata": {},
     "output_type": "execute_result"
    }
   ],
   "source": [
    "Fija_2021.shape"
   ]
  },
  {
   "cell_type": "code",
   "execution_count": 51,
   "id": "fc9e7f71-f7cf-4419-a2ba-419d6dd84638",
   "metadata": {},
   "outputs": [],
   "source": [
    "# Fija_2021[Fija_2021['NODO']=='01S'].sort_values(['FECHA'])"
   ]
  },
  {
   "cell_type": "code",
   "execution_count": 52,
   "id": "4b52f9ea-9b95-4128-a621-b99a06b1cc0a",
   "metadata": {},
   "outputs": [
    {
     "name": "stderr",
     "output_type": "stream",
     "text": [
      "C:\\Users\\WILSON~1\\AppData\\Local\\Temp/ipykernel_17432/3326343048.py:1: SettingWithCopyWarning: \n",
      "A value is trying to be set on a copy of a slice from a DataFrame.\n",
      "Try using .loc[row_indexer,col_indexer] = value instead\n",
      "\n",
      "See the caveats in the documentation: https://pandas.pydata.org/pandas-docs/stable/user_guide/indexing.html#returning-a-view-versus-a-copy\n",
      "  Fija_2021['ESTRATO'] = Fija_2021['ESTRATO'].replace('NR',0)\n",
      "C:\\Users\\WILSON~1\\AppData\\Local\\Temp/ipykernel_17432/3326343048.py:2: SettingWithCopyWarning: \n",
      "A value is trying to be set on a copy of a slice from a DataFrame.\n",
      "Try using .loc[row_indexer,col_indexer] = value instead\n",
      "\n",
      "See the caveats in the documentation: https://pandas.pydata.org/pandas-docs/stable/user_guide/indexing.html#returning-a-view-versus-a-copy\n",
      "  Fija_2021['ESTRATO'] = Fija_2021['ESTRATO'].replace('NG',0)\n",
      "C:\\Users\\WILSON~1\\AppData\\Local\\Temp/ipykernel_17432/3326343048.py:3: SettingWithCopyWarning: \n",
      "A value is trying to be set on a copy of a slice from a DataFrame.\n",
      "Try using .loc[row_indexer,col_indexer] = value instead\n",
      "\n",
      "See the caveats in the documentation: https://pandas.pydata.org/pandas-docs/stable/user_guide/indexing.html#returning-a-view-versus-a-copy\n",
      "  Fija_2021['ESTRATO'] = Fija_2021['ESTRATO'].replace(np.nan,0)\n",
      "C:\\Users\\WILSON~1\\AppData\\Local\\Temp/ipykernel_17432/3326343048.py:4: SettingWithCopyWarning: \n",
      "A value is trying to be set on a copy of a slice from a DataFrame.\n",
      "Try using .loc[row_indexer,col_indexer] = value instead\n",
      "\n",
      "See the caveats in the documentation: https://pandas.pydata.org/pandas-docs/stable/user_guide/indexing.html#returning-a-view-versus-a-copy\n",
      "  Fija_2021['ESTRATO'] = Fija_2021['ESTRATO'].apply(int)\n"
     ]
    }
   ],
   "source": [
    "Fija_2021['ESTRATO'] = Fija_2021['ESTRATO'].replace('NR',0)\n",
    "Fija_2021['ESTRATO'] = Fija_2021['ESTRATO'].replace('NG',0)\n",
    "Fija_2021['ESTRATO'] = Fija_2021['ESTRATO'].replace(np.nan,0)\n",
    "Fija_2021['ESTRATO'] = Fija_2021['ESTRATO'].apply(int)"
   ]
  },
  {
   "cell_type": "code",
   "execution_count": 53,
   "id": "d0174d3f-6ca2-4e5e-af7b-67d40b01bfc2",
   "metadata": {},
   "outputs": [],
   "source": [
    "# Fija_2021[Fija_2021['NODO'].isin([\"01J\"])].sort_values(by=\"FECHA\",ascending=True)"
   ]
  },
  {
   "cell_type": "code",
   "execution_count": 54,
   "id": "0ca15011-881f-40e9-93f7-9272a21c70b6",
   "metadata": {},
   "outputs": [],
   "source": [
    "df_fija=Fija_2021.groupby(['NODO','FECHA']).agg({'NODO':'count','ESTRATO':pd.Series.mode,'MOTIVO_DESCONEXION':pd.Series.mode,'EDAD':np.mean,'RENTA':'sum'})"
   ]
  },
  {
   "cell_type": "code",
   "execution_count": 55,
   "id": "2b66234d-b893-4dae-b2f4-c75f8308a3fa",
   "metadata": {},
   "outputs": [],
   "source": [
    "df_fija.rename(columns={'NODO':'CANTIDAD_CHURN'},inplace=True)"
   ]
  },
  {
   "cell_type": "code",
   "execution_count": 56,
   "id": "4658830d-5fed-406f-a697-10602dec3947",
   "metadata": {},
   "outputs": [],
   "source": [
    "# df_fija=df_fija.reset_index()  # Opcional"
   ]
  },
  {
   "cell_type": "code",
   "execution_count": 57,
   "id": "ccbb4a07-23c1-4443-8b96-61db0c93e81d",
   "metadata": {},
   "outputs": [
    {
     "data": {
      "text/html": [
       "<div>\n",
       "<style scoped>\n",
       "    .dataframe tbody tr th:only-of-type {\n",
       "        vertical-align: middle;\n",
       "    }\n",
       "\n",
       "    .dataframe tbody tr th {\n",
       "        vertical-align: top;\n",
       "    }\n",
       "\n",
       "    .dataframe thead th {\n",
       "        text-align: right;\n",
       "    }\n",
       "</style>\n",
       "<table border=\"1\" class=\"dataframe\">\n",
       "  <thead>\n",
       "    <tr style=\"text-align: right;\">\n",
       "      <th></th>\n",
       "      <th></th>\n",
       "      <th>CANTIDAD_CHURN</th>\n",
       "      <th>ESTRATO</th>\n",
       "      <th>MOTIVO_DESCONEXION</th>\n",
       "      <th>EDAD</th>\n",
       "      <th>RENTA</th>\n",
       "    </tr>\n",
       "    <tr>\n",
       "      <th>NODO</th>\n",
       "      <th>FECHA</th>\n",
       "      <th></th>\n",
       "      <th></th>\n",
       "      <th></th>\n",
       "      <th></th>\n",
       "      <th></th>\n",
       "    </tr>\n",
       "  </thead>\n",
       "  <tbody>\n",
       "    <tr>\n",
       "      <th rowspan=\"5\" valign=\"top\">01J</th>\n",
       "      <th>2021-05-01</th>\n",
       "      <td>1</td>\n",
       "      <td>3</td>\n",
       "      <td>TRASLADO</td>\n",
       "      <td>59.0</td>\n",
       "      <td>65318</td>\n",
       "    </tr>\n",
       "    <tr>\n",
       "      <th>2021-06-01</th>\n",
       "      <td>1</td>\n",
       "      <td>4</td>\n",
       "      <td>PRECIO Y CAPACIDAD DE PAGO</td>\n",
       "      <td>28.0</td>\n",
       "      <td>87603</td>\n",
       "    </tr>\n",
       "    <tr>\n",
       "      <th>2021-08-01</th>\n",
       "      <td>1</td>\n",
       "      <td>3</td>\n",
       "      <td>FALLAS SERVICIO (CALIDAD)</td>\n",
       "      <td>64.0</td>\n",
       "      <td>50301</td>\n",
       "    </tr>\n",
       "    <tr>\n",
       "      <th>2021-09-01</th>\n",
       "      <td>1</td>\n",
       "      <td>3</td>\n",
       "      <td>PRECIO Y CAPACIDAD DE PAGO</td>\n",
       "      <td>64.0</td>\n",
       "      <td>163800</td>\n",
       "    </tr>\n",
       "    <tr>\n",
       "      <th>2021-12-01</th>\n",
       "      <td>1</td>\n",
       "      <td>3</td>\n",
       "      <td>PRECIO Y CAPACIDAD DE PAGO</td>\n",
       "      <td>69.0</td>\n",
       "      <td>81517</td>\n",
       "    </tr>\n",
       "  </tbody>\n",
       "</table>\n",
       "</div>"
      ],
      "text/plain": [
       "                 CANTIDAD_CHURN ESTRATO          MOTIVO_DESCONEXION  EDAD  \\\n",
       "NODO FECHA                                                                  \n",
       "01J  2021-05-01               1       3                    TRASLADO  59.0   \n",
       "     2021-06-01               1       4  PRECIO Y CAPACIDAD DE PAGO  28.0   \n",
       "     2021-08-01               1       3   FALLAS SERVICIO (CALIDAD)  64.0   \n",
       "     2021-09-01               1       3  PRECIO Y CAPACIDAD DE PAGO  64.0   \n",
       "     2021-12-01               1       3  PRECIO Y CAPACIDAD DE PAGO  69.0   \n",
       "\n",
       "                  RENTA  \n",
       "NODO FECHA               \n",
       "01J  2021-05-01   65318  \n",
       "     2021-06-01   87603  \n",
       "     2021-08-01   50301  \n",
       "     2021-09-01  163800  \n",
       "     2021-12-01   81517  "
      ]
     },
     "execution_count": 57,
     "metadata": {},
     "output_type": "execute_result"
    }
   ],
   "source": [
    "df_fija.head()"
   ]
  },
  {
   "cell_type": "code",
   "execution_count": 58,
   "id": "3fa52790-e335-4dbc-acf1-6702418d96c2",
   "metadata": {},
   "outputs": [
    {
     "data": {
      "text/plain": [
       "(125427, 5)"
      ]
     },
     "execution_count": 58,
     "metadata": {},
     "output_type": "execute_result"
    }
   ],
   "source": [
    "df_fija.shape"
   ]
  },
  {
   "cell_type": "markdown",
   "id": "995c99ad-4ca3-4f45-b603-0a3768543982",
   "metadata": {},
   "source": [
    "## Arreglo para beta y mega"
   ]
  },
  {
   "cell_type": "code",
   "execution_count": 59,
   "id": "ef8b2bc7-c289-4a8d-ad5b-ab6bc2057b39",
   "metadata": {},
   "outputs": [
    {
     "name": "stdout",
     "output_type": "stream",
     "text": [
      "<class 'pandas.core.frame.DataFrame'>\n",
      "RangeIndex: 191365 entries, 0 to 191364\n",
      "Data columns (total 6 columns):\n",
      " #   Column  Non-Null Count   Dtype  \n",
      "---  ------  --------------   -----  \n",
      " 0   ANIO    191365 non-null  int64  \n",
      " 1   MES     191365 non-null  int64  \n",
      " 2   ALFA    153160 non-null  float64\n",
      " 3   BETA    170700 non-null  float64\n",
      " 4   MEGA    161589 non-null  float64\n",
      " 5   NODO    191365 non-null  object \n",
      "dtypes: float64(3), int64(2), object(1)\n",
      "memory usage: 8.8+ MB\n"
     ]
    }
   ],
   "source": [
    "BetaMega.info()"
   ]
  },
  {
   "cell_type": "code",
   "execution_count": 60,
   "id": "27e026f5-c210-4432-94d0-bf3810ec19eb",
   "metadata": {},
   "outputs": [],
   "source": [
    "BetaMega['DIA']=1 # le agrego la columna dia\n",
    "BetaMega['ANIO']=2021 # le agrego la columna dia\n",
    "BetaMega['MES'] = [f'0{x}' if x <10 else str(x) for x in BetaMega['MES']]\n",
    "BetaMega['DIA'] = [f'0{x}' if x <10 else str(x) for x in BetaMega['DIA']]\n",
    "BetaMega['FECHA'] = BetaMega['ANIO'].astype('str') + '-' + BetaMega['MES'] + '-' + BetaMega['DIA']\n",
    "BetaMega=BetaMega.drop(['DIA','MES','ANIO'], axis=1)\n",
    "BetaMega[\"FECHA\"]=pd.to_datetime(BetaMega[\"FECHA\"])"
   ]
  },
  {
   "cell_type": "code",
   "execution_count": 61,
   "id": "b3fba066-f6b5-4609-bd3e-c4f960a575b1",
   "metadata": {},
   "outputs": [
    {
     "data": {
      "text/plain": [
       "(191365, 5)"
      ]
     },
     "execution_count": 61,
     "metadata": {},
     "output_type": "execute_result"
    }
   ],
   "source": [
    "BetaMega.shape"
   ]
  },
  {
   "cell_type": "markdown",
   "id": "310dc1e3-95cb-4481-9664-eeb3417e6d98",
   "metadata": {},
   "source": [
    "## Arreglo para Activos"
   ]
  },
  {
   "cell_type": "code",
   "execution_count": 62,
   "id": "87954410-0cde-404d-86a6-bc02768e3e72",
   "metadata": {},
   "outputs": [
    {
     "data": {
      "text/html": [
       "<div>\n",
       "<style scoped>\n",
       "    .dataframe tbody tr th:only-of-type {\n",
       "        vertical-align: middle;\n",
       "    }\n",
       "\n",
       "    .dataframe tbody tr th {\n",
       "        vertical-align: top;\n",
       "    }\n",
       "\n",
       "    .dataframe thead th {\n",
       "        text-align: right;\n",
       "    }\n",
       "</style>\n",
       "<table border=\"1\" class=\"dataframe\">\n",
       "  <thead>\n",
       "    <tr style=\"text-align: right;\">\n",
       "      <th></th>\n",
       "      <th>NODO</th>\n",
       "      <th>ANIO</th>\n",
       "      <th>MES</th>\n",
       "      <th>RENTA_ACT</th>\n",
       "      <th>PROM_RENTA_ACT</th>\n",
       "      <th>CANTIDAD</th>\n",
       "      <th>CANT_USER_HOGAR</th>\n",
       "      <th>CANT_USER_EMPRESARIAL</th>\n",
       "      <th>MODA_ESTRATO</th>\n",
       "    </tr>\n",
       "  </thead>\n",
       "  <tbody>\n",
       "    <tr>\n",
       "      <th>0</th>\n",
       "      <td>JRR</td>\n",
       "      <td>2022</td>\n",
       "      <td>1</td>\n",
       "      <td>21051256</td>\n",
       "      <td>107404</td>\n",
       "      <td>196</td>\n",
       "      <td>194</td>\n",
       "      <td>2</td>\n",
       "      <td>3</td>\n",
       "    </tr>\n",
       "  </tbody>\n",
       "</table>\n",
       "</div>"
      ],
      "text/plain": [
       "  NODO  ANIO  MES  RENTA_ACT  PROM_RENTA_ACT  CANTIDAD  CANT_USER_HOGAR  \\\n",
       "0  JRR  2022    1   21051256          107404       196              194   \n",
       "\n",
       "   CANT_USER_EMPRESARIAL MODA_ESTRATO  \n",
       "0                      2            3  "
      ]
     },
     "execution_count": 62,
     "metadata": {},
     "output_type": "execute_result"
    }
   ],
   "source": [
    "Activos.head(1)"
   ]
  },
  {
   "cell_type": "code",
   "execution_count": 63,
   "id": "3e542330-dac5-499f-8ff8-7b99a04066e7",
   "metadata": {},
   "outputs": [],
   "source": [
    "# Activos['ANIO']=Activos.str('ANIO')\n",
    "Activos['ANIO']=Activos['ANIO'].apply(str)\n",
    "# Activos['ANIO']=Activos['ANIO'].apply(str)\n",
    "\n",
    "Activos['DIA']='01' # le agrego la columna dia\n",
    "Activos['MES'] = [f'0{x}' if x <10 else str(x) for x in Activos['MES']]\n",
    "# Activos['DIA'] = [f'0{x}' if x <10 else str(x) for x in Activos['DIA']]\n",
    "Activos['FECHA'] = Activos['ANIO'] + '-' + Activos['MES'] + '-' + Activos['DIA']\n",
    "Activos[\"FECHA\"]=pd.to_datetime(Activos[\"FECHA\"])\n",
    "# eliminamos columnas\n",
    "Activos=Activos.drop(['DIA','MES','ANIO'], axis=1)\n",
    "Activos=Activos.drop(['CANT_USER_HOGAR','CANT_USER_EMPRESARIAL'], axis=1)"
   ]
  },
  {
   "cell_type": "code",
   "execution_count": 64,
   "id": "136bec10-abe4-49a0-8441-e5ed819f673d",
   "metadata": {},
   "outputs": [
    {
     "data": {
      "text/plain": [
       "(336049, 6)"
      ]
     },
     "execution_count": 64,
     "metadata": {},
     "output_type": "execute_result"
    }
   ],
   "source": [
    "Activos.shape"
   ]
  },
  {
   "cell_type": "code",
   "execution_count": 65,
   "id": "e79ac680-fdf5-4bcc-9fcb-82d6ec992d04",
   "metadata": {},
   "outputs": [],
   "source": [
    "df_fijaN1=pd.merge(Activos, BetaMega,on = ('NODO','FECHA'), how='left')"
   ]
  },
  {
   "cell_type": "code",
   "execution_count": 66,
   "id": "b11fc316-3754-4a2c-b774-af0c5e51f038",
   "metadata": {},
   "outputs": [],
   "source": [
    "df_fija1=pd.merge(df_fija, df_fijaN1, on = ('NODO','FECHA'), how='left')"
   ]
  },
  {
   "cell_type": "code",
   "execution_count": 67,
   "id": "5f56b737-7e70-4337-b916-640904698b5b",
   "metadata": {},
   "outputs": [
    {
     "data": {
      "text/plain": [
       "(145322, 14)"
      ]
     },
     "execution_count": 67,
     "metadata": {},
     "output_type": "execute_result"
    }
   ],
   "source": [
    "df_fija1.shape"
   ]
  },
  {
   "cell_type": "code",
   "execution_count": 68,
   "id": "6833ee6c-cd71-41b6-bf27-4a3c180acd8b",
   "metadata": {},
   "outputs": [
    {
     "data": {
      "text/html": [
       "<div>\n",
       "<style scoped>\n",
       "    .dataframe tbody tr th:only-of-type {\n",
       "        vertical-align: middle;\n",
       "    }\n",
       "\n",
       "    .dataframe tbody tr th {\n",
       "        vertical-align: top;\n",
       "    }\n",
       "\n",
       "    .dataframe thead th {\n",
       "        text-align: right;\n",
       "    }\n",
       "</style>\n",
       "<table border=\"1\" class=\"dataframe\">\n",
       "  <thead>\n",
       "    <tr style=\"text-align: right;\">\n",
       "      <th></th>\n",
       "      <th>NODO</th>\n",
       "      <th>FECHA</th>\n",
       "      <th>CANTIDAD_CHURN</th>\n",
       "      <th>ESTRATO</th>\n",
       "      <th>MOTIVO_DESCONEXION</th>\n",
       "      <th>EDAD</th>\n",
       "      <th>RENTA</th>\n",
       "      <th>RENTA_ACT</th>\n",
       "      <th>PROM_RENTA_ACT</th>\n",
       "      <th>CANTIDAD</th>\n",
       "      <th>MODA_ESTRATO</th>\n",
       "      <th>ALFA</th>\n",
       "      <th>BETA</th>\n",
       "      <th>MEGA</th>\n",
       "    </tr>\n",
       "  </thead>\n",
       "  <tbody>\n",
       "    <tr>\n",
       "      <th>0</th>\n",
       "      <td>01J</td>\n",
       "      <td>2021-05-01</td>\n",
       "      <td>1</td>\n",
       "      <td>3</td>\n",
       "      <td>TRASLADO</td>\n",
       "      <td>59.000000</td>\n",
       "      <td>65318</td>\n",
       "      <td>2856137.0</td>\n",
       "      <td>109851.0</td>\n",
       "      <td>26.0</td>\n",
       "      <td>3</td>\n",
       "      <td>NaN</td>\n",
       "      <td>NaN</td>\n",
       "      <td>0.391503</td>\n",
       "    </tr>\n",
       "    <tr>\n",
       "      <th>1</th>\n",
       "      <td>01J</td>\n",
       "      <td>2021-06-01</td>\n",
       "      <td>1</td>\n",
       "      <td>4</td>\n",
       "      <td>PRECIO Y CAPACIDAD DE PAGO</td>\n",
       "      <td>28.000000</td>\n",
       "      <td>87603</td>\n",
       "      <td>2701846.0</td>\n",
       "      <td>108074.0</td>\n",
       "      <td>25.0</td>\n",
       "      <td>3</td>\n",
       "      <td>NaN</td>\n",
       "      <td>1.076655</td>\n",
       "      <td>NaN</td>\n",
       "    </tr>\n",
       "    <tr>\n",
       "      <th>2</th>\n",
       "      <td>01J</td>\n",
       "      <td>2021-08-01</td>\n",
       "      <td>1</td>\n",
       "      <td>3</td>\n",
       "      <td>FALLAS SERVICIO (CALIDAD)</td>\n",
       "      <td>64.000000</td>\n",
       "      <td>50301</td>\n",
       "      <td>2507252.0</td>\n",
       "      <td>109011.0</td>\n",
       "      <td>23.0</td>\n",
       "      <td>3</td>\n",
       "      <td>NaN</td>\n",
       "      <td>1.942857</td>\n",
       "      <td>NaN</td>\n",
       "    </tr>\n",
       "    <tr>\n",
       "      <th>3</th>\n",
       "      <td>01J</td>\n",
       "      <td>2021-09-01</td>\n",
       "      <td>1</td>\n",
       "      <td>3</td>\n",
       "      <td>PRECIO Y CAPACIDAD DE PAGO</td>\n",
       "      <td>64.000000</td>\n",
       "      <td>163800</td>\n",
       "      <td>2702401.0</td>\n",
       "      <td>112600.0</td>\n",
       "      <td>24.0</td>\n",
       "      <td>3</td>\n",
       "      <td>0.277625</td>\n",
       "      <td>1.515152</td>\n",
       "      <td>0.183232</td>\n",
       "    </tr>\n",
       "    <tr>\n",
       "      <th>4</th>\n",
       "      <td>01J</td>\n",
       "      <td>2021-12-01</td>\n",
       "      <td>1</td>\n",
       "      <td>3</td>\n",
       "      <td>PRECIO Y CAPACIDAD DE PAGO</td>\n",
       "      <td>69.000000</td>\n",
       "      <td>81517</td>\n",
       "      <td>2627094.0</td>\n",
       "      <td>105084.0</td>\n",
       "      <td>25.0</td>\n",
       "      <td>3</td>\n",
       "      <td>NaN</td>\n",
       "      <td>NaN</td>\n",
       "      <td>1.859166</td>\n",
       "    </tr>\n",
       "    <tr>\n",
       "      <th>...</th>\n",
       "      <td>...</td>\n",
       "      <td>...</td>\n",
       "      <td>...</td>\n",
       "      <td>...</td>\n",
       "      <td>...</td>\n",
       "      <td>...</td>\n",
       "      <td>...</td>\n",
       "      <td>...</td>\n",
       "      <td>...</td>\n",
       "      <td>...</td>\n",
       "      <td>...</td>\n",
       "      <td>...</td>\n",
       "      <td>...</td>\n",
       "      <td>...</td>\n",
       "    </tr>\n",
       "    <tr>\n",
       "      <th>145317</th>\n",
       "      <td>ZVZ</td>\n",
       "      <td>2021-08-01</td>\n",
       "      <td>3</td>\n",
       "      <td>3</td>\n",
       "      <td>[FALLAS SERVICIO (CALIDAD), NO USAR NCUMPLE RE...</td>\n",
       "      <td>43.666667</td>\n",
       "      <td>392700</td>\n",
       "      <td>47377762.0</td>\n",
       "      <td>106948.0</td>\n",
       "      <td>443.0</td>\n",
       "      <td>3</td>\n",
       "      <td>1.492830</td>\n",
       "      <td>1.481245</td>\n",
       "      <td>1.007821</td>\n",
       "    </tr>\n",
       "    <tr>\n",
       "      <th>145318</th>\n",
       "      <td>ZVZ</td>\n",
       "      <td>2021-09-01</td>\n",
       "      <td>6</td>\n",
       "      <td>3</td>\n",
       "      <td>NO DIO MOTIVO</td>\n",
       "      <td>52.000000</td>\n",
       "      <td>542560</td>\n",
       "      <td>49123128.0</td>\n",
       "      <td>110142.0</td>\n",
       "      <td>446.0</td>\n",
       "      <td>3</td>\n",
       "      <td>1.604062</td>\n",
       "      <td>1.639118</td>\n",
       "      <td>0.978613</td>\n",
       "    </tr>\n",
       "    <tr>\n",
       "      <th>145319</th>\n",
       "      <td>ZVZ</td>\n",
       "      <td>2021-10-01</td>\n",
       "      <td>3</td>\n",
       "      <td>3</td>\n",
       "      <td>NO DIO MOTIVO</td>\n",
       "      <td>42.333333</td>\n",
       "      <td>571547</td>\n",
       "      <td>49136627.0</td>\n",
       "      <td>110419.0</td>\n",
       "      <td>445.0</td>\n",
       "      <td>3</td>\n",
       "      <td>0.583469</td>\n",
       "      <td>1.106707</td>\n",
       "      <td>0.527211</td>\n",
       "    </tr>\n",
       "    <tr>\n",
       "      <th>145320</th>\n",
       "      <td>ZVZ</td>\n",
       "      <td>2021-11-01</td>\n",
       "      <td>4</td>\n",
       "      <td>3</td>\n",
       "      <td>[FALLAS SERVICIO (CALIDAD), NO DIO MOTIVO, NO ...</td>\n",
       "      <td>51.500000</td>\n",
       "      <td>455530</td>\n",
       "      <td>48974972.0</td>\n",
       "      <td>109564.0</td>\n",
       "      <td>447.0</td>\n",
       "      <td>3</td>\n",
       "      <td>1.920703</td>\n",
       "      <td>1.729134</td>\n",
       "      <td>1.110789</td>\n",
       "    </tr>\n",
       "    <tr>\n",
       "      <th>145321</th>\n",
       "      <td>ZVZ</td>\n",
       "      <td>2021-12-01</td>\n",
       "      <td>9</td>\n",
       "      <td>3</td>\n",
       "      <td>NO DIO MOTIVO</td>\n",
       "      <td>40.888889</td>\n",
       "      <td>933242</td>\n",
       "      <td>49500451.0</td>\n",
       "      <td>109273.0</td>\n",
       "      <td>453.0</td>\n",
       "      <td>3</td>\n",
       "      <td>1.684708</td>\n",
       "      <td>1.466780</td>\n",
       "      <td>1.148576</td>\n",
       "    </tr>\n",
       "  </tbody>\n",
       "</table>\n",
       "<p>145322 rows × 14 columns</p>\n",
       "</div>"
      ],
      "text/plain": [
       "       NODO      FECHA  CANTIDAD_CHURN ESTRATO  \\\n",
       "0       01J 2021-05-01               1       3   \n",
       "1       01J 2021-06-01               1       4   \n",
       "2       01J 2021-08-01               1       3   \n",
       "3       01J 2021-09-01               1       3   \n",
       "4       01J 2021-12-01               1       3   \n",
       "...     ...        ...             ...     ...   \n",
       "145317  ZVZ 2021-08-01               3       3   \n",
       "145318  ZVZ 2021-09-01               6       3   \n",
       "145319  ZVZ 2021-10-01               3       3   \n",
       "145320  ZVZ 2021-11-01               4       3   \n",
       "145321  ZVZ 2021-12-01               9       3   \n",
       "\n",
       "                                       MOTIVO_DESCONEXION       EDAD   RENTA  \\\n",
       "0                                                TRASLADO  59.000000   65318   \n",
       "1                              PRECIO Y CAPACIDAD DE PAGO  28.000000   87603   \n",
       "2                               FALLAS SERVICIO (CALIDAD)  64.000000   50301   \n",
       "3                              PRECIO Y CAPACIDAD DE PAGO  64.000000  163800   \n",
       "4                              PRECIO Y CAPACIDAD DE PAGO  69.000000   81517   \n",
       "...                                                   ...        ...     ...   \n",
       "145317  [FALLAS SERVICIO (CALIDAD), NO USAR NCUMPLE RE...  43.666667  392700   \n",
       "145318                                      NO DIO MOTIVO  52.000000  542560   \n",
       "145319                                      NO DIO MOTIVO  42.333333  571547   \n",
       "145320  [FALLAS SERVICIO (CALIDAD), NO DIO MOTIVO, NO ...  51.500000  455530   \n",
       "145321                                      NO DIO MOTIVO  40.888889  933242   \n",
       "\n",
       "         RENTA_ACT  PROM_RENTA_ACT  CANTIDAD MODA_ESTRATO      ALFA      BETA  \\\n",
       "0        2856137.0        109851.0      26.0            3       NaN       NaN   \n",
       "1        2701846.0        108074.0      25.0            3       NaN  1.076655   \n",
       "2        2507252.0        109011.0      23.0            3       NaN  1.942857   \n",
       "3        2702401.0        112600.0      24.0            3  0.277625  1.515152   \n",
       "4        2627094.0        105084.0      25.0            3       NaN       NaN   \n",
       "...            ...             ...       ...          ...       ...       ...   \n",
       "145317  47377762.0        106948.0     443.0            3  1.492830  1.481245   \n",
       "145318  49123128.0        110142.0     446.0            3  1.604062  1.639118   \n",
       "145319  49136627.0        110419.0     445.0            3  0.583469  1.106707   \n",
       "145320  48974972.0        109564.0     447.0            3  1.920703  1.729134   \n",
       "145321  49500451.0        109273.0     453.0            3  1.684708  1.466780   \n",
       "\n",
       "            MEGA  \n",
       "0       0.391503  \n",
       "1            NaN  \n",
       "2            NaN  \n",
       "3       0.183232  \n",
       "4       1.859166  \n",
       "...          ...  \n",
       "145317  1.007821  \n",
       "145318  0.978613  \n",
       "145319  0.527211  \n",
       "145320  1.110789  \n",
       "145321  1.148576  \n",
       "\n",
       "[145322 rows x 14 columns]"
      ]
     },
     "execution_count": 68,
     "metadata": {},
     "output_type": "execute_result"
    }
   ],
   "source": [
    "df_fija1"
   ]
  },
  {
   "cell_type": "code",
   "execution_count": 69,
   "id": "19b9008f-200c-40c0-8531-b6d8245de1ba",
   "metadata": {},
   "outputs": [],
   "source": [
    "# Activos['NODO'] = Activos['NODO'].map({\"14B13B\": '14B', \"CV53\": 'CV5',\"F1G3B\": 'F1G', \"JG31\": 'JG3', \"BA4A\": 'BA4', \"SRG3B\": 'SRG',\"RSJ3B\": 'RSJ'})"
   ]
  },
  {
   "cell_type": "code",
   "execution_count": 70,
   "id": "b4b9520e-b577-4cd9-a107-ff5733b32296",
   "metadata": {},
   "outputs": [],
   "source": [
    "# df_fija1.head(2)"
   ]
  },
  {
   "cell_type": "code",
   "execution_count": 71,
   "id": "5cba045b-c4f5-4f8f-8fd9-82f16e277d52",
   "metadata": {},
   "outputs": [
    {
     "name": "stderr",
     "output_type": "stream",
     "text": [
      "C:\\Users\\WILSON~1\\AppData\\Local\\Temp/ipykernel_17432/2765932099.py:3: SettingWithCopyWarning: \n",
      "A value is trying to be set on a copy of a slice from a DataFrame.\n",
      "Try using .loc[row_indexer,col_indexer] = value instead\n",
      "\n",
      "See the caveats in the documentation: https://pandas.pydata.org/pandas-docs/stable/user_guide/indexing.html#returning-a-view-versus-a-copy\n",
      "  df_fija1['CANTIDAD_ACTIVOS']=df_fija1['CANTIDAD_ACTIVOS'].apply(int)\n"
     ]
    }
   ],
   "source": [
    "df_fija1['CANTIDAD_ACTIVOS']=df_fija1['CANTIDAD']+df_fija1['CANTIDAD_CHURN']\n",
    "df_fija1 = df_fija1.dropna(subset=[\"CANTIDAD_ACTIVOS\"])\n",
    "df_fija1['CANTIDAD_ACTIVOS']=df_fija1['CANTIDAD_ACTIVOS'].apply(int)"
   ]
  },
  {
   "cell_type": "code",
   "execution_count": 72,
   "id": "f3c3cbc5-aac6-4cdd-8b4a-31262a733753",
   "metadata": {},
   "outputs": [
    {
     "data": {
      "text/html": [
       "<div>\n",
       "<style scoped>\n",
       "    .dataframe tbody tr th:only-of-type {\n",
       "        vertical-align: middle;\n",
       "    }\n",
       "\n",
       "    .dataframe tbody tr th {\n",
       "        vertical-align: top;\n",
       "    }\n",
       "\n",
       "    .dataframe thead th {\n",
       "        text-align: right;\n",
       "    }\n",
       "</style>\n",
       "<table border=\"1\" class=\"dataframe\">\n",
       "  <thead>\n",
       "    <tr style=\"text-align: right;\">\n",
       "      <th></th>\n",
       "      <th>NODO</th>\n",
       "      <th>FECHA</th>\n",
       "      <th>CANTIDAD_CHURN</th>\n",
       "      <th>ESTRATO</th>\n",
       "      <th>MOTIVO_DESCONEXION</th>\n",
       "      <th>EDAD</th>\n",
       "      <th>RENTA</th>\n",
       "      <th>RENTA_ACT</th>\n",
       "      <th>PROM_RENTA_ACT</th>\n",
       "      <th>CANTIDAD</th>\n",
       "      <th>MODA_ESTRATO</th>\n",
       "      <th>ALFA</th>\n",
       "      <th>BETA</th>\n",
       "      <th>MEGA</th>\n",
       "      <th>CANTIDAD_ACTIVOS</th>\n",
       "    </tr>\n",
       "  </thead>\n",
       "  <tbody>\n",
       "    <tr>\n",
       "      <th>0</th>\n",
       "      <td>01J</td>\n",
       "      <td>2021-05-01</td>\n",
       "      <td>1</td>\n",
       "      <td>3</td>\n",
       "      <td>TRASLADO</td>\n",
       "      <td>59.0</td>\n",
       "      <td>65318</td>\n",
       "      <td>2856137.0</td>\n",
       "      <td>109851.0</td>\n",
       "      <td>26.0</td>\n",
       "      <td>3</td>\n",
       "      <td>NaN</td>\n",
       "      <td>NaN</td>\n",
       "      <td>0.391503</td>\n",
       "      <td>27</td>\n",
       "    </tr>\n",
       "    <tr>\n",
       "      <th>1</th>\n",
       "      <td>01J</td>\n",
       "      <td>2021-06-01</td>\n",
       "      <td>1</td>\n",
       "      <td>4</td>\n",
       "      <td>PRECIO Y CAPACIDAD DE PAGO</td>\n",
       "      <td>28.0</td>\n",
       "      <td>87603</td>\n",
       "      <td>2701846.0</td>\n",
       "      <td>108074.0</td>\n",
       "      <td>25.0</td>\n",
       "      <td>3</td>\n",
       "      <td>NaN</td>\n",
       "      <td>1.076655</td>\n",
       "      <td>NaN</td>\n",
       "      <td>26</td>\n",
       "    </tr>\n",
       "  </tbody>\n",
       "</table>\n",
       "</div>"
      ],
      "text/plain": [
       "  NODO      FECHA  CANTIDAD_CHURN ESTRATO          MOTIVO_DESCONEXION  EDAD  \\\n",
       "0  01J 2021-05-01               1       3                    TRASLADO  59.0   \n",
       "1  01J 2021-06-01               1       4  PRECIO Y CAPACIDAD DE PAGO  28.0   \n",
       "\n",
       "   RENTA  RENTA_ACT  PROM_RENTA_ACT  CANTIDAD MODA_ESTRATO  ALFA      BETA  \\\n",
       "0  65318  2856137.0        109851.0      26.0            3   NaN       NaN   \n",
       "1  87603  2701846.0        108074.0      25.0            3   NaN  1.076655   \n",
       "\n",
       "       MEGA  CANTIDAD_ACTIVOS  \n",
       "0  0.391503                27  \n",
       "1       NaN                26  "
      ]
     },
     "execution_count": 72,
     "metadata": {},
     "output_type": "execute_result"
    }
   ],
   "source": [
    "df_fija1.head(2)"
   ]
  },
  {
   "cell_type": "code",
   "execution_count": 73,
   "id": "81e8a515-f449-4002-b381-518fdcfc4827",
   "metadata": {},
   "outputs": [],
   "source": [
    "# df_fija1[df_fija1['CANTIDAD_ACTIVOS'].isna()]"
   ]
  },
  {
   "cell_type": "code",
   "execution_count": 74,
   "id": "725b32b9-6c4e-4629-b530-6d42b0202c6c",
   "metadata": {},
   "outputs": [],
   "source": [
    "# df_fija1.isnull().sum().sort_values(ascending=False,)[:21]"
   ]
  },
  {
   "cell_type": "code",
   "execution_count": 75,
   "id": "44e42e56-570f-419f-af5d-b913e0a7e17c",
   "metadata": {},
   "outputs": [
    {
     "data": {
      "text/plain": [
       "(145276, 15)"
      ]
     },
     "execution_count": 75,
     "metadata": {},
     "output_type": "execute_result"
    }
   ],
   "source": [
    "df_fija1.shape"
   ]
  },
  {
   "cell_type": "code",
   "execution_count": 76,
   "id": "9c9208e5-6ab6-4beb-b08b-f20520715d27",
   "metadata": {},
   "outputs": [
    {
     "name": "stderr",
     "output_type": "stream",
     "text": [
      "C:\\Users\\WILSON~1\\AppData\\Local\\Temp/ipykernel_17432/329146815.py:1: SettingWithCopyWarning: \n",
      "A value is trying to be set on a copy of a slice from a DataFrame.\n",
      "Try using .loc[row_indexer,col_indexer] = value instead\n",
      "\n",
      "See the caveats in the documentation: https://pandas.pydata.org/pandas-docs/stable/user_guide/indexing.html#returning-a-view-versus-a-copy\n",
      "  df_fija1['TasaChurn']=np.where(df_fija1['CANTIDAD_ACTIVOS'] !=0,df_fija1['CANTIDAD_CHURN'].div(df_fija1['CANTIDAD_ACTIVOS']),0)\n"
     ]
    }
   ],
   "source": [
    "df_fija1['TasaChurn']=np.where(df_fija1['CANTIDAD_ACTIVOS'] !=0,df_fija1['CANTIDAD_CHURN'].div(df_fija1['CANTIDAD_ACTIVOS']),0)"
   ]
  },
  {
   "cell_type": "code",
   "execution_count": 77,
   "id": "5d4ff452-243e-4112-af33-fda3e8b829c1",
   "metadata": {},
   "outputs": [
    {
     "name": "stderr",
     "output_type": "stream",
     "text": [
      "C:\\Users\\WILSON~1\\AppData\\Local\\Temp/ipykernel_17432/2752838023.py:1: SettingWithCopyWarning: \n",
      "A value is trying to be set on a copy of a slice from a DataFrame.\n",
      "Try using .loc[row_indexer,col_indexer] = value instead\n",
      "\n",
      "See the caveats in the documentation: https://pandas.pydata.org/pandas-docs/stable/user_guide/indexing.html#returning-a-view-versus-a-copy\n",
      "  df_fija1['FechaVal_AñoMes'] = df_fija1['FECHA'].dt.strftime('Churn_''%Y_%m')\n"
     ]
    }
   ],
   "source": [
    "df_fija1['FechaVal_AñoMes'] = df_fija1['FECHA'].dt.strftime('Churn_''%Y_%m')"
   ]
  },
  {
   "cell_type": "code",
   "execution_count": 78,
   "id": "d50196c1-9b12-4092-9aa7-cad6ce3380c3",
   "metadata": {},
   "outputs": [
    {
     "data": {
      "text/html": [
       "<div>\n",
       "<style scoped>\n",
       "    .dataframe tbody tr th:only-of-type {\n",
       "        vertical-align: middle;\n",
       "    }\n",
       "\n",
       "    .dataframe tbody tr th {\n",
       "        vertical-align: top;\n",
       "    }\n",
       "\n",
       "    .dataframe thead th {\n",
       "        text-align: right;\n",
       "    }\n",
       "</style>\n",
       "<table border=\"1\" class=\"dataframe\">\n",
       "  <thead>\n",
       "    <tr style=\"text-align: right;\">\n",
       "      <th></th>\n",
       "      <th>NODO</th>\n",
       "      <th>FECHA</th>\n",
       "      <th>CANTIDAD_CHURN</th>\n",
       "      <th>ESTRATO</th>\n",
       "      <th>MOTIVO_DESCONEXION</th>\n",
       "      <th>EDAD</th>\n",
       "      <th>RENTA</th>\n",
       "      <th>RENTA_ACT</th>\n",
       "      <th>PROM_RENTA_ACT</th>\n",
       "      <th>CANTIDAD</th>\n",
       "      <th>MODA_ESTRATO</th>\n",
       "      <th>ALFA</th>\n",
       "      <th>BETA</th>\n",
       "      <th>MEGA</th>\n",
       "      <th>CANTIDAD_ACTIVOS</th>\n",
       "      <th>TasaChurn</th>\n",
       "      <th>FechaVal_AñoMes</th>\n",
       "    </tr>\n",
       "  </thead>\n",
       "  <tbody>\n",
       "    <tr>\n",
       "      <th>0</th>\n",
       "      <td>01J</td>\n",
       "      <td>2021-05-01</td>\n",
       "      <td>1</td>\n",
       "      <td>3</td>\n",
       "      <td>TRASLADO</td>\n",
       "      <td>59.0</td>\n",
       "      <td>65318</td>\n",
       "      <td>2856137.0</td>\n",
       "      <td>109851.0</td>\n",
       "      <td>26.0</td>\n",
       "      <td>3</td>\n",
       "      <td>NaN</td>\n",
       "      <td>NaN</td>\n",
       "      <td>0.391503</td>\n",
       "      <td>27</td>\n",
       "      <td>0.037037</td>\n",
       "      <td>Churn_2021_05</td>\n",
       "    </tr>\n",
       "    <tr>\n",
       "      <th>1</th>\n",
       "      <td>01J</td>\n",
       "      <td>2021-06-01</td>\n",
       "      <td>1</td>\n",
       "      <td>4</td>\n",
       "      <td>PRECIO Y CAPACIDAD DE PAGO</td>\n",
       "      <td>28.0</td>\n",
       "      <td>87603</td>\n",
       "      <td>2701846.0</td>\n",
       "      <td>108074.0</td>\n",
       "      <td>25.0</td>\n",
       "      <td>3</td>\n",
       "      <td>NaN</td>\n",
       "      <td>1.076655</td>\n",
       "      <td>NaN</td>\n",
       "      <td>26</td>\n",
       "      <td>0.038462</td>\n",
       "      <td>Churn_2021_06</td>\n",
       "    </tr>\n",
       "  </tbody>\n",
       "</table>\n",
       "</div>"
      ],
      "text/plain": [
       "  NODO      FECHA  CANTIDAD_CHURN ESTRATO          MOTIVO_DESCONEXION  EDAD  \\\n",
       "0  01J 2021-05-01               1       3                    TRASLADO  59.0   \n",
       "1  01J 2021-06-01               1       4  PRECIO Y CAPACIDAD DE PAGO  28.0   \n",
       "\n",
       "   RENTA  RENTA_ACT  PROM_RENTA_ACT  CANTIDAD MODA_ESTRATO  ALFA      BETA  \\\n",
       "0  65318  2856137.0        109851.0      26.0            3   NaN       NaN   \n",
       "1  87603  2701846.0        108074.0      25.0            3   NaN  1.076655   \n",
       "\n",
       "       MEGA  CANTIDAD_ACTIVOS  TasaChurn FechaVal_AñoMes  \n",
       "0  0.391503                27   0.037037   Churn_2021_05  \n",
       "1       NaN                26   0.038462   Churn_2021_06  "
      ]
     },
     "execution_count": 78,
     "metadata": {},
     "output_type": "execute_result"
    }
   ],
   "source": [
    "df_fija1.head(2)"
   ]
  },
  {
   "cell_type": "code",
   "execution_count": 79,
   "id": "20c640cc-b2cc-4993-9c7f-f3016b14d338",
   "metadata": {},
   "outputs": [],
   "source": [
    "# copiamos un fija1 para analizarlo abajo en la parte monetaria\n",
    "df_fija_CM=df_fija1.copy()"
   ]
  },
  {
   "cell_type": "code",
   "execution_count": 80,
   "id": "f714a598-49a8-4071-81e5-bd43d9481b1f",
   "metadata": {},
   "outputs": [
    {
     "data": {
      "text/html": [
       "<div>\n",
       "<style scoped>\n",
       "    .dataframe tbody tr th:only-of-type {\n",
       "        vertical-align: middle;\n",
       "    }\n",
       "\n",
       "    .dataframe tbody tr th {\n",
       "        vertical-align: top;\n",
       "    }\n",
       "\n",
       "    .dataframe thead th {\n",
       "        text-align: right;\n",
       "    }\n",
       "</style>\n",
       "<table border=\"1\" class=\"dataframe\">\n",
       "  <thead>\n",
       "    <tr style=\"text-align: right;\">\n",
       "      <th></th>\n",
       "      <th>CANTIDAD_CHURN</th>\n",
       "      <th>EDAD</th>\n",
       "      <th>RENTA</th>\n",
       "      <th>RENTA_ACT</th>\n",
       "      <th>PROM_RENTA_ACT</th>\n",
       "      <th>CANTIDAD</th>\n",
       "      <th>ALFA</th>\n",
       "      <th>BETA</th>\n",
       "      <th>MEGA</th>\n",
       "      <th>CANTIDAD_ACTIVOS</th>\n",
       "      <th>TasaChurn</th>\n",
       "    </tr>\n",
       "  </thead>\n",
       "  <tbody>\n",
       "    <tr>\n",
       "      <th>count</th>\n",
       "      <td>145276.000000</td>\n",
       "      <td>143508.000000</td>\n",
       "      <td>1.452760e+05</td>\n",
       "      <td>1.452760e+05</td>\n",
       "      <td>145276.000000</td>\n",
       "      <td>145276.000000</td>\n",
       "      <td>121777.000000</td>\n",
       "      <td>134209.000000</td>\n",
       "      <td>125996.000000</td>\n",
       "      <td>145276.000000</td>\n",
       "      <td>145276.000000</td>\n",
       "    </tr>\n",
       "    <tr>\n",
       "      <th>mean</th>\n",
       "      <td>3.496290</td>\n",
       "      <td>42.416399</td>\n",
       "      <td>3.470421e+05</td>\n",
       "      <td>2.474924e+07</td>\n",
       "      <td>106020.282875</td>\n",
       "      <td>243.702311</td>\n",
       "      <td>1.518237</td>\n",
       "      <td>1.523913</td>\n",
       "      <td>1.015672</td>\n",
       "      <td>247.198601</td>\n",
       "      <td>0.016927</td>\n",
       "    </tr>\n",
       "    <tr>\n",
       "      <th>std</th>\n",
       "      <td>2.907326</td>\n",
       "      <td>10.856214</td>\n",
       "      <td>3.033602e+05</td>\n",
       "      <td>1.471223e+07</td>\n",
       "      <td>18950.340651</td>\n",
       "      <td>152.057107</td>\n",
       "      <td>3.174431</td>\n",
       "      <td>2.443786</td>\n",
       "      <td>0.710579</td>\n",
       "      <td>153.698069</td>\n",
       "      <td>0.014637</td>\n",
       "    </tr>\n",
       "    <tr>\n",
       "      <th>min</th>\n",
       "      <td>1.000000</td>\n",
       "      <td>18.000000</td>\n",
       "      <td>0.000000e+00</td>\n",
       "      <td>5.000000e+04</td>\n",
       "      <td>11342.000000</td>\n",
       "      <td>1.000000</td>\n",
       "      <td>0.000000</td>\n",
       "      <td>0.041667</td>\n",
       "      <td>0.000000</td>\n",
       "      <td>2.000000</td>\n",
       "      <td>0.001253</td>\n",
       "    </tr>\n",
       "    <tr>\n",
       "      <th>25%</th>\n",
       "      <td>1.000000</td>\n",
       "      <td>35.000000</td>\n",
       "      <td>1.410050e+05</td>\n",
       "      <td>1.324288e+07</td>\n",
       "      <td>93067.750000</td>\n",
       "      <td>122.000000</td>\n",
       "      <td>0.544133</td>\n",
       "      <td>0.900990</td>\n",
       "      <td>0.501945</td>\n",
       "      <td>124.000000</td>\n",
       "      <td>0.008929</td>\n",
       "    </tr>\n",
       "    <tr>\n",
       "      <th>50%</th>\n",
       "      <td>3.000000</td>\n",
       "      <td>41.250000</td>\n",
       "      <td>2.689620e+05</td>\n",
       "      <td>2.280334e+07</td>\n",
       "      <td>106028.000000</td>\n",
       "      <td>223.000000</td>\n",
       "      <td>1.080789</td>\n",
       "      <td>1.194030</td>\n",
       "      <td>0.905668</td>\n",
       "      <td>227.000000</td>\n",
       "      <td>0.013793</td>\n",
       "    </tr>\n",
       "    <tr>\n",
       "      <th>75%</th>\n",
       "      <td>5.000000</td>\n",
       "      <td>48.500000</td>\n",
       "      <td>4.576535e+05</td>\n",
       "      <td>3.360731e+07</td>\n",
       "      <td>115882.250000</td>\n",
       "      <td>335.000000</td>\n",
       "      <td>1.864384</td>\n",
       "      <td>1.620915</td>\n",
       "      <td>1.410248</td>\n",
       "      <td>339.000000</td>\n",
       "      <td>0.020833</td>\n",
       "    </tr>\n",
       "    <tr>\n",
       "      <th>max</th>\n",
       "      <td>80.000000</td>\n",
       "      <td>96.000000</td>\n",
       "      <td>8.991263e+06</td>\n",
       "      <td>1.213819e+08</td>\n",
       "      <td>226532.000000</td>\n",
       "      <td>1366.000000</td>\n",
       "      <td>321.525391</td>\n",
       "      <td>138.000000</td>\n",
       "      <td>34.352322</td>\n",
       "      <td>1391.000000</td>\n",
       "      <td>0.666667</td>\n",
       "    </tr>\n",
       "  </tbody>\n",
       "</table>\n",
       "</div>"
      ],
      "text/plain": [
       "       CANTIDAD_CHURN           EDAD         RENTA     RENTA_ACT  \\\n",
       "count   145276.000000  143508.000000  1.452760e+05  1.452760e+05   \n",
       "mean         3.496290      42.416399  3.470421e+05  2.474924e+07   \n",
       "std          2.907326      10.856214  3.033602e+05  1.471223e+07   \n",
       "min          1.000000      18.000000  0.000000e+00  5.000000e+04   \n",
       "25%          1.000000      35.000000  1.410050e+05  1.324288e+07   \n",
       "50%          3.000000      41.250000  2.689620e+05  2.280334e+07   \n",
       "75%          5.000000      48.500000  4.576535e+05  3.360731e+07   \n",
       "max         80.000000      96.000000  8.991263e+06  1.213819e+08   \n",
       "\n",
       "       PROM_RENTA_ACT       CANTIDAD           ALFA           BETA  \\\n",
       "count   145276.000000  145276.000000  121777.000000  134209.000000   \n",
       "mean    106020.282875     243.702311       1.518237       1.523913   \n",
       "std      18950.340651     152.057107       3.174431       2.443786   \n",
       "min      11342.000000       1.000000       0.000000       0.041667   \n",
       "25%      93067.750000     122.000000       0.544133       0.900990   \n",
       "50%     106028.000000     223.000000       1.080789       1.194030   \n",
       "75%     115882.250000     335.000000       1.864384       1.620915   \n",
       "max     226532.000000    1366.000000     321.525391     138.000000   \n",
       "\n",
       "                MEGA  CANTIDAD_ACTIVOS      TasaChurn  \n",
       "count  125996.000000     145276.000000  145276.000000  \n",
       "mean        1.015672        247.198601       0.016927  \n",
       "std         0.710579        153.698069       0.014637  \n",
       "min         0.000000          2.000000       0.001253  \n",
       "25%         0.501945        124.000000       0.008929  \n",
       "50%         0.905668        227.000000       0.013793  \n",
       "75%         1.410248        339.000000       0.020833  \n",
       "max        34.352322       1391.000000       0.666667  "
      ]
     },
     "execution_count": 80,
     "metadata": {},
     "output_type": "execute_result"
    }
   ],
   "source": [
    "# para encontrar el promedio nacional 2021\n",
    "df_fija1.describe()"
   ]
  },
  {
   "cell_type": "code",
   "execution_count": 81,
   "id": "fa73be9d-8a38-43db-9e0b-aaa31707632e",
   "metadata": {},
   "outputs": [
    {
     "data": {
      "text/html": [
       "<div>\n",
       "<style scoped>\n",
       "    .dataframe tbody tr th:only-of-type {\n",
       "        vertical-align: middle;\n",
       "    }\n",
       "\n",
       "    .dataframe tbody tr th {\n",
       "        vertical-align: top;\n",
       "    }\n",
       "\n",
       "    .dataframe thead th {\n",
       "        text-align: right;\n",
       "    }\n",
       "</style>\n",
       "<table border=\"1\" class=\"dataframe\">\n",
       "  <thead>\n",
       "    <tr style=\"text-align: right;\">\n",
       "      <th>FechaVal_AñoMes</th>\n",
       "      <th>NODO</th>\n",
       "      <th>Churn_2021_01</th>\n",
       "      <th>Churn_2021_02</th>\n",
       "      <th>Churn_2021_03</th>\n",
       "      <th>Churn_2021_04</th>\n",
       "      <th>Churn_2021_05</th>\n",
       "      <th>Churn_2021_06</th>\n",
       "      <th>Churn_2021_07</th>\n",
       "      <th>Churn_2021_08</th>\n",
       "      <th>Churn_2021_09</th>\n",
       "      <th>Churn_2021_10</th>\n",
       "      <th>Churn_2021_11</th>\n",
       "      <th>Churn_2021_12</th>\n",
       "    </tr>\n",
       "  </thead>\n",
       "  <tbody>\n",
       "    <tr>\n",
       "      <th>0</th>\n",
       "      <td>01J</td>\n",
       "      <td>0.000000</td>\n",
       "      <td>0.000000</td>\n",
       "      <td>0.000000</td>\n",
       "      <td>0.000000</td>\n",
       "      <td>0.037037</td>\n",
       "      <td>0.038462</td>\n",
       "      <td>0.000000</td>\n",
       "      <td>0.041667</td>\n",
       "      <td>0.040000</td>\n",
       "      <td>0.000000</td>\n",
       "      <td>0.000000</td>\n",
       "      <td>0.038462</td>\n",
       "    </tr>\n",
       "    <tr>\n",
       "      <th>1</th>\n",
       "      <td>01S</td>\n",
       "      <td>0.000000</td>\n",
       "      <td>0.006098</td>\n",
       "      <td>0.018405</td>\n",
       "      <td>0.011834</td>\n",
       "      <td>0.011561</td>\n",
       "      <td>0.017341</td>\n",
       "      <td>0.016667</td>\n",
       "      <td>0.005682</td>\n",
       "      <td>0.000000</td>\n",
       "      <td>0.026455</td>\n",
       "      <td>0.016667</td>\n",
       "      <td>0.020942</td>\n",
       "    </tr>\n",
       "    <tr>\n",
       "      <th>2</th>\n",
       "      <td>02J</td>\n",
       "      <td>0.000000</td>\n",
       "      <td>0.000000</td>\n",
       "      <td>0.000000</td>\n",
       "      <td>0.000000</td>\n",
       "      <td>0.000000</td>\n",
       "      <td>0.000000</td>\n",
       "      <td>0.000000</td>\n",
       "      <td>0.071429</td>\n",
       "      <td>0.000000</td>\n",
       "      <td>0.000000</td>\n",
       "      <td>0.000000</td>\n",
       "      <td>0.000000</td>\n",
       "    </tr>\n",
       "    <tr>\n",
       "      <th>3</th>\n",
       "      <td>02S</td>\n",
       "      <td>0.007353</td>\n",
       "      <td>0.028777</td>\n",
       "      <td>0.007194</td>\n",
       "      <td>0.013514</td>\n",
       "      <td>0.006711</td>\n",
       "      <td>0.013699</td>\n",
       "      <td>0.013333</td>\n",
       "      <td>0.029940</td>\n",
       "      <td>0.012195</td>\n",
       "      <td>0.013423</td>\n",
       "      <td>0.006897</td>\n",
       "      <td>0.019108</td>\n",
       "    </tr>\n",
       "    <tr>\n",
       "      <th>4</th>\n",
       "      <td>03J</td>\n",
       "      <td>0.058824</td>\n",
       "      <td>0.000000</td>\n",
       "      <td>0.000000</td>\n",
       "      <td>0.000000</td>\n",
       "      <td>0.000000</td>\n",
       "      <td>0.058824</td>\n",
       "      <td>0.062500</td>\n",
       "      <td>0.000000</td>\n",
       "      <td>0.033333</td>\n",
       "      <td>0.066667</td>\n",
       "      <td>0.000000</td>\n",
       "      <td>0.000000</td>\n",
       "    </tr>\n",
       "    <tr>\n",
       "      <th>...</th>\n",
       "      <td>...</td>\n",
       "      <td>...</td>\n",
       "      <td>...</td>\n",
       "      <td>...</td>\n",
       "      <td>...</td>\n",
       "      <td>...</td>\n",
       "      <td>...</td>\n",
       "      <td>...</td>\n",
       "      <td>...</td>\n",
       "      <td>...</td>\n",
       "      <td>...</td>\n",
       "      <td>...</td>\n",
       "      <td>...</td>\n",
       "    </tr>\n",
       "    <tr>\n",
       "      <th>13487</th>\n",
       "      <td>ZVD</td>\n",
       "      <td>0.045098</td>\n",
       "      <td>0.058594</td>\n",
       "      <td>0.046154</td>\n",
       "      <td>0.035714</td>\n",
       "      <td>0.011468</td>\n",
       "      <td>0.020930</td>\n",
       "      <td>0.011848</td>\n",
       "      <td>0.033816</td>\n",
       "      <td>0.021583</td>\n",
       "      <td>0.024331</td>\n",
       "      <td>0.015504</td>\n",
       "      <td>0.010256</td>\n",
       "    </tr>\n",
       "    <tr>\n",
       "      <th>13488</th>\n",
       "      <td>ZVG</td>\n",
       "      <td>0.023952</td>\n",
       "      <td>0.006042</td>\n",
       "      <td>0.021212</td>\n",
       "      <td>0.015432</td>\n",
       "      <td>0.018405</td>\n",
       "      <td>0.019048</td>\n",
       "      <td>0.025316</td>\n",
       "      <td>0.022801</td>\n",
       "      <td>0.016556</td>\n",
       "      <td>0.006645</td>\n",
       "      <td>0.006780</td>\n",
       "      <td>0.006645</td>\n",
       "    </tr>\n",
       "    <tr>\n",
       "      <th>13489</th>\n",
       "      <td>ZVS</td>\n",
       "      <td>0.008351</td>\n",
       "      <td>0.018367</td>\n",
       "      <td>0.014433</td>\n",
       "      <td>0.012526</td>\n",
       "      <td>0.018557</td>\n",
       "      <td>0.012448</td>\n",
       "      <td>0.010482</td>\n",
       "      <td>0.008282</td>\n",
       "      <td>0.010246</td>\n",
       "      <td>0.018145</td>\n",
       "      <td>0.021053</td>\n",
       "      <td>0.016293</td>\n",
       "    </tr>\n",
       "    <tr>\n",
       "      <th>13490</th>\n",
       "      <td>ZVT</td>\n",
       "      <td>0.000000</td>\n",
       "      <td>0.007463</td>\n",
       "      <td>0.014388</td>\n",
       "      <td>0.028369</td>\n",
       "      <td>0.007299</td>\n",
       "      <td>0.000000</td>\n",
       "      <td>0.006944</td>\n",
       "      <td>0.006993</td>\n",
       "      <td>0.006944</td>\n",
       "      <td>0.007042</td>\n",
       "      <td>0.014085</td>\n",
       "      <td>0.006993</td>\n",
       "    </tr>\n",
       "    <tr>\n",
       "      <th>13491</th>\n",
       "      <td>ZVZ</td>\n",
       "      <td>0.009685</td>\n",
       "      <td>0.018779</td>\n",
       "      <td>0.009390</td>\n",
       "      <td>0.009302</td>\n",
       "      <td>0.004587</td>\n",
       "      <td>0.008929</td>\n",
       "      <td>0.013453</td>\n",
       "      <td>0.006726</td>\n",
       "      <td>0.013274</td>\n",
       "      <td>0.006696</td>\n",
       "      <td>0.008869</td>\n",
       "      <td>0.019481</td>\n",
       "    </tr>\n",
       "  </tbody>\n",
       "</table>\n",
       "<p>13492 rows × 13 columns</p>\n",
       "</div>"
      ],
      "text/plain": [
       "FechaVal_AñoMes NODO  Churn_2021_01  Churn_2021_02  Churn_2021_03  \\\n",
       "0                01J       0.000000       0.000000       0.000000   \n",
       "1                01S       0.000000       0.006098       0.018405   \n",
       "2                02J       0.000000       0.000000       0.000000   \n",
       "3                02S       0.007353       0.028777       0.007194   \n",
       "4                03J       0.058824       0.000000       0.000000   \n",
       "...              ...            ...            ...            ...   \n",
       "13487            ZVD       0.045098       0.058594       0.046154   \n",
       "13488            ZVG       0.023952       0.006042       0.021212   \n",
       "13489            ZVS       0.008351       0.018367       0.014433   \n",
       "13490            ZVT       0.000000       0.007463       0.014388   \n",
       "13491            ZVZ       0.009685       0.018779       0.009390   \n",
       "\n",
       "FechaVal_AñoMes  Churn_2021_04  Churn_2021_05  Churn_2021_06  Churn_2021_07  \\\n",
       "0                     0.000000       0.037037       0.038462       0.000000   \n",
       "1                     0.011834       0.011561       0.017341       0.016667   \n",
       "2                     0.000000       0.000000       0.000000       0.000000   \n",
       "3                     0.013514       0.006711       0.013699       0.013333   \n",
       "4                     0.000000       0.000000       0.058824       0.062500   \n",
       "...                        ...            ...            ...            ...   \n",
       "13487                 0.035714       0.011468       0.020930       0.011848   \n",
       "13488                 0.015432       0.018405       0.019048       0.025316   \n",
       "13489                 0.012526       0.018557       0.012448       0.010482   \n",
       "13490                 0.028369       0.007299       0.000000       0.006944   \n",
       "13491                 0.009302       0.004587       0.008929       0.013453   \n",
       "\n",
       "FechaVal_AñoMes  Churn_2021_08  Churn_2021_09  Churn_2021_10  Churn_2021_11  \\\n",
       "0                     0.041667       0.040000       0.000000       0.000000   \n",
       "1                     0.005682       0.000000       0.026455       0.016667   \n",
       "2                     0.071429       0.000000       0.000000       0.000000   \n",
       "3                     0.029940       0.012195       0.013423       0.006897   \n",
       "4                     0.000000       0.033333       0.066667       0.000000   \n",
       "...                        ...            ...            ...            ...   \n",
       "13487                 0.033816       0.021583       0.024331       0.015504   \n",
       "13488                 0.022801       0.016556       0.006645       0.006780   \n",
       "13489                 0.008282       0.010246       0.018145       0.021053   \n",
       "13490                 0.006993       0.006944       0.007042       0.014085   \n",
       "13491                 0.006726       0.013274       0.006696       0.008869   \n",
       "\n",
       "FechaVal_AñoMes  Churn_2021_12  \n",
       "0                     0.038462  \n",
       "1                     0.020942  \n",
       "2                     0.000000  \n",
       "3                     0.019108  \n",
       "4                     0.000000  \n",
       "...                        ...  \n",
       "13487                 0.010256  \n",
       "13488                 0.006645  \n",
       "13489                 0.016293  \n",
       "13490                 0.006993  \n",
       "13491                 0.019481  \n",
       "\n",
       "[13492 rows x 13 columns]"
      ]
     },
     "execution_count": 81,
     "metadata": {},
     "output_type": "execute_result"
    }
   ],
   "source": [
    "df_fija_pv = pd.pivot_table(df_fija1, index = \"NODO\", columns=['FechaVal_AñoMes'], values='TasaChurn')\n",
    "df_fija_pv.fillna(0,inplace=True)\n",
    "df_fija_pv = df_fija_pv.reset_index()\n",
    "# df_fija_pv.to_csv(os.path.join(result_dir,'Fija\\\\Resultados\\\\ChurnActivosFijaPivot.csv'), sep = ';')\n",
    "df_fija_pv"
   ]
  },
  {
   "cell_type": "code",
   "execution_count": 82,
   "id": "9938e34f-8a7d-4ba0-b0e4-b6caf620a5cf",
   "metadata": {},
   "outputs": [],
   "source": [
    "#Banderas TasaChurn superior a promedio NAL 0.018 y 0.025\n",
    "PromedioNal = 0.017 # 0.018 0.017009\n",
    " \n",
    "df_fija_pv.loc[(df_fija_pv['Churn_2021_01']>PromedioNal),'flgAvgNalChurn_2021_01'] = 1\n",
    "df_fija_pv.loc[(df_fija_pv['Churn_2021_02']>PromedioNal),'flgAvgNalChurn_2021_02'] = 1\n",
    "df_fija_pv.loc[(df_fija_pv['Churn_2021_03']>PromedioNal),'flgAvgNalChurn_2021_03'] = 1\n",
    "df_fija_pv.loc[(df_fija_pv['Churn_2021_04']>PromedioNal),'flgAvgNalChurn_2021_04'] = 1\n",
    "df_fija_pv.loc[(df_fija_pv['Churn_2021_05']>PromedioNal),'flgAvgNalChurn_2021_05'] = 1\n",
    "df_fija_pv.loc[(df_fija_pv['Churn_2021_06']>PromedioNal),'flgAvgNalChurn_2021_06'] = 1\n",
    "df_fija_pv.loc[(df_fija_pv['Churn_2021_07']>PromedioNal),'flgAvgNalChurn_2021_07'] = 1\n",
    "df_fija_pv.loc[(df_fija_pv['Churn_2021_08']>PromedioNal),'flgAvgNalChurn_2021_08'] = 1\n",
    "df_fija_pv.loc[(df_fija_pv['Churn_2021_09']>PromedioNal),'flgAvgNalChurn_2021_09'] = 1\n",
    "df_fija_pv.loc[(df_fija_pv['Churn_2021_10']>PromedioNal),'flgAvgNalChurn_2021_10'] = 1\n",
    "df_fija_pv.loc[(df_fija_pv['Churn_2021_11']>PromedioNal),'flgAvgNalChurn_2021_11'] = 1\n",
    "df_fija_pv.loc[(df_fija_pv['Churn_2021_12']>PromedioNal),'flgAvgNalChurn_2021_12'] = 1\n",
    "\n",
    "df_fija_pv.fillna(0,inplace=True)"
   ]
  },
  {
   "cell_type": "code",
   "execution_count": 83,
   "id": "263ec712-4e1c-4103-a2af-abca00c1c18a",
   "metadata": {},
   "outputs": [
    {
     "data": {
      "text/html": [
       "<div>\n",
       "<style scoped>\n",
       "    .dataframe tbody tr th:only-of-type {\n",
       "        vertical-align: middle;\n",
       "    }\n",
       "\n",
       "    .dataframe tbody tr th {\n",
       "        vertical-align: top;\n",
       "    }\n",
       "\n",
       "    .dataframe thead th {\n",
       "        text-align: right;\n",
       "    }\n",
       "</style>\n",
       "<table border=\"1\" class=\"dataframe\">\n",
       "  <thead>\n",
       "    <tr style=\"text-align: right;\">\n",
       "      <th>FechaVal_AñoMes</th>\n",
       "      <th>NODO</th>\n",
       "      <th>Churn_2021_01</th>\n",
       "      <th>Churn_2021_02</th>\n",
       "      <th>Churn_2021_03</th>\n",
       "      <th>Churn_2021_04</th>\n",
       "      <th>Churn_2021_05</th>\n",
       "      <th>Churn_2021_06</th>\n",
       "      <th>Churn_2021_07</th>\n",
       "      <th>Churn_2021_08</th>\n",
       "      <th>Churn_2021_09</th>\n",
       "      <th>Churn_2021_10</th>\n",
       "      <th>Churn_2021_11</th>\n",
       "      <th>Churn_2021_12</th>\n",
       "      <th>flgAvgNalChurn_2021_01</th>\n",
       "      <th>flgAvgNalChurn_2021_02</th>\n",
       "      <th>flgAvgNalChurn_2021_03</th>\n",
       "      <th>flgAvgNalChurn_2021_04</th>\n",
       "      <th>flgAvgNalChurn_2021_05</th>\n",
       "      <th>flgAvgNalChurn_2021_06</th>\n",
       "      <th>flgAvgNalChurn_2021_07</th>\n",
       "      <th>flgAvgNalChurn_2021_08</th>\n",
       "      <th>flgAvgNalChurn_2021_09</th>\n",
       "      <th>flgAvgNalChurn_2021_10</th>\n",
       "      <th>flgAvgNalChurn_2021_11</th>\n",
       "      <th>flgAvgNalChurn_2021_12</th>\n",
       "    </tr>\n",
       "  </thead>\n",
       "  <tbody>\n",
       "    <tr>\n",
       "      <th>0</th>\n",
       "      <td>01J</td>\n",
       "      <td>0.0</td>\n",
       "      <td>0.000000</td>\n",
       "      <td>0.000000</td>\n",
       "      <td>0.000000</td>\n",
       "      <td>0.037037</td>\n",
       "      <td>0.038462</td>\n",
       "      <td>0.000000</td>\n",
       "      <td>0.041667</td>\n",
       "      <td>0.04</td>\n",
       "      <td>0.000000</td>\n",
       "      <td>0.000000</td>\n",
       "      <td>0.038462</td>\n",
       "      <td>0.0</td>\n",
       "      <td>0.0</td>\n",
       "      <td>0.0</td>\n",
       "      <td>0.0</td>\n",
       "      <td>1.0</td>\n",
       "      <td>1.0</td>\n",
       "      <td>0.0</td>\n",
       "      <td>1.0</td>\n",
       "      <td>1.0</td>\n",
       "      <td>0.0</td>\n",
       "      <td>0.0</td>\n",
       "      <td>1.0</td>\n",
       "    </tr>\n",
       "    <tr>\n",
       "      <th>1</th>\n",
       "      <td>01S</td>\n",
       "      <td>0.0</td>\n",
       "      <td>0.006098</td>\n",
       "      <td>0.018405</td>\n",
       "      <td>0.011834</td>\n",
       "      <td>0.011561</td>\n",
       "      <td>0.017341</td>\n",
       "      <td>0.016667</td>\n",
       "      <td>0.005682</td>\n",
       "      <td>0.00</td>\n",
       "      <td>0.026455</td>\n",
       "      <td>0.016667</td>\n",
       "      <td>0.020942</td>\n",
       "      <td>0.0</td>\n",
       "      <td>0.0</td>\n",
       "      <td>1.0</td>\n",
       "      <td>0.0</td>\n",
       "      <td>0.0</td>\n",
       "      <td>1.0</td>\n",
       "      <td>0.0</td>\n",
       "      <td>0.0</td>\n",
       "      <td>0.0</td>\n",
       "      <td>1.0</td>\n",
       "      <td>0.0</td>\n",
       "      <td>1.0</td>\n",
       "    </tr>\n",
       "  </tbody>\n",
       "</table>\n",
       "</div>"
      ],
      "text/plain": [
       "FechaVal_AñoMes NODO  Churn_2021_01  Churn_2021_02  Churn_2021_03  \\\n",
       "0                01J            0.0       0.000000       0.000000   \n",
       "1                01S            0.0       0.006098       0.018405   \n",
       "\n",
       "FechaVal_AñoMes  Churn_2021_04  Churn_2021_05  Churn_2021_06  Churn_2021_07  \\\n",
       "0                     0.000000       0.037037       0.038462       0.000000   \n",
       "1                     0.011834       0.011561       0.017341       0.016667   \n",
       "\n",
       "FechaVal_AñoMes  Churn_2021_08  Churn_2021_09  Churn_2021_10  Churn_2021_11  \\\n",
       "0                     0.041667           0.04       0.000000       0.000000   \n",
       "1                     0.005682           0.00       0.026455       0.016667   \n",
       "\n",
       "FechaVal_AñoMes  Churn_2021_12  flgAvgNalChurn_2021_01  \\\n",
       "0                     0.038462                     0.0   \n",
       "1                     0.020942                     0.0   \n",
       "\n",
       "FechaVal_AñoMes  flgAvgNalChurn_2021_02  flgAvgNalChurn_2021_03  \\\n",
       "0                                   0.0                     0.0   \n",
       "1                                   0.0                     1.0   \n",
       "\n",
       "FechaVal_AñoMes  flgAvgNalChurn_2021_04  flgAvgNalChurn_2021_05  \\\n",
       "0                                   0.0                     1.0   \n",
       "1                                   0.0                     0.0   \n",
       "\n",
       "FechaVal_AñoMes  flgAvgNalChurn_2021_06  flgAvgNalChurn_2021_07  \\\n",
       "0                                   1.0                     0.0   \n",
       "1                                   1.0                     0.0   \n",
       "\n",
       "FechaVal_AñoMes  flgAvgNalChurn_2021_08  flgAvgNalChurn_2021_09  \\\n",
       "0                                   1.0                     1.0   \n",
       "1                                   0.0                     0.0   \n",
       "\n",
       "FechaVal_AñoMes  flgAvgNalChurn_2021_10  flgAvgNalChurn_2021_11  \\\n",
       "0                                   0.0                     0.0   \n",
       "1                                   1.0                     0.0   \n",
       "\n",
       "FechaVal_AñoMes  flgAvgNalChurn_2021_12  \n",
       "0                                   1.0  \n",
       "1                                   1.0  "
      ]
     },
     "execution_count": 83,
     "metadata": {},
     "output_type": "execute_result"
    }
   ],
   "source": [
    "df_fija_pv.head(2)"
   ]
  },
  {
   "cell_type": "code",
   "execution_count": 84,
   "id": "0b34e7d6-7220-433f-96ea-5db230cca351",
   "metadata": {},
   "outputs": [],
   "source": [
    "#Calculo promedio por nodo superior a tasa Churn \n",
    "# ChurnActivosFija_pv[\"Flag_AvgNal_2020\"] = ChurnActivosFija_pv.filter(like='flgAvgNalChurn_2020').sum(axis=1)\n",
    "df_fija_pv[\"Flag_AvgNal_2021\"] = df_fija_pv.filter(like='flgAvgNalChurn_2021').sum(axis=1)\n",
    "# df_fija_pv[\"Flag_AvgNal_TOTAL\"] = df_fija_pv.filter(like='flgAvgNalChurn').sum(axis=1)\n",
    "# ChurnActivosFija_pv[\"Flag_AvgNal_Tasa_2020\"] = ChurnActivosFija_pv.filter(like='flgAvgNalChurn_2020').sum(axis=1)/ChurnActivosFija_pv.filter(like='flgAvgNalChurn_2020').count(axis=1)\n",
    "df_fija_pv[\"Flag_AvgNal_Tasa_2021\"] = df_fija_pv.filter(like='flgAvgNalChurn_2021').sum(axis=1)/df_fija_pv.filter(like='flgAvgNalChurn_2021').count(axis=1)\n",
    "# df_fija_pv[\"Flag_AvgNal_Tasa_TOTAL\"] = df_fija_pv.filter(like='flgAvgNalChurn').sum(axis=1)/df_fija_pv.filter(like='flgAvgNalChurn').count(axis=1)"
   ]
  },
  {
   "cell_type": "code",
   "execution_count": 85,
   "id": "21047f03-39c7-4d56-a722-021d63eea3a5",
   "metadata": {},
   "outputs": [],
   "source": [
    "# df_fija_pv.to_csv(os.path.join(result_dir,'Fija\\\\Resultados\\\\ChurnActivosFija.csv'), sep = ';')"
   ]
  },
  {
   "cell_type": "code",
   "execution_count": 86,
   "id": "1652cea7-401f-4f94-aefa-b448bcb2f483",
   "metadata": {},
   "outputs": [],
   "source": [
    "df_fija_pv['selecion']=1"
   ]
  },
  {
   "cell_type": "code",
   "execution_count": 87,
   "id": "719b5215-8636-4ade-a30f-886da53f9ac4",
   "metadata": {},
   "outputs": [
    {
     "data": {
      "text/plain": [
       "1    13492\n",
       "Name: selecion, dtype: int64"
      ]
     },
     "execution_count": 87,
     "metadata": {},
     "output_type": "execute_result"
    }
   ],
   "source": [
    "df_fija_pv[\"selecion\"].value_counts()[:30]"
   ]
  },
  {
   "cell_type": "code",
   "execution_count": 88,
   "id": "863cd744-6607-4666-ad99-b0bfde384b39",
   "metadata": {},
   "outputs": [
    {
     "data": {
      "text/plain": [
       "(13492, 28)"
      ]
     },
     "execution_count": 88,
     "metadata": {},
     "output_type": "execute_result"
    }
   ],
   "source": [
    "df_fija_pv.shape"
   ]
  },
  {
   "cell_type": "code",
   "execution_count": 89,
   "id": "75ab1706-6132-462e-b10a-22a55df32d38",
   "metadata": {},
   "outputs": [
    {
     "data": {
      "text/html": [
       "<div>\n",
       "<style scoped>\n",
       "    .dataframe tbody tr th:only-of-type {\n",
       "        vertical-align: middle;\n",
       "    }\n",
       "\n",
       "    .dataframe tbody tr th {\n",
       "        vertical-align: top;\n",
       "    }\n",
       "\n",
       "    .dataframe thead th {\n",
       "        text-align: right;\n",
       "    }\n",
       "</style>\n",
       "<table border=\"1\" class=\"dataframe\">\n",
       "  <thead>\n",
       "    <tr style=\"text-align: right;\">\n",
       "      <th>FechaVal_AñoMes</th>\n",
       "      <th>NODO</th>\n",
       "      <th>Churn_2021_01</th>\n",
       "      <th>Churn_2021_02</th>\n",
       "      <th>Churn_2021_03</th>\n",
       "      <th>Churn_2021_04</th>\n",
       "      <th>Churn_2021_05</th>\n",
       "      <th>Churn_2021_06</th>\n",
       "      <th>Churn_2021_07</th>\n",
       "      <th>Churn_2021_08</th>\n",
       "      <th>Churn_2021_09</th>\n",
       "      <th>Churn_2021_10</th>\n",
       "      <th>Churn_2021_11</th>\n",
       "      <th>Churn_2021_12</th>\n",
       "      <th>flgAvgNalChurn_2021_01</th>\n",
       "      <th>flgAvgNalChurn_2021_02</th>\n",
       "      <th>flgAvgNalChurn_2021_03</th>\n",
       "      <th>flgAvgNalChurn_2021_04</th>\n",
       "      <th>flgAvgNalChurn_2021_05</th>\n",
       "      <th>flgAvgNalChurn_2021_06</th>\n",
       "      <th>flgAvgNalChurn_2021_07</th>\n",
       "      <th>flgAvgNalChurn_2021_08</th>\n",
       "      <th>flgAvgNalChurn_2021_09</th>\n",
       "      <th>flgAvgNalChurn_2021_10</th>\n",
       "      <th>flgAvgNalChurn_2021_11</th>\n",
       "      <th>flgAvgNalChurn_2021_12</th>\n",
       "      <th>Flag_AvgNal_2021</th>\n",
       "      <th>Flag_AvgNal_Tasa_2021</th>\n",
       "      <th>selecion</th>\n",
       "    </tr>\n",
       "  </thead>\n",
       "  <tbody>\n",
       "    <tr>\n",
       "      <th>0</th>\n",
       "      <td>01J</td>\n",
       "      <td>0.000000</td>\n",
       "      <td>0.000000</td>\n",
       "      <td>0.000000</td>\n",
       "      <td>0.000000</td>\n",
       "      <td>0.037037</td>\n",
       "      <td>0.038462</td>\n",
       "      <td>0.000000</td>\n",
       "      <td>0.041667</td>\n",
       "      <td>0.040000</td>\n",
       "      <td>0.000000</td>\n",
       "      <td>0.000000</td>\n",
       "      <td>0.038462</td>\n",
       "      <td>0.0</td>\n",
       "      <td>0.0</td>\n",
       "      <td>0.0</td>\n",
       "      <td>0.0</td>\n",
       "      <td>1.0</td>\n",
       "      <td>1.0</td>\n",
       "      <td>0.0</td>\n",
       "      <td>1.0</td>\n",
       "      <td>1.0</td>\n",
       "      <td>0.0</td>\n",
       "      <td>0.0</td>\n",
       "      <td>1.0</td>\n",
       "      <td>5.0</td>\n",
       "      <td>0.416667</td>\n",
       "      <td>1</td>\n",
       "    </tr>\n",
       "    <tr>\n",
       "      <th>1</th>\n",
       "      <td>01S</td>\n",
       "      <td>0.000000</td>\n",
       "      <td>0.006098</td>\n",
       "      <td>0.018405</td>\n",
       "      <td>0.011834</td>\n",
       "      <td>0.011561</td>\n",
       "      <td>0.017341</td>\n",
       "      <td>0.016667</td>\n",
       "      <td>0.005682</td>\n",
       "      <td>0.000000</td>\n",
       "      <td>0.026455</td>\n",
       "      <td>0.016667</td>\n",
       "      <td>0.020942</td>\n",
       "      <td>0.0</td>\n",
       "      <td>0.0</td>\n",
       "      <td>1.0</td>\n",
       "      <td>0.0</td>\n",
       "      <td>0.0</td>\n",
       "      <td>1.0</td>\n",
       "      <td>0.0</td>\n",
       "      <td>0.0</td>\n",
       "      <td>0.0</td>\n",
       "      <td>1.0</td>\n",
       "      <td>0.0</td>\n",
       "      <td>1.0</td>\n",
       "      <td>4.0</td>\n",
       "      <td>0.333333</td>\n",
       "      <td>1</td>\n",
       "    </tr>\n",
       "    <tr>\n",
       "      <th>2</th>\n",
       "      <td>02J</td>\n",
       "      <td>0.000000</td>\n",
       "      <td>0.000000</td>\n",
       "      <td>0.000000</td>\n",
       "      <td>0.000000</td>\n",
       "      <td>0.000000</td>\n",
       "      <td>0.000000</td>\n",
       "      <td>0.000000</td>\n",
       "      <td>0.071429</td>\n",
       "      <td>0.000000</td>\n",
       "      <td>0.000000</td>\n",
       "      <td>0.000000</td>\n",
       "      <td>0.000000</td>\n",
       "      <td>0.0</td>\n",
       "      <td>0.0</td>\n",
       "      <td>0.0</td>\n",
       "      <td>0.0</td>\n",
       "      <td>0.0</td>\n",
       "      <td>0.0</td>\n",
       "      <td>0.0</td>\n",
       "      <td>1.0</td>\n",
       "      <td>0.0</td>\n",
       "      <td>0.0</td>\n",
       "      <td>0.0</td>\n",
       "      <td>0.0</td>\n",
       "      <td>1.0</td>\n",
       "      <td>0.083333</td>\n",
       "      <td>1</td>\n",
       "    </tr>\n",
       "    <tr>\n",
       "      <th>3</th>\n",
       "      <td>02S</td>\n",
       "      <td>0.007353</td>\n",
       "      <td>0.028777</td>\n",
       "      <td>0.007194</td>\n",
       "      <td>0.013514</td>\n",
       "      <td>0.006711</td>\n",
       "      <td>0.013699</td>\n",
       "      <td>0.013333</td>\n",
       "      <td>0.029940</td>\n",
       "      <td>0.012195</td>\n",
       "      <td>0.013423</td>\n",
       "      <td>0.006897</td>\n",
       "      <td>0.019108</td>\n",
       "      <td>0.0</td>\n",
       "      <td>1.0</td>\n",
       "      <td>0.0</td>\n",
       "      <td>0.0</td>\n",
       "      <td>0.0</td>\n",
       "      <td>0.0</td>\n",
       "      <td>0.0</td>\n",
       "      <td>1.0</td>\n",
       "      <td>0.0</td>\n",
       "      <td>0.0</td>\n",
       "      <td>0.0</td>\n",
       "      <td>1.0</td>\n",
       "      <td>3.0</td>\n",
       "      <td>0.250000</td>\n",
       "      <td>1</td>\n",
       "    </tr>\n",
       "    <tr>\n",
       "      <th>4</th>\n",
       "      <td>03J</td>\n",
       "      <td>0.058824</td>\n",
       "      <td>0.000000</td>\n",
       "      <td>0.000000</td>\n",
       "      <td>0.000000</td>\n",
       "      <td>0.000000</td>\n",
       "      <td>0.058824</td>\n",
       "      <td>0.062500</td>\n",
       "      <td>0.000000</td>\n",
       "      <td>0.033333</td>\n",
       "      <td>0.066667</td>\n",
       "      <td>0.000000</td>\n",
       "      <td>0.000000</td>\n",
       "      <td>1.0</td>\n",
       "      <td>0.0</td>\n",
       "      <td>0.0</td>\n",
       "      <td>0.0</td>\n",
       "      <td>0.0</td>\n",
       "      <td>1.0</td>\n",
       "      <td>1.0</td>\n",
       "      <td>0.0</td>\n",
       "      <td>1.0</td>\n",
       "      <td>1.0</td>\n",
       "      <td>0.0</td>\n",
       "      <td>0.0</td>\n",
       "      <td>5.0</td>\n",
       "      <td>0.416667</td>\n",
       "      <td>1</td>\n",
       "    </tr>\n",
       "    <tr>\n",
       "      <th>...</th>\n",
       "      <td>...</td>\n",
       "      <td>...</td>\n",
       "      <td>...</td>\n",
       "      <td>...</td>\n",
       "      <td>...</td>\n",
       "      <td>...</td>\n",
       "      <td>...</td>\n",
       "      <td>...</td>\n",
       "      <td>...</td>\n",
       "      <td>...</td>\n",
       "      <td>...</td>\n",
       "      <td>...</td>\n",
       "      <td>...</td>\n",
       "      <td>...</td>\n",
       "      <td>...</td>\n",
       "      <td>...</td>\n",
       "      <td>...</td>\n",
       "      <td>...</td>\n",
       "      <td>...</td>\n",
       "      <td>...</td>\n",
       "      <td>...</td>\n",
       "      <td>...</td>\n",
       "      <td>...</td>\n",
       "      <td>...</td>\n",
       "      <td>...</td>\n",
       "      <td>...</td>\n",
       "      <td>...</td>\n",
       "      <td>...</td>\n",
       "    </tr>\n",
       "    <tr>\n",
       "      <th>13487</th>\n",
       "      <td>ZVD</td>\n",
       "      <td>0.045098</td>\n",
       "      <td>0.058594</td>\n",
       "      <td>0.046154</td>\n",
       "      <td>0.035714</td>\n",
       "      <td>0.011468</td>\n",
       "      <td>0.020930</td>\n",
       "      <td>0.011848</td>\n",
       "      <td>0.033816</td>\n",
       "      <td>0.021583</td>\n",
       "      <td>0.024331</td>\n",
       "      <td>0.015504</td>\n",
       "      <td>0.010256</td>\n",
       "      <td>1.0</td>\n",
       "      <td>1.0</td>\n",
       "      <td>1.0</td>\n",
       "      <td>1.0</td>\n",
       "      <td>0.0</td>\n",
       "      <td>1.0</td>\n",
       "      <td>0.0</td>\n",
       "      <td>1.0</td>\n",
       "      <td>1.0</td>\n",
       "      <td>1.0</td>\n",
       "      <td>0.0</td>\n",
       "      <td>0.0</td>\n",
       "      <td>8.0</td>\n",
       "      <td>0.666667</td>\n",
       "      <td>1</td>\n",
       "    </tr>\n",
       "    <tr>\n",
       "      <th>13488</th>\n",
       "      <td>ZVG</td>\n",
       "      <td>0.023952</td>\n",
       "      <td>0.006042</td>\n",
       "      <td>0.021212</td>\n",
       "      <td>0.015432</td>\n",
       "      <td>0.018405</td>\n",
       "      <td>0.019048</td>\n",
       "      <td>0.025316</td>\n",
       "      <td>0.022801</td>\n",
       "      <td>0.016556</td>\n",
       "      <td>0.006645</td>\n",
       "      <td>0.006780</td>\n",
       "      <td>0.006645</td>\n",
       "      <td>1.0</td>\n",
       "      <td>0.0</td>\n",
       "      <td>1.0</td>\n",
       "      <td>0.0</td>\n",
       "      <td>1.0</td>\n",
       "      <td>1.0</td>\n",
       "      <td>1.0</td>\n",
       "      <td>1.0</td>\n",
       "      <td>0.0</td>\n",
       "      <td>0.0</td>\n",
       "      <td>0.0</td>\n",
       "      <td>0.0</td>\n",
       "      <td>6.0</td>\n",
       "      <td>0.500000</td>\n",
       "      <td>1</td>\n",
       "    </tr>\n",
       "    <tr>\n",
       "      <th>13489</th>\n",
       "      <td>ZVS</td>\n",
       "      <td>0.008351</td>\n",
       "      <td>0.018367</td>\n",
       "      <td>0.014433</td>\n",
       "      <td>0.012526</td>\n",
       "      <td>0.018557</td>\n",
       "      <td>0.012448</td>\n",
       "      <td>0.010482</td>\n",
       "      <td>0.008282</td>\n",
       "      <td>0.010246</td>\n",
       "      <td>0.018145</td>\n",
       "      <td>0.021053</td>\n",
       "      <td>0.016293</td>\n",
       "      <td>0.0</td>\n",
       "      <td>1.0</td>\n",
       "      <td>0.0</td>\n",
       "      <td>0.0</td>\n",
       "      <td>1.0</td>\n",
       "      <td>0.0</td>\n",
       "      <td>0.0</td>\n",
       "      <td>0.0</td>\n",
       "      <td>0.0</td>\n",
       "      <td>1.0</td>\n",
       "      <td>1.0</td>\n",
       "      <td>0.0</td>\n",
       "      <td>4.0</td>\n",
       "      <td>0.333333</td>\n",
       "      <td>1</td>\n",
       "    </tr>\n",
       "    <tr>\n",
       "      <th>13490</th>\n",
       "      <td>ZVT</td>\n",
       "      <td>0.000000</td>\n",
       "      <td>0.007463</td>\n",
       "      <td>0.014388</td>\n",
       "      <td>0.028369</td>\n",
       "      <td>0.007299</td>\n",
       "      <td>0.000000</td>\n",
       "      <td>0.006944</td>\n",
       "      <td>0.006993</td>\n",
       "      <td>0.006944</td>\n",
       "      <td>0.007042</td>\n",
       "      <td>0.014085</td>\n",
       "      <td>0.006993</td>\n",
       "      <td>0.0</td>\n",
       "      <td>0.0</td>\n",
       "      <td>0.0</td>\n",
       "      <td>1.0</td>\n",
       "      <td>0.0</td>\n",
       "      <td>0.0</td>\n",
       "      <td>0.0</td>\n",
       "      <td>0.0</td>\n",
       "      <td>0.0</td>\n",
       "      <td>0.0</td>\n",
       "      <td>0.0</td>\n",
       "      <td>0.0</td>\n",
       "      <td>1.0</td>\n",
       "      <td>0.083333</td>\n",
       "      <td>1</td>\n",
       "    </tr>\n",
       "    <tr>\n",
       "      <th>13491</th>\n",
       "      <td>ZVZ</td>\n",
       "      <td>0.009685</td>\n",
       "      <td>0.018779</td>\n",
       "      <td>0.009390</td>\n",
       "      <td>0.009302</td>\n",
       "      <td>0.004587</td>\n",
       "      <td>0.008929</td>\n",
       "      <td>0.013453</td>\n",
       "      <td>0.006726</td>\n",
       "      <td>0.013274</td>\n",
       "      <td>0.006696</td>\n",
       "      <td>0.008869</td>\n",
       "      <td>0.019481</td>\n",
       "      <td>0.0</td>\n",
       "      <td>1.0</td>\n",
       "      <td>0.0</td>\n",
       "      <td>0.0</td>\n",
       "      <td>0.0</td>\n",
       "      <td>0.0</td>\n",
       "      <td>0.0</td>\n",
       "      <td>0.0</td>\n",
       "      <td>0.0</td>\n",
       "      <td>0.0</td>\n",
       "      <td>0.0</td>\n",
       "      <td>1.0</td>\n",
       "      <td>2.0</td>\n",
       "      <td>0.166667</td>\n",
       "      <td>1</td>\n",
       "    </tr>\n",
       "  </tbody>\n",
       "</table>\n",
       "<p>13492 rows × 28 columns</p>\n",
       "</div>"
      ],
      "text/plain": [
       "FechaVal_AñoMes NODO  Churn_2021_01  Churn_2021_02  Churn_2021_03  \\\n",
       "0                01J       0.000000       0.000000       0.000000   \n",
       "1                01S       0.000000       0.006098       0.018405   \n",
       "2                02J       0.000000       0.000000       0.000000   \n",
       "3                02S       0.007353       0.028777       0.007194   \n",
       "4                03J       0.058824       0.000000       0.000000   \n",
       "...              ...            ...            ...            ...   \n",
       "13487            ZVD       0.045098       0.058594       0.046154   \n",
       "13488            ZVG       0.023952       0.006042       0.021212   \n",
       "13489            ZVS       0.008351       0.018367       0.014433   \n",
       "13490            ZVT       0.000000       0.007463       0.014388   \n",
       "13491            ZVZ       0.009685       0.018779       0.009390   \n",
       "\n",
       "FechaVal_AñoMes  Churn_2021_04  Churn_2021_05  Churn_2021_06  Churn_2021_07  \\\n",
       "0                     0.000000       0.037037       0.038462       0.000000   \n",
       "1                     0.011834       0.011561       0.017341       0.016667   \n",
       "2                     0.000000       0.000000       0.000000       0.000000   \n",
       "3                     0.013514       0.006711       0.013699       0.013333   \n",
       "4                     0.000000       0.000000       0.058824       0.062500   \n",
       "...                        ...            ...            ...            ...   \n",
       "13487                 0.035714       0.011468       0.020930       0.011848   \n",
       "13488                 0.015432       0.018405       0.019048       0.025316   \n",
       "13489                 0.012526       0.018557       0.012448       0.010482   \n",
       "13490                 0.028369       0.007299       0.000000       0.006944   \n",
       "13491                 0.009302       0.004587       0.008929       0.013453   \n",
       "\n",
       "FechaVal_AñoMes  Churn_2021_08  Churn_2021_09  Churn_2021_10  Churn_2021_11  \\\n",
       "0                     0.041667       0.040000       0.000000       0.000000   \n",
       "1                     0.005682       0.000000       0.026455       0.016667   \n",
       "2                     0.071429       0.000000       0.000000       0.000000   \n",
       "3                     0.029940       0.012195       0.013423       0.006897   \n",
       "4                     0.000000       0.033333       0.066667       0.000000   \n",
       "...                        ...            ...            ...            ...   \n",
       "13487                 0.033816       0.021583       0.024331       0.015504   \n",
       "13488                 0.022801       0.016556       0.006645       0.006780   \n",
       "13489                 0.008282       0.010246       0.018145       0.021053   \n",
       "13490                 0.006993       0.006944       0.007042       0.014085   \n",
       "13491                 0.006726       0.013274       0.006696       0.008869   \n",
       "\n",
       "FechaVal_AñoMes  Churn_2021_12  flgAvgNalChurn_2021_01  \\\n",
       "0                     0.038462                     0.0   \n",
       "1                     0.020942                     0.0   \n",
       "2                     0.000000                     0.0   \n",
       "3                     0.019108                     0.0   \n",
       "4                     0.000000                     1.0   \n",
       "...                        ...                     ...   \n",
       "13487                 0.010256                     1.0   \n",
       "13488                 0.006645                     1.0   \n",
       "13489                 0.016293                     0.0   \n",
       "13490                 0.006993                     0.0   \n",
       "13491                 0.019481                     0.0   \n",
       "\n",
       "FechaVal_AñoMes  flgAvgNalChurn_2021_02  flgAvgNalChurn_2021_03  \\\n",
       "0                                   0.0                     0.0   \n",
       "1                                   0.0                     1.0   \n",
       "2                                   0.0                     0.0   \n",
       "3                                   1.0                     0.0   \n",
       "4                                   0.0                     0.0   \n",
       "...                                 ...                     ...   \n",
       "13487                               1.0                     1.0   \n",
       "13488                               0.0                     1.0   \n",
       "13489                               1.0                     0.0   \n",
       "13490                               0.0                     0.0   \n",
       "13491                               1.0                     0.0   \n",
       "\n",
       "FechaVal_AñoMes  flgAvgNalChurn_2021_04  flgAvgNalChurn_2021_05  \\\n",
       "0                                   0.0                     1.0   \n",
       "1                                   0.0                     0.0   \n",
       "2                                   0.0                     0.0   \n",
       "3                                   0.0                     0.0   \n",
       "4                                   0.0                     0.0   \n",
       "...                                 ...                     ...   \n",
       "13487                               1.0                     0.0   \n",
       "13488                               0.0                     1.0   \n",
       "13489                               0.0                     1.0   \n",
       "13490                               1.0                     0.0   \n",
       "13491                               0.0                     0.0   \n",
       "\n",
       "FechaVal_AñoMes  flgAvgNalChurn_2021_06  flgAvgNalChurn_2021_07  \\\n",
       "0                                   1.0                     0.0   \n",
       "1                                   1.0                     0.0   \n",
       "2                                   0.0                     0.0   \n",
       "3                                   0.0                     0.0   \n",
       "4                                   1.0                     1.0   \n",
       "...                                 ...                     ...   \n",
       "13487                               1.0                     0.0   \n",
       "13488                               1.0                     1.0   \n",
       "13489                               0.0                     0.0   \n",
       "13490                               0.0                     0.0   \n",
       "13491                               0.0                     0.0   \n",
       "\n",
       "FechaVal_AñoMes  flgAvgNalChurn_2021_08  flgAvgNalChurn_2021_09  \\\n",
       "0                                   1.0                     1.0   \n",
       "1                                   0.0                     0.0   \n",
       "2                                   1.0                     0.0   \n",
       "3                                   1.0                     0.0   \n",
       "4                                   0.0                     1.0   \n",
       "...                                 ...                     ...   \n",
       "13487                               1.0                     1.0   \n",
       "13488                               1.0                     0.0   \n",
       "13489                               0.0                     0.0   \n",
       "13490                               0.0                     0.0   \n",
       "13491                               0.0                     0.0   \n",
       "\n",
       "FechaVal_AñoMes  flgAvgNalChurn_2021_10  flgAvgNalChurn_2021_11  \\\n",
       "0                                   0.0                     0.0   \n",
       "1                                   1.0                     0.0   \n",
       "2                                   0.0                     0.0   \n",
       "3                                   0.0                     0.0   \n",
       "4                                   1.0                     0.0   \n",
       "...                                 ...                     ...   \n",
       "13487                               1.0                     0.0   \n",
       "13488                               0.0                     0.0   \n",
       "13489                               1.0                     1.0   \n",
       "13490                               0.0                     0.0   \n",
       "13491                               0.0                     0.0   \n",
       "\n",
       "FechaVal_AñoMes  flgAvgNalChurn_2021_12  Flag_AvgNal_2021  \\\n",
       "0                                   1.0               5.0   \n",
       "1                                   1.0               4.0   \n",
       "2                                   0.0               1.0   \n",
       "3                                   1.0               3.0   \n",
       "4                                   0.0               5.0   \n",
       "...                                 ...               ...   \n",
       "13487                               0.0               8.0   \n",
       "13488                               0.0               6.0   \n",
       "13489                               0.0               4.0   \n",
       "13490                               0.0               1.0   \n",
       "13491                               1.0               2.0   \n",
       "\n",
       "FechaVal_AñoMes  Flag_AvgNal_Tasa_2021  selecion  \n",
       "0                             0.416667         1  \n",
       "1                             0.333333         1  \n",
       "2                             0.083333         1  \n",
       "3                             0.250000         1  \n",
       "4                             0.416667         1  \n",
       "...                                ...       ...  \n",
       "13487                         0.666667         1  \n",
       "13488                         0.500000         1  \n",
       "13489                         0.333333         1  \n",
       "13490                         0.083333         1  \n",
       "13491                         0.166667         1  \n",
       "\n",
       "[13492 rows x 28 columns]"
      ]
     },
     "execution_count": 89,
     "metadata": {},
     "output_type": "execute_result"
    }
   ],
   "source": [
    "df_fija_pv"
   ]
  },
  {
   "cell_type": "markdown",
   "id": "3ae636ce-3bb3-4eb4-88be-7481fb5be0e2",
   "metadata": {},
   "source": [
    "## Lisa"
   ]
  },
  {
   "cell_type": "code",
   "execution_count": 90,
   "id": "41703398-68dd-4f89-9386-c990ceb2b790",
   "metadata": {},
   "outputs": [
    {
     "name": "stderr",
     "output_type": "stream",
     "text": [
      "C:\\ProgramData\\Anaconda3\\envs\\sqdm\\lib\\site-packages\\pyproj\\crs\\crs.py:53: FutureWarning: '+init=<authority>:<code>' syntax is deprecated. '<authority>:<code>' is the preferred initialization method. When making the change, be mindful of axis order changes: https://pyproj4.github.io/pyproj/stable/gotchas.html#axis-order-changes-in-proj-6\n",
      "  return _prepare_from_string(\" \".join(pjargs))\n",
      "C:\\ProgramData\\Anaconda3\\envs\\sqdm\\lib\\site-packages\\pyproj\\crs\\crs.py:294: FutureWarning: '+init=<authority>:<code>' syntax is deprecated. '<authority>:<code>' is the preferred initialization method. When making the change, be mindful of axis order changes: https://pyproj4.github.io/pyproj/stable/gotchas.html#axis-order-changes-in-proj-6\n",
      "  projstring = _prepare_from_string(\" \".join((projstring, projkwargs)))\n",
      "C:\\ProgramData\\Anaconda3\\envs\\sqdm\\lib\\site-packages\\pyproj\\crs\\crs.py:53: FutureWarning: '+init=<authority>:<code>' syntax is deprecated. '<authority>:<code>' is the preferred initialization method. When making the change, be mindful of axis order changes: https://pyproj4.github.io/pyproj/stable/gotchas.html#axis-order-changes-in-proj-6\n",
      "  return _prepare_from_string(\" \".join(pjargs))\n",
      "C:\\ProgramData\\Anaconda3\\envs\\sqdm\\lib\\site-packages\\pyproj\\crs\\crs.py:294: FutureWarning: '+init=<authority>:<code>' syntax is deprecated. '<authority>:<code>' is the preferred initialization method. When making the change, be mindful of axis order changes: https://pyproj4.github.io/pyproj/stable/gotchas.html#axis-order-changes-in-proj-6\n",
      "  projstring = _prepare_from_string(\" \".join((projstring, projkwargs)))\n"
     ]
    }
   ],
   "source": [
    "inProj = Proj(init='EPSG:4326')\n",
    "outProj = Proj(init='EPSG:3857')\n",
    "MSh=gpd.read_file(os.path.join(data_dir, \"HFC_FTTH\\\\HFC_FTTH.shp\"))\n",
    "MSh = MSh.to_crs('EPSG:3857')"
   ]
  },
  {
   "cell_type": "code",
   "execution_count": 91,
   "id": "c11ec314-0df6-4bbb-804d-513df500d4aa",
   "metadata": {},
   "outputs": [],
   "source": [
    "MSH=MSh.drop([\"NOMBRE\",\"DEPARTAMEN\",\"Shape_Leng\",\"Shape_Area\"], axis=1)"
   ]
  },
  {
   "cell_type": "code",
   "execution_count": 92,
   "id": "155eb692-8833-4d3d-8325-78894d558b32",
   "metadata": {},
   "outputs": [],
   "source": [
    "# MSH=MSH.drop_duplicates(subset=['NODO'])"
   ]
  },
  {
   "cell_type": "code",
   "execution_count": 93,
   "id": "6b3919a5-6d85-4921-a44e-36eb0e7790ab",
   "metadata": {},
   "outputs": [
    {
     "data": {
      "text/plain": [
       "<Projected CRS: EPSG:3857>\n",
       "Name: WGS 84 / Pseudo-Mercator\n",
       "Axis Info [cartesian]:\n",
       "- X[east]: Easting (metre)\n",
       "- Y[north]: Northing (metre)\n",
       "Area of Use:\n",
       "- name: World - 85°S to 85°N\n",
       "- bounds: (-180.0, -85.06, 180.0, 85.06)\n",
       "Coordinate Operation:\n",
       "- name: Popular Visualisation Pseudo-Mercator\n",
       "- method: Popular Visualisation Pseudo Mercator\n",
       "Datum: World Geodetic System 1984\n",
       "- Ellipsoid: WGS 84\n",
       "- Prime Meridian: Greenwich"
      ]
     },
     "execution_count": 93,
     "metadata": {},
     "output_type": "execute_result"
    }
   ],
   "source": [
    "MSH.crs"
   ]
  },
  {
   "cell_type": "code",
   "execution_count": 94,
   "id": "0bbae909-ee9f-423c-b5e7-ebdfaa72341b",
   "metadata": {},
   "outputs": [],
   "source": [
    "# inProj = Proj(init='EPSG:4326')\n",
    "# outProj = Proj(init='EPSG:3857')\n",
    "# df_fijaG=pd.merge(df_fija_pv, MSH, on = ('NODO'), how='left')   # right\n",
    "# df_fijaG1=pd.merge(MSH, df_fija_pv, on = ('NODO'), how='right')   # right\n",
    "# # df_fijaG = df_fijaG.to_crs(\"EPSG:3857\")\n",
    "df_fijaG = pd.merge(left = MSH, right = df_fija_pv, how = 'left', left_on = 'NODO', right_on = 'NODO')\n",
    "# df_fijaG = df_fijaG.to_crs('EPSG:3857')"
   ]
  },
  {
   "cell_type": "code",
   "execution_count": 95,
   "id": "540b47b7-69ae-4bab-9d52-e1621437960f",
   "metadata": {},
   "outputs": [
    {
     "data": {
      "text/html": [
       "<div>\n",
       "<style scoped>\n",
       "    .dataframe tbody tr th:only-of-type {\n",
       "        vertical-align: middle;\n",
       "    }\n",
       "\n",
       "    .dataframe tbody tr th {\n",
       "        vertical-align: top;\n",
       "    }\n",
       "\n",
       "    .dataframe thead th {\n",
       "        text-align: right;\n",
       "    }\n",
       "</style>\n",
       "<table border=\"1\" class=\"dataframe\">\n",
       "  <thead>\n",
       "    <tr style=\"text-align: right;\">\n",
       "      <th></th>\n",
       "      <th>NODO</th>\n",
       "      <th>TIPO</th>\n",
       "      <th>geometry</th>\n",
       "      <th>Churn_2021_01</th>\n",
       "      <th>Churn_2021_02</th>\n",
       "      <th>Churn_2021_03</th>\n",
       "      <th>Churn_2021_04</th>\n",
       "      <th>Churn_2021_05</th>\n",
       "      <th>Churn_2021_06</th>\n",
       "      <th>Churn_2021_07</th>\n",
       "      <th>Churn_2021_08</th>\n",
       "      <th>Churn_2021_09</th>\n",
       "      <th>Churn_2021_10</th>\n",
       "      <th>Churn_2021_11</th>\n",
       "      <th>Churn_2021_12</th>\n",
       "      <th>flgAvgNalChurn_2021_01</th>\n",
       "      <th>flgAvgNalChurn_2021_02</th>\n",
       "      <th>flgAvgNalChurn_2021_03</th>\n",
       "      <th>flgAvgNalChurn_2021_04</th>\n",
       "      <th>flgAvgNalChurn_2021_05</th>\n",
       "      <th>flgAvgNalChurn_2021_06</th>\n",
       "      <th>flgAvgNalChurn_2021_07</th>\n",
       "      <th>flgAvgNalChurn_2021_08</th>\n",
       "      <th>flgAvgNalChurn_2021_09</th>\n",
       "      <th>flgAvgNalChurn_2021_10</th>\n",
       "      <th>flgAvgNalChurn_2021_11</th>\n",
       "      <th>flgAvgNalChurn_2021_12</th>\n",
       "      <th>Flag_AvgNal_2021</th>\n",
       "      <th>Flag_AvgNal_Tasa_2021</th>\n",
       "      <th>selecion</th>\n",
       "    </tr>\n",
       "  </thead>\n",
       "  <tbody>\n",
       "    <tr>\n",
       "      <th>160</th>\n",
       "      <td>SLJ</td>\n",
       "      <td>HFC</td>\n",
       "      <td>POLYGON Z ((-8240124.075 520378.497 0.000, -82...</td>\n",
       "      <td>0.00625</td>\n",
       "      <td>0.006173</td>\n",
       "      <td>0.011628</td>\n",
       "      <td>0.021164</td>\n",
       "      <td>0.010101</td>\n",
       "      <td>0.004854</td>\n",
       "      <td>0.018692</td>\n",
       "      <td>0.0131</td>\n",
       "      <td>0.021368</td>\n",
       "      <td>0.008889</td>\n",
       "      <td>0.004386</td>\n",
       "      <td>0.024896</td>\n",
       "      <td>0.0</td>\n",
       "      <td>0.0</td>\n",
       "      <td>0.0</td>\n",
       "      <td>1.0</td>\n",
       "      <td>0.0</td>\n",
       "      <td>0.0</td>\n",
       "      <td>1.0</td>\n",
       "      <td>0.0</td>\n",
       "      <td>1.0</td>\n",
       "      <td>0.0</td>\n",
       "      <td>0.0</td>\n",
       "      <td>1.0</td>\n",
       "      <td>4.0</td>\n",
       "      <td>0.333333</td>\n",
       "      <td>1.0</td>\n",
       "    </tr>\n",
       "    <tr>\n",
       "      <th>9469</th>\n",
       "      <td>SLJ</td>\n",
       "      <td>HFC</td>\n",
       "      <td>POLYGON Z ((-8240124.075 520378.497 0.000, -82...</td>\n",
       "      <td>0.00625</td>\n",
       "      <td>0.006173</td>\n",
       "      <td>0.011628</td>\n",
       "      <td>0.021164</td>\n",
       "      <td>0.010101</td>\n",
       "      <td>0.004854</td>\n",
       "      <td>0.018692</td>\n",
       "      <td>0.0131</td>\n",
       "      <td>0.021368</td>\n",
       "      <td>0.008889</td>\n",
       "      <td>0.004386</td>\n",
       "      <td>0.024896</td>\n",
       "      <td>0.0</td>\n",
       "      <td>0.0</td>\n",
       "      <td>0.0</td>\n",
       "      <td>1.0</td>\n",
       "      <td>0.0</td>\n",
       "      <td>0.0</td>\n",
       "      <td>1.0</td>\n",
       "      <td>0.0</td>\n",
       "      <td>1.0</td>\n",
       "      <td>0.0</td>\n",
       "      <td>0.0</td>\n",
       "      <td>1.0</td>\n",
       "      <td>4.0</td>\n",
       "      <td>0.333333</td>\n",
       "      <td>1.0</td>\n",
       "    </tr>\n",
       "  </tbody>\n",
       "</table>\n",
       "</div>"
      ],
      "text/plain": [
       "     NODO TIPO                                           geometry  \\\n",
       "160   SLJ  HFC  POLYGON Z ((-8240124.075 520378.497 0.000, -82...   \n",
       "9469  SLJ  HFC  POLYGON Z ((-8240124.075 520378.497 0.000, -82...   \n",
       "\n",
       "      Churn_2021_01  Churn_2021_02  Churn_2021_03  Churn_2021_04  \\\n",
       "160         0.00625       0.006173       0.011628       0.021164   \n",
       "9469        0.00625       0.006173       0.011628       0.021164   \n",
       "\n",
       "      Churn_2021_05  Churn_2021_06  Churn_2021_07  Churn_2021_08  \\\n",
       "160        0.010101       0.004854       0.018692         0.0131   \n",
       "9469       0.010101       0.004854       0.018692         0.0131   \n",
       "\n",
       "      Churn_2021_09  Churn_2021_10  Churn_2021_11  Churn_2021_12  \\\n",
       "160        0.021368       0.008889       0.004386       0.024896   \n",
       "9469       0.021368       0.008889       0.004386       0.024896   \n",
       "\n",
       "      flgAvgNalChurn_2021_01  flgAvgNalChurn_2021_02  flgAvgNalChurn_2021_03  \\\n",
       "160                      0.0                     0.0                     0.0   \n",
       "9469                     0.0                     0.0                     0.0   \n",
       "\n",
       "      flgAvgNalChurn_2021_04  flgAvgNalChurn_2021_05  flgAvgNalChurn_2021_06  \\\n",
       "160                      1.0                     0.0                     0.0   \n",
       "9469                     1.0                     0.0                     0.0   \n",
       "\n",
       "      flgAvgNalChurn_2021_07  flgAvgNalChurn_2021_08  flgAvgNalChurn_2021_09  \\\n",
       "160                      1.0                     0.0                     1.0   \n",
       "9469                     1.0                     0.0                     1.0   \n",
       "\n",
       "      flgAvgNalChurn_2021_10  flgAvgNalChurn_2021_11  flgAvgNalChurn_2021_12  \\\n",
       "160                      0.0                     0.0                     1.0   \n",
       "9469                     0.0                     0.0                     1.0   \n",
       "\n",
       "      Flag_AvgNal_2021  Flag_AvgNal_Tasa_2021  selecion  \n",
       "160                4.0               0.333333       1.0  \n",
       "9469               4.0               0.333333       1.0  "
      ]
     },
     "execution_count": 95,
     "metadata": {},
     "output_type": "execute_result"
    }
   ],
   "source": [
    "df_fijaG[df_fijaG['NODO']=='SLJ']"
   ]
  },
  {
   "cell_type": "code",
   "execution_count": 96,
   "id": "beb53761-4a54-4007-8c39-fbeff76041b4",
   "metadata": {},
   "outputs": [
    {
     "name": "stdout",
     "output_type": "stream",
     "text": [
      "selecion\n",
      "1.0    13344\n",
      "dtype: int64\n"
     ]
    }
   ],
   "source": [
    "print(df_fijaG.groupby('selecion').size())"
   ]
  },
  {
   "cell_type": "code",
   "execution_count": 97,
   "id": "19b51673-c282-46dc-9122-d312d39c0041",
   "metadata": {},
   "outputs": [
    {
     "data": {
      "text/plain": [
       "(17329, 30)"
      ]
     },
     "execution_count": 97,
     "metadata": {},
     "output_type": "execute_result"
    }
   ],
   "source": [
    "df_fijaG.shape"
   ]
  },
  {
   "cell_type": "code",
   "execution_count": 98,
   "id": "8d665408-3da1-4353-9c4c-6a8f131a6556",
   "metadata": {},
   "outputs": [],
   "source": [
    "df_fijaG3=df_fijaG[df_fijaG['selecion']==1]"
   ]
  },
  {
   "cell_type": "code",
   "execution_count": 99,
   "id": "6d21844d-454b-4bdb-b7c5-54d00d3cbc1d",
   "metadata": {},
   "outputs": [
    {
     "data": {
      "text/plain": [
       "(13344, 30)"
      ]
     },
     "execution_count": 99,
     "metadata": {},
     "output_type": "execute_result"
    }
   ],
   "source": [
    "df_fijaG3.shape"
   ]
  },
  {
   "cell_type": "code",
   "execution_count": 100,
   "id": "d3d38946-76c9-402b-9436-9bad078d398d",
   "metadata": {},
   "outputs": [
    {
     "data": {
      "text/plain": [
       "<Projected CRS: EPSG:3857>\n",
       "Name: WGS 84 / Pseudo-Mercator\n",
       "Axis Info [cartesian]:\n",
       "- X[east]: Easting (metre)\n",
       "- Y[north]: Northing (metre)\n",
       "Area of Use:\n",
       "- name: World - 85°S to 85°N\n",
       "- bounds: (-180.0, -85.06, 180.0, 85.06)\n",
       "Coordinate Operation:\n",
       "- name: Popular Visualisation Pseudo-Mercator\n",
       "- method: Popular Visualisation Pseudo Mercator\n",
       "Datum: World Geodetic System 1984\n",
       "- Ellipsoid: WGS 84\n",
       "- Prime Meridian: Greenwich"
      ]
     },
     "execution_count": 100,
     "metadata": {},
     "output_type": "execute_result"
    }
   ],
   "source": [
    "df_fijaG3.crs"
   ]
  },
  {
   "cell_type": "code",
   "execution_count": 101,
   "id": "8d9d7dc9-1122-4ffb-88d2-dc604b7698a6",
   "metadata": {
    "tags": []
   },
   "outputs": [
    {
     "name": "stderr",
     "output_type": "stream",
     "text": [
      "C:\\ProgramData\\Anaconda3\\envs\\sqdm\\lib\\site-packages\\pysal\\lib\\weights\\weights.py:167: UserWarning: There are 24 disconnected observations \n",
      "  Island ids: 553, 857, 870, 2059, 2064, 2066, 2069, 2079, 2610, 3316, 3318, 3323, 3368, 3521, 3523, 3782, 4604, 6129, 10749, 10772, 12133, 12321, 12807, 13332\n",
      "  warnings.warn(\"There are %d disconnected observations\" % ni + ' \\n '\n"
     ]
    },
    {
     "name": "stdout",
     "output_type": "stream",
     "text": [
      "('WARNING: ', 553, ' is an island (no neighbors)')\n",
      "('WARNING: ', 857, ' is an island (no neighbors)')\n",
      "('WARNING: ', 870, ' is an island (no neighbors)')\n",
      "('WARNING: ', 2059, ' is an island (no neighbors)')\n",
      "('WARNING: ', 2064, ' is an island (no neighbors)')\n",
      "('WARNING: ', 2066, ' is an island (no neighbors)')\n",
      "('WARNING: ', 2069, ' is an island (no neighbors)')\n",
      "('WARNING: ', 2079, ' is an island (no neighbors)')\n",
      "('WARNING: ', 2610, ' is an island (no neighbors)')\n",
      "('WARNING: ', 3316, ' is an island (no neighbors)')\n",
      "('WARNING: ', 3318, ' is an island (no neighbors)')\n",
      "('WARNING: ', 3323, ' is an island (no neighbors)')\n",
      "('WARNING: ', 3368, ' is an island (no neighbors)')\n",
      "('WARNING: ', 3521, ' is an island (no neighbors)')\n",
      "('WARNING: ', 3523, ' is an island (no neighbors)')\n",
      "('WARNING: ', 3782, ' is an island (no neighbors)')\n",
      "('WARNING: ', 4604, ' is an island (no neighbors)')\n",
      "('WARNING: ', 6129, ' is an island (no neighbors)')\n",
      "('WARNING: ', 10749, ' is an island (no neighbors)')\n",
      "('WARNING: ', 10772, ' is an island (no neighbors)')\n",
      "('WARNING: ', 12133, ' is an island (no neighbors)')\n",
      "('WARNING: ', 12321, ' is an island (no neighbors)')\n",
      "('WARNING: ', 12807, ' is an island (no neighbors)')\n",
      "('WARNING: ', 13332, ' is an island (no neighbors)')\n"
     ]
    },
    {
     "name": "stderr",
     "output_type": "stream",
     "text": [
      "C:\\ProgramData\\Anaconda3\\envs\\sqdm\\lib\\site-packages\\geopandas\\geodataframe.py:1322: SettingWithCopyWarning: \n",
      "A value is trying to be set on a copy of a slice from a DataFrame.\n",
      "Try using .loc[row_indexer,col_indexer] = value instead\n",
      "\n",
      "See the caveats in the documentation: https://pandas.pydata.org/pandas-docs/stable/user_guide/indexing.html#returning-a-view-versus-a-copy\n",
      "  super(GeoDataFrame, self).__setitem__(key, value)\n"
     ]
    }
   ],
   "source": [
    "#NodosChurnActivosFija_pv_geo.reset_index(inplace=True)\n",
    "coords = points_to_coords(df_fijaG3.geometry.centroid)\n",
    "\n",
    "q_d=weights.DistanceBand(coords, threshold=1550, binary=False) ##Límite en grados 1/200 ~ 555 mt.\n",
    "q_d.transform='R'\n",
    "# Para calcular el desfase espacial de una variable dada siguenlas sig dos filas\n",
    "TasaCompare = df_fijaG3['Flag_AvgNal_Tasa_2021']\n",
    "df_fijaG3['w_Flag_AvgNal_CHURN']=weights.spatial_lag.lag_spatial(q_d, TasaCompare)"
   ]
  },
  {
   "cell_type": "code",
   "execution_count": 112,
   "id": "76c78dc2-068a-4d44-bbe6-af84cda30d8a",
   "metadata": {},
   "outputs": [],
   "source": [
    "# w = weights.KNN.from_dataframe(df_fijaG3, k=8)\n",
    "# w.transform = 'R'\n",
    "# moran = esda.moran.Moran(df_fijaG3['Flag_AvgNal_Tasa_2021'], w)"
   ]
  },
  {
   "cell_type": "code",
   "execution_count": 102,
   "id": "1dbf8bd7",
   "metadata": {},
   "outputs": [],
   "source": [
    "# inicion notas\n"
   ]
  },
  {
   "cell_type": "code",
   "execution_count": 103,
   "id": "2cb8d7f2",
   "metadata": {},
   "outputs": [
    {
     "data": {
      "text/plain": [
       "<pysal.explore.esda.join_counts.Join_Counts at 0x2792f206400>"
      ]
     },
     "execution_count": 103,
     "metadata": {},
     "output_type": "execute_result"
    }
   ],
   "source": [
    "# Podemos calcular la estadística como:  esto para casos de variables binrias\n",
    "jc = esda.join_counts.Join_Counts(TasaCompare, q_d)\n",
    "jc"
   ]
  },
  {
   "cell_type": "code",
   "execution_count": 104,
   "id": "2e4b1b55",
   "metadata": {},
   "outputs": [
    {
     "data": {
      "text/plain": [
       "632.2651438689136"
      ]
     },
     "execution_count": 104,
     "metadata": {},
     "output_type": "execute_result"
    }
   ],
   "source": [
    "jc.bb  # para ver cuantas ocurrencias GG tenemos"
   ]
  },
  {
   "cell_type": "code",
   "execution_count": 105,
   "id": "3f716f3d",
   "metadata": {},
   "outputs": [
    {
     "data": {
      "text/plain": [
       "3428.397603137798"
      ]
     },
     "execution_count": 105,
     "metadata": {},
     "output_type": "execute_result"
    }
   ],
   "source": [
    "jc.ww  # y cauntas ocurrencias YY tenemos en nuestro mapa"
   ]
  },
  {
   "cell_type": "code",
   "execution_count": 106,
   "id": "d0e2b6fc",
   "metadata": {},
   "outputs": [
    {
     "data": {
      "text/plain": [
       "2599.3372529932885"
      ]
     },
     "execution_count": 106,
     "metadata": {},
     "output_type": "execute_result"
    }
   ],
   "source": [
    "# y cuántos GY/YG encontramos:\n",
    "jc.bw"
   ]
  },
  {
   "cell_type": "code",
   "execution_count": 107,
   "id": "f1f22e04",
   "metadata": {},
   "outputs": [
    {
     "data": {
      "text/plain": [
       "6660.0"
      ]
     },
     "execution_count": 107,
     "metadata": {},
     "output_type": "execute_result"
    }
   ],
   "source": [
    "# La suma de esos tres nos da el número total de comparaciones:\n",
    "jc.bb + jc.ww + jc.bw"
   ]
  },
  {
   "cell_type": "code",
   "execution_count": 108,
   "id": "dfd5e37a",
   "metadata": {},
   "outputs": [
    {
     "data": {
      "text/plain": [
       "6660.0"
      ]
     },
     "execution_count": 108,
     "metadata": {},
     "output_type": "execute_result"
    }
   ],
   "source": [
    "jc.J"
   ]
  },
  {
   "cell_type": "code",
   "execution_count": 109,
   "id": "d4483cf9",
   "metadata": {},
   "outputs": [
    {
     "data": {
      "text/plain": [
       "557.2235505598203"
      ]
     },
     "execution_count": 109,
     "metadata": {},
     "output_type": "execute_result"
    }
   ],
   "source": [
    "jc.mean_bb  # para el caso GG/YY La estadística se basa en comparar el número real de uniones de cada clase"
   ]
  },
  {
   "cell_type": "code",
   "execution_count": 110,
   "id": "79ec1847",
   "metadata": {},
   "outputs": [
    {
     "data": {
      "text/plain": [
       "2738.431789149267"
      ]
     },
     "execution_count": 110,
     "metadata": {},
     "output_type": "execute_result"
    }
   ],
   "source": [
    "jc.mean_bw  # y para GY"
   ]
  },
  {
   "cell_type": "code",
   "execution_count": 131,
   "id": "27bc637a",
   "metadata": {},
   "outputs": [
    {
     "data": {
      "text/plain": [
       "0.001"
      ]
     },
     "execution_count": 131,
     "metadata": {},
     "output_type": "execute_result"
    }
   ],
   "source": [
    "# Se puede acceder a la inferencia estadística para obtener una idea de si es probable que estos valores provengan del azar aleatorio o no utilizando permutaciones espaciales aleatorias de los valores observados para crear mapas sintéticos bajo la hipótesis nula de aleatoriedad espacial completa.\n",
    "#  genera 999 tales patrones sintéticos y luego utiliza la distribución de recuentos de unión a partir de estos patrones para generar pseudovalores para nuestras estadísticas de recuento de uniones observadas:pysal\n",
    "jc.p_sim_bb"
   ]
  },
  {
   "cell_type": "code",
   "execution_count": 132,
   "id": "cbc70e30",
   "metadata": {},
   "outputs": [
    {
     "data": {
      "text/plain": [
       "1.0"
      ]
     },
     "execution_count": 132,
     "metadata": {},
     "output_type": "execute_result"
    }
   ],
   "source": [
    "jc.p_sim_bw"
   ]
  },
  {
   "cell_type": "markdown",
   "id": "a606f1ab",
   "metadata": {},
   "source": [
    "Estos resultados apuntan a una clara presencia de autocorrelación espacial positiva, ya que hay muchas más uniones de pares en la misma categoría de lo que uno esperaría\n",
    "y significativamente menos de uniones opuestas"
   ]
  },
  {
   "cell_type": "code",
   "execution_count": 111,
   "id": "e352df11",
   "metadata": {},
   "outputs": [],
   "source": [
    "# fin notas"
   ]
  },
  {
   "cell_type": "code",
   "execution_count": 139,
   "id": "264526a7-debc-4ef7-8425-526e2e897547",
   "metadata": {},
   "outputs": [],
   "source": [
    "# para evaluar la autocorrelacion espacial en caso no binario, en caso de que la variable es continua\n",
    "# El método crea un objeto que contiene mucha más información que la estadística real. Si queremos recuperar el valor de la estadística, podemos hacerlo de esta manera:Moran\n",
    "moran = esda.moran.Moran(TasaCompare , q_d)"
   ]
  },
  {
   "cell_type": "code",
   "execution_count": 140,
   "id": "4f7f5f57-76e5-46a5-a8ec-fa947029fa4b",
   "metadata": {},
   "outputs": [
    {
     "data": {
      "text/plain": [
       "0.291690197035515"
      ]
     },
     "execution_count": 140,
     "metadata": {},
     "output_type": "execute_result"
    }
   ],
   "source": [
    "# el valor de la I de Moran se corresponde con la pendiente del ajuste lineal sobrepuesto en la parte superior de la trama de Moran. un I mas cercano a uno indica mayor correlacion espacia, o relacion entre valores de forma espacial\n",
    "moran.I"
   ]
  },
  {
   "cell_type": "code",
   "execution_count": 141,
   "id": "d8393528-7639-4dec-9a1f-8b4183e896e9",
   "metadata": {},
   "outputs": [
    {
     "data": {
      "text/plain": [
       "0.001"
      ]
     },
     "execution_count": 141,
     "metadata": {},
     "output_type": "execute_result"
    }
   ],
   "source": [
    "moran.p_sim  # realiza una simulación y devuelve una medida de certeza sobre la probabilidad de obtener un patrón como el que observamos bajo un proceso espacialmente aleatorio."
   ]
  },
  {
   "cell_type": "code",
   "execution_count": 152,
   "id": "5dfd18ad",
   "metadata": {},
   "outputs": [],
   "source": [
    "# plot_moran(moran);"
   ]
  },
  {
   "cell_type": "code",
   "execution_count": 145,
   "id": "1a16b36b",
   "metadata": {},
   "outputs": [
    {
     "name": "stderr",
     "output_type": "stream",
     "text": [
      "C:\\ProgramData\\Anaconda3\\envs\\sqdm\\lib\\site-packages\\geopandas\\geodataframe.py:1322: SettingWithCopyWarning: \n",
      "A value is trying to be set on a copy of a slice from a DataFrame.\n",
      "Try using .loc[row_indexer,col_indexer] = value instead\n",
      "\n",
      "See the caveats in the documentation: https://pandas.pydata.org/pandas-docs/stable/user_guide/indexing.html#returning-a-view-versus-a-copy\n",
      "  super(GeoDataFrame, self).__setitem__(key, value)\n"
     ]
    },
    {
     "data": {
      "image/png": "[encoded data removed]",
      "text/plain": [
       "<Figure size 432x432 with 1 Axes>"
      ]
     },
     "metadata": {
      "needs_background": "light"
     },
     "output_type": "display_data"
    }
   ],
   "source": [
    "# otra forma se sacar la relaciionn \n",
    "df_fijaG3['Flag_AvgNal_Tasa_2021_std'] = ( df_fijaG3['Flag_AvgNal_Tasa_2021'] - df_fijaG3['Flag_AvgNal_Tasa_2021'].mean() )\n",
    "df_fijaG3['w_Flag_AvgNal_CHURN_std'] = ( df_fijaG3['w_Flag_AvgNal_CHURN'] - df_fijaG3['w_Flag_AvgNal_CHURN'].mean() )\n",
    "\n",
    "f, ax = plt.subplots(1, figsize=(6, 6))\n",
    "sns.regplot(x='Flag_AvgNal_Tasa_2021_std', y='w_Flag_AvgNal_CHURN_std', \n",
    "                ci=None, data=df_fijaG3, line_kws={'color':'r'})\n",
    "ax.axvline(0, c='k', alpha=0.5)\n",
    "ax.axhline(0, c='k', alpha=0.5)\n",
    "ax.set_title('Moran Plot - % Leave')\n",
    "plt.show()"
   ]
  },
  {
   "cell_type": "code",
   "execution_count": 120,
   "id": "94d5f62d-9622-4c65-b0e9-c347d612e277",
   "metadata": {},
   "outputs": [
    {
     "name": "stderr",
     "output_type": "stream",
     "text": [
      "C:\\ProgramData\\Anaconda3\\envs\\sqdm\\lib\\site-packages\\geopandas\\geodataframe.py:1322: SettingWithCopyWarning: \n",
      "A value is trying to be set on a copy of a slice from a DataFrame.\n",
      "Try using .loc[row_indexer,col_indexer] = value instead\n",
      "\n",
      "See the caveats in the documentation: https://pandas.pydata.org/pandas-docs/stable/user_guide/indexing.html#returning-a-view-versus-a-copy\n",
      "  super(GeoDataFrame, self).__setitem__(key, value)\n"
     ]
    }
   ],
   "source": [
    "df_fijaG3['Flag_AvgNal_Tasa_2021_std'] = ( TasaCompare - TasaCompare.mean() )/ TasaCompare.std()\n",
    "df_fijaG3['w_Flag_AvgNal_CHURN_std'] = ( df_fijaG3['w_Flag_AvgNal_CHURN'] - TasaCompare.mean() )/ TasaCompare.std()"
   ]
  },
  {
   "cell_type": "code",
   "execution_count": 121,
   "id": "fe7473e1-14aa-45b2-8366-6242ac02ea22",
   "metadata": {},
   "outputs": [
    {
     "data": {
      "text/html": [
       "<div>\n",
       "<style scoped>\n",
       "    .dataframe tbody tr th:only-of-type {\n",
       "        vertical-align: middle;\n",
       "    }\n",
       "\n",
       "    .dataframe tbody tr th {\n",
       "        vertical-align: top;\n",
       "    }\n",
       "\n",
       "    .dataframe thead th {\n",
       "        text-align: right;\n",
       "    }\n",
       "</style>\n",
       "<table border=\"1\" class=\"dataframe\">\n",
       "  <thead>\n",
       "    <tr style=\"text-align: right;\">\n",
       "      <th></th>\n",
       "      <th>NODO</th>\n",
       "      <th>TIPO</th>\n",
       "      <th>geometry</th>\n",
       "      <th>Churn_2021_01</th>\n",
       "      <th>Churn_2021_02</th>\n",
       "      <th>Churn_2021_03</th>\n",
       "      <th>Churn_2021_04</th>\n",
       "      <th>Churn_2021_05</th>\n",
       "      <th>Churn_2021_06</th>\n",
       "      <th>Churn_2021_07</th>\n",
       "      <th>Churn_2021_08</th>\n",
       "      <th>Churn_2021_09</th>\n",
       "      <th>Churn_2021_10</th>\n",
       "      <th>Churn_2021_11</th>\n",
       "      <th>Churn_2021_12</th>\n",
       "      <th>flgAvgNalChurn_2021_01</th>\n",
       "      <th>flgAvgNalChurn_2021_02</th>\n",
       "      <th>flgAvgNalChurn_2021_03</th>\n",
       "      <th>flgAvgNalChurn_2021_04</th>\n",
       "      <th>flgAvgNalChurn_2021_05</th>\n",
       "      <th>flgAvgNalChurn_2021_06</th>\n",
       "      <th>flgAvgNalChurn_2021_07</th>\n",
       "      <th>flgAvgNalChurn_2021_08</th>\n",
       "      <th>flgAvgNalChurn_2021_09</th>\n",
       "      <th>flgAvgNalChurn_2021_10</th>\n",
       "      <th>flgAvgNalChurn_2021_11</th>\n",
       "      <th>flgAvgNalChurn_2021_12</th>\n",
       "      <th>Flag_AvgNal_2021</th>\n",
       "      <th>Flag_AvgNal_Tasa_2021</th>\n",
       "      <th>selecion</th>\n",
       "      <th>w_Flag_AvgNal_CHURN</th>\n",
       "      <th>Flag_AvgNal_Tasa_2021_std</th>\n",
       "      <th>w_Flag_AvgNal_CHURN_std</th>\n",
       "    </tr>\n",
       "  </thead>\n",
       "  <tbody>\n",
       "    <tr>\n",
       "      <th>0</th>\n",
       "      <td>LSU</td>\n",
       "      <td>HFC</td>\n",
       "      <td>POLYGON Z ((-8236564.189 560360.757 0.000, -82...</td>\n",
       "      <td>0.010288</td>\n",
       "      <td>0.008180</td>\n",
       "      <td>0.025048</td>\n",
       "      <td>0.003984</td>\n",
       "      <td>0.005703</td>\n",
       "      <td>0.011321</td>\n",
       "      <td>0.027829</td>\n",
       "      <td>0.016981</td>\n",
       "      <td>0.020599</td>\n",
       "      <td>0.018939</td>\n",
       "      <td>0.013308</td>\n",
       "      <td>0.024164</td>\n",
       "      <td>0.0</td>\n",
       "      <td>0.0</td>\n",
       "      <td>1.0</td>\n",
       "      <td>0.0</td>\n",
       "      <td>0.0</td>\n",
       "      <td>0.0</td>\n",
       "      <td>1.0</td>\n",
       "      <td>0.0</td>\n",
       "      <td>1.0</td>\n",
       "      <td>1.0</td>\n",
       "      <td>0.0</td>\n",
       "      <td>1.0</td>\n",
       "      <td>5.0</td>\n",
       "      <td>0.416667</td>\n",
       "      <td>1.0</td>\n",
       "      <td>0.286419</td>\n",
       "      <td>0.662463</td>\n",
       "      <td>-0.014753</td>\n",
       "    </tr>\n",
       "    <tr>\n",
       "      <th>1</th>\n",
       "      <td>EDZ</td>\n",
       "      <td>HFC</td>\n",
       "      <td>POLYGON Z ((-8236551.499 560363.104 0.000, -82...</td>\n",
       "      <td>0.015317</td>\n",
       "      <td>0.004405</td>\n",
       "      <td>0.020964</td>\n",
       "      <td>0.023158</td>\n",
       "      <td>0.018634</td>\n",
       "      <td>0.031056</td>\n",
       "      <td>0.031250</td>\n",
       "      <td>0.012931</td>\n",
       "      <td>0.018634</td>\n",
       "      <td>0.017241</td>\n",
       "      <td>0.023355</td>\n",
       "      <td>0.023707</td>\n",
       "      <td>0.0</td>\n",
       "      <td>0.0</td>\n",
       "      <td>1.0</td>\n",
       "      <td>1.0</td>\n",
       "      <td>1.0</td>\n",
       "      <td>1.0</td>\n",
       "      <td>1.0</td>\n",
       "      <td>0.0</td>\n",
       "      <td>1.0</td>\n",
       "      <td>1.0</td>\n",
       "      <td>1.0</td>\n",
       "      <td>1.0</td>\n",
       "      <td>9.0</td>\n",
       "      <td>0.750000</td>\n",
       "      <td>1.0</td>\n",
       "      <td>0.230361</td>\n",
       "      <td>2.395608</td>\n",
       "      <td>-0.306224</td>\n",
       "    </tr>\n",
       "  </tbody>\n",
       "</table>\n",
       "</div>"
      ],
      "text/plain": [
       "  NODO TIPO                                           geometry  Churn_2021_01  \\\n",
       "0  LSU  HFC  POLYGON Z ((-8236564.189 560360.757 0.000, -82...       0.010288   \n",
       "1  EDZ  HFC  POLYGON Z ((-8236551.499 560363.104 0.000, -82...       0.015317   \n",
       "\n",
       "   Churn_2021_02  Churn_2021_03  Churn_2021_04  Churn_2021_05  Churn_2021_06  \\\n",
       "0       0.008180       0.025048       0.003984       0.005703       0.011321   \n",
       "1       0.004405       0.020964       0.023158       0.018634       0.031056   \n",
       "\n",
       "   Churn_2021_07  Churn_2021_08  Churn_2021_09  Churn_2021_10  Churn_2021_11  \\\n",
       "0       0.027829       0.016981       0.020599       0.018939       0.013308   \n",
       "1       0.031250       0.012931       0.018634       0.017241       0.023355   \n",
       "\n",
       "   Churn_2021_12  flgAvgNalChurn_2021_01  flgAvgNalChurn_2021_02  \\\n",
       "0       0.024164                     0.0                     0.0   \n",
       "1       0.023707                     0.0                     0.0   \n",
       "\n",
       "   flgAvgNalChurn_2021_03  flgAvgNalChurn_2021_04  flgAvgNalChurn_2021_05  \\\n",
       "0                     1.0                     0.0                     0.0   \n",
       "1                     1.0                     1.0                     1.0   \n",
       "\n",
       "   flgAvgNalChurn_2021_06  flgAvgNalChurn_2021_07  flgAvgNalChurn_2021_08  \\\n",
       "0                     0.0                     1.0                     0.0   \n",
       "1                     1.0                     1.0                     0.0   \n",
       "\n",
       "   flgAvgNalChurn_2021_09  flgAvgNalChurn_2021_10  flgAvgNalChurn_2021_11  \\\n",
       "0                     1.0                     1.0                     0.0   \n",
       "1                     1.0                     1.0                     1.0   \n",
       "\n",
       "   flgAvgNalChurn_2021_12  Flag_AvgNal_2021  Flag_AvgNal_Tasa_2021  selecion  \\\n",
       "0                     1.0               5.0               0.416667       1.0   \n",
       "1                     1.0               9.0               0.750000       1.0   \n",
       "\n",
       "   w_Flag_AvgNal_CHURN  Flag_AvgNal_Tasa_2021_std  w_Flag_AvgNal_CHURN_std  \n",
       "0             0.286419                   0.662463                -0.014753  \n",
       "1             0.230361                   2.395608                -0.306224  "
      ]
     },
     "execution_count": 121,
     "metadata": {},
     "output_type": "execute_result"
    }
   ],
   "source": [
    "df_fijaG3.head(2)"
   ]
  },
  {
   "cell_type": "code",
   "execution_count": 122,
   "id": "db2fb505-a050-4114-bf1c-8cdc0dc693fa",
   "metadata": {},
   "outputs": [
    {
     "data": {
      "image/png": "[encoded data removed]",
      "text/plain": [
       "<Figure size 432x432 with 1 Axes>"
      ]
     },
     "metadata": {
      "needs_background": "light"
     },
     "output_type": "display_data"
    }
   ],
   "source": [
    "f, ax = plt.subplots(1, figsize=(6, 6))\n",
    "sns.regplot(x='Flag_AvgNal_Tasa_2021_std', y='w_Flag_AvgNal_CHURN_std', \n",
    "                ci=None, data=df_fijaG3, line_kws={'color':'r'})\n",
    "ax.axvline(0, c='k', alpha=0.5)\n",
    "ax.axhline(0, c='k', alpha=0.5)\n",
    "ax.set_title('Moran Plot - % Leave')\n",
    "plt.show()"
   ]
  },
  {
   "cell_type": "code",
   "execution_count": 123,
   "id": "dfd602a6-4922-4d8c-9205-ffdd1e3befb7",
   "metadata": {},
   "outputs": [],
   "source": [
    "# ##Setup the figure and axis\n",
    "# f, ax = plt.subplots(1, figsize=(6, 6))\n",
    "# # Plot values\n",
    "# sns.regplot(x='Flag_AvgNal_Tasa_2021_std', y='w_Flag_AvgNal_CHURN_std', data=df_fijaG3, ci=None)\n",
    "# # Display\n",
    "# plt.show()"
   ]
  },
  {
   "cell_type": "code",
   "execution_count": 124,
   "id": "7f8c3866-71c0-449e-ba07-c60f5143f393",
   "metadata": {},
   "outputs": [],
   "source": [
    "# df_fijaG3.explore()"
   ]
  },
  {
   "cell_type": "code",
   "execution_count": 125,
   "id": "d99e9441-b1d6-4204-9ba1-63610c02ea49",
   "metadata": {},
   "outputs": [
    {
     "data": {
      "text/plain": [
       "<AxesSubplot:>"
      ]
     },
     "execution_count": 125,
     "metadata": {},
     "output_type": "execute_result"
    },
    {
     "data": {
      "image/png": "[encoded data removed]",
      "text/plain": [
       "<Figure size 864x720 with 1 Axes>"
      ]
     },
     "metadata": {
      "needs_background": "light"
     },
     "output_type": "display_data"
    }
   ],
   "source": [
    "df_fijaG3.plot(column='w_Flag_AvgNal_CHURN', figsize=(12,10))"
   ]
  },
  {
   "cell_type": "code",
   "execution_count": 126,
   "id": "7ff40b91-51c8-4580-b9b7-f7b46430edfb",
   "metadata": {},
   "outputs": [
    {
     "data": {
      "text/html": [
       "<div>\n",
       "<style scoped>\n",
       "    .dataframe tbody tr th:only-of-type {\n",
       "        vertical-align: middle;\n",
       "    }\n",
       "\n",
       "    .dataframe tbody tr th {\n",
       "        vertical-align: top;\n",
       "    }\n",
       "\n",
       "    .dataframe thead th {\n",
       "        text-align: right;\n",
       "    }\n",
       "</style>\n",
       "<table border=\"1\" class=\"dataframe\">\n",
       "  <thead>\n",
       "    <tr style=\"text-align: right;\">\n",
       "      <th></th>\n",
       "      <th>NODO</th>\n",
       "      <th>TIPO</th>\n",
       "      <th>geometry</th>\n",
       "      <th>Churn_2021_01</th>\n",
       "      <th>Churn_2021_02</th>\n",
       "      <th>Churn_2021_03</th>\n",
       "      <th>Churn_2021_04</th>\n",
       "      <th>Churn_2021_05</th>\n",
       "      <th>Churn_2021_06</th>\n",
       "      <th>Churn_2021_07</th>\n",
       "      <th>Churn_2021_08</th>\n",
       "      <th>Churn_2021_09</th>\n",
       "      <th>Churn_2021_10</th>\n",
       "      <th>Churn_2021_11</th>\n",
       "      <th>Churn_2021_12</th>\n",
       "      <th>flgAvgNalChurn_2021_01</th>\n",
       "      <th>flgAvgNalChurn_2021_02</th>\n",
       "      <th>flgAvgNalChurn_2021_03</th>\n",
       "      <th>flgAvgNalChurn_2021_04</th>\n",
       "      <th>flgAvgNalChurn_2021_05</th>\n",
       "      <th>flgAvgNalChurn_2021_06</th>\n",
       "      <th>flgAvgNalChurn_2021_07</th>\n",
       "      <th>flgAvgNalChurn_2021_08</th>\n",
       "      <th>flgAvgNalChurn_2021_09</th>\n",
       "      <th>flgAvgNalChurn_2021_10</th>\n",
       "      <th>flgAvgNalChurn_2021_11</th>\n",
       "      <th>flgAvgNalChurn_2021_12</th>\n",
       "      <th>Flag_AvgNal_2021</th>\n",
       "      <th>Flag_AvgNal_Tasa_2021</th>\n",
       "      <th>selecion</th>\n",
       "      <th>w_Flag_AvgNal_CHURN</th>\n",
       "      <th>Flag_AvgNal_Tasa_2021_std</th>\n",
       "      <th>w_Flag_AvgNal_CHURN_std</th>\n",
       "    </tr>\n",
       "  </thead>\n",
       "  <tbody>\n",
       "    <tr>\n",
       "      <th>0</th>\n",
       "      <td>LSU</td>\n",
       "      <td>HFC</td>\n",
       "      <td>POLYGON Z ((-8236564.189 560360.757 0.000, -82...</td>\n",
       "      <td>0.010288</td>\n",
       "      <td>0.008180</td>\n",
       "      <td>0.025048</td>\n",
       "      <td>0.003984</td>\n",
       "      <td>0.005703</td>\n",
       "      <td>0.011321</td>\n",
       "      <td>0.027829</td>\n",
       "      <td>0.016981</td>\n",
       "      <td>0.020599</td>\n",
       "      <td>0.018939</td>\n",
       "      <td>0.013308</td>\n",
       "      <td>0.024164</td>\n",
       "      <td>0.0</td>\n",
       "      <td>0.0</td>\n",
       "      <td>1.0</td>\n",
       "      <td>0.0</td>\n",
       "      <td>0.0</td>\n",
       "      <td>0.0</td>\n",
       "      <td>1.0</td>\n",
       "      <td>0.0</td>\n",
       "      <td>1.0</td>\n",
       "      <td>1.0</td>\n",
       "      <td>0.0</td>\n",
       "      <td>1.0</td>\n",
       "      <td>5.0</td>\n",
       "      <td>0.416667</td>\n",
       "      <td>1.0</td>\n",
       "      <td>0.286419</td>\n",
       "      <td>0.662463</td>\n",
       "      <td>-0.014753</td>\n",
       "    </tr>\n",
       "    <tr>\n",
       "      <th>1</th>\n",
       "      <td>EDZ</td>\n",
       "      <td>HFC</td>\n",
       "      <td>POLYGON Z ((-8236551.499 560363.104 0.000, -82...</td>\n",
       "      <td>0.015317</td>\n",
       "      <td>0.004405</td>\n",
       "      <td>0.020964</td>\n",
       "      <td>0.023158</td>\n",
       "      <td>0.018634</td>\n",
       "      <td>0.031056</td>\n",
       "      <td>0.031250</td>\n",
       "      <td>0.012931</td>\n",
       "      <td>0.018634</td>\n",
       "      <td>0.017241</td>\n",
       "      <td>0.023355</td>\n",
       "      <td>0.023707</td>\n",
       "      <td>0.0</td>\n",
       "      <td>0.0</td>\n",
       "      <td>1.0</td>\n",
       "      <td>1.0</td>\n",
       "      <td>1.0</td>\n",
       "      <td>1.0</td>\n",
       "      <td>1.0</td>\n",
       "      <td>0.0</td>\n",
       "      <td>1.0</td>\n",
       "      <td>1.0</td>\n",
       "      <td>1.0</td>\n",
       "      <td>1.0</td>\n",
       "      <td>9.0</td>\n",
       "      <td>0.750000</td>\n",
       "      <td>1.0</td>\n",
       "      <td>0.230361</td>\n",
       "      <td>2.395608</td>\n",
       "      <td>-0.306224</td>\n",
       "    </tr>\n",
       "  </tbody>\n",
       "</table>\n",
       "</div>"
      ],
      "text/plain": [
       "  NODO TIPO                                           geometry  Churn_2021_01  \\\n",
       "0  LSU  HFC  POLYGON Z ((-8236564.189 560360.757 0.000, -82...       0.010288   \n",
       "1  EDZ  HFC  POLYGON Z ((-8236551.499 560363.104 0.000, -82...       0.015317   \n",
       "\n",
       "   Churn_2021_02  Churn_2021_03  Churn_2021_04  Churn_2021_05  Churn_2021_06  \\\n",
       "0       0.008180       0.025048       0.003984       0.005703       0.011321   \n",
       "1       0.004405       0.020964       0.023158       0.018634       0.031056   \n",
       "\n",
       "   Churn_2021_07  Churn_2021_08  Churn_2021_09  Churn_2021_10  Churn_2021_11  \\\n",
       "0       0.027829       0.016981       0.020599       0.018939       0.013308   \n",
       "1       0.031250       0.012931       0.018634       0.017241       0.023355   \n",
       "\n",
       "   Churn_2021_12  flgAvgNalChurn_2021_01  flgAvgNalChurn_2021_02  \\\n",
       "0       0.024164                     0.0                     0.0   \n",
       "1       0.023707                     0.0                     0.0   \n",
       "\n",
       "   flgAvgNalChurn_2021_03  flgAvgNalChurn_2021_04  flgAvgNalChurn_2021_05  \\\n",
       "0                     1.0                     0.0                     0.0   \n",
       "1                     1.0                     1.0                     1.0   \n",
       "\n",
       "   flgAvgNalChurn_2021_06  flgAvgNalChurn_2021_07  flgAvgNalChurn_2021_08  \\\n",
       "0                     0.0                     1.0                     0.0   \n",
       "1                     1.0                     1.0                     0.0   \n",
       "\n",
       "   flgAvgNalChurn_2021_09  flgAvgNalChurn_2021_10  flgAvgNalChurn_2021_11  \\\n",
       "0                     1.0                     1.0                     0.0   \n",
       "1                     1.0                     1.0                     1.0   \n",
       "\n",
       "   flgAvgNalChurn_2021_12  Flag_AvgNal_2021  Flag_AvgNal_Tasa_2021  selecion  \\\n",
       "0                     1.0               5.0               0.416667       1.0   \n",
       "1                     1.0               9.0               0.750000       1.0   \n",
       "\n",
       "   w_Flag_AvgNal_CHURN  Flag_AvgNal_Tasa_2021_std  w_Flag_AvgNal_CHURN_std  \n",
       "0             0.286419                   0.662463                -0.014753  \n",
       "1             0.230361                   2.395608                -0.306224  "
      ]
     },
     "execution_count": 126,
     "metadata": {},
     "output_type": "execute_result"
    }
   ],
   "source": [
    "df_fijaG3.head(2)"
   ]
  },
  {
   "cell_type": "code",
   "execution_count": 127,
   "id": "d3437784-53fc-461e-941d-0d754493710a",
   "metadata": {},
   "outputs": [
    {
     "data": {
      "text/plain": [
       "(13344, 33)"
      ]
     },
     "execution_count": 127,
     "metadata": {},
     "output_type": "execute_result"
    }
   ],
   "source": [
    "df_fijaG3.shape"
   ]
  },
  {
   "cell_type": "code",
   "execution_count": 128,
   "id": "9381b863-9f0f-4a9b-80ec-6931c5d71064",
   "metadata": {},
   "outputs": [
    {
     "name": "stderr",
     "output_type": "stream",
     "text": [
      "C:\\ProgramData\\Anaconda3\\envs\\sqdm\\lib\\site-packages\\geopandas\\geodataframe.py:1322: SettingWithCopyWarning: \n",
      "A value is trying to be set on a copy of a slice from a DataFrame.\n",
      "Try using .loc[row_indexer,col_indexer] = value instead\n",
      "\n",
      "See the caveats in the documentation: https://pandas.pydata.org/pandas-docs/stable/user_guide/indexing.html#returning-a-view-versus-a-copy\n",
      "  super(GeoDataFrame, self).__setitem__(key, value)\n"
     ]
    }
   ],
   "source": [
    "lisa_cuenta = esda.moran.Moran_Local(df_fijaG3['w_Flag_AvgNal_CHURN'], q_d)\n",
    "q_labels = ['Q1', 'Q2', 'Q3', 'Q4']\n",
    "labels_cuenta = [q_labels[i-1] for i in lisa_cuenta.q]\n",
    "\n",
    "df_fijaG3['cl_Flag_AvgNal_CHURN']=labels_cuenta\n",
    "df_fijaG3['cl_Flag_AvgNal_CHURN']=df_fijaG3['cl_Flag_AvgNal_CHURN'].apply(lambda x: 'A-A' if x=='Q1' else ('B-A' if x=='Q2' else ('B-B' if x=='Q3' else 'A-B')) )\n",
    "\n",
    "## A-A ES ALTA CORRELACION Y ALTA"
   ]
  },
  {
   "cell_type": "code",
   "execution_count": 129,
   "id": "981a7eb1-b82f-46d3-948d-42fccdca5f77",
   "metadata": {},
   "outputs": [
    {
     "data": {
      "text/html": [
       "<div>\n",
       "<style scoped>\n",
       "    .dataframe tbody tr th:only-of-type {\n",
       "        vertical-align: middle;\n",
       "    }\n",
       "\n",
       "    .dataframe tbody tr th {\n",
       "        vertical-align: top;\n",
       "    }\n",
       "\n",
       "    .dataframe thead th {\n",
       "        text-align: right;\n",
       "    }\n",
       "</style>\n",
       "<table border=\"1\" class=\"dataframe\">\n",
       "  <thead>\n",
       "    <tr style=\"text-align: right;\">\n",
       "      <th></th>\n",
       "      <th>NODO</th>\n",
       "      <th>TIPO</th>\n",
       "      <th>geometry</th>\n",
       "      <th>Churn_2021_01</th>\n",
       "      <th>Churn_2021_02</th>\n",
       "      <th>Churn_2021_03</th>\n",
       "      <th>Churn_2021_04</th>\n",
       "      <th>Churn_2021_05</th>\n",
       "      <th>Churn_2021_06</th>\n",
       "      <th>Churn_2021_07</th>\n",
       "      <th>Churn_2021_08</th>\n",
       "      <th>Churn_2021_09</th>\n",
       "      <th>Churn_2021_10</th>\n",
       "      <th>Churn_2021_11</th>\n",
       "      <th>Churn_2021_12</th>\n",
       "      <th>flgAvgNalChurn_2021_01</th>\n",
       "      <th>flgAvgNalChurn_2021_02</th>\n",
       "      <th>flgAvgNalChurn_2021_03</th>\n",
       "      <th>flgAvgNalChurn_2021_04</th>\n",
       "      <th>flgAvgNalChurn_2021_05</th>\n",
       "      <th>flgAvgNalChurn_2021_06</th>\n",
       "      <th>flgAvgNalChurn_2021_07</th>\n",
       "      <th>flgAvgNalChurn_2021_08</th>\n",
       "      <th>flgAvgNalChurn_2021_09</th>\n",
       "      <th>flgAvgNalChurn_2021_10</th>\n",
       "      <th>flgAvgNalChurn_2021_11</th>\n",
       "      <th>flgAvgNalChurn_2021_12</th>\n",
       "      <th>Flag_AvgNal_2021</th>\n",
       "      <th>Flag_AvgNal_Tasa_2021</th>\n",
       "      <th>selecion</th>\n",
       "      <th>w_Flag_AvgNal_CHURN</th>\n",
       "      <th>Flag_AvgNal_Tasa_2021_std</th>\n",
       "      <th>w_Flag_AvgNal_CHURN_std</th>\n",
       "      <th>cl_Flag_AvgNal_CHURN</th>\n",
       "    </tr>\n",
       "  </thead>\n",
       "  <tbody>\n",
       "    <tr>\n",
       "      <th>0</th>\n",
       "      <td>LSU</td>\n",
       "      <td>HFC</td>\n",
       "      <td>POLYGON Z ((-8236564.189 560360.757 0.000, -82...</td>\n",
       "      <td>0.010288</td>\n",
       "      <td>0.008180</td>\n",
       "      <td>0.025048</td>\n",
       "      <td>0.003984</td>\n",
       "      <td>0.005703</td>\n",
       "      <td>0.011321</td>\n",
       "      <td>0.027829</td>\n",
       "      <td>0.016981</td>\n",
       "      <td>0.020599</td>\n",
       "      <td>0.018939</td>\n",
       "      <td>0.013308</td>\n",
       "      <td>0.024164</td>\n",
       "      <td>0.0</td>\n",
       "      <td>0.0</td>\n",
       "      <td>1.0</td>\n",
       "      <td>0.0</td>\n",
       "      <td>0.0</td>\n",
       "      <td>0.0</td>\n",
       "      <td>1.0</td>\n",
       "      <td>0.0</td>\n",
       "      <td>1.0</td>\n",
       "      <td>1.0</td>\n",
       "      <td>0.0</td>\n",
       "      <td>1.0</td>\n",
       "      <td>5.0</td>\n",
       "      <td>0.416667</td>\n",
       "      <td>1.0</td>\n",
       "      <td>0.286419</td>\n",
       "      <td>0.662463</td>\n",
       "      <td>-0.014753</td>\n",
       "      <td>B-B</td>\n",
       "    </tr>\n",
       "    <tr>\n",
       "      <th>1</th>\n",
       "      <td>EDZ</td>\n",
       "      <td>HFC</td>\n",
       "      <td>POLYGON Z ((-8236551.499 560363.104 0.000, -82...</td>\n",
       "      <td>0.015317</td>\n",
       "      <td>0.004405</td>\n",
       "      <td>0.020964</td>\n",
       "      <td>0.023158</td>\n",
       "      <td>0.018634</td>\n",
       "      <td>0.031056</td>\n",
       "      <td>0.031250</td>\n",
       "      <td>0.012931</td>\n",
       "      <td>0.018634</td>\n",
       "      <td>0.017241</td>\n",
       "      <td>0.023355</td>\n",
       "      <td>0.023707</td>\n",
       "      <td>0.0</td>\n",
       "      <td>0.0</td>\n",
       "      <td>1.0</td>\n",
       "      <td>1.0</td>\n",
       "      <td>1.0</td>\n",
       "      <td>1.0</td>\n",
       "      <td>1.0</td>\n",
       "      <td>0.0</td>\n",
       "      <td>1.0</td>\n",
       "      <td>1.0</td>\n",
       "      <td>1.0</td>\n",
       "      <td>1.0</td>\n",
       "      <td>9.0</td>\n",
       "      <td>0.750000</td>\n",
       "      <td>1.0</td>\n",
       "      <td>0.230361</td>\n",
       "      <td>2.395608</td>\n",
       "      <td>-0.306224</td>\n",
       "      <td>B-B</td>\n",
       "    </tr>\n",
       "    <tr>\n",
       "      <th>2</th>\n",
       "      <td>MZQ</td>\n",
       "      <td>HFC</td>\n",
       "      <td>POLYGON Z ((-8237940.098 560754.675 0.000, -82...</td>\n",
       "      <td>0.000000</td>\n",
       "      <td>0.010135</td>\n",
       "      <td>0.006557</td>\n",
       "      <td>0.006472</td>\n",
       "      <td>0.015674</td>\n",
       "      <td>0.012739</td>\n",
       "      <td>0.022152</td>\n",
       "      <td>0.009585</td>\n",
       "      <td>0.012461</td>\n",
       "      <td>0.009772</td>\n",
       "      <td>0.006557</td>\n",
       "      <td>0.012422</td>\n",
       "      <td>0.0</td>\n",
       "      <td>0.0</td>\n",
       "      <td>0.0</td>\n",
       "      <td>0.0</td>\n",
       "      <td>0.0</td>\n",
       "      <td>0.0</td>\n",
       "      <td>1.0</td>\n",
       "      <td>0.0</td>\n",
       "      <td>0.0</td>\n",
       "      <td>0.0</td>\n",
       "      <td>0.0</td>\n",
       "      <td>0.0</td>\n",
       "      <td>1.0</td>\n",
       "      <td>0.083333</td>\n",
       "      <td>1.0</td>\n",
       "      <td>0.167688</td>\n",
       "      <td>-1.070682</td>\n",
       "      <td>-0.632087</td>\n",
       "      <td>B-B</td>\n",
       "    </tr>\n",
       "  </tbody>\n",
       "</table>\n",
       "</div>"
      ],
      "text/plain": [
       "  NODO TIPO                                           geometry  Churn_2021_01  \\\n",
       "0  LSU  HFC  POLYGON Z ((-8236564.189 560360.757 0.000, -82...       0.010288   \n",
       "1  EDZ  HFC  POLYGON Z ((-8236551.499 560363.104 0.000, -82...       0.015317   \n",
       "2  MZQ  HFC  POLYGON Z ((-8237940.098 560754.675 0.000, -82...       0.000000   \n",
       "\n",
       "   Churn_2021_02  Churn_2021_03  Churn_2021_04  Churn_2021_05  Churn_2021_06  \\\n",
       "0       0.008180       0.025048       0.003984       0.005703       0.011321   \n",
       "1       0.004405       0.020964       0.023158       0.018634       0.031056   \n",
       "2       0.010135       0.006557       0.006472       0.015674       0.012739   \n",
       "\n",
       "   Churn_2021_07  Churn_2021_08  Churn_2021_09  Churn_2021_10  Churn_2021_11  \\\n",
       "0       0.027829       0.016981       0.020599       0.018939       0.013308   \n",
       "1       0.031250       0.012931       0.018634       0.017241       0.023355   \n",
       "2       0.022152       0.009585       0.012461       0.009772       0.006557   \n",
       "\n",
       "   Churn_2021_12  flgAvgNalChurn_2021_01  flgAvgNalChurn_2021_02  \\\n",
       "0       0.024164                     0.0                     0.0   \n",
       "1       0.023707                     0.0                     0.0   \n",
       "2       0.012422                     0.0                     0.0   \n",
       "\n",
       "   flgAvgNalChurn_2021_03  flgAvgNalChurn_2021_04  flgAvgNalChurn_2021_05  \\\n",
       "0                     1.0                     0.0                     0.0   \n",
       "1                     1.0                     1.0                     1.0   \n",
       "2                     0.0                     0.0                     0.0   \n",
       "\n",
       "   flgAvgNalChurn_2021_06  flgAvgNalChurn_2021_07  flgAvgNalChurn_2021_08  \\\n",
       "0                     0.0                     1.0                     0.0   \n",
       "1                     1.0                     1.0                     0.0   \n",
       "2                     0.0                     1.0                     0.0   \n",
       "\n",
       "   flgAvgNalChurn_2021_09  flgAvgNalChurn_2021_10  flgAvgNalChurn_2021_11  \\\n",
       "0                     1.0                     1.0                     0.0   \n",
       "1                     1.0                     1.0                     1.0   \n",
       "2                     0.0                     0.0                     0.0   \n",
       "\n",
       "   flgAvgNalChurn_2021_12  Flag_AvgNal_2021  Flag_AvgNal_Tasa_2021  selecion  \\\n",
       "0                     1.0               5.0               0.416667       1.0   \n",
       "1                     1.0               9.0               0.750000       1.0   \n",
       "2                     0.0               1.0               0.083333       1.0   \n",
       "\n",
       "   w_Flag_AvgNal_CHURN  Flag_AvgNal_Tasa_2021_std  w_Flag_AvgNal_CHURN_std  \\\n",
       "0             0.286419                   0.662463                -0.014753   \n",
       "1             0.230361                   2.395608                -0.306224   \n",
       "2             0.167688                  -1.070682                -0.632087   \n",
       "\n",
       "  cl_Flag_AvgNal_CHURN  \n",
       "0                  B-B  \n",
       "1                  B-B  \n",
       "2                  B-B  "
      ]
     },
     "execution_count": 129,
     "metadata": {},
     "output_type": "execute_result"
    }
   ],
   "source": [
    "df_fijaG3.head(3)"
   ]
  },
  {
   "cell_type": "code",
   "execution_count": 130,
   "id": "45a3bbb7",
   "metadata": {},
   "outputs": [
    {
     "data": {
      "image/png": "[encoded data removed]",
      "text/plain": [
       "<Figure size 648x648 with 1 Axes>"
      ]
     },
     "metadata": {
      "needs_background": "light"
     },
     "output_type": "display_data"
    }
   ],
   "source": [
    "# ejercio  https://geographicdata.science/book/notebooks/06_spatial_autocorrelation.html\n",
    "#  talvez toca convertir cl_Flag_AvgNal_CHURN en variable numerica pero mientras como ejemplo con flgAvgNalChurn_2021_12 \n",
    "f, ax = plt.subplots(1, figsize=(9, 9))\n",
    "df_fijaG3.plot(ax=ax, column='cl_Flag_AvgNal_CHURN', categorical=True, legend=True, \n",
    "        edgecolor='0.5', linewidth=0.25, cmap='Set3', \n",
    "        figsize=(9, 9));\n",
    "ax.set_axis_off()\n",
    "ax.set_title('Leave Majority')\n",
    "plt.axis('equal')\n",
    "plt.show()"
   ]
  },
  {
   "cell_type": "code",
   "execution_count": null,
   "id": "c92ba6be-8d7d-416b-a875-2ef5f6a35d6f",
   "metadata": {},
   "outputs": [
    {
     "data": {
      "text/plain": [
       "count    13344.000000\n",
       "mean         0.289256\n",
       "std          0.192329\n",
       "min          0.000000\n",
       "25%          0.166667\n",
       "50%          0.250000\n",
       "75%          0.416667\n",
       "max          1.000000\n",
       "Name: Flag_AvgNal_Tasa_2021, dtype: float64"
      ]
     },
     "execution_count": 87,
     "metadata": {},
     "output_type": "execute_result"
    }
   ],
   "source": [
    "df_fijaG3['Flag_AvgNal_Tasa_2021'].describe()"
   ]
  },
  {
   "cell_type": "code",
   "execution_count": null,
   "id": "1cf01b80-e28d-475f-b349-3a4c1e54d922",
   "metadata": {},
   "outputs": [
    {
     "data": {
      "text/plain": [
       "count    13344.000000\n",
       "mean         0.290248\n",
       "std          0.103613\n",
       "min          0.000000\n",
       "25%          0.214148\n",
       "50%          0.295815\n",
       "75%          0.360855\n",
       "max          0.788876\n",
       "Name: w_Flag_AvgNal_CHURN, dtype: float64"
      ]
     },
     "execution_count": 88,
     "metadata": {},
     "output_type": "execute_result"
    }
   ],
   "source": [
    "df_fijaG3['w_Flag_AvgNal_CHURN'].describe()"
   ]
  },
  {
   "cell_type": "code",
   "execution_count": null,
   "id": "5f171c98-9684-4cf7-8270-a0e236f28df5",
   "metadata": {},
   "outputs": [],
   "source": [
    "df_fijaG3.to_csv(os.path.join(result_dir, 'Fija\\\\Resultados\\\\df_fijaG3_pv_geo.csv'), sep = ';')\n",
    "# C:\\Users\\WilsonAdolfoEstacioR\\Documents\\Proyect_churn\\Fija\\Resultados"
   ]
  },
  {
   "cell_type": "code",
   "execution_count": null,
   "id": "847f3ef2-6020-4083-95b2-044377976e51",
   "metadata": {},
   "outputs": [
    {
     "data": {
      "text/plain": [
       "(13344, 34)"
      ]
     },
     "execution_count": 90,
     "metadata": {},
     "output_type": "execute_result"
    }
   ],
   "source": [
    "df_fijaG3.shape"
   ]
  },
  {
   "cell_type": "code",
   "execution_count": null,
   "id": "7fe9a1e7-4bdb-454f-993d-5d84492a2f28",
   "metadata": {},
   "outputs": [
    {
     "name": "stdout",
     "output_type": "stream",
     "text": [
      "cl_Flag_AvgNal_CHURN\n",
      "A-A    6624\n",
      "A-B     314\n",
      "B-A     384\n",
      "B-B    6022\n",
      "dtype: int64\n"
     ]
    }
   ],
   "source": [
    "print(df_fijaG3.groupby('cl_Flag_AvgNal_CHURN').size())"
   ]
  },
  {
   "cell_type": "code",
   "execution_count": null,
   "id": "af828e90-eb12-450c-84fe-eaa133f8cfc0",
   "metadata": {},
   "outputs": [],
   "source": [
    "# df_fijaG3[df_fijaG3['NODO'].isin([\"SLX\",\"IU6\",'42C2D','SLJ',\"SLW\",\"49J\"])].sort_values(by=\"cl_Flag_AvgNal_CHURN\",ascending=True)"
   ]
  },
  {
   "cell_type": "code",
   "execution_count": null,
   "id": "0fcddea0-70fe-4df0-b4eb-546a01d3aeb9",
   "metadata": {},
   "outputs": [
    {
     "data": {
      "text/plain": [
       "(6624, 34)"
      ]
     },
     "execution_count": 93,
     "metadata": {},
     "output_type": "execute_result"
    }
   ],
   "source": [
    "Churn_alto=df_fijaG3[df_fijaG3['cl_Flag_AvgNal_CHURN']=='A-A']\n",
    "Churn_alto.shape"
   ]
  },
  {
   "cell_type": "code",
   "execution_count": null,
   "id": "df8ed72a-b71d-4b5b-a0e7-937458be15ae",
   "metadata": {},
   "outputs": [],
   "source": [
    "fija_mes10=df_fija1[df_fija1['FECHA'].dt.month == 10]\n",
    "fija_mes10=fija_mes10.loc[:,['NODO','ESTRATO','ALFA','BETA','MEGA','TasaChurn']]"
   ]
  },
  {
   "cell_type": "code",
   "execution_count": null,
   "id": "775f8f1b-5270-495b-97a1-14efab1c4162",
   "metadata": {},
   "outputs": [],
   "source": [
    "df_fijaN10=pd.merge(Churn_alto, fija_mes10,on = ('NODO'), how='left')"
   ]
  },
  {
   "cell_type": "code",
   "execution_count": null,
   "id": "ba44b48a-a15c-4145-82cb-bf2b48101e3d",
   "metadata": {},
   "outputs": [
    {
     "data": {
      "text/plain": [
       "(11636, 39)"
      ]
     },
     "execution_count": 96,
     "metadata": {},
     "output_type": "execute_result"
    }
   ],
   "source": [
    "df_fijaN10.shape"
   ]
  },
  {
   "cell_type": "code",
   "execution_count": null,
   "id": "a44895c9-abb0-484d-966d-9aa617be09d6",
   "metadata": {},
   "outputs": [
    {
     "data": {
      "text/html": [
       "<div>\n",
       "<style scoped>\n",
       "    .dataframe tbody tr th:only-of-type {\n",
       "        vertical-align: middle;\n",
       "    }\n",
       "\n",
       "    .dataframe tbody tr th {\n",
       "        vertical-align: top;\n",
       "    }\n",
       "\n",
       "    .dataframe thead th {\n",
       "        text-align: right;\n",
       "    }\n",
       "</style>\n",
       "<table border=\"1\" class=\"dataframe\">\n",
       "  <thead>\n",
       "    <tr style=\"text-align: right;\">\n",
       "      <th></th>\n",
       "      <th>NODO</th>\n",
       "      <th>TIPO</th>\n",
       "      <th>geometry</th>\n",
       "      <th>Churn_2021_01</th>\n",
       "      <th>Churn_2021_02</th>\n",
       "      <th>Churn_2021_03</th>\n",
       "      <th>Churn_2021_04</th>\n",
       "      <th>Churn_2021_05</th>\n",
       "      <th>Churn_2021_06</th>\n",
       "      <th>Churn_2021_07</th>\n",
       "      <th>Churn_2021_08</th>\n",
       "      <th>Churn_2021_09</th>\n",
       "      <th>Churn_2021_10</th>\n",
       "      <th>Churn_2021_11</th>\n",
       "      <th>Churn_2021_12</th>\n",
       "      <th>flgAvgNalChurn_2021_01</th>\n",
       "      <th>flgAvgNalChurn_2021_02</th>\n",
       "      <th>flgAvgNalChurn_2021_03</th>\n",
       "      <th>flgAvgNalChurn_2021_04</th>\n",
       "      <th>flgAvgNalChurn_2021_05</th>\n",
       "      <th>flgAvgNalChurn_2021_06</th>\n",
       "      <th>flgAvgNalChurn_2021_07</th>\n",
       "      <th>flgAvgNalChurn_2021_08</th>\n",
       "      <th>flgAvgNalChurn_2021_09</th>\n",
       "      <th>flgAvgNalChurn_2021_10</th>\n",
       "      <th>flgAvgNalChurn_2021_11</th>\n",
       "      <th>flgAvgNalChurn_2021_12</th>\n",
       "      <th>Flag_AvgNal_2021</th>\n",
       "      <th>Flag_AvgNal_Tasa_2021</th>\n",
       "      <th>selecion</th>\n",
       "      <th>w_Flag_AvgNal_CHURN</th>\n",
       "      <th>Flag_AvgNal_Tasa_2021_std</th>\n",
       "      <th>w_Flag_AvgNal_CHURN_std</th>\n",
       "      <th>cl_Flag_AvgNal_CHURN</th>\n",
       "      <th>ESTRATO</th>\n",
       "      <th>ALFA</th>\n",
       "      <th>BETA</th>\n",
       "      <th>MEGA</th>\n",
       "      <th>TasaChurn</th>\n",
       "    </tr>\n",
       "  </thead>\n",
       "  <tbody>\n",
       "    <tr>\n",
       "      <th>0</th>\n",
       "      <td>AMI</td>\n",
       "      <td>HFC</td>\n",
       "      <td>POLYGON Z ((-8212900.894 444361.840 0.000, -82...</td>\n",
       "      <td>0.000000</td>\n",
       "      <td>0.02139</td>\n",
       "      <td>0.011080</td>\n",
       "      <td>0.007833</td>\n",
       "      <td>0.026961</td>\n",
       "      <td>0.007557</td>\n",
       "      <td>0.012285</td>\n",
       "      <td>0.007282</td>\n",
       "      <td>0.007126</td>\n",
       "      <td>0.011820</td>\n",
       "      <td>0.007194</td>\n",
       "      <td>0.013857</td>\n",
       "      <td>0.0</td>\n",
       "      <td>1.0</td>\n",
       "      <td>0.0</td>\n",
       "      <td>0.0</td>\n",
       "      <td>1.0</td>\n",
       "      <td>0.0</td>\n",
       "      <td>0.0</td>\n",
       "      <td>0.0</td>\n",
       "      <td>0.0</td>\n",
       "      <td>0.0</td>\n",
       "      <td>0.0</td>\n",
       "      <td>0.0</td>\n",
       "      <td>2.0</td>\n",
       "      <td>0.166667</td>\n",
       "      <td>1.0</td>\n",
       "      <td>0.300976</td>\n",
       "      <td>-0.637396</td>\n",
       "      <td>0.060935</td>\n",
       "      <td>A-A</td>\n",
       "      <td>2</td>\n",
       "      <td>NaN</td>\n",
       "      <td>0.622348</td>\n",
       "      <td>NaN</td>\n",
       "      <td>0.011820</td>\n",
       "    </tr>\n",
       "    <tr>\n",
       "      <th>1</th>\n",
       "      <td>AMI</td>\n",
       "      <td>HFC</td>\n",
       "      <td>POLYGON Z ((-8212900.894 444361.840 0.000, -82...</td>\n",
       "      <td>0.000000</td>\n",
       "      <td>0.02139</td>\n",
       "      <td>0.011080</td>\n",
       "      <td>0.007833</td>\n",
       "      <td>0.026961</td>\n",
       "      <td>0.007557</td>\n",
       "      <td>0.012285</td>\n",
       "      <td>0.007282</td>\n",
       "      <td>0.007126</td>\n",
       "      <td>0.011820</td>\n",
       "      <td>0.007194</td>\n",
       "      <td>0.013857</td>\n",
       "      <td>0.0</td>\n",
       "      <td>1.0</td>\n",
       "      <td>0.0</td>\n",
       "      <td>0.0</td>\n",
       "      <td>1.0</td>\n",
       "      <td>0.0</td>\n",
       "      <td>0.0</td>\n",
       "      <td>0.0</td>\n",
       "      <td>0.0</td>\n",
       "      <td>0.0</td>\n",
       "      <td>0.0</td>\n",
       "      <td>0.0</td>\n",
       "      <td>2.0</td>\n",
       "      <td>0.166667</td>\n",
       "      <td>1.0</td>\n",
       "      <td>0.300976</td>\n",
       "      <td>-0.637396</td>\n",
       "      <td>0.060935</td>\n",
       "      <td>A-A</td>\n",
       "      <td>2</td>\n",
       "      <td>NaN</td>\n",
       "      <td>0.850858</td>\n",
       "      <td>NaN</td>\n",
       "      <td>0.011820</td>\n",
       "    </tr>\n",
       "    <tr>\n",
       "      <th>2</th>\n",
       "      <td>OMJ</td>\n",
       "      <td>HFC</td>\n",
       "      <td>POLYGON Z ((-8213197.449 444885.309 0.000, -82...</td>\n",
       "      <td>0.004032</td>\n",
       "      <td>0.01581</td>\n",
       "      <td>0.016064</td>\n",
       "      <td>0.014706</td>\n",
       "      <td>0.017544</td>\n",
       "      <td>0.017182</td>\n",
       "      <td>0.010309</td>\n",
       "      <td>0.019608</td>\n",
       "      <td>0.013115</td>\n",
       "      <td>0.006803</td>\n",
       "      <td>0.023333</td>\n",
       "      <td>0.015528</td>\n",
       "      <td>0.0</td>\n",
       "      <td>0.0</td>\n",
       "      <td>0.0</td>\n",
       "      <td>0.0</td>\n",
       "      <td>1.0</td>\n",
       "      <td>1.0</td>\n",
       "      <td>0.0</td>\n",
       "      <td>1.0</td>\n",
       "      <td>0.0</td>\n",
       "      <td>0.0</td>\n",
       "      <td>1.0</td>\n",
       "      <td>0.0</td>\n",
       "      <td>4.0</td>\n",
       "      <td>0.333333</td>\n",
       "      <td>1.0</td>\n",
       "      <td>0.328534</td>\n",
       "      <td>0.229177</td>\n",
       "      <td>0.204221</td>\n",
       "      <td>A-A</td>\n",
       "      <td>1</td>\n",
       "      <td>NaN</td>\n",
       "      <td>0.758621</td>\n",
       "      <td>NaN</td>\n",
       "      <td>0.006803</td>\n",
       "    </tr>\n",
       "  </tbody>\n",
       "</table>\n",
       "</div>"
      ],
      "text/plain": [
       "  NODO TIPO                                           geometry  Churn_2021_01  \\\n",
       "0  AMI  HFC  POLYGON Z ((-8212900.894 444361.840 0.000, -82...       0.000000   \n",
       "1  AMI  HFC  POLYGON Z ((-8212900.894 444361.840 0.000, -82...       0.000000   \n",
       "2  OMJ  HFC  POLYGON Z ((-8213197.449 444885.309 0.000, -82...       0.004032   \n",
       "\n",
       "   Churn_2021_02  Churn_2021_03  Churn_2021_04  Churn_2021_05  Churn_2021_06  \\\n",
       "0        0.02139       0.011080       0.007833       0.026961       0.007557   \n",
       "1        0.02139       0.011080       0.007833       0.026961       0.007557   \n",
       "2        0.01581       0.016064       0.014706       0.017544       0.017182   \n",
       "\n",
       "   Churn_2021_07  Churn_2021_08  Churn_2021_09  Churn_2021_10  Churn_2021_11  \\\n",
       "0       0.012285       0.007282       0.007126       0.011820       0.007194   \n",
       "1       0.012285       0.007282       0.007126       0.011820       0.007194   \n",
       "2       0.010309       0.019608       0.013115       0.006803       0.023333   \n",
       "\n",
       "   Churn_2021_12  flgAvgNalChurn_2021_01  flgAvgNalChurn_2021_02  \\\n",
       "0       0.013857                     0.0                     1.0   \n",
       "1       0.013857                     0.0                     1.0   \n",
       "2       0.015528                     0.0                     0.0   \n",
       "\n",
       "   flgAvgNalChurn_2021_03  flgAvgNalChurn_2021_04  flgAvgNalChurn_2021_05  \\\n",
       "0                     0.0                     0.0                     1.0   \n",
       "1                     0.0                     0.0                     1.0   \n",
       "2                     0.0                     0.0                     1.0   \n",
       "\n",
       "   flgAvgNalChurn_2021_06  flgAvgNalChurn_2021_07  flgAvgNalChurn_2021_08  \\\n",
       "0                     0.0                     0.0                     0.0   \n",
       "1                     0.0                     0.0                     0.0   \n",
       "2                     1.0                     0.0                     1.0   \n",
       "\n",
       "   flgAvgNalChurn_2021_09  flgAvgNalChurn_2021_10  flgAvgNalChurn_2021_11  \\\n",
       "0                     0.0                     0.0                     0.0   \n",
       "1                     0.0                     0.0                     0.0   \n",
       "2                     0.0                     0.0                     1.0   \n",
       "\n",
       "   flgAvgNalChurn_2021_12  Flag_AvgNal_2021  Flag_AvgNal_Tasa_2021  selecion  \\\n",
       "0                     0.0               2.0               0.166667       1.0   \n",
       "1                     0.0               2.0               0.166667       1.0   \n",
       "2                     0.0               4.0               0.333333       1.0   \n",
       "\n",
       "   w_Flag_AvgNal_CHURN  Flag_AvgNal_Tasa_2021_std  w_Flag_AvgNal_CHURN_std  \\\n",
       "0             0.300976                  -0.637396                 0.060935   \n",
       "1             0.300976                  -0.637396                 0.060935   \n",
       "2             0.328534                   0.229177                 0.204221   \n",
       "\n",
       "  cl_Flag_AvgNal_CHURN ESTRATO  ALFA      BETA  MEGA  TasaChurn  \n",
       "0                  A-A       2   NaN  0.622348   NaN   0.011820  \n",
       "1                  A-A       2   NaN  0.850858   NaN   0.011820  \n",
       "2                  A-A       1   NaN  0.758621   NaN   0.006803  "
      ]
     },
     "execution_count": 97,
     "metadata": {},
     "output_type": "execute_result"
    }
   ],
   "source": [
    "df_fijaN10.head(3)"
   ]
  },
  {
   "cell_type": "code",
   "execution_count": null,
   "id": "f6ef553e-5f3c-4154-ba62-7fb4e37a4131",
   "metadata": {},
   "outputs": [],
   "source": [
    "# print(df_fijaN10.groupby('Flag_AvgNal_Tasa_2021').size())"
   ]
  },
  {
   "cell_type": "code",
   "execution_count": null,
   "id": "08b68dc3-86ad-4547-b00b-8c1e79c0cc2d",
   "metadata": {},
   "outputs": [],
   "source": [
    "# Nodos mas criticos mirandolos desde Flag_AvgNal_Tasa_2021\n",
    "# df_fijaN10[df_fijaN10['Flag_AvgNal_Tasa_2021']>=1.0]"
   ]
  },
  {
   "cell_type": "code",
   "execution_count": null,
   "id": "8f0f109b-d054-4dc7-bdd4-fc7d8b2b37e9",
   "metadata": {},
   "outputs": [
    {
     "data": {
      "text/plain": [
       "ALFA                         2847\n",
       "BETA                         2518\n",
       "MEGA                         2445\n",
       "TasaChurn                    1548\n",
       "ESTRATO                      1548\n",
       "Flag_AvgNal_2021                0\n",
       "flgAvgNalChurn_2021_08          0\n",
       "flgAvgNalChurn_2021_09          0\n",
       "flgAvgNalChurn_2021_10          0\n",
       "flgAvgNalChurn_2021_11          0\n",
       "flgAvgNalChurn_2021_12          0\n",
       "w_Flag_AvgNal_CHURN             0\n",
       "Flag_AvgNal_Tasa_2021           0\n",
       "selecion                        0\n",
       "flgAvgNalChurn_2021_06          0\n",
       "Flag_AvgNal_Tasa_2021_std       0\n",
       "w_Flag_AvgNal_CHURN_std         0\n",
       "cl_Flag_AvgNal_CHURN            0\n",
       "flgAvgNalChurn_2021_07          0\n",
       "NODO                            0\n",
       "TIPO                            0\n",
       "dtype: int64"
      ]
     },
     "execution_count": 100,
     "metadata": {},
     "output_type": "execute_result"
    }
   ],
   "source": [
    "df_fijaN10.isnull().sum().sort_values(ascending=False,)[:21]"
   ]
  },
  {
   "cell_type": "markdown",
   "id": "4861062c-f425-4f8b-af08-6f016189b7e2",
   "metadata": {},
   "source": [
    "## Alfa"
   ]
  },
  {
   "cell_type": "code",
   "execution_count": null,
   "id": "6500bf86-67c2-4890-9444-90a0cde4885a",
   "metadata": {},
   "outputs": [
    {
     "name": "stdout",
     "output_type": "stream",
     "text": [
      "1.880050449014808\n",
      "3.529028626550251\n",
      "5.409079075565059\n"
     ]
    }
   ],
   "source": [
    "ALFA_mean=df_fijaN10[\"ALFA\"].mean()\n",
    "print(ALFA_mean)\n",
    "\n",
    "ALFA_std=df_fijaN10[\"ALFA\"].std()\n",
    "print(ALFA_std)\n",
    "\n",
    "primera_std_alfa=ALFA_mean+ALFA_std\n",
    "print(primera_std_alfa)"
   ]
  },
  {
   "cell_type": "code",
   "execution_count": null,
   "id": "4b1348f5-93ea-4e4c-ae40-8c7fc8b13531",
   "metadata": {},
   "outputs": [],
   "source": [
    "def semaforoVal_Exp(val):\n",
    "    #df = df.copy()\n",
    "    respuesta=0\n",
    "    if (val<2):\n",
    "        respuesta=0 \n",
    "    elif val>=2:\n",
    "        respuesta=1\n",
    "    return(respuesta)"
   ]
  },
  {
   "cell_type": "code",
   "execution_count": null,
   "id": "7185b608-a487-4ce4-9e39-95384778ec91",
   "metadata": {},
   "outputs": [
    {
     "name": "stdout",
     "output_type": "stream",
     "text": [
      "ALFA_Exp\n",
      "0    9002\n",
      "1    2634\n",
      "dtype: int64\n"
     ]
    }
   ],
   "source": [
    "df_fijaN10['ALFA_Exp']=df_fijaN10['ALFA'].apply(semaforoVal_Exp)   \n",
    "print(df_fijaN10.groupby('ALFA_Exp').size())"
   ]
  },
  {
   "cell_type": "code",
   "execution_count": null,
   "id": "9bbcd536-11a0-4512-b09d-ebf0149861a7",
   "metadata": {},
   "outputs": [
    {
     "data": {
      "text/plain": [
       "(2634, 40)"
      ]
     },
     "execution_count": 104,
     "metadata": {},
     "output_type": "execute_result"
    }
   ],
   "source": [
    "ALFA_criticos=df_fijaN10[df_fijaN10[\"ALFA_Exp\"]==1]\n",
    "ALFA_criticos.shape"
   ]
  },
  {
   "cell_type": "code",
   "execution_count": null,
   "id": "d3bce653-b76e-4fde-b3f4-5fe923a37d0d",
   "metadata": {},
   "outputs": [
    {
     "name": "stdout",
     "output_type": "stream",
     "text": [
      "1.7754653579377582\n",
      "0.7440684415539802\n",
      "2.5195337994917386\n"
     ]
    }
   ],
   "source": [
    "Mega_mean_nw=ALFA_criticos[\"MEGA\"].mean()\n",
    "print(Mega_mean_nw)\n",
    "\n",
    "Mega_std_nw=ALFA_criticos[\"MEGA\"].std()\n",
    "print(Mega_std_nw)\n",
    "\n",
    "primera_std_Mega=Mega_mean_nw+Mega_std_nw\n",
    "print(primera_std_Mega)"
   ]
  },
  {
   "cell_type": "code",
   "execution_count": null,
   "id": "eb95c5d4-cc4c-4c66-8677-de44d11ec8b0",
   "metadata": {},
   "outputs": [
    {
     "name": "stdout",
     "output_type": "stream",
     "text": [
      "MEGA_Exp\n",
      "0    1859\n",
      "1     775\n",
      "dtype: int64\n"
     ]
    },
    {
     "name": "stderr",
     "output_type": "stream",
     "text": [
      "C:\\ProgramData\\Anaconda3\\envs\\sqdm\\lib\\site-packages\\geopandas\\geodataframe.py:1322: SettingWithCopyWarning: \n",
      "A value is trying to be set on a copy of a slice from a DataFrame.\n",
      "Try using .loc[row_indexer,col_indexer] = value instead\n",
      "\n",
      "See the caveats in the documentation: https://pandas.pydata.org/pandas-docs/stable/user_guide/indexing.html#returning-a-view-versus-a-copy\n",
      "  super(GeoDataFrame, self).__setitem__(key, value)\n"
     ]
    }
   ],
   "source": [
    "ALFA_criticos['MEGA_Exp']=ALFA_criticos['MEGA'].apply(semaforoVal_Exp)   \n",
    "print(ALFA_criticos.groupby('MEGA_Exp').size())"
   ]
  },
  {
   "cell_type": "code",
   "execution_count": null,
   "id": "b8f433d0-9dca-40e3-bbc6-bd216b7d7387",
   "metadata": {},
   "outputs": [
    {
     "data": {
      "text/plain": [
       "(775, 41)"
      ]
     },
     "execution_count": 107,
     "metadata": {},
     "output_type": "execute_result"
    }
   ],
   "source": [
    "mega_crit=ALFA_criticos[ALFA_criticos[\"MEGA_Exp\"]==1]\n",
    "mega_crit.shape"
   ]
  },
  {
   "cell_type": "code",
   "execution_count": null,
   "id": "d3587a73-28c4-4ecc-bb41-6d81a4e2ed86",
   "metadata": {},
   "outputs": [
    {
     "name": "stdout",
     "output_type": "stream",
     "text": [
      "0    3\n",
      "dtype: object\n"
     ]
    }
   ],
   "source": [
    "print(mega_crit['ESTRATO'].mode())"
   ]
  },
  {
   "cell_type": "markdown",
   "id": "c584c576-006b-4dfa-ba49-98172fc50f8d",
   "metadata": {},
   "source": [
    "## Beta"
   ]
  },
  {
   "cell_type": "code",
   "execution_count": null,
   "id": "53bf7161-8082-4461-881c-114af195a42f",
   "metadata": {},
   "outputs": [
    {
     "data": {
      "text/plain": [
       "(9002, 40)"
      ]
     },
     "execution_count": 109,
     "metadata": {},
     "output_type": "execute_result"
    }
   ],
   "source": [
    "ALFA_nocriticos=df_fijaN10[df_fijaN10[\"ALFA_Exp\"]==0]\n",
    "ALFA_nocriticos.shape"
   ]
  },
  {
   "cell_type": "code",
   "execution_count": null,
   "id": "94863c78-5bcd-4c5d-866f-091bb77eae43",
   "metadata": {},
   "outputs": [],
   "source": [
    "# BETA_mean_nw=ALFA_nocriticos[\"BETA\"].mean()\n",
    "# print(BETA_mean_nw)\n",
    "\n",
    "# BETA_std_nw=ALFA_nocriticos[\"BETA\"].std()\n",
    "# print(BETA_std_nw)\n",
    "\n",
    "# primera_std_beta_nw=BETA_mean_nw+BETA_std_nw\n",
    "# print(primera_std_beta_nw)"
   ]
  },
  {
   "cell_type": "code",
   "execution_count": null,
   "id": "f17af55f-1600-4679-800a-1097fc28e80d",
   "metadata": {},
   "outputs": [],
   "source": [
    "def semaforoValBeta(val):\n",
    "    #df = df.copy()\n",
    "    respuesta=0\n",
    "    if (val<1.5):\n",
    "        respuesta=0 \n",
    "    elif val>=1.5:\n",
    "        respuesta=1\n",
    "    return(respuesta)"
   ]
  },
  {
   "cell_type": "code",
   "execution_count": null,
   "id": "9ca76c44-dd89-4341-881b-c9e1c765d4e7",
   "metadata": {},
   "outputs": [
    {
     "name": "stdout",
     "output_type": "stream",
     "text": [
      "BETA_Exp\n",
      "0    7514\n",
      "1    1488\n",
      "dtype: int64\n"
     ]
    }
   ],
   "source": [
    "ALFA_nocriticos['BETA_Exp']=ALFA_nocriticos['BETA'].apply(semaforoValBeta) \n",
    "print(ALFA_nocriticos.groupby('BETA_Exp').size())"
   ]
  },
  {
   "cell_type": "code",
   "execution_count": null,
   "id": "335107ae-f7f5-4390-be4d-373478c6ddaa",
   "metadata": {},
   "outputs": [
    {
     "data": {
      "text/plain": [
       "(1488, 41)"
      ]
     },
     "execution_count": 113,
     "metadata": {},
     "output_type": "execute_result"
    }
   ],
   "source": [
    "BETA_crit=ALFA_nocriticos[ALFA_nocriticos[\"BETA_Exp\"]==1]\n",
    "BETA_crit.shape"
   ]
  },
  {
   "cell_type": "markdown",
   "id": "d05a01aa-9220-45fe-8bff-6d34c149e61f",
   "metadata": {},
   "source": [
    "## unificamos bases de datos"
   ]
  },
  {
   "cell_type": "code",
   "execution_count": null,
   "id": "354ea86c-6575-4320-9a13-30d7b9466a74",
   "metadata": {},
   "outputs": [
    {
     "data": {
      "text/plain": [
       "(11636, 40)"
      ]
     },
     "execution_count": 114,
     "metadata": {},
     "output_type": "execute_result"
    }
   ],
   "source": [
    "df_fijaN10.shape"
   ]
  },
  {
   "cell_type": "code",
   "execution_count": null,
   "id": "6e985af8-fab9-4f84-b530-8d6133ad6073",
   "metadata": {},
   "outputs": [],
   "source": [
    "BETA_crit=BETA_crit.loc[:,['NODO','BETA_Exp']]\n",
    "mega_crit=mega_crit.loc[:,['NODO','MEGA_Exp']]"
   ]
  },
  {
   "cell_type": "code",
   "execution_count": null,
   "id": "4c0f35b4-3aac-4210-841d-3e6ea2d9db50",
   "metadata": {},
   "outputs": [],
   "source": [
    "# print(ALFA_nocriticos.groupby('BETA_Exp').size())"
   ]
  },
  {
   "cell_type": "code",
   "execution_count": null,
   "id": "89b338f0-e9ee-4bc5-8c2c-d3f0519847ae",
   "metadata": {},
   "outputs": [],
   "source": [
    "fijaN11=pd.merge(df_fijaN10, mega_crit, on = ('NODO'), how='left')"
   ]
  },
  {
   "cell_type": "code",
   "execution_count": null,
   "id": "44148cf3-acd7-4eac-bba6-1bf3581a6d23",
   "metadata": {},
   "outputs": [],
   "source": [
    "# print(fijaN11.groupby('MEGA_Exp').size())\n",
    "# print(fijaN11.groupby('ALFA_Exp').size())"
   ]
  },
  {
   "cell_type": "markdown",
   "id": "3de588ca-42de-4216-8cf6-3520d7fe1219",
   "metadata": {},
   "source": [
    "#### hasta qui bien"
   ]
  },
  {
   "cell_type": "code",
   "execution_count": null,
   "id": "e286073d-d23a-49d9-95a5-0d693ea0565b",
   "metadata": {},
   "outputs": [],
   "source": [
    "fijaN12=pd.merge(fijaN11, BETA_crit, on = ('NODO'), how='left')"
   ]
  },
  {
   "cell_type": "code",
   "execution_count": null,
   "id": "dfd5e6d4-c888-4380-b596-53a1a50637c2",
   "metadata": {},
   "outputs": [
    {
     "data": {
      "text/plain": [
       "(12124, 42)"
      ]
     },
     "execution_count": 120,
     "metadata": {},
     "output_type": "execute_result"
    }
   ],
   "source": [
    "fijaN12.shape"
   ]
  },
  {
   "cell_type": "code",
   "execution_count": null,
   "id": "321189cc-2567-4a0d-947a-289b10ed344a",
   "metadata": {},
   "outputs": [
    {
     "data": {
      "text/plain": [
       "<Projected CRS: EPSG:3857>\n",
       "Name: WGS 84 / Pseudo-Mercator\n",
       "Axis Info [cartesian]:\n",
       "- X[east]: Easting (metre)\n",
       "- Y[north]: Northing (metre)\n",
       "Area of Use:\n",
       "- name: World - 85°S to 85°N\n",
       "- bounds: (-180.0, -85.06, 180.0, 85.06)\n",
       "Coordinate Operation:\n",
       "- name: Popular Visualisation Pseudo-Mercator\n",
       "- method: Popular Visualisation Pseudo Mercator\n",
       "Datum: World Geodetic System 1984\n",
       "- Ellipsoid: WGS 84\n",
       "- Prime Meridian: Greenwich"
      ]
     },
     "execution_count": 121,
     "metadata": {},
     "output_type": "execute_result"
    }
   ],
   "source": [
    "fijaN12.crs"
   ]
  },
  {
   "cell_type": "code",
   "execution_count": null,
   "id": "fe6165ae-63d3-408d-8148-9c138ef8b0b4",
   "metadata": {},
   "outputs": [
    {
     "data": {
      "text/html": [
       "<div>\n",
       "<style scoped>\n",
       "    .dataframe tbody tr th:only-of-type {\n",
       "        vertical-align: middle;\n",
       "    }\n",
       "\n",
       "    .dataframe tbody tr th {\n",
       "        vertical-align: top;\n",
       "    }\n",
       "\n",
       "    .dataframe thead th {\n",
       "        text-align: right;\n",
       "    }\n",
       "</style>\n",
       "<table border=\"1\" class=\"dataframe\">\n",
       "  <thead>\n",
       "    <tr style=\"text-align: right;\">\n",
       "      <th></th>\n",
       "      <th>NODO</th>\n",
       "      <th>TIPO</th>\n",
       "      <th>geometry</th>\n",
       "      <th>Churn_2021_01</th>\n",
       "      <th>Churn_2021_02</th>\n",
       "      <th>Churn_2021_03</th>\n",
       "      <th>Churn_2021_04</th>\n",
       "      <th>Churn_2021_05</th>\n",
       "      <th>Churn_2021_06</th>\n",
       "      <th>Churn_2021_07</th>\n",
       "      <th>Churn_2021_08</th>\n",
       "      <th>Churn_2021_09</th>\n",
       "      <th>Churn_2021_10</th>\n",
       "      <th>Churn_2021_11</th>\n",
       "      <th>Churn_2021_12</th>\n",
       "      <th>flgAvgNalChurn_2021_01</th>\n",
       "      <th>flgAvgNalChurn_2021_02</th>\n",
       "      <th>flgAvgNalChurn_2021_03</th>\n",
       "      <th>flgAvgNalChurn_2021_04</th>\n",
       "      <th>flgAvgNalChurn_2021_05</th>\n",
       "      <th>flgAvgNalChurn_2021_06</th>\n",
       "      <th>flgAvgNalChurn_2021_07</th>\n",
       "      <th>flgAvgNalChurn_2021_08</th>\n",
       "      <th>flgAvgNalChurn_2021_09</th>\n",
       "      <th>flgAvgNalChurn_2021_10</th>\n",
       "      <th>flgAvgNalChurn_2021_11</th>\n",
       "      <th>flgAvgNalChurn_2021_12</th>\n",
       "      <th>Flag_AvgNal_2021</th>\n",
       "      <th>Flag_AvgNal_Tasa_2021</th>\n",
       "      <th>selecion</th>\n",
       "      <th>w_Flag_AvgNal_CHURN</th>\n",
       "      <th>Flag_AvgNal_Tasa_2021_std</th>\n",
       "      <th>w_Flag_AvgNal_CHURN_std</th>\n",
       "      <th>cl_Flag_AvgNal_CHURN</th>\n",
       "      <th>ESTRATO</th>\n",
       "      <th>ALFA</th>\n",
       "      <th>BETA</th>\n",
       "      <th>MEGA</th>\n",
       "      <th>TasaChurn</th>\n",
       "      <th>ALFA_Exp</th>\n",
       "      <th>MEGA_Exp</th>\n",
       "      <th>BETA_Exp</th>\n",
       "    </tr>\n",
       "  </thead>\n",
       "  <tbody>\n",
       "    <tr>\n",
       "      <th>0</th>\n",
       "      <td>AMI</td>\n",
       "      <td>HFC</td>\n",
       "      <td>POLYGON Z ((-8212900.894 444361.840 0.000, -82...</td>\n",
       "      <td>0.0</td>\n",
       "      <td>0.02139</td>\n",
       "      <td>0.01108</td>\n",
       "      <td>0.007833</td>\n",
       "      <td>0.026961</td>\n",
       "      <td>0.007557</td>\n",
       "      <td>0.012285</td>\n",
       "      <td>0.007282</td>\n",
       "      <td>0.007126</td>\n",
       "      <td>0.01182</td>\n",
       "      <td>0.007194</td>\n",
       "      <td>0.013857</td>\n",
       "      <td>0.0</td>\n",
       "      <td>1.0</td>\n",
       "      <td>0.0</td>\n",
       "      <td>0.0</td>\n",
       "      <td>1.0</td>\n",
       "      <td>0.0</td>\n",
       "      <td>0.0</td>\n",
       "      <td>0.0</td>\n",
       "      <td>0.0</td>\n",
       "      <td>0.0</td>\n",
       "      <td>0.0</td>\n",
       "      <td>0.0</td>\n",
       "      <td>2.0</td>\n",
       "      <td>0.166667</td>\n",
       "      <td>1.0</td>\n",
       "      <td>0.300976</td>\n",
       "      <td>-0.637396</td>\n",
       "      <td>0.060935</td>\n",
       "      <td>A-A</td>\n",
       "      <td>2</td>\n",
       "      <td>NaN</td>\n",
       "      <td>0.622348</td>\n",
       "      <td>NaN</td>\n",
       "      <td>0.01182</td>\n",
       "      <td>0</td>\n",
       "      <td>NaN</td>\n",
       "      <td>NaN</td>\n",
       "    </tr>\n",
       "    <tr>\n",
       "      <th>1</th>\n",
       "      <td>AMI</td>\n",
       "      <td>HFC</td>\n",
       "      <td>POLYGON Z ((-8212900.894 444361.840 0.000, -82...</td>\n",
       "      <td>0.0</td>\n",
       "      <td>0.02139</td>\n",
       "      <td>0.01108</td>\n",
       "      <td>0.007833</td>\n",
       "      <td>0.026961</td>\n",
       "      <td>0.007557</td>\n",
       "      <td>0.012285</td>\n",
       "      <td>0.007282</td>\n",
       "      <td>0.007126</td>\n",
       "      <td>0.01182</td>\n",
       "      <td>0.007194</td>\n",
       "      <td>0.013857</td>\n",
       "      <td>0.0</td>\n",
       "      <td>1.0</td>\n",
       "      <td>0.0</td>\n",
       "      <td>0.0</td>\n",
       "      <td>1.0</td>\n",
       "      <td>0.0</td>\n",
       "      <td>0.0</td>\n",
       "      <td>0.0</td>\n",
       "      <td>0.0</td>\n",
       "      <td>0.0</td>\n",
       "      <td>0.0</td>\n",
       "      <td>0.0</td>\n",
       "      <td>2.0</td>\n",
       "      <td>0.166667</td>\n",
       "      <td>1.0</td>\n",
       "      <td>0.300976</td>\n",
       "      <td>-0.637396</td>\n",
       "      <td>0.060935</td>\n",
       "      <td>A-A</td>\n",
       "      <td>2</td>\n",
       "      <td>NaN</td>\n",
       "      <td>0.850858</td>\n",
       "      <td>NaN</td>\n",
       "      <td>0.01182</td>\n",
       "      <td>0</td>\n",
       "      <td>NaN</td>\n",
       "      <td>NaN</td>\n",
       "    </tr>\n",
       "  </tbody>\n",
       "</table>\n",
       "</div>"
      ],
      "text/plain": [
       "  NODO TIPO                                           geometry  Churn_2021_01  \\\n",
       "0  AMI  HFC  POLYGON Z ((-8212900.894 444361.840 0.000, -82...            0.0   \n",
       "1  AMI  HFC  POLYGON Z ((-8212900.894 444361.840 0.000, -82...            0.0   \n",
       "\n",
       "   Churn_2021_02  Churn_2021_03  Churn_2021_04  Churn_2021_05  Churn_2021_06  \\\n",
       "0        0.02139        0.01108       0.007833       0.026961       0.007557   \n",
       "1        0.02139        0.01108       0.007833       0.026961       0.007557   \n",
       "\n",
       "   Churn_2021_07  Churn_2021_08  Churn_2021_09  Churn_2021_10  Churn_2021_11  \\\n",
       "0       0.012285       0.007282       0.007126        0.01182       0.007194   \n",
       "1       0.012285       0.007282       0.007126        0.01182       0.007194   \n",
       "\n",
       "   Churn_2021_12  flgAvgNalChurn_2021_01  flgAvgNalChurn_2021_02  \\\n",
       "0       0.013857                     0.0                     1.0   \n",
       "1       0.013857                     0.0                     1.0   \n",
       "\n",
       "   flgAvgNalChurn_2021_03  flgAvgNalChurn_2021_04  flgAvgNalChurn_2021_05  \\\n",
       "0                     0.0                     0.0                     1.0   \n",
       "1                     0.0                     0.0                     1.0   \n",
       "\n",
       "   flgAvgNalChurn_2021_06  flgAvgNalChurn_2021_07  flgAvgNalChurn_2021_08  \\\n",
       "0                     0.0                     0.0                     0.0   \n",
       "1                     0.0                     0.0                     0.0   \n",
       "\n",
       "   flgAvgNalChurn_2021_09  flgAvgNalChurn_2021_10  flgAvgNalChurn_2021_11  \\\n",
       "0                     0.0                     0.0                     0.0   \n",
       "1                     0.0                     0.0                     0.0   \n",
       "\n",
       "   flgAvgNalChurn_2021_12  Flag_AvgNal_2021  Flag_AvgNal_Tasa_2021  selecion  \\\n",
       "0                     0.0               2.0               0.166667       1.0   \n",
       "1                     0.0               2.0               0.166667       1.0   \n",
       "\n",
       "   w_Flag_AvgNal_CHURN  Flag_AvgNal_Tasa_2021_std  w_Flag_AvgNal_CHURN_std  \\\n",
       "0             0.300976                  -0.637396                 0.060935   \n",
       "1             0.300976                  -0.637396                 0.060935   \n",
       "\n",
       "  cl_Flag_AvgNal_CHURN ESTRATO  ALFA      BETA  MEGA  TasaChurn  ALFA_Exp  \\\n",
       "0                  A-A       2   NaN  0.622348   NaN    0.01182         0   \n",
       "1                  A-A       2   NaN  0.850858   NaN    0.01182         0   \n",
       "\n",
       "   MEGA_Exp  BETA_Exp  \n",
       "0       NaN       NaN  \n",
       "1       NaN       NaN  "
      ]
     },
     "execution_count": 122,
     "metadata": {},
     "output_type": "execute_result"
    }
   ],
   "source": [
    "fijaN12.head(2)"
   ]
  },
  {
   "cell_type": "code",
   "execution_count": null,
   "id": "f5699e3b-faad-4462-8a70-9299b9942858",
   "metadata": {},
   "outputs": [
    {
     "name": "stdout",
     "output_type": "stream",
     "text": [
      "BETA_Exp\n",
      "1.0    2995\n",
      "dtype: int64\n"
     ]
    }
   ],
   "source": [
    "print(fijaN12.groupby('BETA_Exp').size())"
   ]
  },
  {
   "cell_type": "markdown",
   "id": "56d6f80f-c2b4-475b-93fa-25a7b67ca111",
   "metadata": {},
   "source": [
    "## Analsis para alfa y mega"
   ]
  },
  {
   "cell_type": "code",
   "execution_count": null,
   "id": "ce4c6ba4-3756-4fda-be36-ef4e2775fc99",
   "metadata": {},
   "outputs": [
    {
     "data": {
      "text/html": [
       "<div>\n",
       "<style scoped>\n",
       "    .dataframe tbody tr th:only-of-type {\n",
       "        vertical-align: middle;\n",
       "    }\n",
       "\n",
       "    .dataframe tbody tr th {\n",
       "        vertical-align: top;\n",
       "    }\n",
       "\n",
       "    .dataframe thead th {\n",
       "        text-align: right;\n",
       "    }\n",
       "</style>\n",
       "<table border=\"1\" class=\"dataframe\">\n",
       "  <thead>\n",
       "    <tr style=\"text-align: right;\">\n",
       "      <th></th>\n",
       "      <th>NODO</th>\n",
       "      <th>FECHA</th>\n",
       "      <th>CANTIDAD_CHURN</th>\n",
       "      <th>ESTRATO</th>\n",
       "      <th>MOTIVO_DESCONEXION</th>\n",
       "      <th>EDAD</th>\n",
       "      <th>RENTA</th>\n",
       "      <th>RENTA_ACT</th>\n",
       "      <th>PROM_RENTA_ACT</th>\n",
       "      <th>CANTIDAD</th>\n",
       "      <th>MODA_ESTRATO</th>\n",
       "      <th>ALFA</th>\n",
       "      <th>BETA</th>\n",
       "      <th>MEGA</th>\n",
       "      <th>CANTIDAD_ACTIVOS</th>\n",
       "      <th>TasaChurn</th>\n",
       "      <th>FechaVal_AñoMes</th>\n",
       "    </tr>\n",
       "  </thead>\n",
       "  <tbody>\n",
       "    <tr>\n",
       "      <th>0</th>\n",
       "      <td>01J</td>\n",
       "      <td>2021-05-01</td>\n",
       "      <td>1</td>\n",
       "      <td>3</td>\n",
       "      <td>TRASLADO</td>\n",
       "      <td>59.0</td>\n",
       "      <td>65318</td>\n",
       "      <td>2856137.0</td>\n",
       "      <td>109851.0</td>\n",
       "      <td>26.0</td>\n",
       "      <td>3</td>\n",
       "      <td>NaN</td>\n",
       "      <td>NaN</td>\n",
       "      <td>0.391503</td>\n",
       "      <td>27</td>\n",
       "      <td>0.037037</td>\n",
       "      <td>Churn_2021_05</td>\n",
       "    </tr>\n",
       "    <tr>\n",
       "      <th>1</th>\n",
       "      <td>01J</td>\n",
       "      <td>2021-05-01</td>\n",
       "      <td>1</td>\n",
       "      <td>3</td>\n",
       "      <td>TRASLADO</td>\n",
       "      <td>59.0</td>\n",
       "      <td>65318</td>\n",
       "      <td>2856137.0</td>\n",
       "      <td>109851.0</td>\n",
       "      <td>26.0</td>\n",
       "      <td>3</td>\n",
       "      <td>NaN</td>\n",
       "      <td>NaN</td>\n",
       "      <td>NaN</td>\n",
       "      <td>27</td>\n",
       "      <td>0.037037</td>\n",
       "      <td>Churn_2021_05</td>\n",
       "    </tr>\n",
       "  </tbody>\n",
       "</table>\n",
       "</div>"
      ],
      "text/plain": [
       "  NODO      FECHA  CANTIDAD_CHURN ESTRATO MOTIVO_DESCONEXION  EDAD  RENTA  \\\n",
       "0  01J 2021-05-01               1       3           TRASLADO  59.0  65318   \n",
       "1  01J 2021-05-01               1       3           TRASLADO  59.0  65318   \n",
       "\n",
       "   RENTA_ACT  PROM_RENTA_ACT  CANTIDAD MODA_ESTRATO  ALFA  BETA      MEGA  \\\n",
       "0  2856137.0        109851.0      26.0            3   NaN   NaN  0.391503   \n",
       "1  2856137.0        109851.0      26.0            3   NaN   NaN       NaN   \n",
       "\n",
       "   CANTIDAD_ACTIVOS  TasaChurn FechaVal_AñoMes  \n",
       "0                27   0.037037   Churn_2021_05  \n",
       "1                27   0.037037   Churn_2021_05  "
      ]
     },
     "execution_count": 124,
     "metadata": {},
     "output_type": "execute_result"
    }
   ],
   "source": [
    "df_fija1.head(2)"
   ]
  },
  {
   "cell_type": "code",
   "execution_count": null,
   "id": "f3867987-bf7f-473e-87ab-3421d35ca55d",
   "metadata": {},
   "outputs": [
    {
     "name": "stderr",
     "output_type": "stream",
     "text": [
      "C:\\Users\\WILSON~1\\AppData\\Local\\Temp/ipykernel_20876/3190443494.py:1: SettingWithCopyWarning: \n",
      "A value is trying to be set on a copy of a slice from a DataFrame.\n",
      "Try using .loc[row_indexer,col_indexer] = value instead\n",
      "\n",
      "See the caveats in the documentation: https://pandas.pydata.org/pandas-docs/stable/user_guide/indexing.html#returning-a-view-versus-a-copy\n",
      "  df_fija1['FechaVal_ALFA'] = df_fija1['FECHA'].dt.strftime('ALFA_''%Y_%m')\n",
      "C:\\Users\\WILSON~1\\AppData\\Local\\Temp/ipykernel_20876/3190443494.py:2: SettingWithCopyWarning: \n",
      "A value is trying to be set on a copy of a slice from a DataFrame.\n",
      "Try using .loc[row_indexer,col_indexer] = value instead\n",
      "\n",
      "See the caveats in the documentation: https://pandas.pydata.org/pandas-docs/stable/user_guide/indexing.html#returning-a-view-versus-a-copy\n",
      "  df_fija1['FechaVal_BETA'] = df_fija1['FECHA'].dt.strftime('BETA_''%Y_%m')\n",
      "C:\\Users\\WILSON~1\\AppData\\Local\\Temp/ipykernel_20876/3190443494.py:3: SettingWithCopyWarning: \n",
      "A value is trying to be set on a copy of a slice from a DataFrame.\n",
      "Try using .loc[row_indexer,col_indexer] = value instead\n",
      "\n",
      "See the caveats in the documentation: https://pandas.pydata.org/pandas-docs/stable/user_guide/indexing.html#returning-a-view-versus-a-copy\n",
      "  df_fija1['FechaVal_MEGA'] = df_fija1['FECHA'].dt.strftime('MEGA_''%Y_%m')\n"
     ]
    }
   ],
   "source": [
    "df_fija1['FechaVal_ALFA'] = df_fija1['FECHA'].dt.strftime('ALFA_''%Y_%m')\n",
    "df_fija1['FechaVal_BETA'] = df_fija1['FECHA'].dt.strftime('BETA_''%Y_%m')\n",
    "df_fija1['FechaVal_MEGA'] = df_fija1['FECHA'].dt.strftime('MEGA_''%Y_%m')"
   ]
  },
  {
   "cell_type": "code",
   "execution_count": null,
   "id": "df41b56a-fec8-4f1f-8c3e-f31ab851a267",
   "metadata": {},
   "outputs": [
    {
     "data": {
      "text/html": [
       "<div>\n",
       "<style scoped>\n",
       "    .dataframe tbody tr th:only-of-type {\n",
       "        vertical-align: middle;\n",
       "    }\n",
       "\n",
       "    .dataframe tbody tr th {\n",
       "        vertical-align: top;\n",
       "    }\n",
       "\n",
       "    .dataframe thead th {\n",
       "        text-align: right;\n",
       "    }\n",
       "</style>\n",
       "<table border=\"1\" class=\"dataframe\">\n",
       "  <thead>\n",
       "    <tr style=\"text-align: right;\">\n",
       "      <th></th>\n",
       "      <th>NODO</th>\n",
       "      <th>FECHA</th>\n",
       "      <th>CANTIDAD_CHURN</th>\n",
       "      <th>ESTRATO</th>\n",
       "      <th>MOTIVO_DESCONEXION</th>\n",
       "      <th>EDAD</th>\n",
       "      <th>RENTA</th>\n",
       "      <th>RENTA_ACT</th>\n",
       "      <th>PROM_RENTA_ACT</th>\n",
       "      <th>CANTIDAD</th>\n",
       "      <th>MODA_ESTRATO</th>\n",
       "      <th>ALFA</th>\n",
       "      <th>BETA</th>\n",
       "      <th>MEGA</th>\n",
       "      <th>CANTIDAD_ACTIVOS</th>\n",
       "      <th>TasaChurn</th>\n",
       "      <th>FechaVal_AñoMes</th>\n",
       "      <th>FechaVal_ALFA</th>\n",
       "      <th>FechaVal_BETA</th>\n",
       "      <th>FechaVal_MEGA</th>\n",
       "    </tr>\n",
       "  </thead>\n",
       "  <tbody>\n",
       "    <tr>\n",
       "      <th>4</th>\n",
       "      <td>01J</td>\n",
       "      <td>2021-08-01</td>\n",
       "      <td>1</td>\n",
       "      <td>3</td>\n",
       "      <td>FALLAS SERVICIO (CALIDAD)</td>\n",
       "      <td>64.0</td>\n",
       "      <td>50301</td>\n",
       "      <td>2507252.0</td>\n",
       "      <td>109011.0</td>\n",
       "      <td>23.0</td>\n",
       "      <td>3</td>\n",
       "      <td>3.367969</td>\n",
       "      <td>2.600000</td>\n",
       "      <td>1.295373</td>\n",
       "      <td>24</td>\n",
       "      <td>0.041667</td>\n",
       "      <td>Churn_2021_08</td>\n",
       "      <td>ALFA_2021_08</td>\n",
       "      <td>BETA_2021_08</td>\n",
       "      <td>MEGA_2021_08</td>\n",
       "    </tr>\n",
       "    <tr>\n",
       "      <th>5</th>\n",
       "      <td>01J</td>\n",
       "      <td>2021-08-01</td>\n",
       "      <td>1</td>\n",
       "      <td>3</td>\n",
       "      <td>FALLAS SERVICIO (CALIDAD)</td>\n",
       "      <td>64.0</td>\n",
       "      <td>50301</td>\n",
       "      <td>2507252.0</td>\n",
       "      <td>109011.0</td>\n",
       "      <td>23.0</td>\n",
       "      <td>3</td>\n",
       "      <td>NaN</td>\n",
       "      <td>1.942857</td>\n",
       "      <td>NaN</td>\n",
       "      <td>24</td>\n",
       "      <td>0.041667</td>\n",
       "      <td>Churn_2021_08</td>\n",
       "      <td>ALFA_2021_08</td>\n",
       "      <td>BETA_2021_08</td>\n",
       "      <td>MEGA_2021_08</td>\n",
       "    </tr>\n",
       "    <tr>\n",
       "      <th>6</th>\n",
       "      <td>01J</td>\n",
       "      <td>2021-09-01</td>\n",
       "      <td>1</td>\n",
       "      <td>3</td>\n",
       "      <td>PRECIO Y CAPACIDAD DE PAGO</td>\n",
       "      <td>64.0</td>\n",
       "      <td>163800</td>\n",
       "      <td>2702401.0</td>\n",
       "      <td>112600.0</td>\n",
       "      <td>24.0</td>\n",
       "      <td>3</td>\n",
       "      <td>0.320868</td>\n",
       "      <td>1.209302</td>\n",
       "      <td>0.265333</td>\n",
       "      <td>25</td>\n",
       "      <td>0.040000</td>\n",
       "      <td>Churn_2021_09</td>\n",
       "      <td>ALFA_2021_09</td>\n",
       "      <td>BETA_2021_09</td>\n",
       "      <td>MEGA_2021_09</td>\n",
       "    </tr>\n",
       "    <tr>\n",
       "      <th>7</th>\n",
       "      <td>01J</td>\n",
       "      <td>2021-09-01</td>\n",
       "      <td>1</td>\n",
       "      <td>3</td>\n",
       "      <td>PRECIO Y CAPACIDAD DE PAGO</td>\n",
       "      <td>64.0</td>\n",
       "      <td>163800</td>\n",
       "      <td>2702401.0</td>\n",
       "      <td>112600.0</td>\n",
       "      <td>24.0</td>\n",
       "      <td>3</td>\n",
       "      <td>0.277625</td>\n",
       "      <td>1.515152</td>\n",
       "      <td>0.183232</td>\n",
       "      <td>25</td>\n",
       "      <td>0.040000</td>\n",
       "      <td>Churn_2021_09</td>\n",
       "      <td>ALFA_2021_09</td>\n",
       "      <td>BETA_2021_09</td>\n",
       "      <td>MEGA_2021_09</td>\n",
       "    </tr>\n",
       "    <tr>\n",
       "      <th>8</th>\n",
       "      <td>01J</td>\n",
       "      <td>2021-12-01</td>\n",
       "      <td>1</td>\n",
       "      <td>3</td>\n",
       "      <td>PRECIO Y CAPACIDAD DE PAGO</td>\n",
       "      <td>69.0</td>\n",
       "      <td>81517</td>\n",
       "      <td>2627094.0</td>\n",
       "      <td>105084.0</td>\n",
       "      <td>25.0</td>\n",
       "      <td>3</td>\n",
       "      <td>NaN</td>\n",
       "      <td>NaN</td>\n",
       "      <td>NaN</td>\n",
       "      <td>26</td>\n",
       "      <td>0.038462</td>\n",
       "      <td>Churn_2021_12</td>\n",
       "      <td>ALFA_2021_12</td>\n",
       "      <td>BETA_2021_12</td>\n",
       "      <td>MEGA_2021_12</td>\n",
       "    </tr>\n",
       "  </tbody>\n",
       "</table>\n",
       "</div>"
      ],
      "text/plain": [
       "  NODO      FECHA  CANTIDAD_CHURN ESTRATO          MOTIVO_DESCONEXION  EDAD  \\\n",
       "4  01J 2021-08-01               1       3   FALLAS SERVICIO (CALIDAD)  64.0   \n",
       "5  01J 2021-08-01               1       3   FALLAS SERVICIO (CALIDAD)  64.0   \n",
       "6  01J 2021-09-01               1       3  PRECIO Y CAPACIDAD DE PAGO  64.0   \n",
       "7  01J 2021-09-01               1       3  PRECIO Y CAPACIDAD DE PAGO  64.0   \n",
       "8  01J 2021-12-01               1       3  PRECIO Y CAPACIDAD DE PAGO  69.0   \n",
       "\n",
       "    RENTA  RENTA_ACT  PROM_RENTA_ACT  CANTIDAD MODA_ESTRATO      ALFA  \\\n",
       "4   50301  2507252.0        109011.0      23.0            3  3.367969   \n",
       "5   50301  2507252.0        109011.0      23.0            3       NaN   \n",
       "6  163800  2702401.0        112600.0      24.0            3  0.320868   \n",
       "7  163800  2702401.0        112600.0      24.0            3  0.277625   \n",
       "8   81517  2627094.0        105084.0      25.0            3       NaN   \n",
       "\n",
       "       BETA      MEGA  CANTIDAD_ACTIVOS  TasaChurn FechaVal_AñoMes  \\\n",
       "4  2.600000  1.295373                24   0.041667   Churn_2021_08   \n",
       "5  1.942857       NaN                24   0.041667   Churn_2021_08   \n",
       "6  1.209302  0.265333                25   0.040000   Churn_2021_09   \n",
       "7  1.515152  0.183232                25   0.040000   Churn_2021_09   \n",
       "8       NaN       NaN                26   0.038462   Churn_2021_12   \n",
       "\n",
       "  FechaVal_ALFA FechaVal_BETA FechaVal_MEGA  \n",
       "4  ALFA_2021_08  BETA_2021_08  MEGA_2021_08  \n",
       "5  ALFA_2021_08  BETA_2021_08  MEGA_2021_08  \n",
       "6  ALFA_2021_09  BETA_2021_09  MEGA_2021_09  \n",
       "7  ALFA_2021_09  BETA_2021_09  MEGA_2021_09  \n",
       "8  ALFA_2021_12  BETA_2021_12  MEGA_2021_12  "
      ]
     },
     "execution_count": 126,
     "metadata": {},
     "output_type": "execute_result"
    }
   ],
   "source": [
    "Ul_months=df_fija1[df_fija1['FECHA'] > '2021-07-1']\n",
    "Ul_months.head()"
   ]
  },
  {
   "cell_type": "code",
   "execution_count": null,
   "id": "7f2f5a57-e0a8-4e57-bf4d-dcab0d810b13",
   "metadata": {},
   "outputs": [
    {
     "name": "stderr",
     "output_type": "stream",
     "text": [
      "C:\\Users\\WILSON~1\\AppData\\Local\\Temp/ipykernel_20876/635210532.py:1: FutureWarning: DataFrame.mean and DataFrame.median with numeric_only=None will include datetime64 and datetime64tz columns in a future version.\n",
      "  Ul_months.mean()\n",
      "C:\\Users\\WILSON~1\\AppData\\Local\\Temp/ipykernel_20876/635210532.py:1: FutureWarning: Dropping of nuisance columns in DataFrame reductions (with 'numeric_only=None') is deprecated; in a future version this will raise TypeError.  Select only valid columns before calling the reduction.\n",
      "  Ul_months.mean()\n"
     ]
    },
    {
     "data": {
      "text/plain": [
       "CANTIDAD_CHURN      3.742601e+00\n",
       "EDAD                4.257020e+01\n",
       "RENTA               3.659952e+05\n",
       "RENTA_ACT           2.441112e+07\n",
       "PROM_RENTA_ACT      1.049403e+05\n",
       "CANTIDAD            2.431104e+02\n",
       "ALFA                1.501901e+00\n",
       "BETA                1.517812e+00\n",
       "MEGA                1.003683e+00\n",
       "CANTIDAD_ACTIVOS    2.468530e+02\n",
       "TasaChurn           1.768403e-02\n",
       "dtype: float64"
      ]
     },
     "execution_count": 127,
     "metadata": {},
     "output_type": "execute_result"
    }
   ],
   "source": [
    "Ul_months.mean()"
   ]
  },
  {
   "cell_type": "code",
   "execution_count": null,
   "id": "bd82b3f5-bd5a-4bf5-aba3-db1701372453",
   "metadata": {},
   "outputs": [
    {
     "data": {
      "text/plain": [
       "(105082, 20)"
      ]
     },
     "execution_count": 128,
     "metadata": {},
     "output_type": "execute_result"
    }
   ],
   "source": [
    "Ul_months.shape"
   ]
  },
  {
   "cell_type": "code",
   "execution_count": null,
   "id": "bc299f4c-9b25-4450-baa8-284ec2e4bcc8",
   "metadata": {},
   "outputs": [
    {
     "data": {
      "text/html": [
       "<div>\n",
       "<style scoped>\n",
       "    .dataframe tbody tr th:only-of-type {\n",
       "        vertical-align: middle;\n",
       "    }\n",
       "\n",
       "    .dataframe tbody tr th {\n",
       "        vertical-align: top;\n",
       "    }\n",
       "\n",
       "    .dataframe thead th {\n",
       "        text-align: right;\n",
       "    }\n",
       "</style>\n",
       "<table border=\"1\" class=\"dataframe\">\n",
       "  <thead>\n",
       "    <tr style=\"text-align: right;\">\n",
       "      <th>FechaVal_ALFA</th>\n",
       "      <th>NODO</th>\n",
       "      <th>ALFA_2021_08</th>\n",
       "      <th>ALFA_2021_09</th>\n",
       "      <th>ALFA_2021_10</th>\n",
       "      <th>ALFA_2021_11</th>\n",
       "      <th>ALFA_2021_12</th>\n",
       "    </tr>\n",
       "  </thead>\n",
       "  <tbody>\n",
       "    <tr>\n",
       "      <th>0</th>\n",
       "      <td>01J</td>\n",
       "      <td>3.367969</td>\n",
       "      <td>0.299246</td>\n",
       "      <td>0.000000</td>\n",
       "      <td>0.000000</td>\n",
       "      <td>0.000000</td>\n",
       "    </tr>\n",
       "    <tr>\n",
       "      <th>1</th>\n",
       "      <td>01S</td>\n",
       "      <td>0.800865</td>\n",
       "      <td>0.000000</td>\n",
       "      <td>0.875057</td>\n",
       "      <td>0.670245</td>\n",
       "      <td>1.040150</td>\n",
       "    </tr>\n",
       "    <tr>\n",
       "      <th>2</th>\n",
       "      <td>02S</td>\n",
       "      <td>1.096901</td>\n",
       "      <td>0.601890</td>\n",
       "      <td>1.123184</td>\n",
       "      <td>3.256095</td>\n",
       "      <td>1.570392</td>\n",
       "    </tr>\n",
       "    <tr>\n",
       "      <th>3</th>\n",
       "      <td>04J</td>\n",
       "      <td>0.000000</td>\n",
       "      <td>0.967865</td>\n",
       "      <td>0.000000</td>\n",
       "      <td>0.000000</td>\n",
       "      <td>0.000000</td>\n",
       "    </tr>\n",
       "    <tr>\n",
       "      <th>4</th>\n",
       "      <td>05J</td>\n",
       "      <td>3.938181</td>\n",
       "      <td>2.497465</td>\n",
       "      <td>0.000000</td>\n",
       "      <td>20.952055</td>\n",
       "      <td>0.000000</td>\n",
       "    </tr>\n",
       "  </tbody>\n",
       "</table>\n",
       "</div>"
      ],
      "text/plain": [
       "FechaVal_ALFA NODO  ALFA_2021_08  ALFA_2021_09  ALFA_2021_10  ALFA_2021_11  \\\n",
       "0              01J      3.367969      0.299246      0.000000      0.000000   \n",
       "1              01S      0.800865      0.000000      0.875057      0.670245   \n",
       "2              02S      1.096901      0.601890      1.123184      3.256095   \n",
       "3              04J      0.000000      0.967865      0.000000      0.000000   \n",
       "4              05J      3.938181      2.497465      0.000000     20.952055   \n",
       "\n",
       "FechaVal_ALFA  ALFA_2021_12  \n",
       "0                  0.000000  \n",
       "1                  1.040150  \n",
       "2                  1.570392  \n",
       "3                  0.000000  \n",
       "4                  0.000000  "
      ]
     },
     "execution_count": 129,
     "metadata": {},
     "output_type": "execute_result"
    }
   ],
   "source": [
    "Ul_months_pvaLFA = pd.pivot_table(Ul_months, index = \"NODO\", columns=['FechaVal_ALFA'], values='ALFA')\n",
    "Ul_months_pvaLFA.fillna(0,inplace=True)\n",
    "Ul_months_pvaLFA = Ul_months_pvaLFA.reset_index()\n",
    "Ul_months_pvaLFA.head()"
   ]
  },
  {
   "cell_type": "code",
   "execution_count": null,
   "id": "5ee687e7-0622-4d76-85ac-66b6e2d796d1",
   "metadata": {},
   "outputs": [
    {
     "data": {
      "text/plain": [
       "(12037, 6)"
      ]
     },
     "execution_count": 130,
     "metadata": {},
     "output_type": "execute_result"
    }
   ],
   "source": [
    "Ul_months_pvaLFA.shape"
   ]
  },
  {
   "cell_type": "code",
   "execution_count": null,
   "id": "90ebeca0-3aac-4ce1-81e3-b758c8891131",
   "metadata": {
    "tags": []
   },
   "outputs": [
    {
     "data": {
      "text/html": [
       "<div>\n",
       "<style scoped>\n",
       "    .dataframe tbody tr th:only-of-type {\n",
       "        vertical-align: middle;\n",
       "    }\n",
       "\n",
       "    .dataframe tbody tr th {\n",
       "        vertical-align: top;\n",
       "    }\n",
       "\n",
       "    .dataframe thead th {\n",
       "        text-align: right;\n",
       "    }\n",
       "</style>\n",
       "<table border=\"1\" class=\"dataframe\">\n",
       "  <thead>\n",
       "    <tr style=\"text-align: right;\">\n",
       "      <th>FechaVal_BETA</th>\n",
       "      <th>NODO</th>\n",
       "      <th>BETA_2021_08</th>\n",
       "      <th>BETA_2021_09</th>\n",
       "      <th>BETA_2021_10</th>\n",
       "      <th>BETA_2021_11</th>\n",
       "      <th>BETA_2021_12</th>\n",
       "    </tr>\n",
       "  </thead>\n",
       "  <tbody>\n",
       "    <tr>\n",
       "      <th>0</th>\n",
       "      <td>01J</td>\n",
       "      <td>2.271429</td>\n",
       "      <td>1.362227</td>\n",
       "      <td>0.000000</td>\n",
       "      <td>0.000000</td>\n",
       "      <td>0.000000</td>\n",
       "    </tr>\n",
       "    <tr>\n",
       "      <th>1</th>\n",
       "      <td>01S</td>\n",
       "      <td>0.902511</td>\n",
       "      <td>0.000000</td>\n",
       "      <td>1.277691</td>\n",
       "      <td>0.942026</td>\n",
       "      <td>1.303360</td>\n",
       "    </tr>\n",
       "    <tr>\n",
       "      <th>2</th>\n",
       "      <td>02J</td>\n",
       "      <td>0.670250</td>\n",
       "      <td>0.000000</td>\n",
       "      <td>0.000000</td>\n",
       "      <td>0.000000</td>\n",
       "      <td>0.000000</td>\n",
       "    </tr>\n",
       "    <tr>\n",
       "      <th>3</th>\n",
       "      <td>02S</td>\n",
       "      <td>1.060743</td>\n",
       "      <td>1.099935</td>\n",
       "      <td>1.366990</td>\n",
       "      <td>3.601254</td>\n",
       "      <td>1.808118</td>\n",
       "    </tr>\n",
       "    <tr>\n",
       "      <th>4</th>\n",
       "      <td>03J</td>\n",
       "      <td>0.000000</td>\n",
       "      <td>0.838336</td>\n",
       "      <td>1.428571</td>\n",
       "      <td>0.000000</td>\n",
       "      <td>0.000000</td>\n",
       "    </tr>\n",
       "  </tbody>\n",
       "</table>\n",
       "</div>"
      ],
      "text/plain": [
       "FechaVal_BETA NODO  BETA_2021_08  BETA_2021_09  BETA_2021_10  BETA_2021_11  \\\n",
       "0              01J      2.271429      1.362227      0.000000      0.000000   \n",
       "1              01S      0.902511      0.000000      1.277691      0.942026   \n",
       "2              02J      0.670250      0.000000      0.000000      0.000000   \n",
       "3              02S      1.060743      1.099935      1.366990      3.601254   \n",
       "4              03J      0.000000      0.838336      1.428571      0.000000   \n",
       "\n",
       "FechaVal_BETA  BETA_2021_12  \n",
       "0                  0.000000  \n",
       "1                  1.303360  \n",
       "2                  0.000000  \n",
       "3                  1.808118  \n",
       "4                  0.000000  "
      ]
     },
     "execution_count": 131,
     "metadata": {},
     "output_type": "execute_result"
    }
   ],
   "source": [
    "Ul_months_pvBETA = pd.pivot_table(Ul_months, index = \"NODO\", columns=['FechaVal_BETA'], values='BETA')\n",
    "Ul_months_pvBETA.fillna(0,inplace=True)\n",
    "Ul_months_pvBETA = Ul_months_pvBETA.reset_index()\n",
    "Ul_months_pvBETA.head()"
   ]
  },
  {
   "cell_type": "code",
   "execution_count": null,
   "id": "52d2f19e-a1f1-4b9a-9cc1-79ed1ba3a98b",
   "metadata": {},
   "outputs": [
    {
     "data": {
      "text/plain": [
       "(12356, 6)"
      ]
     },
     "execution_count": 132,
     "metadata": {},
     "output_type": "execute_result"
    }
   ],
   "source": [
    "Ul_months_pvBETA.shape"
   ]
  },
  {
   "cell_type": "code",
   "execution_count": null,
   "id": "ca5386c5-baea-4cd1-b285-b26cb43e8acf",
   "metadata": {},
   "outputs": [
    {
     "data": {
      "text/html": [
       "<div>\n",
       "<style scoped>\n",
       "    .dataframe tbody tr th:only-of-type {\n",
       "        vertical-align: middle;\n",
       "    }\n",
       "\n",
       "    .dataframe tbody tr th {\n",
       "        vertical-align: top;\n",
       "    }\n",
       "\n",
       "    .dataframe thead th {\n",
       "        text-align: right;\n",
       "    }\n",
       "</style>\n",
       "<table border=\"1\" class=\"dataframe\">\n",
       "  <thead>\n",
       "    <tr style=\"text-align: right;\">\n",
       "      <th>FechaVal_MEGA</th>\n",
       "      <th>NODO</th>\n",
       "      <th>MEGA_2021_08</th>\n",
       "      <th>MEGA_2021_09</th>\n",
       "      <th>MEGA_2021_10</th>\n",
       "      <th>MEGA_2021_11</th>\n",
       "      <th>MEGA_2021_12</th>\n",
       "    </tr>\n",
       "  </thead>\n",
       "  <tbody>\n",
       "    <tr>\n",
       "      <th>0</th>\n",
       "      <td>01J</td>\n",
       "      <td>1.295373</td>\n",
       "      <td>0.224283</td>\n",
       "      <td>0.000000</td>\n",
       "      <td>0.000000</td>\n",
       "      <td>1.859166</td>\n",
       "    </tr>\n",
       "    <tr>\n",
       "      <th>1</th>\n",
       "      <td>01S</td>\n",
       "      <td>0.827054</td>\n",
       "      <td>0.000000</td>\n",
       "      <td>0.648060</td>\n",
       "      <td>0.707915</td>\n",
       "      <td>0.775207</td>\n",
       "    </tr>\n",
       "    <tr>\n",
       "      <th>2</th>\n",
       "      <td>02S</td>\n",
       "      <td>1.001564</td>\n",
       "      <td>0.607911</td>\n",
       "      <td>0.819028</td>\n",
       "      <td>0.932159</td>\n",
       "      <td>0.953979</td>\n",
       "    </tr>\n",
       "    <tr>\n",
       "      <th>3</th>\n",
       "      <td>04J</td>\n",
       "      <td>0.000000</td>\n",
       "      <td>0.755993</td>\n",
       "      <td>0.051785</td>\n",
       "      <td>0.000000</td>\n",
       "      <td>0.000000</td>\n",
       "    </tr>\n",
       "    <tr>\n",
       "      <th>4</th>\n",
       "      <td>05J</td>\n",
       "      <td>1.820208</td>\n",
       "      <td>1.778992</td>\n",
       "      <td>4.052769</td>\n",
       "      <td>2.316571</td>\n",
       "      <td>0.000000</td>\n",
       "    </tr>\n",
       "  </tbody>\n",
       "</table>\n",
       "</div>"
      ],
      "text/plain": [
       "FechaVal_MEGA NODO  MEGA_2021_08  MEGA_2021_09  MEGA_2021_10  MEGA_2021_11  \\\n",
       "0              01J      1.295373      0.224283      0.000000      0.000000   \n",
       "1              01S      0.827054      0.000000      0.648060      0.707915   \n",
       "2              02S      1.001564      0.607911      0.819028      0.932159   \n",
       "3              04J      0.000000      0.755993      0.051785      0.000000   \n",
       "4              05J      1.820208      1.778992      4.052769      2.316571   \n",
       "\n",
       "FechaVal_MEGA  MEGA_2021_12  \n",
       "0                  1.859166  \n",
       "1                  0.775207  \n",
       "2                  0.953979  \n",
       "3                  0.000000  \n",
       "4                  0.000000  "
      ]
     },
     "execution_count": 133,
     "metadata": {},
     "output_type": "execute_result"
    }
   ],
   "source": [
    "Ul_months_pvMEGA = pd.pivot_table(Ul_months, index = \"NODO\", columns=['FechaVal_MEGA'], values='MEGA')\n",
    "Ul_months_pvMEGA.fillna(0,inplace=True)\n",
    "Ul_months_pvMEGA = Ul_months_pvMEGA.reset_index()\n",
    "Ul_months_pvMEGA.head()"
   ]
  },
  {
   "cell_type": "code",
   "execution_count": null,
   "id": "72fa877a-a0f2-47fb-8f71-73a412b485c8",
   "metadata": {},
   "outputs": [
    {
     "data": {
      "text/plain": [
       "(12180, 6)"
      ]
     },
     "execution_count": 134,
     "metadata": {},
     "output_type": "execute_result"
    }
   ],
   "source": [
    "Ul_months_pvMEGA.shape"
   ]
  },
  {
   "cell_type": "code",
   "execution_count": null,
   "id": "35cb60db-1901-4709-8fd4-8823f9e5fa75",
   "metadata": {},
   "outputs": [],
   "source": [
    "Ul_W1=pd.merge(Ul_months,Ul_months_pvaLFA , on = ('NODO'), how='left')"
   ]
  },
  {
   "cell_type": "code",
   "execution_count": null,
   "id": "f9084e2c-e27c-44d0-940b-84ffd0267e1b",
   "metadata": {},
   "outputs": [],
   "source": [
    "Ul_W2=pd.merge(Ul_W1,Ul_months_pvBETA , on = ('NODO'), how='left')"
   ]
  },
  {
   "cell_type": "code",
   "execution_count": null,
   "id": "8d90b943-31a2-4212-b067-f7225bac99e1",
   "metadata": {},
   "outputs": [],
   "source": [
    "Ul_W3=pd.merge(Ul_W2,Ul_months_pvMEGA , on = ('NODO'), how='left')\n",
    "Ul_W3=Ul_W3.drop(['FECHA','CANTIDAD_CHURN','ESTRATO','MOTIVO_DESCONEXION','EDAD','CANTIDAD','ALFA','BETA','MEGA','CANTIDAD_ACTIVOS','TasaChurn','FechaVal_AñoMes','FechaVal_ALFA','FechaVal_BETA','FechaVal_MEGA'], axis=1)"
   ]
  },
  {
   "cell_type": "code",
   "execution_count": null,
   "id": "f0869628-1a5e-404d-b8d0-86803fed04c2",
   "metadata": {},
   "outputs": [
    {
     "data": {
      "text/plain": [
       "(105082, 20)"
      ]
     },
     "execution_count": 138,
     "metadata": {},
     "output_type": "execute_result"
    }
   ],
   "source": [
    "Ul_W3.shape"
   ]
  },
  {
   "cell_type": "code",
   "execution_count": null,
   "id": "4c1627bd-8d90-450a-88dd-44b019a33ccf",
   "metadata": {},
   "outputs": [
    {
     "data": {
      "text/html": [
       "<div>\n",
       "<style scoped>\n",
       "    .dataframe tbody tr th:only-of-type {\n",
       "        vertical-align: middle;\n",
       "    }\n",
       "\n",
       "    .dataframe tbody tr th {\n",
       "        vertical-align: top;\n",
       "    }\n",
       "\n",
       "    .dataframe thead th {\n",
       "        text-align: right;\n",
       "    }\n",
       "</style>\n",
       "<table border=\"1\" class=\"dataframe\">\n",
       "  <thead>\n",
       "    <tr style=\"text-align: right;\">\n",
       "      <th></th>\n",
       "      <th>RENTA</th>\n",
       "      <th>RENTA_ACT</th>\n",
       "      <th>PROM_RENTA_ACT</th>\n",
       "      <th>ALFA_2021_08</th>\n",
       "      <th>ALFA_2021_09</th>\n",
       "      <th>ALFA_2021_10</th>\n",
       "      <th>ALFA_2021_11</th>\n",
       "      <th>ALFA_2021_12</th>\n",
       "      <th>BETA_2021_08</th>\n",
       "      <th>BETA_2021_09</th>\n",
       "      <th>BETA_2021_10</th>\n",
       "      <th>BETA_2021_11</th>\n",
       "      <th>BETA_2021_12</th>\n",
       "      <th>MEGA_2021_08</th>\n",
       "      <th>MEGA_2021_09</th>\n",
       "      <th>MEGA_2021_10</th>\n",
       "      <th>MEGA_2021_11</th>\n",
       "      <th>MEGA_2021_12</th>\n",
       "    </tr>\n",
       "  </thead>\n",
       "  <tbody>\n",
       "    <tr>\n",
       "      <th>count</th>\n",
       "      <td>1.050820e+05</td>\n",
       "      <td>1.050820e+05</td>\n",
       "      <td>105082.000000</td>\n",
       "      <td>98825.000000</td>\n",
       "      <td>98825.000000</td>\n",
       "      <td>98825.000000</td>\n",
       "      <td>98825.000000</td>\n",
       "      <td>98825.000000</td>\n",
       "      <td>100734.000000</td>\n",
       "      <td>100734.000000</td>\n",
       "      <td>100734.000000</td>\n",
       "      <td>100734.000000</td>\n",
       "      <td>100734.000000</td>\n",
       "      <td>99386.000000</td>\n",
       "      <td>99386.000000</td>\n",
       "      <td>99386.000000</td>\n",
       "      <td>99386.000000</td>\n",
       "      <td>99386.000000</td>\n",
       "    </tr>\n",
       "    <tr>\n",
       "      <th>mean</th>\n",
       "      <td>3.659952e+05</td>\n",
       "      <td>2.441112e+07</td>\n",
       "      <td>104940.314650</td>\n",
       "      <td>1.165894</td>\n",
       "      <td>1.212977</td>\n",
       "      <td>1.240299</td>\n",
       "      <td>1.300869</td>\n",
       "      <td>1.316990</td>\n",
       "      <td>1.286825</td>\n",
       "      <td>1.360907</td>\n",
       "      <td>1.371223</td>\n",
       "      <td>1.300284</td>\n",
       "      <td>1.311124</td>\n",
       "      <td>0.829963</td>\n",
       "      <td>0.812281</td>\n",
       "      <td>0.835493</td>\n",
       "      <td>0.871832</td>\n",
       "      <td>0.896751</td>\n",
       "    </tr>\n",
       "    <tr>\n",
       "      <th>std</th>\n",
       "      <td>3.283689e+05</td>\n",
       "      <td>1.441641e+07</td>\n",
       "      <td>18685.971729</td>\n",
       "      <td>2.062511</td>\n",
       "      <td>2.233932</td>\n",
       "      <td>2.145773</td>\n",
       "      <td>2.313055</td>\n",
       "      <td>2.086119</td>\n",
       "      <td>1.427333</td>\n",
       "      <td>1.726587</td>\n",
       "      <td>2.108555</td>\n",
       "      <td>1.564572</td>\n",
       "      <td>1.578704</td>\n",
       "      <td>0.642150</td>\n",
       "      <td>0.679239</td>\n",
       "      <td>0.634748</td>\n",
       "      <td>0.690236</td>\n",
       "      <td>0.697377</td>\n",
       "    </tr>\n",
       "    <tr>\n",
       "      <th>min</th>\n",
       "      <td>0.000000e+00</td>\n",
       "      <td>5.000000e+04</td>\n",
       "      <td>12306.000000</td>\n",
       "      <td>0.000000</td>\n",
       "      <td>0.000000</td>\n",
       "      <td>0.000000</td>\n",
       "      <td>0.000000</td>\n",
       "      <td>0.000000</td>\n",
       "      <td>0.000000</td>\n",
       "      <td>0.000000</td>\n",
       "      <td>0.000000</td>\n",
       "      <td>0.000000</td>\n",
       "      <td>0.000000</td>\n",
       "      <td>0.000000</td>\n",
       "      <td>0.000000</td>\n",
       "      <td>0.000000</td>\n",
       "      <td>0.000000</td>\n",
       "      <td>0.000000</td>\n",
       "    </tr>\n",
       "    <tr>\n",
       "      <th>25%</th>\n",
       "      <td>1.501010e+05</td>\n",
       "      <td>1.314553e+07</td>\n",
       "      <td>92316.000000</td>\n",
       "      <td>0.333424</td>\n",
       "      <td>0.376434</td>\n",
       "      <td>0.354855</td>\n",
       "      <td>0.292346</td>\n",
       "      <td>0.304821</td>\n",
       "      <td>0.908537</td>\n",
       "      <td>0.966170</td>\n",
       "      <td>0.944452</td>\n",
       "      <td>0.899936</td>\n",
       "      <td>0.888829</td>\n",
       "      <td>0.321064</td>\n",
       "      <td>0.331884</td>\n",
       "      <td>0.328146</td>\n",
       "      <td>0.282251</td>\n",
       "      <td>0.292945</td>\n",
       "    </tr>\n",
       "    <tr>\n",
       "      <th>50%</th>\n",
       "      <td>2.848810e+05</td>\n",
       "      <td>2.258926e+07</td>\n",
       "      <td>105117.000000</td>\n",
       "      <td>0.895816</td>\n",
       "      <td>0.937460</td>\n",
       "      <td>0.944443</td>\n",
       "      <td>0.944745</td>\n",
       "      <td>0.987066</td>\n",
       "      <td>1.176994</td>\n",
       "      <td>1.239040</td>\n",
       "      <td>1.220699</td>\n",
       "      <td>1.186813</td>\n",
       "      <td>1.166451</td>\n",
       "      <td>0.767859</td>\n",
       "      <td>0.760440</td>\n",
       "      <td>0.778424</td>\n",
       "      <td>0.797426</td>\n",
       "      <td>0.832342</td>\n",
       "    </tr>\n",
       "    <tr>\n",
       "      <th>75%</th>\n",
       "      <td>4.805882e+05</td>\n",
       "      <td>3.317892e+07</td>\n",
       "      <td>114811.000000</td>\n",
       "      <td>1.587431</td>\n",
       "      <td>1.626035</td>\n",
       "      <td>1.670830</td>\n",
       "      <td>1.776398</td>\n",
       "      <td>1.790163</td>\n",
       "      <td>1.500455</td>\n",
       "      <td>1.542031</td>\n",
       "      <td>1.546391</td>\n",
       "      <td>1.508228</td>\n",
       "      <td>1.502722</td>\n",
       "      <td>1.213976</td>\n",
       "      <td>1.201116</td>\n",
       "      <td>1.241533</td>\n",
       "      <td>1.329966</td>\n",
       "      <td>1.365112</td>\n",
       "    </tr>\n",
       "    <tr>\n",
       "      <th>max</th>\n",
       "      <td>8.991263e+06</td>\n",
       "      <td>1.213819e+08</td>\n",
       "      <td>226532.000000</td>\n",
       "      <td>162.008866</td>\n",
       "      <td>97.639648</td>\n",
       "      <td>90.835938</td>\n",
       "      <td>107.352539</td>\n",
       "      <td>141.686617</td>\n",
       "      <td>65.558824</td>\n",
       "      <td>73.000000</td>\n",
       "      <td>107.000000</td>\n",
       "      <td>64.000000</td>\n",
       "      <td>65.102740</td>\n",
       "      <td>8.260896</td>\n",
       "      <td>34.352322</td>\n",
       "      <td>6.036372</td>\n",
       "      <td>8.893164</td>\n",
       "      <td>6.226692</td>\n",
       "    </tr>\n",
       "  </tbody>\n",
       "</table>\n",
       "</div>"
      ],
      "text/plain": [
       "              RENTA     RENTA_ACT  PROM_RENTA_ACT  ALFA_2021_08  ALFA_2021_09  \\\n",
       "count  1.050820e+05  1.050820e+05   105082.000000  98825.000000  98825.000000   \n",
       "mean   3.659952e+05  2.441112e+07   104940.314650      1.165894      1.212977   \n",
       "std    3.283689e+05  1.441641e+07    18685.971729      2.062511      2.233932   \n",
       "min    0.000000e+00  5.000000e+04    12306.000000      0.000000      0.000000   \n",
       "25%    1.501010e+05  1.314553e+07    92316.000000      0.333424      0.376434   \n",
       "50%    2.848810e+05  2.258926e+07   105117.000000      0.895816      0.937460   \n",
       "75%    4.805882e+05  3.317892e+07   114811.000000      1.587431      1.626035   \n",
       "max    8.991263e+06  1.213819e+08   226532.000000    162.008866     97.639648   \n",
       "\n",
       "       ALFA_2021_10  ALFA_2021_11  ALFA_2021_12   BETA_2021_08   BETA_2021_09  \\\n",
       "count  98825.000000  98825.000000  98825.000000  100734.000000  100734.000000   \n",
       "mean       1.240299      1.300869      1.316990       1.286825       1.360907   \n",
       "std        2.145773      2.313055      2.086119       1.427333       1.726587   \n",
       "min        0.000000      0.000000      0.000000       0.000000       0.000000   \n",
       "25%        0.354855      0.292346      0.304821       0.908537       0.966170   \n",
       "50%        0.944443      0.944745      0.987066       1.176994       1.239040   \n",
       "75%        1.670830      1.776398      1.790163       1.500455       1.542031   \n",
       "max       90.835938    107.352539    141.686617      65.558824      73.000000   \n",
       "\n",
       "        BETA_2021_10   BETA_2021_11   BETA_2021_12  MEGA_2021_08  \\\n",
       "count  100734.000000  100734.000000  100734.000000  99386.000000   \n",
       "mean        1.371223       1.300284       1.311124      0.829963   \n",
       "std         2.108555       1.564572       1.578704      0.642150   \n",
       "min         0.000000       0.000000       0.000000      0.000000   \n",
       "25%         0.944452       0.899936       0.888829      0.321064   \n",
       "50%         1.220699       1.186813       1.166451      0.767859   \n",
       "75%         1.546391       1.508228       1.502722      1.213976   \n",
       "max       107.000000      64.000000      65.102740      8.260896   \n",
       "\n",
       "       MEGA_2021_09  MEGA_2021_10  MEGA_2021_11  MEGA_2021_12  \n",
       "count  99386.000000  99386.000000  99386.000000  99386.000000  \n",
       "mean       0.812281      0.835493      0.871832      0.896751  \n",
       "std        0.679239      0.634748      0.690236      0.697377  \n",
       "min        0.000000      0.000000      0.000000      0.000000  \n",
       "25%        0.331884      0.328146      0.282251      0.292945  \n",
       "50%        0.760440      0.778424      0.797426      0.832342  \n",
       "75%        1.201116      1.241533      1.329966      1.365112  \n",
       "max       34.352322      6.036372      8.893164      6.226692  "
      ]
     },
     "execution_count": 139,
     "metadata": {},
     "output_type": "execute_result"
    }
   ],
   "source": [
    "Ul_W3.describe()"
   ]
  },
  {
   "cell_type": "code",
   "execution_count": null,
   "id": "77fbb366-5445-49fa-b2c3-fa4fb3ba3c68",
   "metadata": {},
   "outputs": [],
   "source": [
    "# para alfa\n",
    "PromedioTrimALFA = 1.5 # 0.018\n",
    "\n",
    "Ul_W3.loc[(Ul_W3['ALFA_2021_08']>PromedioTrimALFA),'flgAvgTrimALFA_2021_08'] = 1\n",
    "Ul_W3.loc[(Ul_W3['ALFA_2021_09']>PromedioTrimALFA),'flgAvgTrimALFA_2021_09'] = 1\n",
    "Ul_W3.loc[(Ul_W3['ALFA_2021_10']>PromedioTrimALFA),'flgAvgTrimALFA_2021_10'] = 1\n",
    "Ul_W3.fillna(0,inplace=True)\n",
    "# para beta\n",
    "PromedioTrimBETA = 1.7 # 0.018\n",
    "Ul_W3.loc[(Ul_W3['BETA_2021_08']>PromedioTrimBETA),'flgAvgTrimBETA_2021_08'] = 1\n",
    "Ul_W3.loc[(Ul_W3['BETA_2021_09']>PromedioTrimBETA),'flgAvgTrimBETA_2021_09'] = 1\n",
    "Ul_W3.loc[(Ul_W3['BETA_2021_10']>PromedioTrimBETA),'flgAvgTrimBETA_2021_10'] = 1\n",
    "Ul_W3.fillna(0,inplace=True)\n",
    "# para mega\n",
    "PromedioTrimMEGA = 0.9 # 0.018\n",
    "Ul_W3.loc[(Ul_W3['MEGA_2021_08']>PromedioTrimMEGA),'flgAvgTrimMEGA_2021_08'] = 1\n",
    "Ul_W3.loc[(Ul_W3['MEGA_2021_09']>PromedioTrimMEGA),'flgAvgTrimMEGA_2021_09'] = 1\n",
    "Ul_W3.loc[(Ul_W3['MEGA_2021_10']>PromedioTrimMEGA),'flgAvgTrimMEGA_2021_10'] = 1\n",
    "Ul_W3.fillna(0,inplace=True)"
   ]
  },
  {
   "cell_type": "code",
   "execution_count": null,
   "id": "eb068909-743e-43e1-b533-03938db90a30",
   "metadata": {},
   "outputs": [
    {
     "data": {
      "text/html": [
       "<div>\n",
       "<style scoped>\n",
       "    .dataframe tbody tr th:only-of-type {\n",
       "        vertical-align: middle;\n",
       "    }\n",
       "\n",
       "    .dataframe tbody tr th {\n",
       "        vertical-align: top;\n",
       "    }\n",
       "\n",
       "    .dataframe thead th {\n",
       "        text-align: right;\n",
       "    }\n",
       "</style>\n",
       "<table border=\"1\" class=\"dataframe\">\n",
       "  <thead>\n",
       "    <tr style=\"text-align: right;\">\n",
       "      <th></th>\n",
       "      <th>NODO</th>\n",
       "      <th>RENTA</th>\n",
       "      <th>RENTA_ACT</th>\n",
       "      <th>PROM_RENTA_ACT</th>\n",
       "      <th>MODA_ESTRATO</th>\n",
       "      <th>ALFA_2021_08</th>\n",
       "      <th>ALFA_2021_09</th>\n",
       "      <th>ALFA_2021_10</th>\n",
       "      <th>ALFA_2021_11</th>\n",
       "      <th>ALFA_2021_12</th>\n",
       "      <th>BETA_2021_08</th>\n",
       "      <th>BETA_2021_09</th>\n",
       "      <th>BETA_2021_10</th>\n",
       "      <th>BETA_2021_11</th>\n",
       "      <th>BETA_2021_12</th>\n",
       "      <th>MEGA_2021_08</th>\n",
       "      <th>MEGA_2021_09</th>\n",
       "      <th>MEGA_2021_10</th>\n",
       "      <th>MEGA_2021_11</th>\n",
       "      <th>MEGA_2021_12</th>\n",
       "      <th>flgAvgTrimALFA_2021_08</th>\n",
       "      <th>flgAvgTrimALFA_2021_09</th>\n",
       "      <th>flgAvgTrimALFA_2021_10</th>\n",
       "      <th>flgAvgTrimBETA_2021_08</th>\n",
       "      <th>flgAvgTrimBETA_2021_09</th>\n",
       "      <th>flgAvgTrimBETA_2021_10</th>\n",
       "      <th>flgAvgTrimMEGA_2021_08</th>\n",
       "      <th>flgAvgTrimMEGA_2021_09</th>\n",
       "      <th>flgAvgTrimMEGA_2021_10</th>\n",
       "    </tr>\n",
       "  </thead>\n",
       "  <tbody>\n",
       "    <tr>\n",
       "      <th>0</th>\n",
       "      <td>01J</td>\n",
       "      <td>50301</td>\n",
       "      <td>2507252.0</td>\n",
       "      <td>109011.0</td>\n",
       "      <td>3</td>\n",
       "      <td>3.367969</td>\n",
       "      <td>0.299246</td>\n",
       "      <td>0.00000</td>\n",
       "      <td>0.000000</td>\n",
       "      <td>0.000000</td>\n",
       "      <td>2.271429</td>\n",
       "      <td>1.362227</td>\n",
       "      <td>0.000000</td>\n",
       "      <td>0.000000</td>\n",
       "      <td>0.000000</td>\n",
       "      <td>1.295373</td>\n",
       "      <td>0.224283</td>\n",
       "      <td>0.000000</td>\n",
       "      <td>0.00000</td>\n",
       "      <td>1.859166</td>\n",
       "      <td>1.0</td>\n",
       "      <td>0.0</td>\n",
       "      <td>0.0</td>\n",
       "      <td>1.0</td>\n",
       "      <td>0.0</td>\n",
       "      <td>0.0</td>\n",
       "      <td>1.0</td>\n",
       "      <td>0.0</td>\n",
       "      <td>0.0</td>\n",
       "    </tr>\n",
       "    <tr>\n",
       "      <th>1</th>\n",
       "      <td>01J</td>\n",
       "      <td>50301</td>\n",
       "      <td>2507252.0</td>\n",
       "      <td>109011.0</td>\n",
       "      <td>3</td>\n",
       "      <td>3.367969</td>\n",
       "      <td>0.299246</td>\n",
       "      <td>0.00000</td>\n",
       "      <td>0.000000</td>\n",
       "      <td>0.000000</td>\n",
       "      <td>2.271429</td>\n",
       "      <td>1.362227</td>\n",
       "      <td>0.000000</td>\n",
       "      <td>0.000000</td>\n",
       "      <td>0.000000</td>\n",
       "      <td>1.295373</td>\n",
       "      <td>0.224283</td>\n",
       "      <td>0.000000</td>\n",
       "      <td>0.00000</td>\n",
       "      <td>1.859166</td>\n",
       "      <td>1.0</td>\n",
       "      <td>0.0</td>\n",
       "      <td>0.0</td>\n",
       "      <td>1.0</td>\n",
       "      <td>0.0</td>\n",
       "      <td>0.0</td>\n",
       "      <td>1.0</td>\n",
       "      <td>0.0</td>\n",
       "      <td>0.0</td>\n",
       "    </tr>\n",
       "    <tr>\n",
       "      <th>2</th>\n",
       "      <td>01J</td>\n",
       "      <td>163800</td>\n",
       "      <td>2702401.0</td>\n",
       "      <td>112600.0</td>\n",
       "      <td>3</td>\n",
       "      <td>3.367969</td>\n",
       "      <td>0.299246</td>\n",
       "      <td>0.00000</td>\n",
       "      <td>0.000000</td>\n",
       "      <td>0.000000</td>\n",
       "      <td>2.271429</td>\n",
       "      <td>1.362227</td>\n",
       "      <td>0.000000</td>\n",
       "      <td>0.000000</td>\n",
       "      <td>0.000000</td>\n",
       "      <td>1.295373</td>\n",
       "      <td>0.224283</td>\n",
       "      <td>0.000000</td>\n",
       "      <td>0.00000</td>\n",
       "      <td>1.859166</td>\n",
       "      <td>1.0</td>\n",
       "      <td>0.0</td>\n",
       "      <td>0.0</td>\n",
       "      <td>1.0</td>\n",
       "      <td>0.0</td>\n",
       "      <td>0.0</td>\n",
       "      <td>1.0</td>\n",
       "      <td>0.0</td>\n",
       "      <td>0.0</td>\n",
       "    </tr>\n",
       "    <tr>\n",
       "      <th>3</th>\n",
       "      <td>01J</td>\n",
       "      <td>163800</td>\n",
       "      <td>2702401.0</td>\n",
       "      <td>112600.0</td>\n",
       "      <td>3</td>\n",
       "      <td>3.367969</td>\n",
       "      <td>0.299246</td>\n",
       "      <td>0.00000</td>\n",
       "      <td>0.000000</td>\n",
       "      <td>0.000000</td>\n",
       "      <td>2.271429</td>\n",
       "      <td>1.362227</td>\n",
       "      <td>0.000000</td>\n",
       "      <td>0.000000</td>\n",
       "      <td>0.000000</td>\n",
       "      <td>1.295373</td>\n",
       "      <td>0.224283</td>\n",
       "      <td>0.000000</td>\n",
       "      <td>0.00000</td>\n",
       "      <td>1.859166</td>\n",
       "      <td>1.0</td>\n",
       "      <td>0.0</td>\n",
       "      <td>0.0</td>\n",
       "      <td>1.0</td>\n",
       "      <td>0.0</td>\n",
       "      <td>0.0</td>\n",
       "      <td>1.0</td>\n",
       "      <td>0.0</td>\n",
       "      <td>0.0</td>\n",
       "    </tr>\n",
       "    <tr>\n",
       "      <th>4</th>\n",
       "      <td>01J</td>\n",
       "      <td>81517</td>\n",
       "      <td>2627094.0</td>\n",
       "      <td>105084.0</td>\n",
       "      <td>3</td>\n",
       "      <td>3.367969</td>\n",
       "      <td>0.299246</td>\n",
       "      <td>0.00000</td>\n",
       "      <td>0.000000</td>\n",
       "      <td>0.000000</td>\n",
       "      <td>2.271429</td>\n",
       "      <td>1.362227</td>\n",
       "      <td>0.000000</td>\n",
       "      <td>0.000000</td>\n",
       "      <td>0.000000</td>\n",
       "      <td>1.295373</td>\n",
       "      <td>0.224283</td>\n",
       "      <td>0.000000</td>\n",
       "      <td>0.00000</td>\n",
       "      <td>1.859166</td>\n",
       "      <td>1.0</td>\n",
       "      <td>0.0</td>\n",
       "      <td>0.0</td>\n",
       "      <td>1.0</td>\n",
       "      <td>0.0</td>\n",
       "      <td>0.0</td>\n",
       "      <td>1.0</td>\n",
       "      <td>0.0</td>\n",
       "      <td>0.0</td>\n",
       "    </tr>\n",
       "    <tr>\n",
       "      <th>...</th>\n",
       "      <td>...</td>\n",
       "      <td>...</td>\n",
       "      <td>...</td>\n",
       "      <td>...</td>\n",
       "      <td>...</td>\n",
       "      <td>...</td>\n",
       "      <td>...</td>\n",
       "      <td>...</td>\n",
       "      <td>...</td>\n",
       "      <td>...</td>\n",
       "      <td>...</td>\n",
       "      <td>...</td>\n",
       "      <td>...</td>\n",
       "      <td>...</td>\n",
       "      <td>...</td>\n",
       "      <td>...</td>\n",
       "      <td>...</td>\n",
       "      <td>...</td>\n",
       "      <td>...</td>\n",
       "      <td>...</td>\n",
       "      <td>...</td>\n",
       "      <td>...</td>\n",
       "      <td>...</td>\n",
       "      <td>...</td>\n",
       "      <td>...</td>\n",
       "      <td>...</td>\n",
       "      <td>...</td>\n",
       "      <td>...</td>\n",
       "      <td>...</td>\n",
       "    </tr>\n",
       "    <tr>\n",
       "      <th>105077</th>\n",
       "      <td>ZVZ</td>\n",
       "      <td>571547</td>\n",
       "      <td>49136627.0</td>\n",
       "      <td>110419.0</td>\n",
       "      <td>3</td>\n",
       "      <td>1.713209</td>\n",
       "      <td>1.837979</td>\n",
       "      <td>0.85407</td>\n",
       "      <td>1.586839</td>\n",
       "      <td>1.226907</td>\n",
       "      <td>1.224710</td>\n",
       "      <td>1.445795</td>\n",
       "      <td>0.951412</td>\n",
       "      <td>1.244056</td>\n",
       "      <td>0.993745</td>\n",
       "      <td>1.502485</td>\n",
       "      <td>1.316430</td>\n",
       "      <td>0.969955</td>\n",
       "      <td>1.38083</td>\n",
       "      <td>1.312804</td>\n",
       "      <td>1.0</td>\n",
       "      <td>1.0</td>\n",
       "      <td>0.0</td>\n",
       "      <td>0.0</td>\n",
       "      <td>0.0</td>\n",
       "      <td>0.0</td>\n",
       "      <td>1.0</td>\n",
       "      <td>1.0</td>\n",
       "      <td>1.0</td>\n",
       "    </tr>\n",
       "    <tr>\n",
       "      <th>105078</th>\n",
       "      <td>ZVZ</td>\n",
       "      <td>455530</td>\n",
       "      <td>48974972.0</td>\n",
       "      <td>109564.0</td>\n",
       "      <td>3</td>\n",
       "      <td>1.713209</td>\n",
       "      <td>1.837979</td>\n",
       "      <td>0.85407</td>\n",
       "      <td>1.586839</td>\n",
       "      <td>1.226907</td>\n",
       "      <td>1.224710</td>\n",
       "      <td>1.445795</td>\n",
       "      <td>0.951412</td>\n",
       "      <td>1.244056</td>\n",
       "      <td>0.993745</td>\n",
       "      <td>1.502485</td>\n",
       "      <td>1.316430</td>\n",
       "      <td>0.969955</td>\n",
       "      <td>1.38083</td>\n",
       "      <td>1.312804</td>\n",
       "      <td>1.0</td>\n",
       "      <td>1.0</td>\n",
       "      <td>0.0</td>\n",
       "      <td>0.0</td>\n",
       "      <td>0.0</td>\n",
       "      <td>0.0</td>\n",
       "      <td>1.0</td>\n",
       "      <td>1.0</td>\n",
       "      <td>1.0</td>\n",
       "    </tr>\n",
       "    <tr>\n",
       "      <th>105079</th>\n",
       "      <td>ZVZ</td>\n",
       "      <td>455530</td>\n",
       "      <td>48974972.0</td>\n",
       "      <td>109564.0</td>\n",
       "      <td>3</td>\n",
       "      <td>1.713209</td>\n",
       "      <td>1.837979</td>\n",
       "      <td>0.85407</td>\n",
       "      <td>1.586839</td>\n",
       "      <td>1.226907</td>\n",
       "      <td>1.224710</td>\n",
       "      <td>1.445795</td>\n",
       "      <td>0.951412</td>\n",
       "      <td>1.244056</td>\n",
       "      <td>0.993745</td>\n",
       "      <td>1.502485</td>\n",
       "      <td>1.316430</td>\n",
       "      <td>0.969955</td>\n",
       "      <td>1.38083</td>\n",
       "      <td>1.312804</td>\n",
       "      <td>1.0</td>\n",
       "      <td>1.0</td>\n",
       "      <td>0.0</td>\n",
       "      <td>0.0</td>\n",
       "      <td>0.0</td>\n",
       "      <td>0.0</td>\n",
       "      <td>1.0</td>\n",
       "      <td>1.0</td>\n",
       "      <td>1.0</td>\n",
       "    </tr>\n",
       "    <tr>\n",
       "      <th>105080</th>\n",
       "      <td>ZVZ</td>\n",
       "      <td>933242</td>\n",
       "      <td>49500451.0</td>\n",
       "      <td>109273.0</td>\n",
       "      <td>3</td>\n",
       "      <td>1.713209</td>\n",
       "      <td>1.837979</td>\n",
       "      <td>0.85407</td>\n",
       "      <td>1.586839</td>\n",
       "      <td>1.226907</td>\n",
       "      <td>1.224710</td>\n",
       "      <td>1.445795</td>\n",
       "      <td>0.951412</td>\n",
       "      <td>1.244056</td>\n",
       "      <td>0.993745</td>\n",
       "      <td>1.502485</td>\n",
       "      <td>1.316430</td>\n",
       "      <td>0.969955</td>\n",
       "      <td>1.38083</td>\n",
       "      <td>1.312804</td>\n",
       "      <td>1.0</td>\n",
       "      <td>1.0</td>\n",
       "      <td>0.0</td>\n",
       "      <td>0.0</td>\n",
       "      <td>0.0</td>\n",
       "      <td>0.0</td>\n",
       "      <td>1.0</td>\n",
       "      <td>1.0</td>\n",
       "      <td>1.0</td>\n",
       "    </tr>\n",
       "    <tr>\n",
       "      <th>105081</th>\n",
       "      <td>ZVZ</td>\n",
       "      <td>933242</td>\n",
       "      <td>49500451.0</td>\n",
       "      <td>109273.0</td>\n",
       "      <td>3</td>\n",
       "      <td>1.713209</td>\n",
       "      <td>1.837979</td>\n",
       "      <td>0.85407</td>\n",
       "      <td>1.586839</td>\n",
       "      <td>1.226907</td>\n",
       "      <td>1.224710</td>\n",
       "      <td>1.445795</td>\n",
       "      <td>0.951412</td>\n",
       "      <td>1.244056</td>\n",
       "      <td>0.993745</td>\n",
       "      <td>1.502485</td>\n",
       "      <td>1.316430</td>\n",
       "      <td>0.969955</td>\n",
       "      <td>1.38083</td>\n",
       "      <td>1.312804</td>\n",
       "      <td>1.0</td>\n",
       "      <td>1.0</td>\n",
       "      <td>0.0</td>\n",
       "      <td>0.0</td>\n",
       "      <td>0.0</td>\n",
       "      <td>0.0</td>\n",
       "      <td>1.0</td>\n",
       "      <td>1.0</td>\n",
       "      <td>1.0</td>\n",
       "    </tr>\n",
       "  </tbody>\n",
       "</table>\n",
       "<p>105082 rows × 29 columns</p>\n",
       "</div>"
      ],
      "text/plain": [
       "       NODO   RENTA   RENTA_ACT  PROM_RENTA_ACT MODA_ESTRATO  ALFA_2021_08  \\\n",
       "0       01J   50301   2507252.0        109011.0            3      3.367969   \n",
       "1       01J   50301   2507252.0        109011.0            3      3.367969   \n",
       "2       01J  163800   2702401.0        112600.0            3      3.367969   \n",
       "3       01J  163800   2702401.0        112600.0            3      3.367969   \n",
       "4       01J   81517   2627094.0        105084.0            3      3.367969   \n",
       "...     ...     ...         ...             ...          ...           ...   \n",
       "105077  ZVZ  571547  49136627.0        110419.0            3      1.713209   \n",
       "105078  ZVZ  455530  48974972.0        109564.0            3      1.713209   \n",
       "105079  ZVZ  455530  48974972.0        109564.0            3      1.713209   \n",
       "105080  ZVZ  933242  49500451.0        109273.0            3      1.713209   \n",
       "105081  ZVZ  933242  49500451.0        109273.0            3      1.713209   \n",
       "\n",
       "        ALFA_2021_09  ALFA_2021_10  ALFA_2021_11  ALFA_2021_12  BETA_2021_08  \\\n",
       "0           0.299246       0.00000      0.000000      0.000000      2.271429   \n",
       "1           0.299246       0.00000      0.000000      0.000000      2.271429   \n",
       "2           0.299246       0.00000      0.000000      0.000000      2.271429   \n",
       "3           0.299246       0.00000      0.000000      0.000000      2.271429   \n",
       "4           0.299246       0.00000      0.000000      0.000000      2.271429   \n",
       "...              ...           ...           ...           ...           ...   \n",
       "105077      1.837979       0.85407      1.586839      1.226907      1.224710   \n",
       "105078      1.837979       0.85407      1.586839      1.226907      1.224710   \n",
       "105079      1.837979       0.85407      1.586839      1.226907      1.224710   \n",
       "105080      1.837979       0.85407      1.586839      1.226907      1.224710   \n",
       "105081      1.837979       0.85407      1.586839      1.226907      1.224710   \n",
       "\n",
       "        BETA_2021_09  BETA_2021_10  BETA_2021_11  BETA_2021_12  MEGA_2021_08  \\\n",
       "0           1.362227      0.000000      0.000000      0.000000      1.295373   \n",
       "1           1.362227      0.000000      0.000000      0.000000      1.295373   \n",
       "2           1.362227      0.000000      0.000000      0.000000      1.295373   \n",
       "3           1.362227      0.000000      0.000000      0.000000      1.295373   \n",
       "4           1.362227      0.000000      0.000000      0.000000      1.295373   \n",
       "...              ...           ...           ...           ...           ...   \n",
       "105077      1.445795      0.951412      1.244056      0.993745      1.502485   \n",
       "105078      1.445795      0.951412      1.244056      0.993745      1.502485   \n",
       "105079      1.445795      0.951412      1.244056      0.993745      1.502485   \n",
       "105080      1.445795      0.951412      1.244056      0.993745      1.502485   \n",
       "105081      1.445795      0.951412      1.244056      0.993745      1.502485   \n",
       "\n",
       "        MEGA_2021_09  MEGA_2021_10  MEGA_2021_11  MEGA_2021_12  \\\n",
       "0           0.224283      0.000000       0.00000      1.859166   \n",
       "1           0.224283      0.000000       0.00000      1.859166   \n",
       "2           0.224283      0.000000       0.00000      1.859166   \n",
       "3           0.224283      0.000000       0.00000      1.859166   \n",
       "4           0.224283      0.000000       0.00000      1.859166   \n",
       "...              ...           ...           ...           ...   \n",
       "105077      1.316430      0.969955       1.38083      1.312804   \n",
       "105078      1.316430      0.969955       1.38083      1.312804   \n",
       "105079      1.316430      0.969955       1.38083      1.312804   \n",
       "105080      1.316430      0.969955       1.38083      1.312804   \n",
       "105081      1.316430      0.969955       1.38083      1.312804   \n",
       "\n",
       "        flgAvgTrimALFA_2021_08  flgAvgTrimALFA_2021_09  \\\n",
       "0                          1.0                     0.0   \n",
       "1                          1.0                     0.0   \n",
       "2                          1.0                     0.0   \n",
       "3                          1.0                     0.0   \n",
       "4                          1.0                     0.0   \n",
       "...                        ...                     ...   \n",
       "105077                     1.0                     1.0   \n",
       "105078                     1.0                     1.0   \n",
       "105079                     1.0                     1.0   \n",
       "105080                     1.0                     1.0   \n",
       "105081                     1.0                     1.0   \n",
       "\n",
       "        flgAvgTrimALFA_2021_10  flgAvgTrimBETA_2021_08  \\\n",
       "0                          0.0                     1.0   \n",
       "1                          0.0                     1.0   \n",
       "2                          0.0                     1.0   \n",
       "3                          0.0                     1.0   \n",
       "4                          0.0                     1.0   \n",
       "...                        ...                     ...   \n",
       "105077                     0.0                     0.0   \n",
       "105078                     0.0                     0.0   \n",
       "105079                     0.0                     0.0   \n",
       "105080                     0.0                     0.0   \n",
       "105081                     0.0                     0.0   \n",
       "\n",
       "        flgAvgTrimBETA_2021_09  flgAvgTrimBETA_2021_10  \\\n",
       "0                          0.0                     0.0   \n",
       "1                          0.0                     0.0   \n",
       "2                          0.0                     0.0   \n",
       "3                          0.0                     0.0   \n",
       "4                          0.0                     0.0   \n",
       "...                        ...                     ...   \n",
       "105077                     0.0                     0.0   \n",
       "105078                     0.0                     0.0   \n",
       "105079                     0.0                     0.0   \n",
       "105080                     0.0                     0.0   \n",
       "105081                     0.0                     0.0   \n",
       "\n",
       "        flgAvgTrimMEGA_2021_08  flgAvgTrimMEGA_2021_09  flgAvgTrimMEGA_2021_10  \n",
       "0                          1.0                     0.0                     0.0  \n",
       "1                          1.0                     0.0                     0.0  \n",
       "2                          1.0                     0.0                     0.0  \n",
       "3                          1.0                     0.0                     0.0  \n",
       "4                          1.0                     0.0                     0.0  \n",
       "...                        ...                     ...                     ...  \n",
       "105077                     1.0                     1.0                     1.0  \n",
       "105078                     1.0                     1.0                     1.0  \n",
       "105079                     1.0                     1.0                     1.0  \n",
       "105080                     1.0                     1.0                     1.0  \n",
       "105081                     1.0                     1.0                     1.0  \n",
       "\n",
       "[105082 rows x 29 columns]"
      ]
     },
     "execution_count": 141,
     "metadata": {},
     "output_type": "execute_result"
    }
   ],
   "source": [
    "Ul_W3"
   ]
  },
  {
   "cell_type": "code",
   "execution_count": null,
   "id": "522c7459-4031-4621-8a6f-f8558c541121",
   "metadata": {},
   "outputs": [],
   "source": [
    "# para alfa\n",
    "Ul_W3[\"Flag_AvgTrimALFA_2021\"] = Ul_W3.filter(like='flgAvgTrimALFA_2021').sum(axis=1)\n",
    "Ul_W3[\"Flag_AvgTrimALFA_total\"] = Ul_W3.filter(like='flgAvgTrimALFA_2021').sum(axis=1)/Ul_W3.filter(like='flgAvgTrimALFA_2021').count(axis=1)\n",
    "# para beta\n",
    "Ul_W3[\"Flag_AvgTrimBETA_2021\"] = Ul_W3.filter(like='flgAvgTrimBETA_2021').sum(axis=1)\n",
    "Ul_W3[\"Flag_AvgTrimBETA_total\"] = Ul_W3.filter(like='flgAvgTrimBETA_2021').sum(axis=1)/Ul_W3.filter(like='flgAvgTrimBETA_2021').count(axis=1)\n",
    "# para mega\n",
    "Ul_W3[\"Flag_AvgTrimMEGA_2021\"] = Ul_W3.filter(like='flgAvgTrimMEGA_2021').sum(axis=1)\n",
    "Ul_W3[\"Flag_AvgTrimMEGA_total\"] = Ul_W3.filter(like='flgAvgTrimMEGA_2021').sum(axis=1)/Ul_W3.filter(like='flgAvgTrimMEGA_2021').count(axis=1)\n",
    "\n",
    "# df_fija_pv[\"Flag_AvgNal_2021\"] = df_fija_pv.filter(like='flgAvgNalChurn_2021').sum(axis=1)\n",
    "# df_fija_pv[\"Flag_AvgNal_Tasa_2021\"] = df_fija_pv.filter(like='flgAvgNalChurn_2021').sum(axis=1)/df_fija_pv.filter(like='flgAvgNalChurn_2021').count(axis=1)"
   ]
  },
  {
   "cell_type": "code",
   "execution_count": null,
   "id": "fb73da9f-4e54-4891-8c66-1ebbcf068414",
   "metadata": {},
   "outputs": [],
   "source": [
    "Ul_W3['Seccion']=1"
   ]
  },
  {
   "cell_type": "code",
   "execution_count": null,
   "id": "c4bd4131-f07b-4d3a-a552-8a63be1efaae",
   "metadata": {},
   "outputs": [
    {
     "data": {
      "text/plain": [
       "(105082, 36)"
      ]
     },
     "execution_count": 144,
     "metadata": {},
     "output_type": "execute_result"
    }
   ],
   "source": [
    "Ul_W3.shape"
   ]
  },
  {
   "cell_type": "code",
   "execution_count": null,
   "id": "77157089-9c07-4dcc-b2dd-332f36088ee8",
   "metadata": {},
   "outputs": [],
   "source": [
    "# print(Ul_W3.groupby('Flag_AvgTrimALFA_2021_total').size())"
   ]
  },
  {
   "cell_type": "code",
   "execution_count": null,
   "id": "4b9ecdda-3f33-46fd-ac05-fc7f9409c58f",
   "metadata": {},
   "outputs": [
    {
     "data": {
      "text/plain": [
       "<Projected CRS: EPSG:3857>\n",
       "Name: WGS 84 / Pseudo-Mercator\n",
       "Axis Info [cartesian]:\n",
       "- X[east]: Easting (metre)\n",
       "- Y[north]: Northing (metre)\n",
       "Area of Use:\n",
       "- name: World - 85°S to 85°N\n",
       "- bounds: (-180.0, -85.06, 180.0, 85.06)\n",
       "Coordinate Operation:\n",
       "- name: Popular Visualisation Pseudo-Mercator\n",
       "- method: Popular Visualisation Pseudo Mercator\n",
       "Datum: World Geodetic System 1984\n",
       "- Ellipsoid: WGS 84\n",
       "- Prime Meridian: Greenwich"
      ]
     },
     "execution_count": 146,
     "metadata": {},
     "output_type": "execute_result"
    }
   ],
   "source": [
    "MSH.crs"
   ]
  },
  {
   "cell_type": "code",
   "execution_count": null,
   "id": "6b69835a-c1af-457a-b4de-318de4f8b032",
   "metadata": {},
   "outputs": [],
   "source": [
    "df_fijaABM = pd.merge(left = MSH, right = Ul_W3, how = 'left', left_on = 'NODO', right_on = 'NODO')"
   ]
  },
  {
   "cell_type": "code",
   "execution_count": null,
   "id": "28346bed-23c2-415a-b9e9-6c41a2ca119f",
   "metadata": {},
   "outputs": [],
   "source": [
    "df_fijaABM=df_fijaABM[df_fijaABM['Seccion']==1]"
   ]
  },
  {
   "cell_type": "code",
   "execution_count": null,
   "id": "05b0dd65-cba6-4526-ae32-48187050c79e",
   "metadata": {},
   "outputs": [
    {
     "data": {
      "text/plain": [
       "<Projected CRS: EPSG:3857>\n",
       "Name: WGS 84 / Pseudo-Mercator\n",
       "Axis Info [cartesian]:\n",
       "- X[east]: Easting (metre)\n",
       "- Y[north]: Northing (metre)\n",
       "Area of Use:\n",
       "- name: World - 85°S to 85°N\n",
       "- bounds: (-180.0, -85.06, 180.0, 85.06)\n",
       "Coordinate Operation:\n",
       "- name: Popular Visualisation Pseudo-Mercator\n",
       "- method: Popular Visualisation Pseudo Mercator\n",
       "Datum: World Geodetic System 1984\n",
       "- Ellipsoid: WGS 84\n",
       "- Prime Meridian: Greenwich"
      ]
     },
     "execution_count": 149,
     "metadata": {},
     "output_type": "execute_result"
    }
   ],
   "source": [
    "df_fijaABM.crs"
   ]
  },
  {
   "cell_type": "code",
   "execution_count": null,
   "id": "14a88554-e048-4001-bfdd-68e877581aa7",
   "metadata": {},
   "outputs": [
    {
     "ename": "MemoryError",
     "evalue": "Unable to allocate 4.15 GiB for an array with shape (556762812,) and data type float64",
     "output_type": "error",
     "traceback": [
      "\u001b[1;31m---------------------------------------------------------------------------\u001b[0m",
      "\u001b[1;31mMemoryError\u001b[0m                               Traceback (most recent call last)",
      "\u001b[1;32mC:\\Users\\WILSON~1\\AppData\\Local\\Temp/ipykernel_20876/2345223717.py\u001b[0m in \u001b[0;36m<module>\u001b[1;34m\u001b[0m\n\u001b[0;32m      2\u001b[0m \u001b[1;31m# threshold= 28522 es el de por defecto segun argis\u001b[0m\u001b[1;33m\u001b[0m\u001b[1;33m\u001b[0m\u001b[0m\n\u001b[0;32m      3\u001b[0m \u001b[0mcoords\u001b[0m \u001b[1;33m=\u001b[0m \u001b[0mpoints_to_coords\u001b[0m\u001b[1;33m(\u001b[0m\u001b[0mdf_fijaABM\u001b[0m\u001b[1;33m.\u001b[0m\u001b[0mgeometry\u001b[0m\u001b[1;33m.\u001b[0m\u001b[0mcentroid\u001b[0m\u001b[1;33m)\u001b[0m\u001b[1;33m\u001b[0m\u001b[1;33m\u001b[0m\u001b[0m\n\u001b[1;32m----> 4\u001b[1;33m \u001b[0mq_d\u001b[0m\u001b[1;33m=\u001b[0m\u001b[0mweights\u001b[0m\u001b[1;33m.\u001b[0m\u001b[0mDistanceBand\u001b[0m\u001b[1;33m(\u001b[0m\u001b[0mcoords\u001b[0m\u001b[1;33m,\u001b[0m \u001b[0mthreshold\u001b[0m\u001b[1;33m=\u001b[0m\u001b[1;36m6441\u001b[0m\u001b[1;33m,\u001b[0m \u001b[0mbinary\u001b[0m\u001b[1;33m=\u001b[0m\u001b[1;32mFalse\u001b[0m\u001b[1;33m)\u001b[0m\u001b[1;31m##Límite en grados 1/200 ~ 555 mt.\u001b[0m\u001b[1;33m\u001b[0m\u001b[1;33m\u001b[0m\u001b[0m\n\u001b[0m\u001b[0;32m      5\u001b[0m \u001b[0mq_d\u001b[0m\u001b[1;33m.\u001b[0m\u001b[0mtransform\u001b[0m\u001b[1;33m=\u001b[0m\u001b[1;34m'R'\u001b[0m\u001b[1;33m\u001b[0m\u001b[1;33m\u001b[0m\u001b[0m\n\u001b[0;32m      6\u001b[0m \u001b[0mTasaCompare_ALFA\u001b[0m \u001b[1;33m=\u001b[0m \u001b[0mdf_fijaABM\u001b[0m\u001b[1;33m[\u001b[0m\u001b[1;34m'Flag_AvgTrimALFA_total'\u001b[0m\u001b[1;33m]\u001b[0m\u001b[1;33m\u001b[0m\u001b[1;33m\u001b[0m\u001b[0m\n",
      "\u001b[1;32mC:\\ProgramData\\Anaconda3\\envs\\sqdm\\lib\\site-packages\\pysal\\lib\\weights\\distance.py\u001b[0m in \u001b[0;36m__init__\u001b[1;34m(self, data, threshold, p, alpha, binary, ids, build_sp, silence_warnings, distance_metric, radius)\u001b[0m\n\u001b[0;32m    779\u001b[0m                 \u001b[0mself\u001b[0m\u001b[1;33m.\u001b[0m\u001b[0mdata\u001b[0m \u001b[1;33m=\u001b[0m \u001b[0mdata\u001b[0m\u001b[1;33m\u001b[0m\u001b[1;33m\u001b[0m\u001b[0m\n\u001b[0;32m    780\u001b[0m                 \u001b[0mself\u001b[0m\u001b[1;33m.\u001b[0m\u001b[0mkdtree\u001b[0m \u001b[1;33m=\u001b[0m \u001b[1;32mNone\u001b[0m\u001b[1;33m\u001b[0m\u001b[1;33m\u001b[0m\u001b[0m\n\u001b[1;32m--> 781\u001b[1;33m         \u001b[0mself\u001b[0m\u001b[1;33m.\u001b[0m\u001b[0m_band\u001b[0m\u001b[1;33m(\u001b[0m\u001b[1;33m)\u001b[0m\u001b[1;33m\u001b[0m\u001b[1;33m\u001b[0m\u001b[0m\n\u001b[0m\u001b[0;32m    782\u001b[0m         \u001b[0mneighbors\u001b[0m\u001b[1;33m,\u001b[0m \u001b[0mweights\u001b[0m \u001b[1;33m=\u001b[0m \u001b[0mself\u001b[0m\u001b[1;33m.\u001b[0m\u001b[0m_distance_to_W\u001b[0m\u001b[1;33m(\u001b[0m\u001b[0mids\u001b[0m\u001b[1;33m)\u001b[0m\u001b[1;33m\u001b[0m\u001b[1;33m\u001b[0m\u001b[0m\n\u001b[0;32m    783\u001b[0m         \u001b[0mW\u001b[0m\u001b[1;33m.\u001b[0m\u001b[0m__init__\u001b[0m\u001b[1;33m(\u001b[0m\u001b[0mself\u001b[0m\u001b[1;33m,\u001b[0m \u001b[0mneighbors\u001b[0m\u001b[1;33m,\u001b[0m \u001b[0mweights\u001b[0m\u001b[1;33m,\u001b[0m \u001b[0mids\u001b[0m\u001b[1;33m,\u001b[0m \u001b[0msilence_warnings\u001b[0m\u001b[1;33m=\u001b[0m\u001b[0mself\u001b[0m\u001b[1;33m.\u001b[0m\u001b[0msilence_warnings\u001b[0m\u001b[1;33m)\u001b[0m\u001b[1;33m\u001b[0m\u001b[1;33m\u001b[0m\u001b[0m\n",
      "\u001b[1;32mC:\\ProgramData\\Anaconda3\\envs\\sqdm\\lib\\site-packages\\pysal\\lib\\weights\\distance.py\u001b[0m in \u001b[0;36m_band\u001b[1;34m(self)\u001b[0m\n\u001b[0;32m    846\u001b[0m         \"\"\"\n\u001b[0;32m    847\u001b[0m         \u001b[1;32mif\u001b[0m \u001b[0mself\u001b[0m\u001b[1;33m.\u001b[0m\u001b[0mbuild_sp\u001b[0m\u001b[1;33m:\u001b[0m\u001b[1;33m\u001b[0m\u001b[1;33m\u001b[0m\u001b[0m\n\u001b[1;32m--> 848\u001b[1;33m             self.dmat = self.kdtree.sparse_distance_matrix(\n\u001b[0m\u001b[0;32m    849\u001b[0m                     self.kdtree, max_distance=self.threshold, p=self.p).tocsr()\n\u001b[0;32m    850\u001b[0m         \u001b[1;32melse\u001b[0m\u001b[1;33m:\u001b[0m\u001b[1;33m\u001b[0m\u001b[1;33m\u001b[0m\u001b[0m\n",
      "\u001b[1;32mC:\\ProgramData\\Anaconda3\\envs\\sqdm\\lib\\site-packages\\scipy\\spatial\\kdtree.py\u001b[0m in \u001b[0;36msparse_distance_matrix\u001b[1;34m(self, other, max_distance, p, output_type)\u001b[0m\n\u001b[0;32m    860\u001b[0m \u001b[1;33m\u001b[0m\u001b[0m\n\u001b[0;32m    861\u001b[0m         \"\"\"\n\u001b[1;32m--> 862\u001b[1;33m         return super().sparse_distance_matrix(\n\u001b[0m\u001b[0;32m    863\u001b[0m             other, max_distance, p, output_type)\n\u001b[0;32m    864\u001b[0m \u001b[1;33m\u001b[0m\u001b[0m\n",
      "\u001b[1;32mckdtree.pyx\u001b[0m in \u001b[0;36mscipy.spatial.ckdtree.cKDTree.sparse_distance_matrix\u001b[1;34m()\u001b[0m\n",
      "\u001b[1;32mckdtree.pyx\u001b[0m in \u001b[0;36mscipy.spatial.ckdtree.coo_entries.dok_matrix\u001b[1;34m()\u001b[0m\n",
      "\u001b[1;32mC:\\ProgramData\\Anaconda3\\envs\\sqdm\\lib\\site-packages\\scipy\\sparse\\coo.py\u001b[0m in \u001b[0;36mtodok\u001b[1;34m(self, copy)\u001b[0m\n\u001b[0;32m    446\u001b[0m         \u001b[1;32mfrom\u001b[0m \u001b[1;33m.\u001b[0m\u001b[0mdok\u001b[0m \u001b[1;32mimport\u001b[0m \u001b[0mdok_matrix\u001b[0m\u001b[1;33m\u001b[0m\u001b[1;33m\u001b[0m\u001b[0m\n\u001b[0;32m    447\u001b[0m \u001b[1;33m\u001b[0m\u001b[0m\n\u001b[1;32m--> 448\u001b[1;33m         \u001b[0mself\u001b[0m\u001b[1;33m.\u001b[0m\u001b[0msum_duplicates\u001b[0m\u001b[1;33m(\u001b[0m\u001b[1;33m)\u001b[0m\u001b[1;33m\u001b[0m\u001b[1;33m\u001b[0m\u001b[0m\n\u001b[0m\u001b[0;32m    449\u001b[0m         \u001b[0mdok\u001b[0m \u001b[1;33m=\u001b[0m \u001b[0mdok_matrix\u001b[0m\u001b[1;33m(\u001b[0m\u001b[1;33m(\u001b[0m\u001b[0mself\u001b[0m\u001b[1;33m.\u001b[0m\u001b[0mshape\u001b[0m\u001b[1;33m)\u001b[0m\u001b[1;33m,\u001b[0m \u001b[0mdtype\u001b[0m\u001b[1;33m=\u001b[0m\u001b[0mself\u001b[0m\u001b[1;33m.\u001b[0m\u001b[0mdtype\u001b[0m\u001b[1;33m)\u001b[0m\u001b[1;33m\u001b[0m\u001b[1;33m\u001b[0m\u001b[0m\n\u001b[0;32m    450\u001b[0m         \u001b[0mdok\u001b[0m\u001b[1;33m.\u001b[0m\u001b[0m_update\u001b[0m\u001b[1;33m(\u001b[0m\u001b[0mzip\u001b[0m\u001b[1;33m(\u001b[0m\u001b[0mzip\u001b[0m\u001b[1;33m(\u001b[0m\u001b[0mself\u001b[0m\u001b[1;33m.\u001b[0m\u001b[0mrow\u001b[0m\u001b[1;33m,\u001b[0m\u001b[0mself\u001b[0m\u001b[1;33m.\u001b[0m\u001b[0mcol\u001b[0m\u001b[1;33m)\u001b[0m\u001b[1;33m,\u001b[0m\u001b[0mself\u001b[0m\u001b[1;33m.\u001b[0m\u001b[0mdata\u001b[0m\u001b[1;33m)\u001b[0m\u001b[1;33m)\u001b[0m\u001b[1;33m\u001b[0m\u001b[1;33m\u001b[0m\u001b[0m\n",
      "\u001b[1;32mC:\\ProgramData\\Anaconda3\\envs\\sqdm\\lib\\site-packages\\scipy\\sparse\\coo.py\u001b[0m in \u001b[0;36msum_duplicates\u001b[1;34m(self)\u001b[0m\n\u001b[0;32m    531\u001b[0m         \u001b[1;32mif\u001b[0m \u001b[0mself\u001b[0m\u001b[1;33m.\u001b[0m\u001b[0mhas_canonical_format\u001b[0m\u001b[1;33m:\u001b[0m\u001b[1;33m\u001b[0m\u001b[1;33m\u001b[0m\u001b[0m\n\u001b[0;32m    532\u001b[0m             \u001b[1;32mreturn\u001b[0m\u001b[1;33m\u001b[0m\u001b[1;33m\u001b[0m\u001b[0m\n\u001b[1;32m--> 533\u001b[1;33m         \u001b[0msummed\u001b[0m \u001b[1;33m=\u001b[0m \u001b[0mself\u001b[0m\u001b[1;33m.\u001b[0m\u001b[0m_sum_duplicates\u001b[0m\u001b[1;33m(\u001b[0m\u001b[0mself\u001b[0m\u001b[1;33m.\u001b[0m\u001b[0mrow\u001b[0m\u001b[1;33m,\u001b[0m \u001b[0mself\u001b[0m\u001b[1;33m.\u001b[0m\u001b[0mcol\u001b[0m\u001b[1;33m,\u001b[0m \u001b[0mself\u001b[0m\u001b[1;33m.\u001b[0m\u001b[0mdata\u001b[0m\u001b[1;33m)\u001b[0m\u001b[1;33m\u001b[0m\u001b[1;33m\u001b[0m\u001b[0m\n\u001b[0m\u001b[0;32m    534\u001b[0m         \u001b[0mself\u001b[0m\u001b[1;33m.\u001b[0m\u001b[0mrow\u001b[0m\u001b[1;33m,\u001b[0m \u001b[0mself\u001b[0m\u001b[1;33m.\u001b[0m\u001b[0mcol\u001b[0m\u001b[1;33m,\u001b[0m \u001b[0mself\u001b[0m\u001b[1;33m.\u001b[0m\u001b[0mdata\u001b[0m \u001b[1;33m=\u001b[0m \u001b[0msummed\u001b[0m\u001b[1;33m\u001b[0m\u001b[1;33m\u001b[0m\u001b[0m\n\u001b[0;32m    535\u001b[0m         \u001b[0mself\u001b[0m\u001b[1;33m.\u001b[0m\u001b[0mhas_canonical_format\u001b[0m \u001b[1;33m=\u001b[0m \u001b[1;32mTrue\u001b[0m\u001b[1;33m\u001b[0m\u001b[1;33m\u001b[0m\u001b[0m\n",
      "\u001b[1;32mC:\\ProgramData\\Anaconda3\\envs\\sqdm\\lib\\site-packages\\scipy\\sparse\\coo.py\u001b[0m in \u001b[0;36m_sum_duplicates\u001b[1;34m(self, row, col, data)\u001b[0m\n\u001b[0;32m    549\u001b[0m         \u001b[0mcol\u001b[0m \u001b[1;33m=\u001b[0m \u001b[0mcol\u001b[0m\u001b[1;33m[\u001b[0m\u001b[0munique_mask\u001b[0m\u001b[1;33m]\u001b[0m\u001b[1;33m\u001b[0m\u001b[1;33m\u001b[0m\u001b[0m\n\u001b[0;32m    550\u001b[0m         \u001b[0munique_inds\u001b[0m\u001b[1;33m,\u001b[0m \u001b[1;33m=\u001b[0m \u001b[0mnp\u001b[0m\u001b[1;33m.\u001b[0m\u001b[0mnonzero\u001b[0m\u001b[1;33m(\u001b[0m\u001b[0munique_mask\u001b[0m\u001b[1;33m)\u001b[0m\u001b[1;33m\u001b[0m\u001b[1;33m\u001b[0m\u001b[0m\n\u001b[1;32m--> 551\u001b[1;33m         \u001b[0mdata\u001b[0m \u001b[1;33m=\u001b[0m \u001b[0mnp\u001b[0m\u001b[1;33m.\u001b[0m\u001b[0madd\u001b[0m\u001b[1;33m.\u001b[0m\u001b[0mreduceat\u001b[0m\u001b[1;33m(\u001b[0m\u001b[0mdata\u001b[0m\u001b[1;33m,\u001b[0m \u001b[0munique_inds\u001b[0m\u001b[1;33m,\u001b[0m \u001b[0mdtype\u001b[0m\u001b[1;33m=\u001b[0m\u001b[0mself\u001b[0m\u001b[1;33m.\u001b[0m\u001b[0mdtype\u001b[0m\u001b[1;33m)\u001b[0m\u001b[1;33m\u001b[0m\u001b[1;33m\u001b[0m\u001b[0m\n\u001b[0m\u001b[0;32m    552\u001b[0m         \u001b[1;32mreturn\u001b[0m \u001b[0mrow\u001b[0m\u001b[1;33m,\u001b[0m \u001b[0mcol\u001b[0m\u001b[1;33m,\u001b[0m \u001b[0mdata\u001b[0m\u001b[1;33m\u001b[0m\u001b[1;33m\u001b[0m\u001b[0m\n\u001b[0;32m    553\u001b[0m \u001b[1;33m\u001b[0m\u001b[0m\n",
      "\u001b[1;31mMemoryError\u001b[0m: Unable to allocate 4.15 GiB for an array with shape (556762812,) and data type float64"
     ]
    }
   ],
   "source": [
    "#NodosChurnActivosFija_pv_geo.reset_index(inplace=True)\n",
    "# threshold= 28522 es el de por defecto segun argis\n",
    "coords = points_to_coords(df_fijaABM.geometry.centroid)\n",
    "q_d=weights.DistanceBand(coords, threshold=6441, binary=False)##Límite en grados 1/200 ~ 555 mt.\n",
    "q_d.transform='R'\n",
    "TasaCompare_ALFA = df_fijaABM['Flag_AvgTrimALFA_total']\n",
    "df_fijaABM['w_Flag_AvgTri_ALFA']=weights.spatial_lag.lag_spatial(q_d, TasaCompare_ALFA)\n",
    "\n",
    "TasaCompare_BETA = df_fijaABM['Flag_AvgTrimBETA_total']\n",
    "df_fijaABM['w_Flag_AvgTri_BETA']=weights.spatial_lag.lag_spatial(q_d, TasaCompare_BETA)\n",
    "\n",
    "TasaCompare_MEGA = df_fijaABM['Flag_AvgTrimMEGA_total']\n",
    "df_fijaABM['w_Flag_AvgTri_MEGA']=weights.spatial_lag.lag_spatial(q_d, TasaCompare_MEGA)"
   ]
  },
  {
   "cell_type": "code",
   "execution_count": null,
   "id": "94970638-5b46-4518-b7b3-33db7c34bb31",
   "metadata": {},
   "outputs": [],
   "source": [
    "df_fijaABM['Flag_AvgTrimALFA_total_std'] = ( TasaCompare_ALFA - TasaCompare_ALFA.mean() )/ TasaCompare_ALFA.std()\n",
    "df_fijaABM['w_Flag_AvgTri_ALFA_std'] = ( df_fijaABM['w_Flag_AvgTri_ALFA'] - TasaCompare_ALFA.mean() )/ TasaCompare_ALFA.std()\n",
    "\n",
    "df_fijaABM['Flag_AvgTrimBETA_total_std'] = ( TasaCompare_BETA - TasaCompare_BETA.mean() )/ TasaCompare_BETA.std()\n",
    "df_fijaABM['w_Flag_AvgTri_BETA_std'] = ( df_fijaABM['w_Flag_AvgTri_BETA'] - TasaCompare_BETA.mean() )/ TasaCompare_BETA.std()\n",
    "\n",
    "df_fijaABM['Flag_AvgTrimMEGA_total_std'] = ( TasaCompare_MEGA - TasaCompare_MEGA.mean() )/ TasaCompare_MEGA.std()\n",
    "df_fijaABM['w_Flag_AvgTri_MEGA_std'] = ( df_fijaABM['w_Flag_AvgTri_MEGA'] - TasaCompare_MEGA.mean() )/ TasaCompare_MEGA.std()"
   ]
  },
  {
   "cell_type": "code",
   "execution_count": null,
   "id": "aa012c5d-260d-4194-8568-c2deb5983111",
   "metadata": {},
   "outputs": [],
   "source": [
    "# fig, (ax, ax1) = plt.subplots(1,figsize=(6,7))\n",
    "f, ax = plt.subplots(1, figsize=(6, 6))\n",
    "\n",
    "sns.regplot(x='Flag_AvgTrimALFA_total_std', y='w_Flag_AvgTri_ALFA_std', \n",
    "                ci=None, data=df_fijaABM, line_kws={'color':'r'})\n",
    "ax.axvline(0, c='k', alpha=0.5)\n",
    "ax.axhline(0, c='k', alpha=0.5)\n",
    "ax.set_title('Moran Plot -ALFA - % Leave')\n",
    "plt.show()\n",
    "\n",
    "f, ax1 = plt.subplots(1, figsize=(6, 6))\n",
    "\n",
    "sns.regplot(x='Flag_AvgTrimBETA_total_std', y='w_Flag_AvgTri_BETA_std', \n",
    "                ci=None, data=df_fijaABM, line_kws={'color':'r'})\n",
    "ax1.axvline(0, c='k', alpha=0.5)\n",
    "ax1.axhline(0, c='k', alpha=0.5)\n",
    "ax1.set_title('Moran Plot- BETA - % Leave')\n",
    "plt.show()\n",
    "\n",
    "f, ax1 = plt.subplots(1, figsize=(6, 6))\n",
    "\n",
    "sns.regplot(x='Flag_AvgTrimMEGA_total_std', y='w_Flag_AvgTri_MEGA_std', \n",
    "                ci=None, data=df_fijaABM, line_kws={'color':'r'})\n",
    "ax1.axvline(0, c='k', alpha=0.5)\n",
    "ax1.axhline(0, c='k', alpha=0.5)\n",
    "ax1.set_title('Moran Plot-MEGA - % Leave')\n",
    "plt.show()"
   ]
  },
  {
   "cell_type": "code",
   "execution_count": null,
   "id": "8c569c13-e92d-4ecf-aa00-c13401079e4e",
   "metadata": {},
   "outputs": [],
   "source": [
    "lisa_cuenta = esda.moran.Moran_Local(df_fijaABM['w_Flag_AvgTri_BETA'], q_d)\n",
    "q_labels = ['Q1', 'Q2', 'Q3', 'Q4']\n",
    "labels_cuenta = [q_labels[i-1] for i in lisa_cuenta.q]\n",
    "\n",
    "df_fijaABM['cl_Flag_AvgTrimBETA']=labels_cuenta\n",
    "df_fijaABM['cl_Flag_AvgTrimBETA']=df_fijaABM['cl_Flag_AvgTrimBETA'].apply(lambda x: 'A-A' if x=='Q1' else ('B-A' if x=='Q2' else ('B-B' if x=='Q3' else 'A-B')) )\n"
   ]
  },
  {
   "cell_type": "code",
   "execution_count": null,
   "id": "a71a940d-d459-4181-9f77-ecbacc7a3d99",
   "metadata": {},
   "outputs": [],
   "source": [
    "lisa_cuenta = esda.moran.Moran_Local(df_fijaABM['w_Flag_AvgTri_ALFA'], q_d)\n",
    "q_labels = ['Q1', 'Q2', 'Q3', 'Q4']\n",
    "labels_cuenta = [q_labels[i-1] for i in lisa_cuenta.q]\n",
    "\n",
    "df_fijaABM['cl_Flag_AvgTrimALFA']=labels_cuenta\n",
    "df_fijaABM['cl_Flag_AvgTrimALFA']=df_fijaABM['cl_Flag_AvgTrimALFA'].apply(lambda x: 'A-A' if x=='Q1' else ('B-A' if x=='Q2' else ('B-B' if x=='Q3' else 'A-B')) )"
   ]
  },
  {
   "cell_type": "code",
   "execution_count": null,
   "id": "895aade6-c97a-4d20-8a4e-9887623cdfec",
   "metadata": {},
   "outputs": [],
   "source": [
    "lisa_cuenta = esda.moran.Moran_Local(df_fijaABM['w_Flag_AvgTri_MEGA'], q_d)\n",
    "q_labels = ['Q1', 'Q2', 'Q3', 'Q4']\n",
    "labels_cuenta = [q_labels[i-1] for i in lisa_cuenta.q]\n",
    "\n",
    "df_fijaABM['cl_Flag_AvgTrimMEGA']=labels_cuenta\n",
    "df_fijaABM['cl_Flag_AvgTrimMEGA']=df_fijaABM['cl_Flag_AvgTrimMEGA'].apply(lambda x: 'A-A' if x=='Q1' else ('B-A' if x=='Q2' else ('B-B' if x=='Q3' else 'A-B')) )"
   ]
  },
  {
   "cell_type": "code",
   "execution_count": null,
   "id": "6fed8ffd-f60b-4c73-a243-b67298158065",
   "metadata": {},
   "outputs": [],
   "source": [
    "df_fijaABM.head(5)"
   ]
  },
  {
   "cell_type": "code",
   "execution_count": null,
   "id": "4c31ce42-755d-4911-9814-efdf1fcfcd49",
   "metadata": {},
   "outputs": [],
   "source": [
    "df_fijaABM.shape"
   ]
  },
  {
   "cell_type": "code",
   "execution_count": null,
   "id": "50877d44-4309-498c-b96e-4012a330cb4f",
   "metadata": {},
   "outputs": [],
   "source": [
    "print(df_fijaABM.groupby('cl_Flag_AvgTrimALFA').size())\n",
    "print('='*64)\n",
    "print(df_fijaABM.groupby('cl_Flag_AvgTrimBETA').size())\n",
    "print('='*64)\n",
    "print(df_fijaABM.groupby('cl_Flag_AvgTrimMEGA').size())"
   ]
  },
  {
   "cell_type": "code",
   "execution_count": null,
   "id": "5db19c15-8599-4367-9b3a-92b666553298",
   "metadata": {},
   "outputs": [],
   "source": [
    "df_fijaABM.to_file(os.path.join(result_dir, 'Fija\\\\Resultados\\\\df_fijaABM.geojson'), driver = 'GeoJSON')"
   ]
  },
  {
   "cell_type": "code",
   "execution_count": null,
   "id": "6c8e4762-8b81-4178-ba66-c765937df9f8",
   "metadata": {},
   "outputs": [],
   "source": [
    "# MGN_DANE_SECT_CobFTTH.to_file('MGN_DANE/MGN_DANE_SECT_CobFTTH.shp')\n",
    "df_fijaABM.to_file(os.path.join(result_dir, 'Fija\\\\Resultados\\\\df_fijaABM.shp'), driver = 'GeoJSON')"
   ]
  },
  {
   "cell_type": "markdown",
   "id": "1f9422fb-48d6-41a1-8731-b4c7d6b76eee",
   "metadata": {},
   "source": [
    "# Analisis de Rentas. CR"
   ]
  },
  {
   "cell_type": "code",
   "execution_count": null,
   "id": "afa519dc-3757-4031-a1b5-78a343cded38",
   "metadata": {},
   "outputs": [],
   "source": [
    "## se desea analizar que nodos tienen mas perdida de dinero y cuanto dinero estamos perdiendo y que nodos  son los que mas nos generan rentavilidad para estar protegiendolos. y que nodos tienen mayor cantidad de usuarios."
   ]
  },
  {
   "cell_type": "code",
   "execution_count": null,
   "id": "1d0ebd79-f1be-4b29-99ff-02490ce23210",
   "metadata": {},
   "outputs": [],
   "source": [
    "df_fija_CM.shape"
   ]
  },
  {
   "cell_type": "code",
   "execution_count": null,
   "id": "bbb8d61f-65a5-4837-915a-4f6db7379542",
   "metadata": {},
   "outputs": [],
   "source": [
    "# df_fija_CM=df_fija1.copy()\n",
    "df_fija_CM1=df_fija_CM.drop(['FechaVal_AñoMes','ESTRATO'], axis=1)\n",
    "df_fija_CM1['Porcentaje_Perdida']=(df_fija_CM['RENTA']/((df_fija_CM['RENTA']+df_fija_CM['RENTA_ACT']))*100)"
   ]
  },
  {
   "cell_type": "code",
   "execution_count": null,
   "id": "4af0be32-3eab-45fe-9843-f720d145e82c",
   "metadata": {},
   "outputs": [],
   "source": [
    "# TasaChurn*RENTA_ACT=si\n",
    "df_fija_CM1['CR']=df_fija_CM1['TasaChurn']*df_fija_CM1['RENTA_ACT']"
   ]
  },
  {
   "cell_type": "code",
   "execution_count": null,
   "id": "a98eed79-86d3-4c2e-91a3-0e3abf8ba19c",
   "metadata": {},
   "outputs": [],
   "source": [
    "df_fija_CM1.shape"
   ]
  },
  {
   "cell_type": "code",
   "execution_count": null,
   "id": "d5cdbaa9-5a18-4726-bf8f-eeef402c8763",
   "metadata": {},
   "outputs": [],
   "source": [
    "df_fija_CM1.describe([.01,.1,.2,.25,.3,.4,.5,.6,.7,.75,.8,.9,.99])"
   ]
  },
  {
   "cell_type": "code",
   "execution_count": null,
   "id": "9e1546de-d192-4ce2-b52d-1490442a2884",
   "metadata": {},
   "outputs": [],
   "source": [
    "df_fija_CM1[df_fija_CM1['CR']>3.577947e+05]"
   ]
  },
  {
   "cell_type": "code",
   "execution_count": null,
   "id": "986e58a9-da77-4bee-b76a-dc62009b9654",
   "metadata": {},
   "outputs": [],
   "source": [
    "by_renta = df_fija_CM1.sort_values('CR',ascending=False)\n",
    "by_renta.head(2)"
   ]
  },
  {
   "cell_type": "code",
   "execution_count": null,
   "id": "562e69f8-3cf4-494d-a85a-ca1114e97d0b",
   "metadata": {},
   "outputs": [],
   "source": [
    "# M_inueble=df_fija_CM1[\"MOTIVO_DESCONEXION\"].value_counts()[:30]\n",
    "# print(M_inueble)\n",
    "# M_inueble_IMPORTANTES=M_inueble[:20]\n",
    "# plt.figure(figsize=(5,9))\n",
    "# plt.title('Indicador estrato social')\n",
    "# plt.xlabel('Numero de inmuebles')\n",
    "# plt.ylabel('Estrato social')\n",
    "# M_inueble_IMPORTANTES.plot.barh()"
   ]
  },
  {
   "cell_type": "code",
   "execution_count": null,
   "id": "411b8984-1135-41a5-92f3-08d90b6f5aff",
   "metadata": {},
   "outputs": [],
   "source": [
    "df_fija_CM1['FechaVal_CR'] = df_fija_CM1['FECHA'].dt.strftime('CR_''%Y_%m')"
   ]
  },
  {
   "cell_type": "code",
   "execution_count": null,
   "id": "8e6f971a-5759-429c-9969-209fb1b3c30e",
   "metadata": {
    "tags": []
   },
   "outputs": [],
   "source": [
    "df_fija_CM1_pv = pd.pivot_table(df_fija_CM1, index = \"NODO\", columns=['FechaVal_CR'], values='CR')\n",
    "df_fija_CM1_pv.fillna(0,inplace=True)\n",
    "df_fija_CM1_pv = df_fija_CM1_pv.reset_index()\n",
    "# df_fija_pv.to_csv(os.path.join(result_dir,'Fija\\\\Resultados\\\\ChurnActivosFijaPivot.csv'), sep = ';')"
   ]
  },
  {
   "cell_type": "code",
   "execution_count": null,
   "id": "5b1fc1c1-41f5-4b30-b7b1-0a07f8c67e83",
   "metadata": {},
   "outputs": [],
   "source": [
    "df_fija_CM1_pv"
   ]
  },
  {
   "cell_type": "code",
   "execution_count": null,
   "id": "7c8d06ed-b601-4831-95c4-44f678dd2bc3",
   "metadata": {},
   "outputs": [],
   "source": [
    "#Banderas CR superior a promedio NAL\n",
    "PromedioNal = 3.577947e+05 # 0.018\n",
    "\n",
    "df_fija_CM1_pv.loc[(df_fija_CM1_pv['CR_2021_01']>PromedioNal),'flgAvgNalCR_2021_01'] = 1\n",
    "df_fija_CM1_pv.loc[(df_fija_CM1_pv['CR_2021_02']>PromedioNal),'flgAvgNalCR_2021_02'] = 1\n",
    "df_fija_CM1_pv.loc[(df_fija_CM1_pv['CR_2021_03']>PromedioNal),'flgAvgNalCR_2021_03'] = 1\n",
    "df_fija_CM1_pv.loc[(df_fija_CM1_pv['CR_2021_04']>PromedioNal),'flgAvgNalCR_2021_04'] = 1\n",
    "df_fija_CM1_pv.loc[(df_fija_CM1_pv['CR_2021_05']>PromedioNal),'flgAvgNalCR_2021_05'] = 1\n",
    "df_fija_CM1_pv.loc[(df_fija_CM1_pv['CR_2021_06']>PromedioNal),'flgAvgNalCR_2021_06'] = 1\n",
    "df_fija_CM1_pv.loc[(df_fija_CM1_pv['CR_2021_07']>PromedioNal),'flgAvgNalCR_2021_07'] = 1\n",
    "df_fija_CM1_pv.loc[(df_fija_CM1_pv['CR_2021_08']>PromedioNal),'flgAvgNalCR_2021_08'] = 1\n",
    "df_fija_CM1_pv.loc[(df_fija_CM1_pv['CR_2021_09']>PromedioNal),'flgAvgNalCR_2021_09'] = 1\n",
    "df_fija_CM1_pv.loc[(df_fija_CM1_pv['CR_2021_10']>PromedioNal),'flgAvgNalCR_2021_10'] = 1\n",
    "\n",
    "df_fija_CM1_pv.fillna(0,inplace=True)"
   ]
  },
  {
   "cell_type": "code",
   "execution_count": null,
   "id": "e8eb58ab-313b-4336-83e1-04e7d6caa757",
   "metadata": {},
   "outputs": [],
   "source": [
    "df_fija_CM1_pv"
   ]
  },
  {
   "cell_type": "code",
   "execution_count": null,
   "id": "eddea8e0-41f4-4710-917b-d69929488a4f",
   "metadata": {},
   "outputs": [],
   "source": [
    "#Calculo promedio por nodo superior a CR \n",
    "df_fija_CM1_pv[\"Flag_AvgCR_2021\"] = df_fija_CM1_pv.filter(like='flgAvgNalCR_2021').sum(axis=1)\n",
    "df_fija_CM1_pv[\"Flag_AvgNal_CR_2021\"] = df_fija_CM1_pv.filter(like='flgAvgNalCR_2021').sum(axis=1)/df_fija_CM1_pv.filter(like='flgAvgNalCR_2021').count(axis=1)"
   ]
  },
  {
   "cell_type": "code",
   "execution_count": null,
   "id": "bde4f967-b999-49cc-b875-d42018b8ff43",
   "metadata": {},
   "outputs": [],
   "source": [
    "df_fija_CM1_pv.sample(4)"
   ]
  },
  {
   "cell_type": "code",
   "execution_count": null,
   "id": "32a035c7-e343-491a-a012-b9e70e23f138",
   "metadata": {},
   "outputs": [],
   "source": [
    "df_fija_CM1_pv['Selecion_CR']=1"
   ]
  },
  {
   "cell_type": "code",
   "execution_count": null,
   "id": "fe10de54-30c5-4bee-8fa1-48e5ff349bb3",
   "metadata": {},
   "outputs": [],
   "source": [
    "df_fija_CM1_pv[\"Selecion_CR\"].value_counts()[:30]"
   ]
  },
  {
   "cell_type": "code",
   "execution_count": null,
   "id": "eb605987-9415-47d5-af97-6f75aa7d621a",
   "metadata": {},
   "outputs": [],
   "source": [
    "df_fija_CM1_pv.sample(5)"
   ]
  },
  {
   "cell_type": "markdown",
   "id": "79256746-e1ea-419b-8394-60b6fa9deb55",
   "metadata": {},
   "source": [
    "### Lisa"
   ]
  },
  {
   "cell_type": "code",
   "execution_count": null,
   "id": "2c0bb5d4-3d67-42f8-9200-ce1cf35b6480",
   "metadata": {},
   "outputs": [],
   "source": [
    "# MSH\n",
    "fija_CM2_pv = pd.merge(left = MSH, right = df_fija_CM1_pv, how = 'left', left_on = 'NODO', right_on = 'NODO')"
   ]
  },
  {
   "cell_type": "code",
   "execution_count": null,
   "id": "2c1a267f-532c-4041-829b-371443c913c3",
   "metadata": {},
   "outputs": [],
   "source": [
    "fija_CM2_pv.crs"
   ]
  },
  {
   "cell_type": "code",
   "execution_count": null,
   "id": "a08821d8-f0c7-40c3-a411-658317451540",
   "metadata": {},
   "outputs": [],
   "source": [
    "fija_CM3_pv=fija_CM2_pv[fija_CM2_pv['Selecion_CR']==1]"
   ]
  },
  {
   "cell_type": "code",
   "execution_count": null,
   "id": "d9a0d4c1-a731-4e98-9f87-c6d536b6cae7",
   "metadata": {},
   "outputs": [],
   "source": [
    "fija_CM3_pv.shape"
   ]
  },
  {
   "cell_type": "code",
   "execution_count": null,
   "id": "25f4deb4-4893-44cd-b493-4af18acbe79f",
   "metadata": {
    "tags": []
   },
   "outputs": [],
   "source": [
    "#NodosChurnActivosFija_pv_geo.reset_index(inplace=True)\n",
    "coords1 = points_to_coords(fija_CM3_pv.geometry.centroid)\n",
    "q_d=weights.DistanceBand(coords1, threshold=955, binary=False)##Límite en grados 1/200 ~ 555 mt.\n",
    "q_d.transform='R'\n",
    "TasaCompare1 = fija_CM3_pv['Flag_AvgNal_CR_2021']\n",
    "fija_CM3_pv['w_Flag_AvgNal_CR']=weights.spatial_lag.lag_spatial(q_d, TasaCompare1)"
   ]
  },
  {
   "cell_type": "code",
   "execution_count": null,
   "id": "8ba6bd75-f0a1-40a2-935b-3d00729cf7a5",
   "metadata": {},
   "outputs": [],
   "source": [
    "moran = esda.moran.Moran(fija_CM3_pv['Flag_AvgNal_CR_2021'], q_d)"
   ]
  },
  {
   "cell_type": "code",
   "execution_count": null,
   "id": "b3dee492-7537-4f78-be07-eed5bf9975fc",
   "metadata": {},
   "outputs": [],
   "source": [
    "moran.I # el valor de la I de Moran se corresponde con la pendiente del ajuste lineal sobrepuesto en la parte superior de la trama de Moran."
   ]
  },
  {
   "cell_type": "code",
   "execution_count": null,
   "id": "3728c97f-addc-48f4-9af2-ea57a68e4f2d",
   "metadata": {},
   "outputs": [],
   "source": [
    "moran.p_sim  # medida de certeza sobre la probabilidad de obtener un patrón"
   ]
  },
  {
   "cell_type": "code",
   "execution_count": null,
   "id": "3e20b952-f531-4b7d-8391-21a0b82ce79b",
   "metadata": {},
   "outputs": [],
   "source": [
    "fija_CM3_pv['Flag_AvgNal_CR_2021_std'] = ( TasaCompare1 - TasaCompare1.mean() )/ TasaCompare1.std()\n",
    "fija_CM3_pv['w_Flag_AvgNal_CR_2021_std'] = ( fija_CM3_pv['w_Flag_AvgNal_CR'] - TasaCompare1.mean() )/ TasaCompare1.std()"
   ]
  },
  {
   "cell_type": "code",
   "execution_count": null,
   "id": "286ea48a-ec41-48c1-9bfe-1432415e95ff",
   "metadata": {},
   "outputs": [],
   "source": [
    "fija_CM3_pv.head()"
   ]
  },
  {
   "cell_type": "code",
   "execution_count": null,
   "id": "fa59321f-3b53-455b-bded-46e9e5a5b540",
   "metadata": {},
   "outputs": [],
   "source": [
    "f, ax = plt.subplots(1, figsize=(6, 6))\n",
    "sns.regplot(x='Flag_AvgNal_CR_2021_std', y='w_Flag_AvgNal_CR_2021_std', \n",
    "                ci=None, data=fija_CM3_pv, line_kws={'color':'r'})\n",
    "ax.axvline(0, c='k', alpha=0.5)\n",
    "ax.axhline(0, c='k', alpha=0.5)\n",
    "ax.set_title('Moran Plot - % Leave')\n",
    "plt.show()"
   ]
  },
  {
   "cell_type": "code",
   "execution_count": null,
   "id": "07cd6351-0d90-4bcf-a0d3-05d00275c0ed",
   "metadata": {},
   "outputs": [],
   "source": [
    "lisa_cuenta = esda.moran.Moran_Local(fija_CM3_pv['w_Flag_AvgNal_CR'], q_d)\n",
    "q_labels = ['Q1', 'Q2', 'Q3', 'Q4']\n",
    "labels_cuenta = [q_labels[i-1] for i in lisa_cuenta.q]\n",
    "\n",
    "fija_CM3_pv['cl_Flag_AvgNal_CR']=labels_cuenta\n",
    "fija_CM3_pv['cl_Flag_AvgNal_CR']=fija_CM3_pv['cl_Flag_AvgNal_CR'].apply(lambda x: 'A-A' if x=='Q1' else ('B-A' if x=='Q2' else ('B-B' if x=='Q3' else 'A-B')) )"
   ]
  },
  {
   "cell_type": "code",
   "execution_count": null,
   "id": "c83c6d24-48cd-4742-aeeb-4ef8fa81c601",
   "metadata": {},
   "outputs": [],
   "source": [
    "fija_CM3_pv[fija_CM3_pv['NODO'].isin([\"G1Y\",\"C47\",'ALX',\"PIH\"])] # es para ejemplo donde sabemos que los dos primeros tienen que ser altos y los dos ultimos tienen que dar bajo bajo"
   ]
  },
  {
   "cell_type": "code",
   "execution_count": null,
   "id": "9fd70557-0a7d-47cc-b61b-44eb5741967f",
   "metadata": {},
   "outputs": [],
   "source": [
    "print(fija_CM3_pv.groupby('cl_Flag_AvgNal_CR').size())"
   ]
  },
  {
   "cell_type": "code",
   "execution_count": null,
   "id": "4a763f30-566d-4f55-80d6-181a1a4e90d8",
   "metadata": {},
   "outputs": [],
   "source": [
    "fija_CM3_pv.to_file(os.path.join(result_dir, 'Fija\\\\Resultados\\\\fija_CM3_pv.shp'), driver = 'GeoJSON')"
   ]
  },
  {
   "cell_type": "code",
   "execution_count": null,
   "id": "6ae720c6-19db-4e22-9c23-222f8e6cf365",
   "metadata": {},
   "outputs": [],
   "source": [
    "# # creamos nivel indicador\n",
    "# df_fija_CM1['INDICADOR_CR'] = 'Desconocido'\n",
    "# df_fija_CM1.loc[df_fija_CM1['CR'].between(0.00 , 1.235211e+05, inclusive=True),   'INDICADOR_CR'] = 'Bajo'\n",
    "# df_fija_CM1.loc[df_fija_CM1['CR'].between(1.049458e+05, 2.251763e+05, inclusive=True),   'INDICADOR_CR'] = 'Regular'\n",
    "# df_fija_CM1.loc[df_fija_CM1['CR'].between(2.251763e+05, 4.257996e+05, inclusive=True), 'INDICADOR_CR'] = 'Alto'\n",
    "# df_fija_CM1.loc[df_fija_CM1['CR'].between(4.257996e+05, 6.622371e+06, inclusive=True), 'INDICADOR_CR'] = 'Critico'"
   ]
  },
  {
   "cell_type": "code",
   "execution_count": null,
   "id": "61e09414-dc5d-4faa-9c41-9d781a938255",
   "metadata": {},
   "outputs": [],
   "source": []
  },
  {
   "cell_type": "code",
   "execution_count": null,
   "id": "79c41aaf-1f66-4e65-9171-32606dade6a2",
   "metadata": {},
   "outputs": [],
   "source": []
  },
  {
   "cell_type": "code",
   "execution_count": null,
   "id": "5cfcf728-8a56-4d0f-885e-70bb126e5cde",
   "metadata": {},
   "outputs": [],
   "source": []
  },
  {
   "cell_type": "code",
   "execution_count": null,
   "id": "06f04297-c95a-41af-8c0f-4eaadaf3d478",
   "metadata": {},
   "outputs": [],
   "source": []
  },
  {
   "cell_type": "code",
   "execution_count": null,
   "id": "748b82de-6137-4e64-a611-a8d5facb587a",
   "metadata": {},
   "outputs": [],
   "source": [
    "# df_fija_CM12=df_fija_CM.groupby(['NODO','FECHA']).agg({'NODO':'count','ESTRATO':pd.Series.mode,'MOTIVO_DESCONEXION':pd.Series.mode,'EDAD':np.mean,'RENTA':'sum','RENTA_ACT':'sum','PROM_RENTA_ACT':'sum',\n",
    "#                                                       'ALFA':np.mean,'BETA':np.mean,'MEGA':np.mean,'CANTIDAD_ACTIVOS':'sum',})"
   ]
  },
  {
   "cell_type": "code",
   "execution_count": null,
   "id": "6dffce92-a687-425a-b159-82f51dac70b4",
   "metadata": {},
   "outputs": [],
   "source": [
    "# end = datetime.now()\n",
    "# print(f'Tiempo: {end - start} segundos')"
   ]
  }
 ],
 "metadata": {
  "kernelspec": {
   "display_name": "Python 3 (ipykernel)",
   "language": "python",
   "name": "python3"
  },
  "language_info": {
   "codemirror_mode": {
    "name": "ipython",
    "version": 3
   },
   "file_extension": ".py",
   "mimetype": "text/x-python",
   "name": "python",
   "nbconvert_exporter": "python",
   "pygments_lexer": "ipython3",
   "version": "3.9.10"
  }
 },
 "nbformat": 4,
 "nbformat_minor": 5
}
